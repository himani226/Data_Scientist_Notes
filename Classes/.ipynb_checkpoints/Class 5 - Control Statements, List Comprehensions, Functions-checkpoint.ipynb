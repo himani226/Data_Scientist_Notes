{
 "cells": [
  {
   "cell_type": "markdown",
   "id": "4e3be062",
   "metadata": {},
   "source": [
    "### break, continue, pass"
   ]
  },
  {
   "cell_type": "markdown",
   "id": "77887c2a",
   "metadata": {},
   "source": [
    "<code>break</code>, <code>continue</code>, and <code>pass</code> statements in our loops to add additional functionality for various cases. The three statements are defined by:\n",
    "\n",
    "    break: Breaks out of the current closest enclosing loop.\n",
    "    continue: Goes to the top of the closest enclosing loop.\n",
    "    pass: Does nothing at all.\n",
    "    \n",
    "    \n",
    "Thinking about <code>break</code> and <code>continue</code> statements, the general format of the <code>while</code> loop looks like this:\n",
    "\n",
    "    while test: \n",
    "        code statement\n",
    "        if test: \n",
    "            break\n",
    "        if test: \n",
    "            continue \n",
    "    else:\n",
    "\n",
    "<code>break</code> and <code>continue</code> statements can appear anywhere inside the loop’s body, but we will usually put them further nested in conjunction with an <code>if</code> statement to perform an action based on some condition.\n"
   ]
  },
  {
   "cell_type": "markdown",
   "id": "556b31e3",
   "metadata": {},
   "source": [
    "### pass"
   ]
  },
  {
   "cell_type": "code",
   "execution_count": 4,
   "id": "9057fa90",
   "metadata": {},
   "outputs": [
    {
     "ename": "IndentationError",
     "evalue": "expected an indented block (362807883.py, line 2)",
     "output_type": "error",
     "traceback": [
      "\u001b[1;36m  Input \u001b[1;32mIn [4]\u001b[1;36m\u001b[0m\n\u001b[1;33m    if (i == 2):\u001b[0m\n\u001b[1;37m                ^\u001b[0m\n\u001b[1;31mIndentationError\u001b[0m\u001b[1;31m:\u001b[0m expected an indented block\n"
     ]
    }
   ],
   "source": [
    "i=1\n",
    "if (i == 2):"
   ]
  },
  {
   "cell_type": "markdown",
   "id": "55912389",
   "metadata": {},
   "source": [
    "To avoid such an error and to continue the code execution, pass statement is used. pass statement acts as a placeholder for future code."
   ]
  },
  {
   "cell_type": "code",
   "execution_count": 5,
   "id": "9661391a",
   "metadata": {},
   "outputs": [],
   "source": [
    "i=1\n",
    "if (i == 2):\n",
    "    pass"
   ]
  },
  {
   "cell_type": "markdown",
   "id": "92bc3c2a",
   "metadata": {},
   "source": [
    "### continue\n",
    "\n",
    "This keyword is used in loops to end the current iteration and continue the next iteration of the loop"
   ]
  },
  {
   "cell_type": "code",
   "execution_count": 6,
   "id": "5ac48612",
   "metadata": {},
   "outputs": [
    {
     "name": "stdout",
     "output_type": "stream",
     "text": [
      "1\n",
      "3\n",
      "5\n",
      "7\n",
      "9\n"
     ]
    }
   ],
   "source": [
    "for i in range(1,10):\n",
    "    if(i%2 == 0):\n",
    "        continue   \n",
    "    print(i)"
   ]
  },
  {
   "cell_type": "code",
   "execution_count": 7,
   "id": "241d8140",
   "metadata": {},
   "outputs": [
    {
     "name": "stdout",
     "output_type": "stream",
     "text": [
      "2\n",
      "4\n",
      "6\n",
      "8\n",
      "10\n"
     ]
    }
   ],
   "source": [
    "i = 1\n",
    "while (i <= 10):\n",
    "    i = i + 1\n",
    "    if (i%2 != 0):\n",
    "        continue\n",
    "    print(i)"
   ]
  },
  {
   "cell_type": "markdown",
   "id": "d558f419",
   "metadata": {},
   "source": [
    "### break\n",
    "\n",
    "break keyword is used to bring the interpreter out of the loop and into the main body of the program"
   ]
  },
  {
   "cell_type": "code",
   "execution_count": 11,
   "id": "dbb6a7b6",
   "metadata": {},
   "outputs": [
    {
     "name": "stdout",
     "output_type": "stream",
     "text": [
      "2\n",
      "3\n",
      "4\n",
      "5\n"
     ]
    }
   ],
   "source": [
    "i = 1\n",
    "while (i <= 10):\n",
    "    if (i == 5):\n",
    "        break\n",
    "    i = i + 1    \n",
    "    print(i)"
   ]
  },
  {
   "cell_type": "code",
   "execution_count": 9,
   "id": "f886e9b7",
   "metadata": {},
   "outputs": [
    {
     "name": "stdout",
     "output_type": "stream",
     "text": [
      "1\n",
      "2\n",
      "3\n",
      "4\n"
     ]
    }
   ],
   "source": [
    "for i in range(1, 10):\n",
    "    if (i == 5):\n",
    "        break\n",
    "    print(i)"
   ]
  },
  {
   "cell_type": "markdown",
   "id": "b52c3cea",
   "metadata": {},
   "source": [
    "Break: eliminates the execution of remaining iteration of loop\n",
    "\n",
    "Continue: terminate only the current iteration of loop."
   ]
  },
  {
   "cell_type": "markdown",
   "id": "14a2df45",
   "metadata": {},
   "source": [
    "### List Comprehensions"
   ]
  },
  {
   "cell_type": "markdown",
   "id": "29a56f78",
   "metadata": {},
   "source": [
    "List comprehensions are used for creating new lists from other iterables like lists, tuples, dictionaries, sets, and even in arrays and strings.\n",
    "\n",
    "**Syntax:**\n",
    "\n",
    "List = [expression(item) for item in iterable if condition]\n",
    "\n",
    "**expression:** it is the item which is being iterated.\n",
    "\n",
    "**iterable:** it can be list, tuples, dictionaries, sets, and even in arrays and strings.\n",
    "\n",
    "**condition:** condition checks if the item should be added to the new list or not."
   ]
  },
  {
   "cell_type": "code",
   "execution_count": 17,
   "id": "4737649b",
   "metadata": {},
   "outputs": [
    {
     "name": "stdout",
     "output_type": "stream",
     "text": [
      "w\n",
      "o\n",
      "r\n",
      "d\n"
     ]
    }
   ],
   "source": [
    "for x in 'word':\n",
    "    print(x)"
   ]
  },
  {
   "cell_type": "code",
   "execution_count": 12,
   "id": "ce7df796",
   "metadata": {},
   "outputs": [
    {
     "data": {
      "text/plain": [
       "['w', 'o', 'r', 'd']"
      ]
     },
     "execution_count": 12,
     "metadata": {},
     "output_type": "execute_result"
    }
   ],
   "source": [
    "# Grab every letter of string in list\n",
    "\n",
    "lst = [x for x in 'word']\n",
    "\n",
    "lst"
   ]
  },
  {
   "cell_type": "code",
   "execution_count": 14,
   "id": "16517c58",
   "metadata": {},
   "outputs": [
    {
     "data": {
      "text/plain": [
       "[0, 1, 4, 9, 16, 25, 36, 49, 64, 81, 100]"
      ]
     },
     "execution_count": 14,
     "metadata": {},
     "output_type": "execute_result"
    }
   ],
   "source": [
    "# Square numbers in range and turn into list\n",
    "\n",
    "t = [x**2 for x in range(0,11)]\n",
    "t"
   ]
  },
  {
   "cell_type": "code",
   "execution_count": 15,
   "id": "89ab82d2",
   "metadata": {},
   "outputs": [
    {
     "data": {
      "text/plain": [
       "[0, 1, 16, 81, 256, 625, 1296, 2401, 4096, 6561, 10000]"
      ]
     },
     "execution_count": 15,
     "metadata": {},
     "output_type": "execute_result"
    }
   ],
   "source": [
    "s = [ x**2 for x in [x**2 for x in range(11)]]\n",
    "s"
   ]
  },
  {
   "cell_type": "code",
   "execution_count": 19,
   "id": "9a08a947",
   "metadata": {},
   "outputs": [
    {
     "name": "stdout",
     "output_type": "stream",
     "text": [
      "['Suraj', 'Yash', 'Nitasha']\n"
     ]
    }
   ],
   "source": [
    "# accepts items with the small letter “a” in the new list \n",
    "\n",
    "names = [\"Suraj\", \"Piyush\", \"Yash\", \"Rohit\",\"Shurti\", \"Nitasha\"]\n",
    "m = [i for i in names if \"a\" in i]\n",
    "print(m)"
   ]
  },
  {
   "cell_type": "markdown",
   "id": "50711aae",
   "metadata": {},
   "source": [
    "### Questions\n",
    "\n",
    "1. Create a list of numbers from 1 to 100, but only include multiples of 5.\n",
    "\n",
    "2. Filter out negative numbers from a list:[-2,-1,0,1,2]\n",
    "\n",
    "3. Generate a list of uppercase characters from a string = \"Hello, My course name is Data Science\""
   ]
  },
  {
   "cell_type": "code",
   "execution_count": null,
   "id": "842f50fd",
   "metadata": {},
   "outputs": [],
   "source": []
  }
 ],
 "metadata": {
  "kernelspec": {
   "display_name": "Python 3 (ipykernel)",
   "language": "python",
   "name": "python3"
  },
  "language_info": {
   "codemirror_mode": {
    "name": "ipython",
    "version": 3
   },
   "file_extension": ".py",
   "mimetype": "text/x-python",
   "name": "python",
   "nbconvert_exporter": "python",
   "pygments_lexer": "ipython3",
   "version": "3.9.12"
  }
 },
 "nbformat": 4,
 "nbformat_minor": 5
}
