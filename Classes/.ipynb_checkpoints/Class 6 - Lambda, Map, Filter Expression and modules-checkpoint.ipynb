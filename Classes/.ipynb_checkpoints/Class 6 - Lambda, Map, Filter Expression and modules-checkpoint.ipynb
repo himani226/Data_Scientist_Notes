{
 "cells": [
  {
   "cell_type": "markdown",
   "id": "5201080f",
   "metadata": {},
   "source": [
    "### lambda expressions\n",
    "\n",
    "Lambda Functions are anonymous function means that the function is without a name. The lambda keyword is used to define an anonymous function in Python.\n",
    "\n",
    "<b> Syntax: lambda arguments: expression </b>\n",
    "\n",
    "1. This function can have any number of arguments but only one expression, which is evaluated and returned.\n",
    "2. One is free to use lambda functions wherever function objects are required.\n",
    "3. lambda functions are syntactically restricted to a single expression."
   ]
  },
  {
   "cell_type": "code",
   "execution_count": 1,
   "id": "bc5a8cfe",
   "metadata": {},
   "outputs": [
    {
     "data": {
      "text/plain": [
       "10"
      ]
     },
     "execution_count": 1,
     "metadata": {},
     "output_type": "execute_result"
    }
   ],
   "source": [
    "def times(var):\n",
    "    return var*2\n",
    "\n",
    "times(5)"
   ]
  },
  {
   "cell_type": "code",
   "execution_count": 2,
   "id": "a56af43a",
   "metadata": {},
   "outputs": [
    {
     "data": {
      "text/plain": [
       "<function __main__.<lambda>(var)>"
      ]
     },
     "execution_count": 2,
     "metadata": {},
     "output_type": "execute_result"
    }
   ],
   "source": [
    "lambda var: var*2"
   ]
  },
  {
   "cell_type": "code",
   "execution_count": 3,
   "id": "b52ff1e3",
   "metadata": {},
   "outputs": [
    {
     "data": {
      "text/plain": [
       "10"
      ]
     },
     "execution_count": 3,
     "metadata": {},
     "output_type": "execute_result"
    }
   ],
   "source": [
    "times = lambda var: var*2\n",
    "\n",
    "times(5)"
   ]
  },
  {
   "cell_type": "markdown",
   "id": "6c0672f4",
   "metadata": {},
   "source": [
    "#### Python Lambda Function with List Comprehension"
   ]
  },
  {
   "cell_type": "code",
   "execution_count": 4,
   "id": "ea78f71e",
   "metadata": {},
   "outputs": [
    {
     "name": "stdout",
     "output_type": "stream",
     "text": [
      "<function <listcomp>.<lambda> at 0x000001F1EF65EE50>\n",
      "<function <listcomp>.<lambda> at 0x000001F1EF65E9D0>\n",
      "<function <listcomp>.<lambda> at 0x000001F1EF65EC10>\n",
      "<function <listcomp>.<lambda> at 0x000001F1EF65EA60>\n"
     ]
    }
   ],
   "source": [
    "even = [lambda x: x * 10 for x in range(1, 5)]\n",
    " \n",
    "# iterate on each lambda function\n",
    "\n",
    "# and invoke the function to get the calculated value\n",
    "for i in even:\n",
    "    print(i)"
   ]
  },
  {
   "cell_type": "markdown",
   "id": "57ab7c16",
   "metadata": {},
   "source": [
    "## map and filter\n",
    "\n",
    "\n",
    "map() function returns a map object(which is an iterator) of the results after applying the given function to each item of a given iterable (list, tuple etc.)\n",
    "\n",
    "\n",
    "The filter() method filters the given sequence with the help of a function that tests each element in the sequence to be true or not. \n",
    "\n",
    "\n",
    "#### Filter out all odd numbers using filter() and lambda function"
   ]
  },
  {
   "cell_type": "markdown",
   "id": "62631c28",
   "metadata": {},
   "source": [
    "#### Python Lambda Function with if-else"
   ]
  },
  {
   "cell_type": "code",
   "execution_count": 5,
   "id": "506308dc",
   "metadata": {},
   "outputs": [
    {
     "name": "stdout",
     "output_type": "stream",
     "text": [
      "15\n"
     ]
    }
   ],
   "source": [
    "x = lambda a, b : a if(a > b) else b\n",
    " \n",
    "print(x(10, 15))"
   ]
  },
  {
   "cell_type": "code",
   "execution_count": 6,
   "id": "91a6b175",
   "metadata": {},
   "outputs": [
    {
     "data": {
      "text/plain": [
       "<map at 0x1f1ef64e880>"
      ]
     },
     "execution_count": 6,
     "metadata": {},
     "output_type": "execute_result"
    }
   ],
   "source": [
    "def times(var):\n",
    "    return var*2\n",
    "\n",
    "seq = [1,2,3,4,5]\n",
    "\n",
    "map(times,seq)"
   ]
  },
  {
   "cell_type": "code",
   "execution_count": 7,
   "id": "760ed94c",
   "metadata": {},
   "outputs": [
    {
     "data": {
      "text/plain": [
       "[2, 4, 6, 8, 10]"
      ]
     },
     "execution_count": 7,
     "metadata": {},
     "output_type": "execute_result"
    }
   ],
   "source": [
    "list(map(times,seq))"
   ]
  },
  {
   "cell_type": "code",
   "execution_count": 8,
   "id": "f8648c3c",
   "metadata": {},
   "outputs": [
    {
     "data": {
      "text/plain": [
       "[2, 4, 6, 8, 10]"
      ]
     },
     "execution_count": 8,
     "metadata": {},
     "output_type": "execute_result"
    }
   ],
   "source": [
    "list(map(lambda var: var*2,seq))"
   ]
  },
  {
   "cell_type": "code",
   "execution_count": null,
   "id": "93f869f0",
   "metadata": {},
   "outputs": [],
   "source": [
    "li = [5, 7, 22, 97, 54, 62, 77, 23, 73, 61]\n",
    "\n",
    "t = lambda x: (x % 2 != 0)\n",
    "\n",
    "m = filter(t,li)\n",
    "\n",
    "f = list(m)\n",
    "print(f)"
   ]
  },
  {
   "cell_type": "code",
   "execution_count": null,
   "id": "dde80aac",
   "metadata": {},
   "outputs": [],
   "source": []
  },
  {
   "cell_type": "markdown",
   "id": "41c8d3b0",
   "metadata": {},
   "source": [
    "<b>Question: Filter all people having age more than 18, using lambda and filter() function</b>\n",
    "\n",
    "a = [13, 90, 17, 59, 21, 60, 5]"
   ]
  },
  {
   "cell_type": "code",
   "execution_count": null,
   "id": "30e0e155",
   "metadata": {},
   "outputs": [],
   "source": []
  },
  {
   "cell_type": "markdown",
   "id": "a7f717cd",
   "metadata": {},
   "source": [
    "### Python Modules\n",
    "\n",
    "Python modules are python files which contains python code that can be used within another python files ensuring simplicity and code reusability."
   ]
  },
  {
   "cell_type": "markdown",
   "id": "553a432e",
   "metadata": {},
   "source": [
    "<b>Some built-in modules:</b>\n",
    "\n",
    "csv, datetime, json, math, random, sqlite3, statistics, tkinter, turtle, etc."
   ]
  },
  {
   "cell_type": "code",
   "execution_count": 9,
   "id": "b2819e19",
   "metadata": {},
   "outputs": [
    {
     "name": "stdout",
     "output_type": "stream",
     "text": [
      "Sin(0) = 0.0\n",
      "Cos(30) = 0.8660254037844387\n",
      "Tanh(45) = 0.6557942026326724\n"
     ]
    }
   ],
   "source": [
    "# importing math module\n",
    "\n",
    "import math\n",
    "\n",
    "print(\"Sin(0) =\", math.sin(0))\n",
    "print(\"Cos(30) =\", math.cos(math.pi/6))\n",
    "print(\"Tanh(45) =\", math.tanh(math.pi/4))"
   ]
  },
  {
   "cell_type": "markdown",
   "id": "9178a392",
   "metadata": {},
   "source": [
    "### Creating and using module\n",
    "\n",
    "Write code and save file with extension .py "
   ]
  },
  {
   "cell_type": "code",
   "execution_count": 10,
   "id": "1acc7332",
   "metadata": {},
   "outputs": [
    {
     "name": "stdout",
     "output_type": "stream",
     "text": [
      "First number:20\n",
      "Second number:5\n",
      "Add 25\n",
      "Sub 15\n",
      "Square 400\n",
      "Cube 125\n"
     ]
    }
   ],
   "source": [
    "import operations \n",
    "\n",
    "num1 = int(input(\"First number:\"))\n",
    "num2 = int(input(\"Second number:\"))\n",
    "\n",
    "print(\"Add\", operations.add(num1, num2))\n",
    "print(\"Sub\", operations.sub(num1, num2))\n",
    "print(\"Square\", operations.square(num1))\n",
    "print(\"Cube\", operations.cube(num2))"
   ]
  },
  {
   "cell_type": "markdown",
   "id": "e2623551",
   "metadata": {},
   "source": [
    "### Using an alias:\n",
    "alias can also use while importing module. So that, we do not need to write the whole name of the module while calling it. "
   ]
  },
  {
   "cell_type": "code",
   "execution_count": null,
   "id": "230c9fe8",
   "metadata": {},
   "outputs": [],
   "source": [
    "import operations as op\n",
    "\n",
    "num1 = int(input(\"First number:\"))\n",
    "num2 = int(input(\"Second number:\"))\n",
    "\n",
    "print(\"Add\", op.add(num1, num2))\n",
    "print(\"Sub\", op.sub(num1, num2))\n",
    "print(\"Square\", op.square(num1))\n",
    "print(\"Cube\", op.cube(num2))"
   ]
  },
  {
   "cell_type": "markdown",
   "id": "2ddd56fe",
   "metadata": {},
   "source": [
    "### Use an asterisk(*) while importing.\n",
    "\n",
    "import everything from a module but we do not need to prefix module name again and again"
   ]
  },
  {
   "cell_type": "code",
   "execution_count": null,
   "id": "a981da1f",
   "metadata": {},
   "outputs": [],
   "source": [
    "from operations import *\n",
    "\n",
    "num1 = int(input(\"First number:\"))\n",
    "num2 = int(input(\"Second number:\"))\n",
    "\n",
    "print(\"Add\", operations.add(num1, num2))\n",
    "print(\"Sub\", operations.sub(num1, num2))\n",
    "print(\"Square\", operations.square(num1))\n",
    "print(\"Cube\", operations.cube(num2))"
   ]
  },
  {
   "cell_type": "markdown",
   "id": "039c805b",
   "metadata": {},
   "source": [
    "### dir() function\n",
    "\n",
    "lists all the function names (or variable names) in a module."
   ]
  },
  {
   "cell_type": "code",
   "execution_count": 12,
   "id": "df504066",
   "metadata": {},
   "outputs": [
    {
     "name": "stdout",
     "output_type": "stream",
     "text": [
      "['__doc__', '__loader__', '__name__', '__package__', '__spec__', 'acos', 'acosh', 'asin', 'asinh', 'atan', 'atan2', 'atanh', 'ceil', 'comb', 'copysign', 'cos', 'cosh', 'degrees', 'dist', 'e', 'erf', 'erfc', 'exp', 'expm1', 'fabs', 'factorial', 'floor', 'fmod', 'frexp', 'fsum', 'gamma', 'gcd', 'hypot', 'inf', 'isclose', 'isfinite', 'isinf', 'isnan', 'isqrt', 'lcm', 'ldexp', 'lgamma', 'log', 'log10', 'log1p', 'log2', 'modf', 'nan', 'nextafter', 'perm', 'pi', 'pow', 'prod', 'radians', 'remainder', 'sin', 'sinh', 'sqrt', 'tan', 'tanh', 'tau', 'trunc', 'ulp']\n"
     ]
    }
   ],
   "source": [
    "import math\n",
    "\n",
    "lst1 = dir(math)\n",
    "print(lst1)"
   ]
  },
  {
   "cell_type": "code",
   "execution_count": null,
   "id": "7ff44cd7",
   "metadata": {},
   "outputs": [],
   "source": []
  }
 ],
 "metadata": {
  "kernelspec": {
   "display_name": "Python 3 (ipykernel)",
   "language": "python",
   "name": "python3"
  },
  "language_info": {
   "codemirror_mode": {
    "name": "ipython",
    "version": 3
   },
   "file_extension": ".py",
   "mimetype": "text/x-python",
   "name": "python",
   "nbconvert_exporter": "python",
   "pygments_lexer": "ipython3",
   "version": "3.9.12"
  }
 },
 "nbformat": 4,
 "nbformat_minor": 5
}
