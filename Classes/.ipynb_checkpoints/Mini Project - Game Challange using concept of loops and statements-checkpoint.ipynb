{
 "cells": [
  {
   "cell_type": "markdown",
   "id": "8c3baa35",
   "metadata": {},
   "source": [
    "## Game 1\n",
    "\n",
    "### Guessing the number game\n",
    "\n",
    "Let's use `while` loops to create a guessing game.\n",
    "\n",
    "The Challenge:\n",
    "\n",
    "Write a program that picks a random integer from 1 to 50, and has players guess the number. The rules are:\n",
    "\n",
    "1. If a player's guess is less than 1 or greater than 50, say \"OUT OF BOX\"\n",
    "2. On a player's first turn, if their guess is\n",
    " * within 7 of the number, return \"CLOSE!\"\n",
    " * further than 7 away from the number, return \"FAR!\"\n",
    "3. On all subsequent turns, if a guess is \n",
    " * closer to the number than the previous guess return \"TOO CLOSE!\"\n",
    " * farther from the number than the previous guess, return \"TOO FAR!\"\n",
    "4. When the player's guess equals the number, tell them they've guessed correctly *and* how many guesses it took!"
   ]
  },
  {
   "cell_type": "code",
   "execution_count": 1,
   "id": "19e5ce92",
   "metadata": {},
   "outputs": [
    {
     "name": "stdout",
     "output_type": "stream",
     "text": [
      "WELCOME TO GUESS ME!\n",
      "I'm thinking of a number between 1 and 50\n",
      "If your guess is more than 7 away from my number, I'll tell you you're FAR\n",
      "If your guess is within 7 of my number, I'll tell you you're CLOSE\n",
      "If your guess is farther than your most recent guess, I'll say you're getting TOO FAR\n",
      "If your guess is closer than your most recent guess, I'll say you're getting TOO CLOSE\n",
      "LET'S PLAY!\n"
     ]
    }
   ],
   "source": [
    "print(\"WELCOME TO GUESS ME!\")\n",
    "print(\"I'm thinking of a number between 1 and 50\")\n",
    "print(\"If your guess is more than 7 away from my number, I'll tell you you're FAR\")\n",
    "print(\"If your guess is within 7 of my number, I'll tell you you're CLOSE\")\n",
    "print(\"If your guess is farther than your most recent guess, I'll say you're getting TOO FAR\")\n",
    "print(\"If your guess is closer than your most recent guess, I'll say you're getting TOO CLOSE\")\n",
    "print(\"LET'S PLAY!\")"
   ]
  },
  {
   "cell_type": "markdown",
   "id": "18b579ce",
   "metadata": {},
   "source": [
    "#### Write a `while` loop that compares the player's guess to our number. If the player guesses correctly, break from the loop. Otherwise, tell the player if they're far or close, and continue asking for guesses.\n",
    "\n",
    "Hints:\n",
    "* it may help to sketch out all possible combinations on paper first!\n",
    "* you can use the `abs()` function to find the positive difference between two numbers\n",
    "* if you append all new guesses to the list, then the previous guess is given as `guesses[-2]`"
   ]
  },
  {
   "cell_type": "code",
   "execution_count": null,
   "id": "14714a5a",
   "metadata": {},
   "outputs": [],
   "source": []
  },
  {
   "cell_type": "code",
   "execution_count": null,
   "id": "a0b2034b",
   "metadata": {},
   "outputs": [],
   "source": []
  },
  {
   "cell_type": "markdown",
   "id": "b93ba130",
   "metadata": {},
   "source": [
    "## Game 2\n",
    "\n",
    "#### Jumbled Word Game\n",
    "\n",
    "Make a list and jumbled randomly choose the word and jumbled it. Take a input from user using 3 attempts"
   ]
  },
  {
   "cell_type": "code",
   "execution_count": null,
   "id": "c066ac11",
   "metadata": {},
   "outputs": [],
   "source": []
  },
  {
   "cell_type": "code",
   "execution_count": null,
   "id": "7c60509b",
   "metadata": {},
   "outputs": [],
   "source": []
  },
  {
   "cell_type": "code",
   "execution_count": null,
   "id": "a1dc45d0",
   "metadata": {},
   "outputs": [],
   "source": []
  },
  {
   "cell_type": "code",
   "execution_count": null,
   "id": "92126edc",
   "metadata": {},
   "outputs": [],
   "source": []
  },
  {
   "cell_type": "markdown",
   "id": "71fbf637",
   "metadata": {},
   "source": [
    "### Solutions"
   ]
  },
  {
   "cell_type": "code",
   "execution_count": 14,
   "id": "e024ce02",
   "metadata": {},
   "outputs": [
    {
     "name": "stdout",
     "output_type": "stream",
     "text": [
      "I'm thinking of a number between 1 and 50.\n",
      "  What is your guess? 12\n",
      "FAR!\n",
      "I'm thinking of a number between 1 and 50.\n",
      "  What is your guess? 1\n",
      "TOO FAR!\n",
      "I'm thinking of a number between 1 and 50.\n",
      "  What is your guess? 14\n",
      "TOO CLOSE!\n",
      "I'm thinking of a number between 1 and 50.\n",
      "  What is your guess? 13\n",
      "TOO FAR!\n",
      "I'm thinking of a number between 1 and 50.\n",
      "  What is your guess? 13\n",
      "Your attempts are over\n"
     ]
    }
   ],
   "source": [
    "import random\n",
    "\n",
    "num = random.randint(1,50)\n",
    "\n",
    "guessed_num = [0]\n",
    "\n",
    "attempts = 0\n",
    "\n",
    "while True:\n",
    "\n",
    "    guess = int(input(\"I'm thinking of a number between 1 and 50.\\n  What is your guess? \"))\n",
    "    \n",
    "    if guess < 1 or guess > 50:\n",
    "        print('OUT OF BOUNDS! Please try again: ')\n",
    "        continue\n",
    "    \n",
    "    # Compare the player's guess to our number\n",
    "    if guess == num:\n",
    "        print(f'CONGRATULATIONS, YOU GUESSED IT IN ONLY {(attempts)} GUESSES!!')\n",
    "        break\n",
    "        \n",
    "    # if guess is incorrect, add guess to the list\n",
    "    guessed_num.append(guess)\n",
    "    attempts +=1\n",
    "    \n",
    "    if attempts == 5:\n",
    "        print(\"Your attempts are over\")\n",
    "        break\n",
    "    # when testing the first guess, guesses[-2]==0, which evaluates to False\n",
    "    # and brings us down to the second section\n",
    "    \n",
    "    if guessed_num[-2]:  \n",
    "        if abs(num-guess) < abs(num-guessed_num[-2]):\n",
    "            print('TOO CLOSE!')\n",
    "        else:\n",
    "            print('TOO FAR!')\n",
    "   \n",
    "    else:\n",
    "        if abs(num-guess) <= 7:\n",
    "            print('CLOSE!')\n",
    "        else:\n",
    "            print('FAR!')"
   ]
  },
  {
   "cell_type": "code",
   "execution_count": 9,
   "id": "2da45d7a",
   "metadata": {},
   "outputs": [],
   "source": [
    "## Jumbled Word\n",
    "\n",
    "import random\n",
    "\n",
    "def jumbled_word_game():\n",
    "    words = ['python', 'java', 'ruby', 'javascript', 'php', 'html', 'artificial', 'complex','problem']\n",
    "    word = random.choice(words)\n",
    "    jumbled_word = ''.join(random.sample(word, len(word)))\n",
    "\n",
    "    print(\"The jumbled word is: \", jumbled_word)\n",
    "\n",
    "    attempts = 2\n",
    "    while attempts>0:\n",
    "        guess = input(\"\\n Your guess: \").lower()\n",
    "        if guess != word:\n",
    "            print(\"Incorrect!\")\n",
    "            attempts -=1\n",
    "        else:\n",
    "            print(\"Wooopy, you guessed the word!\")\n",
    "            break\n",
    "            \n",
    "    if attempts == 0:\n",
    "        print(f\"Sorry the write word is {word}\")  \n",
    "    \n"
   ]
  },
  {
   "cell_type": "code",
   "execution_count": 10,
   "id": "a4ab21d4",
   "metadata": {},
   "outputs": [
    {
     "name": "stdout",
     "output_type": "stream",
     "text": [
      "The jumbled word is:  lpeocmx\n",
      "\n",
      " Your guess: complex\n",
      "Wooopy, you guessed the word!\n"
     ]
    }
   ],
   "source": [
    "jumbled_word_game()"
   ]
  },
  {
   "cell_type": "code",
   "execution_count": 17,
   "id": "e3f172e6",
   "metadata": {},
   "outputs": [
    {
     "name": "stdout",
     "output_type": "stream",
     "text": [
      "Welcome to Hangman!\n",
      "Guess the letters to complete the word.\n",
      "Guess the word: \n",
      "Tries left: 6\n"
     ]
    },
    {
     "ename": "KeyboardInterrupt",
     "evalue": "Interrupted by user",
     "output_type": "error",
     "traceback": [
      "\u001b[1;31m---------------------------------------------------------------------------\u001b[0m",
      "\u001b[1;31mKeyboardInterrupt\u001b[0m                         Traceback (most recent call last)",
      "Input \u001b[1;32mIn [17]\u001b[0m, in \u001b[0;36m<cell line: 46>\u001b[1;34m()\u001b[0m\n\u001b[0;32m     44\u001b[0m \u001b[38;5;28mprint\u001b[39m(\u001b[38;5;124m\"\u001b[39m\u001b[38;5;124mWelcome to Hangman!\u001b[39m\u001b[38;5;124m\"\u001b[39m)\n\u001b[0;32m     45\u001b[0m \u001b[38;5;28mprint\u001b[39m(\u001b[38;5;124m\"\u001b[39m\u001b[38;5;124mGuess the letters to complete the word.\u001b[39m\u001b[38;5;124m\"\u001b[39m)\n\u001b[1;32m---> 46\u001b[0m \u001b[43mplay_hangman\u001b[49m\u001b[43m(\u001b[49m\u001b[43m)\u001b[49m\n",
      "Input \u001b[1;32mIn [17]\u001b[0m, in \u001b[0;36mplay_hangman\u001b[1;34m()\u001b[0m\n\u001b[0;32m     24\u001b[0m \u001b[38;5;28mprint\u001b[39m(\u001b[38;5;124m\"\u001b[39m\u001b[38;5;124mGuess the word:\u001b[39m\u001b[38;5;124m\"\u001b[39m, guessed_word)\n\u001b[0;32m     25\u001b[0m \u001b[38;5;28mprint\u001b[39m(\u001b[38;5;124m\"\u001b[39m\u001b[38;5;124mTries left:\u001b[39m\u001b[38;5;124m\"\u001b[39m, tries)\n\u001b[1;32m---> 27\u001b[0m guess \u001b[38;5;241m=\u001b[39m \u001b[38;5;28;43minput\u001b[39;49m\u001b[43m(\u001b[49m\u001b[38;5;124;43m\"\u001b[39;49m\u001b[38;5;124;43mEnter a letter: \u001b[39;49m\u001b[38;5;124;43m\"\u001b[39;49m\u001b[43m)\u001b[49m\u001b[38;5;241m.\u001b[39mlower()\n\u001b[0;32m     29\u001b[0m \u001b[38;5;28;01mif\u001b[39;00m guess \u001b[38;5;129;01min\u001b[39;00m guessed_letters:\n\u001b[0;32m     30\u001b[0m     \u001b[38;5;28mprint\u001b[39m(\u001b[38;5;124m\"\u001b[39m\u001b[38;5;124mYou already guessed that letter!\u001b[39m\u001b[38;5;124m\"\u001b[39m)\n",
      "File \u001b[1;32m~\\anaconda3\\lib\\site-packages\\ipykernel\\kernelbase.py:1075\u001b[0m, in \u001b[0;36mKernel.raw_input\u001b[1;34m(self, prompt)\u001b[0m\n\u001b[0;32m   1071\u001b[0m \u001b[38;5;28;01mif\u001b[39;00m \u001b[38;5;129;01mnot\u001b[39;00m \u001b[38;5;28mself\u001b[39m\u001b[38;5;241m.\u001b[39m_allow_stdin:\n\u001b[0;32m   1072\u001b[0m     \u001b[38;5;28;01mraise\u001b[39;00m StdinNotImplementedError(\n\u001b[0;32m   1073\u001b[0m         \u001b[38;5;124m\"\u001b[39m\u001b[38;5;124mraw_input was called, but this frontend does not support input requests.\u001b[39m\u001b[38;5;124m\"\u001b[39m\n\u001b[0;32m   1074\u001b[0m     )\n\u001b[1;32m-> 1075\u001b[0m \u001b[38;5;28;01mreturn\u001b[39;00m \u001b[38;5;28;43mself\u001b[39;49m\u001b[38;5;241;43m.\u001b[39;49m\u001b[43m_input_request\u001b[49m\u001b[43m(\u001b[49m\n\u001b[0;32m   1076\u001b[0m \u001b[43m    \u001b[49m\u001b[38;5;28;43mstr\u001b[39;49m\u001b[43m(\u001b[49m\u001b[43mprompt\u001b[49m\u001b[43m)\u001b[49m\u001b[43m,\u001b[49m\n\u001b[0;32m   1077\u001b[0m \u001b[43m    \u001b[49m\u001b[38;5;28;43mself\u001b[39;49m\u001b[38;5;241;43m.\u001b[39;49m\u001b[43m_parent_ident\u001b[49m\u001b[43m[\u001b[49m\u001b[38;5;124;43m\"\u001b[39;49m\u001b[38;5;124;43mshell\u001b[39;49m\u001b[38;5;124;43m\"\u001b[39;49m\u001b[43m]\u001b[49m\u001b[43m,\u001b[49m\n\u001b[0;32m   1078\u001b[0m \u001b[43m    \u001b[49m\u001b[38;5;28;43mself\u001b[39;49m\u001b[38;5;241;43m.\u001b[39;49m\u001b[43mget_parent\u001b[49m\u001b[43m(\u001b[49m\u001b[38;5;124;43m\"\u001b[39;49m\u001b[38;5;124;43mshell\u001b[39;49m\u001b[38;5;124;43m\"\u001b[39;49m\u001b[43m)\u001b[49m\u001b[43m,\u001b[49m\n\u001b[0;32m   1079\u001b[0m \u001b[43m    \u001b[49m\u001b[43mpassword\u001b[49m\u001b[38;5;241;43m=\u001b[39;49m\u001b[38;5;28;43;01mFalse\u001b[39;49;00m\u001b[43m,\u001b[49m\n\u001b[0;32m   1080\u001b[0m \u001b[43m\u001b[49m\u001b[43m)\u001b[49m\n",
      "File \u001b[1;32m~\\anaconda3\\lib\\site-packages\\ipykernel\\kernelbase.py:1120\u001b[0m, in \u001b[0;36mKernel._input_request\u001b[1;34m(self, prompt, ident, parent, password)\u001b[0m\n\u001b[0;32m   1117\u001b[0m             \u001b[38;5;28;01mbreak\u001b[39;00m\n\u001b[0;32m   1118\u001b[0m \u001b[38;5;28;01mexcept\u001b[39;00m \u001b[38;5;167;01mKeyboardInterrupt\u001b[39;00m:\n\u001b[0;32m   1119\u001b[0m     \u001b[38;5;66;03m# re-raise KeyboardInterrupt, to truncate traceback\u001b[39;00m\n\u001b[1;32m-> 1120\u001b[0m     \u001b[38;5;28;01mraise\u001b[39;00m \u001b[38;5;167;01mKeyboardInterrupt\u001b[39;00m(\u001b[38;5;124m\"\u001b[39m\u001b[38;5;124mInterrupted by user\u001b[39m\u001b[38;5;124m\"\u001b[39m) \u001b[38;5;28;01mfrom\u001b[39;00m \u001b[38;5;28;01mNone\u001b[39;00m\n\u001b[0;32m   1121\u001b[0m \u001b[38;5;28;01mexcept\u001b[39;00m \u001b[38;5;167;01mException\u001b[39;00m:\n\u001b[0;32m   1122\u001b[0m     \u001b[38;5;28mself\u001b[39m\u001b[38;5;241m.\u001b[39mlog\u001b[38;5;241m.\u001b[39mwarning(\u001b[38;5;124m\"\u001b[39m\u001b[38;5;124mInvalid Message:\u001b[39m\u001b[38;5;124m\"\u001b[39m, exc_info\u001b[38;5;241m=\u001b[39m\u001b[38;5;28;01mTrue\u001b[39;00m)\n",
      "\u001b[1;31mKeyboardInterrupt\u001b[0m: Interrupted by user"
     ]
    }
   ],
   "source": [
    "import random\n",
    "\n",
    "def choose_word():\n",
    "    words = [\"apple\", \"banana\", \"orange\", \"watermelon\", \"strawberry\", \"pineapple\"]\n",
    "    return random.choice(words)\n",
    "\n",
    "def play_hangman():\n",
    "    word = choose_word()\n",
    "    guessed_letters = []\n",
    "    tries = 6\n",
    "\n",
    "    while tries > 0:\n",
    "        guessed_word = \"\"\n",
    "        for letter in word:\n",
    "            if letter in guessed_letters:\n",
    "                guessed_word == letter\n",
    "            else:\n",
    "                guessed_word == \"_\"\n",
    "        \n",
    "        if guessed_word == word:\n",
    "            print(\"Congratulations! You guessed the word:\", word)\n",
    "            break\n",
    "        \n",
    "        print(\"Guess the word:\", guessed_word)\n",
    "        print(\"Tries left:\", tries)\n",
    "        \n",
    "        guess = input(\"Enter a letter: \").lower()\n",
    "        \n",
    "        if guess in guessed_letters:\n",
    "            print(\"You already guessed that letter!\")\n",
    "            continue\n",
    "        \n",
    "        guessed_letters.append(guess)\n",
    "        \n",
    "        if guess in word:\n",
    "            print(\"Correct guess!\")\n",
    "        else:\n",
    "            print(\"Wrong guess!\")\n",
    "            tries -= 1\n",
    "    \n",
    "    if tries == 0:\n",
    "        print(\"Sorry, you lost! The word was:\", word)\n",
    "\n",
    "print(\"Welcome to Hangman!\")\n",
    "print(\"Guess the letters to complete the word.\")\n",
    "play_hangman()\n"
   ]
  },
  {
   "cell_type": "code",
   "execution_count": 24,
   "id": "6f2aa115",
   "metadata": {},
   "outputs": [
    {
     "name": "stdout",
     "output_type": "stream",
     "text": [
      "_ _ _ _\n",
      "Guess a letter: a\n",
      "_ a _ a\n",
      "Guess a letter: t\n",
      "_ a t a\n",
      "Guess a letter: d\n",
      "d a t a\n",
      "Congrats, guessed the right word.\n"
     ]
    }
   ],
   "source": [
    "import random\n",
    "\n",
    "words = [\"python\", \"programming\", \"computer\", \"algorithm\", \"data\", \"analysis\", \n",
    "         \"machine\", \"learning\", \"statistics\", \"visualization\",\"matplotlib\",\"deep\",\"artificial\",\n",
    "         \"natural\",\"language\",\"library\",\"seaborn\",\"pandas\",\"numpy\",\"processing\",\"string\"]\n",
    "\n",
    "word = random.choice(words)\n",
    "\n",
    "attempts = 4\n",
    "\n",
    "blank = [\"_\"] * len(word)\n",
    "\n",
    "while attempts > 0:\n",
    "    print(\" \".join(blank))\n",
    "\n",
    "    letter = input(\"Guess a letter: \").lower()\n",
    "    \n",
    "    if letter in word:\n",
    "        for i in range(len(word)):\n",
    "            if word[i] == letter:\n",
    "                blank[i] = letter\n",
    "    else:\n",
    "        attempts -= 1\n",
    "        print(f\"{letter} is not in the word.Now you have {attempts} attempts left.\")\n",
    "    \n",
    "    if \"_\" not in blank:\n",
    "        print(\" \".join(blank))\n",
    "        print(\"Congrats, guessed the right word.\")\n",
    "        break\n",
    "\n",
    "if attempts == 0:\n",
    "    print(f\"Sorry attempts are finished. The word was {word}.\")\n"
   ]
  },
  {
   "cell_type": "code",
   "execution_count": null,
   "id": "797f3724",
   "metadata": {},
   "outputs": [],
   "source": []
  }
 ],
 "metadata": {
  "kernelspec": {
   "display_name": "Python 3 (ipykernel)",
   "language": "python",
   "name": "python3"
  },
  "language_info": {
   "codemirror_mode": {
    "name": "ipython",
    "version": 3
   },
   "file_extension": ".py",
   "mimetype": "text/x-python",
   "name": "python",
   "nbconvert_exporter": "python",
   "pygments_lexer": "ipython3",
   "version": "3.9.12"
  }
 },
 "nbformat": 4,
 "nbformat_minor": 5
}
