{
 "cells": [
  {
   "cell_type": "markdown",
   "metadata": {},
   "source": [
    "# Importing Libraries"
   ]
  },
  {
   "cell_type": "code",
   "execution_count": null,
   "metadata": {
    "execution": {
     "iopub.execute_input": "2023-04-01T18:41:20.088936Z",
     "iopub.status.busy": "2023-04-01T18:41:20.088483Z",
     "iopub.status.idle": "2023-04-01T18:41:21.278885Z",
     "shell.execute_reply": "2023-04-01T18:41:21.277779Z",
     "shell.execute_reply.started": "2023-04-01T18:41:20.088895Z"
    }
   },
   "outputs": [],
   "source": [
    "import pandas as pd \n",
    "import matplotlib.pyplot as plt\n",
    "import seaborn as sns\n",
    "import warnings\n",
    "warnings.filterwarnings('ignore')"
   ]
  },
  {
   "cell_type": "markdown",
   "metadata": {},
   "source": [
    "# Loading the Dataset"
   ]
  },
  {
   "cell_type": "code",
   "execution_count": null,
   "metadata": {
    "execution": {
     "iopub.execute_input": "2023-04-01T18:41:21.282611Z",
     "iopub.status.busy": "2023-04-01T18:41:21.281429Z",
     "iopub.status.idle": "2023-04-01T18:41:21.296602Z",
     "shell.execute_reply": "2023-04-01T18:41:21.295502Z",
     "shell.execute_reply.started": "2023-04-01T18:41:21.282556Z"
    }
   },
   "outputs": [],
   "source": [
    "\n",
    "import os\n",
    "for dirname, _, filenames in os.walk('/kaggle/input'):\n",
    "    for filename in filenames:\n",
    "        print(os.path.join(dirname, filename))\n"
   ]
  },
  {
   "cell_type": "code",
   "execution_count": null,
   "metadata": {
    "execution": {
     "iopub.execute_input": "2023-04-01T18:41:21.299532Z",
     "iopub.status.busy": "2023-04-01T18:41:21.298211Z",
     "iopub.status.idle": "2023-04-01T18:41:21.947825Z",
     "shell.execute_reply": "2023-04-01T18:41:21.946568Z",
     "shell.execute_reply.started": "2023-04-01T18:41:21.29948Z"
    }
   },
   "outputs": [],
   "source": [
    "df = pd.read_csv(\"/kaggle/input/hotel-booking-demand/hotel_bookings.csv\")"
   ]
  },
  {
   "cell_type": "markdown",
   "metadata": {},
   "source": [
    "# Exploratory Data Analysis and Data Cleaning"
   ]
  },
  {
   "cell_type": "code",
   "execution_count": null,
   "metadata": {
    "execution": {
     "iopub.execute_input": "2023-04-01T18:41:21.951751Z",
     "iopub.status.busy": "2023-04-01T18:41:21.951256Z",
     "iopub.status.idle": "2023-04-01T18:41:22.005414Z",
     "shell.execute_reply": "2023-04-01T18:41:22.004177Z",
     "shell.execute_reply.started": "2023-04-01T18:41:21.951701Z"
    }
   },
   "outputs": [],
   "source": [
    "df.head()"
   ]
  },
  {
   "cell_type": "code",
   "execution_count": null,
   "metadata": {
    "execution": {
     "iopub.execute_input": "2023-04-01T18:41:22.007607Z",
     "iopub.status.busy": "2023-04-01T18:41:22.00684Z",
     "iopub.status.idle": "2023-04-01T18:41:22.039437Z",
     "shell.execute_reply": "2023-04-01T18:41:22.03815Z",
     "shell.execute_reply.started": "2023-04-01T18:41:22.007564Z"
    }
   },
   "outputs": [],
   "source": [
    "df.tail()"
   ]
  },
  {
   "cell_type": "code",
   "execution_count": null,
   "metadata": {
    "execution": {
     "iopub.execute_input": "2023-04-01T18:41:22.042536Z",
     "iopub.status.busy": "2023-04-01T18:41:22.041352Z",
     "iopub.status.idle": "2023-04-01T18:41:22.052956Z",
     "shell.execute_reply": "2023-04-01T18:41:22.051901Z",
     "shell.execute_reply.started": "2023-04-01T18:41:22.042484Z"
    }
   },
   "outputs": [],
   "source": [
    "df.shape"
   ]
  },
  {
   "cell_type": "code",
   "execution_count": null,
   "metadata": {
    "execution": {
     "iopub.execute_input": "2023-04-01T18:41:22.056574Z",
     "iopub.status.busy": "2023-04-01T18:41:22.055725Z",
     "iopub.status.idle": "2023-04-01T18:41:22.064808Z",
     "shell.execute_reply": "2023-04-01T18:41:22.063873Z",
     "shell.execute_reply.started": "2023-04-01T18:41:22.056535Z"
    }
   },
   "outputs": [],
   "source": [
    "df.columns"
   ]
  },
  {
   "cell_type": "code",
   "execution_count": null,
   "metadata": {
    "execution": {
     "iopub.execute_input": "2023-04-01T18:41:22.067284Z",
     "iopub.status.busy": "2023-04-01T18:41:22.066156Z",
     "iopub.status.idle": "2023-04-01T18:41:22.168434Z",
     "shell.execute_reply": "2023-04-01T18:41:22.167194Z",
     "shell.execute_reply.started": "2023-04-01T18:41:22.067234Z"
    }
   },
   "outputs": [],
   "source": [
    "df.info()"
   ]
  },
  {
   "cell_type": "code",
   "execution_count": null,
   "metadata": {
    "execution": {
     "iopub.execute_input": "2023-04-01T18:41:22.170856Z",
     "iopub.status.busy": "2023-04-01T18:41:22.169964Z",
     "iopub.status.idle": "2023-04-01T18:41:22.215723Z",
     "shell.execute_reply": "2023-04-01T18:41:22.214516Z",
     "shell.execute_reply.started": "2023-04-01T18:41:22.170782Z"
    }
   },
   "outputs": [],
   "source": [
    "df['reservation_status_date'] = pd.to_datetime(df['reservation_status_date'])"
   ]
  },
  {
   "cell_type": "code",
   "execution_count": null,
   "metadata": {
    "execution": {
     "iopub.execute_input": "2023-04-01T18:41:22.221613Z",
     "iopub.status.busy": "2023-04-01T18:41:22.221246Z",
     "iopub.status.idle": "2023-04-01T18:41:22.305265Z",
     "shell.execute_reply": "2023-04-01T18:41:22.303906Z",
     "shell.execute_reply.started": "2023-04-01T18:41:22.22158Z"
    }
   },
   "outputs": [],
   "source": [
    "df.info()"
   ]
  },
  {
   "cell_type": "code",
   "execution_count": null,
   "metadata": {
    "execution": {
     "iopub.execute_input": "2023-04-01T18:41:22.307681Z",
     "iopub.status.busy": "2023-04-01T18:41:22.306869Z",
     "iopub.status.idle": "2023-04-01T18:41:22.524988Z",
     "shell.execute_reply": "2023-04-01T18:41:22.523719Z",
     "shell.execute_reply.started": "2023-04-01T18:41:22.307632Z"
    }
   },
   "outputs": [],
   "source": [
    "df.describe(include = 'object')"
   ]
  },
  {
   "cell_type": "code",
   "execution_count": null,
   "metadata": {
    "execution": {
     "iopub.execute_input": "2023-04-01T18:41:22.527416Z",
     "iopub.status.busy": "2023-04-01T18:41:22.526712Z",
     "iopub.status.idle": "2023-04-01T18:41:22.89378Z",
     "shell.execute_reply": "2023-04-01T18:41:22.892848Z",
     "shell.execute_reply.started": "2023-04-01T18:41:22.527376Z"
    }
   },
   "outputs": [],
   "source": [
    "for col in df.describe(include = 'object').columns:\n",
    "    print(col)\n",
    "    print(df[col].unique())\n",
    "    print('-'*50)"
   ]
  },
  {
   "cell_type": "code",
   "execution_count": null,
   "metadata": {
    "execution": {
     "iopub.execute_input": "2023-04-01T18:41:22.895604Z",
     "iopub.status.busy": "2023-04-01T18:41:22.894934Z",
     "iopub.status.idle": "2023-04-01T18:41:22.974161Z",
     "shell.execute_reply": "2023-04-01T18:41:22.97286Z",
     "shell.execute_reply.started": "2023-04-01T18:41:22.895559Z"
    }
   },
   "outputs": [],
   "source": [
    "df.isnull().sum()"
   ]
  },
  {
   "cell_type": "code",
   "execution_count": null,
   "metadata": {
    "execution": {
     "iopub.execute_input": "2023-04-01T18:41:22.976022Z",
     "iopub.status.busy": "2023-04-01T18:41:22.975679Z",
     "iopub.status.idle": "2023-04-01T18:41:23.104661Z",
     "shell.execute_reply": "2023-04-01T18:41:23.102992Z",
     "shell.execute_reply.started": "2023-04-01T18:41:22.975989Z"
    }
   },
   "outputs": [],
   "source": [
    "df.drop(['company','agent'],axis = 1, inplace = True)\n",
    "df.dropna(inplace = True)"
   ]
  },
  {
   "cell_type": "code",
   "execution_count": null,
   "metadata": {
    "execution": {
     "iopub.execute_input": "2023-04-01T18:41:23.10777Z",
     "iopub.status.busy": "2023-04-01T18:41:23.107425Z",
     "iopub.status.idle": "2023-04-01T18:41:23.187533Z",
     "shell.execute_reply": "2023-04-01T18:41:23.186298Z",
     "shell.execute_reply.started": "2023-04-01T18:41:23.107736Z"
    }
   },
   "outputs": [],
   "source": [
    "df.isnull().sum()"
   ]
  },
  {
   "cell_type": "code",
   "execution_count": null,
   "metadata": {
    "execution": {
     "iopub.execute_input": "2023-04-01T18:41:23.189743Z",
     "iopub.status.busy": "2023-04-01T18:41:23.189316Z",
     "iopub.status.idle": "2023-04-01T18:41:23.303415Z",
     "shell.execute_reply": "2023-04-01T18:41:23.302251Z",
     "shell.execute_reply.started": "2023-04-01T18:41:23.189707Z"
    }
   },
   "outputs": [],
   "source": [
    "df.describe()"
   ]
  },
  {
   "cell_type": "code",
   "execution_count": null,
   "metadata": {
    "execution": {
     "iopub.execute_input": "2023-04-01T18:41:23.305482Z",
     "iopub.status.busy": "2023-04-01T18:41:23.305148Z",
     "iopub.status.idle": "2023-04-01T18:41:23.33659Z",
     "shell.execute_reply": "2023-04-01T18:41:23.33519Z",
     "shell.execute_reply.started": "2023-04-01T18:41:23.305449Z"
    }
   },
   "outputs": [],
   "source": [
    "df = df[df['adr']<5000]"
   ]
  },
  {
   "cell_type": "markdown",
   "metadata": {},
   "source": [
    "# Data Analysis and Visualizations"
   ]
  },
  {
   "cell_type": "code",
   "execution_count": null,
   "metadata": {
    "execution": {
     "iopub.execute_input": "2023-04-01T18:41:23.338951Z",
     "iopub.status.busy": "2023-04-01T18:41:23.338495Z",
     "iopub.status.idle": "2023-04-01T18:41:23.615233Z",
     "shell.execute_reply": "2023-04-01T18:41:23.61387Z",
     "shell.execute_reply.started": "2023-04-01T18:41:23.338902Z"
    }
   },
   "outputs": [],
   "source": [
    "cancelled_perc = df['is_canceled'].value_counts(normalize = True)\n",
    "print(cancelled_perc)\n",
    "\n",
    "plt.figure(figsize = (5,4))\n",
    "plt.title('Reservation status count')\n",
    "plt.bar(['Not canceled','canceled'],df['is_canceled'].value_counts(), edgecolor = 'k',width = 0.7)\n",
    "plt.show()"
   ]
  },
  {
   "cell_type": "code",
   "execution_count": null,
   "metadata": {
    "execution": {
     "iopub.execute_input": "2023-04-01T18:41:23.617556Z",
     "iopub.status.busy": "2023-04-01T18:41:23.617082Z",
     "iopub.status.idle": "2023-04-01T18:41:23.994627Z",
     "shell.execute_reply": "2023-04-01T18:41:23.993277Z",
     "shell.execute_reply.started": "2023-04-01T18:41:23.617506Z"
    }
   },
   "outputs": [],
   "source": [
    "plt.figure(figsize = (8,4))\n",
    "ax1= sns.countplot(x = 'hotel', hue = 'is_canceled',data = df, palette = 'Blues')\n",
    "legend_labels,_ = ax1. get_legend_handles_labels()\n",
    "plt.title('Reservation status in different hotels',size = 20)\n",
    "plt.xlabel('hotel')\n",
    "plt.ylabel('number of reservations')"
   ]
  },
  {
   "cell_type": "code",
   "execution_count": null,
   "metadata": {
    "execution": {
     "iopub.execute_input": "2023-04-01T18:41:23.99769Z",
     "iopub.status.busy": "2023-04-01T18:41:23.996859Z",
     "iopub.status.idle": "2023-04-01T18:41:24.028121Z",
     "shell.execute_reply": "2023-04-01T18:41:24.02693Z",
     "shell.execute_reply.started": "2023-04-01T18:41:23.997639Z"
    }
   },
   "outputs": [],
   "source": [
    "resort_hotel = df[df['hotel'] == 'Resort Hotel']\n",
    "resort_hotel['is_canceled'].value_counts(normalize = True)"
   ]
  },
  {
   "cell_type": "code",
   "execution_count": null,
   "metadata": {
    "execution": {
     "iopub.execute_input": "2023-04-01T18:41:24.03182Z",
     "iopub.status.busy": "2023-04-01T18:41:24.03103Z",
     "iopub.status.idle": "2023-04-01T18:41:24.070308Z",
     "shell.execute_reply": "2023-04-01T18:41:24.068987Z",
     "shell.execute_reply.started": "2023-04-01T18:41:24.031752Z"
    }
   },
   "outputs": [],
   "source": [
    "city_hotel = df[df['hotel'] == 'City Hotel']\n",
    "city_hotel['is_canceled'].value_counts(normalize = True)"
   ]
  },
  {
   "cell_type": "code",
   "execution_count": null,
   "metadata": {
    "execution": {
     "iopub.execute_input": "2023-04-01T18:41:24.072845Z",
     "iopub.status.busy": "2023-04-01T18:41:24.072059Z",
     "iopub.status.idle": "2023-04-01T18:41:24.093217Z",
     "shell.execute_reply": "2023-04-01T18:41:24.092252Z",
     "shell.execute_reply.started": "2023-04-01T18:41:24.072778Z"
    }
   },
   "outputs": [],
   "source": [
    "resort_hotel = resort_hotel.groupby('reservation_status_date')[['adr']].mean()\n",
    "city_hotel = city_hotel.groupby('reservation_status_date')[['adr']].mean()"
   ]
  },
  {
   "cell_type": "code",
   "execution_count": null,
   "metadata": {
    "execution": {
     "iopub.execute_input": "2023-04-01T18:41:24.095691Z",
     "iopub.status.busy": "2023-04-01T18:41:24.094928Z",
     "iopub.status.idle": "2023-04-01T18:41:24.634554Z",
     "shell.execute_reply": "2023-04-01T18:41:24.633384Z",
     "shell.execute_reply.started": "2023-04-01T18:41:24.095644Z"
    }
   },
   "outputs": [],
   "source": [
    "plt.figure(figsize = (20,8))\n",
    "plt.title('Average Daily Rate in City and Resort Hotel', fontsize = 30)\n",
    "plt.plot(resort_hotel.index,resort_hotel['adr'], label = 'Resort Hotel')\n",
    "plt.plot(city_hotel.index,city_hotel['adr'], label = 'City Hotel')\n",
    "plt.legend(fontsize = 20)\n",
    "plt.show()"
   ]
  },
  {
   "cell_type": "code",
   "execution_count": null,
   "metadata": {
    "execution": {
     "iopub.execute_input": "2023-04-01T18:41:24.636361Z",
     "iopub.status.busy": "2023-04-01T18:41:24.635897Z",
     "iopub.status.idle": "2023-04-01T18:41:25.06204Z",
     "shell.execute_reply": "2023-04-01T18:41:25.060853Z",
     "shell.execute_reply.started": "2023-04-01T18:41:24.63631Z"
    }
   },
   "outputs": [],
   "source": [
    "df['month'] =df['reservation_status_date'].dt.month\n",
    "plt.figure(figsize = (16,8))\n",
    "ax1 = sns.countplot(x = 'month',hue = 'is_canceled',data = df,palette = 'bright')\n",
    "legend_labels,_ = ax1. get_legend_handles_labels()\n",
    "plt.title('Reservation status per month',size = 20)\n",
    "plt.xlabel('month')\n",
    "plt.ylabel('number of reservations')\n",
    "plt.legend(['not canceled','canceled'])\n",
    "plt.show()"
   ]
  },
  {
   "cell_type": "code",
   "execution_count": null,
   "metadata": {
    "execution": {
     "iopub.execute_input": "2023-04-01T18:41:25.063903Z",
     "iopub.status.busy": "2023-04-01T18:41:25.063448Z",
     "iopub.status.idle": "2023-04-01T18:41:25.51888Z",
     "shell.execute_reply": "2023-04-01T18:41:25.516688Z",
     "shell.execute_reply.started": "2023-04-01T18:41:25.063853Z"
    }
   },
   "outputs": [],
   "source": [
    "plt.figure(figsize=(15, 8))\n",
    "plt.title('ADR per month', fontsize=30)\n",
    "sns.barplot(x='month', y='adr', data=df[df['is_canceled'] == 1].groupby('month')[['adr']].sum().reset_index())\n",
    "plt.legend(fontsize=20)\n",
    "plt.show()\n"
   ]
  },
  {
   "cell_type": "code",
   "execution_count": null,
   "metadata": {
    "execution": {
     "iopub.execute_input": "2023-04-01T18:41:25.521228Z",
     "iopub.status.busy": "2023-04-01T18:41:25.520447Z",
     "iopub.status.idle": "2023-04-01T18:41:25.80199Z",
     "shell.execute_reply": "2023-04-01T18:41:25.800883Z",
     "shell.execute_reply.started": "2023-04-01T18:41:25.521169Z"
    }
   },
   "outputs": [],
   "source": [
    "cancelled_data = df[df['is_canceled'] == 1]\n",
    "top_10_country = cancelled_data['country'].value_counts()[:10]\n",
    "plt.figure(figsize = (8,8))\n",
    "plt.title('Top 10 countries with reservation canceled')\n",
    "plt.pie(top_10_country,autopct = '%.2f',labels = top_10_country.index)\n",
    "plt.show()"
   ]
  },
  {
   "cell_type": "code",
   "execution_count": null,
   "metadata": {
    "execution": {
     "iopub.execute_input": "2023-04-01T18:41:25.804305Z",
     "iopub.status.busy": "2023-04-01T18:41:25.803289Z",
     "iopub.status.idle": "2023-04-01T18:41:25.826706Z",
     "shell.execute_reply": "2023-04-01T18:41:25.825074Z",
     "shell.execute_reply.started": "2023-04-01T18:41:25.804254Z"
    }
   },
   "outputs": [],
   "source": [
    "df['market_segment'].value_counts()"
   ]
  },
  {
   "cell_type": "code",
   "execution_count": null,
   "metadata": {
    "execution": {
     "iopub.execute_input": "2023-04-01T18:41:25.834557Z",
     "iopub.status.busy": "2023-04-01T18:41:25.833891Z",
     "iopub.status.idle": "2023-04-01T18:41:25.854126Z",
     "shell.execute_reply": "2023-04-01T18:41:25.852389Z",
     "shell.execute_reply.started": "2023-04-01T18:41:25.834501Z"
    }
   },
   "outputs": [],
   "source": [
    "df['market_segment'].value_counts(normalize = True)"
   ]
  },
  {
   "cell_type": "code",
   "execution_count": null,
   "metadata": {
    "execution": {
     "iopub.execute_input": "2023-04-01T18:41:25.855782Z",
     "iopub.status.busy": "2023-04-01T18:41:25.85544Z",
     "iopub.status.idle": "2023-04-01T18:41:25.869376Z",
     "shell.execute_reply": "2023-04-01T18:41:25.868006Z",
     "shell.execute_reply.started": "2023-04-01T18:41:25.855748Z"
    }
   },
   "outputs": [],
   "source": [
    "cancelled_data['market_segment'].value_counts(normalize = True)"
   ]
  },
  {
   "cell_type": "code",
   "execution_count": null,
   "metadata": {},
   "outputs": [],
   "source": []
  }
 ],
 "metadata": {
  "kernelspec": {
   "display_name": "Python 3 (ipykernel)",
   "language": "python",
   "name": "python3"
  },
  "language_info": {
   "codemirror_mode": {
    "name": "ipython",
    "version": 3
   },
   "file_extension": ".py",
   "mimetype": "text/x-python",
   "name": "python",
   "nbconvert_exporter": "python",
   "pygments_lexer": "ipython3",
   "version": "3.9.12"
  }
 },
 "nbformat": 4,
 "nbformat_minor": 4
}
