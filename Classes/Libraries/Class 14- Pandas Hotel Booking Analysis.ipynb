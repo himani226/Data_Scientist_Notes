{
 "cells": [
  {
   "cell_type": "code",
   "execution_count": 1,
   "metadata": {
    "execution": {
     "iopub.execute_input": "2023-04-17T21:18:09.447252Z",
     "iopub.status.busy": "2023-04-17T21:18:09.446531Z",
     "iopub.status.idle": "2023-04-17T21:18:10.437789Z",
     "shell.execute_reply": "2023-04-17T21:18:10.436628Z",
     "shell.execute_reply.started": "2023-04-17T21:18:09.447184Z"
    }
   },
   "outputs": [],
   "source": [
    "import numpy as np\n",
    "import pandas as pd\n",
    "import warnings\n",
    "warnings.filterwarnings('ignore')"
   ]
  },
  {
   "cell_type": "code",
   "execution_count": 2,
   "metadata": {
    "execution": {
     "iopub.execute_input": "2023-04-17T21:18:10.440275Z",
     "iopub.status.busy": "2023-04-17T21:18:10.439945Z",
     "iopub.status.idle": "2023-04-17T21:18:11.10806Z",
     "shell.execute_reply": "2023-04-17T21:18:11.107004Z",
     "shell.execute_reply.started": "2023-04-17T21:18:10.440235Z"
    },
    "scrolled": true
   },
   "outputs": [
    {
     "data": {
      "text/html": [
       "<div>\n",
       "<style scoped>\n",
       "    .dataframe tbody tr th:only-of-type {\n",
       "        vertical-align: middle;\n",
       "    }\n",
       "\n",
       "    .dataframe tbody tr th {\n",
       "        vertical-align: top;\n",
       "    }\n",
       "\n",
       "    .dataframe thead th {\n",
       "        text-align: right;\n",
       "    }\n",
       "</style>\n",
       "<table border=\"1\" class=\"dataframe\">\n",
       "  <thead>\n",
       "    <tr style=\"text-align: right;\">\n",
       "      <th></th>\n",
       "      <th>hotel</th>\n",
       "      <th>is_canceled</th>\n",
       "      <th>lead_time</th>\n",
       "      <th>arrival_date_year</th>\n",
       "      <th>arrival_date_month</th>\n",
       "      <th>arrival_date_week_number</th>\n",
       "      <th>arrival_date_day_of_month</th>\n",
       "      <th>stays_in_weekend_nights</th>\n",
       "      <th>stays_in_week_nights</th>\n",
       "      <th>adults</th>\n",
       "      <th>...</th>\n",
       "      <th>deposit_type</th>\n",
       "      <th>agent</th>\n",
       "      <th>company</th>\n",
       "      <th>days_in_waiting_list</th>\n",
       "      <th>customer_type</th>\n",
       "      <th>adr</th>\n",
       "      <th>required_car_parking_spaces</th>\n",
       "      <th>total_of_special_requests</th>\n",
       "      <th>reservation_status</th>\n",
       "      <th>reservation_status_date</th>\n",
       "    </tr>\n",
       "  </thead>\n",
       "  <tbody>\n",
       "    <tr>\n",
       "      <th>0</th>\n",
       "      <td>Resort Hotel</td>\n",
       "      <td>0</td>\n",
       "      <td>342</td>\n",
       "      <td>2015</td>\n",
       "      <td>July</td>\n",
       "      <td>27</td>\n",
       "      <td>1</td>\n",
       "      <td>0</td>\n",
       "      <td>0</td>\n",
       "      <td>2</td>\n",
       "      <td>...</td>\n",
       "      <td>No Deposit</td>\n",
       "      <td>NaN</td>\n",
       "      <td>NaN</td>\n",
       "      <td>0</td>\n",
       "      <td>Transient</td>\n",
       "      <td>0.0</td>\n",
       "      <td>0</td>\n",
       "      <td>0</td>\n",
       "      <td>Check-Out</td>\n",
       "      <td>2015-07-01</td>\n",
       "    </tr>\n",
       "  </tbody>\n",
       "</table>\n",
       "<p>1 rows × 32 columns</p>\n",
       "</div>"
      ],
      "text/plain": [
       "          hotel  is_canceled  lead_time  arrival_date_year arrival_date_month  \\\n",
       "0  Resort Hotel            0        342               2015               July   \n",
       "\n",
       "   arrival_date_week_number  arrival_date_day_of_month  \\\n",
       "0                        27                          1   \n",
       "\n",
       "   stays_in_weekend_nights  stays_in_week_nights  adults  ...  deposit_type  \\\n",
       "0                        0                     0       2  ...    No Deposit   \n",
       "\n",
       "   agent company days_in_waiting_list customer_type  adr  \\\n",
       "0    NaN     NaN                    0     Transient  0.0   \n",
       "\n",
       "   required_car_parking_spaces  total_of_special_requests  reservation_status  \\\n",
       "0                            0                          0           Check-Out   \n",
       "\n",
       "  reservation_status_date  \n",
       "0              2015-07-01  \n",
       "\n",
       "[1 rows x 32 columns]"
      ]
     },
     "execution_count": 2,
     "metadata": {},
     "output_type": "execute_result"
    }
   ],
   "source": [
    "# Loading csv file.\n",
    "hotel=pd.read_csv(r'../Datasets/hotel_bookings.csv')\n",
    "hotel.head(1)"
   ]
  },
  {
   "cell_type": "markdown",
   "metadata": {},
   "source": [
    "### Exploratory Data Analysis and Data Cleaning"
   ]
  },
  {
   "cell_type": "code",
   "execution_count": 3,
   "metadata": {},
   "outputs": [],
   "source": [
    "chotel = hotel.copy()"
   ]
  },
  {
   "cell_type": "code",
   "execution_count": 4,
   "metadata": {
    "execution": {
     "iopub.execute_input": "2023-04-17T21:18:11.110003Z",
     "iopub.status.busy": "2023-04-17T21:18:11.109579Z",
     "iopub.status.idle": "2023-04-17T21:18:11.116101Z",
     "shell.execute_reply": "2023-04-17T21:18:11.115091Z",
     "shell.execute_reply.started": "2023-04-17T21:18:11.109973Z"
    }
   },
   "outputs": [
    {
     "data": {
      "text/plain": [
       "(119390, 32)"
      ]
     },
     "execution_count": 4,
     "metadata": {},
     "output_type": "execute_result"
    }
   ],
   "source": [
    "chotel.shape"
   ]
  },
  {
   "cell_type": "code",
   "execution_count": 5,
   "metadata": {},
   "outputs": [
    {
     "data": {
      "text/plain": [
       "Index(['hotel', 'is_canceled', 'lead_time', 'arrival_date_year',\n",
       "       'arrival_date_month', 'arrival_date_week_number',\n",
       "       'arrival_date_day_of_month', 'stays_in_weekend_nights',\n",
       "       'stays_in_week_nights', 'adults', 'children', 'babies', 'meal',\n",
       "       'country', 'market_segment', 'distribution_channel',\n",
       "       'is_repeated_guest', 'previous_cancellations',\n",
       "       'previous_bookings_not_canceled', 'reserved_room_type',\n",
       "       'assigned_room_type', 'booking_changes', 'deposit_type', 'agent',\n",
       "       'company', 'days_in_waiting_list', 'customer_type', 'adr',\n",
       "       'required_car_parking_spaces', 'total_of_special_requests',\n",
       "       'reservation_status', 'reservation_status_date'],\n",
       "      dtype='object')"
      ]
     },
     "execution_count": 5,
     "metadata": {},
     "output_type": "execute_result"
    }
   ],
   "source": [
    "chotel.columns"
   ]
  },
  {
   "cell_type": "code",
   "execution_count": 6,
   "metadata": {
    "execution": {
     "iopub.execute_input": "2023-04-17T21:18:11.118893Z",
     "iopub.status.busy": "2023-04-17T21:18:11.118607Z",
     "iopub.status.idle": "2023-04-17T21:18:11.222388Z",
     "shell.execute_reply": "2023-04-17T21:18:11.221054Z",
     "shell.execute_reply.started": "2023-04-17T21:18:11.118865Z"
    }
   },
   "outputs": [
    {
     "name": "stdout",
     "output_type": "stream",
     "text": [
      "<class 'pandas.core.frame.DataFrame'>\n",
      "RangeIndex: 119390 entries, 0 to 119389\n",
      "Data columns (total 32 columns):\n",
      " #   Column                          Non-Null Count   Dtype  \n",
      "---  ------                          --------------   -----  \n",
      " 0   hotel                           119390 non-null  object \n",
      " 1   is_canceled                     119390 non-null  int64  \n",
      " 2   lead_time                       119390 non-null  int64  \n",
      " 3   arrival_date_year               119390 non-null  int64  \n",
      " 4   arrival_date_month              119390 non-null  object \n",
      " 5   arrival_date_week_number        119390 non-null  int64  \n",
      " 6   arrival_date_day_of_month       119390 non-null  int64  \n",
      " 7   stays_in_weekend_nights         119390 non-null  int64  \n",
      " 8   stays_in_week_nights            119390 non-null  int64  \n",
      " 9   adults                          119390 non-null  int64  \n",
      " 10  children                        119386 non-null  float64\n",
      " 11  babies                          119390 non-null  int64  \n",
      " 12  meal                            119390 non-null  object \n",
      " 13  country                         118902 non-null  object \n",
      " 14  market_segment                  119390 non-null  object \n",
      " 15  distribution_channel            119390 non-null  object \n",
      " 16  is_repeated_guest               119390 non-null  int64  \n",
      " 17  previous_cancellations          119390 non-null  int64  \n",
      " 18  previous_bookings_not_canceled  119390 non-null  int64  \n",
      " 19  reserved_room_type              119390 non-null  object \n",
      " 20  assigned_room_type              119390 non-null  object \n",
      " 21  booking_changes                 119390 non-null  int64  \n",
      " 22  deposit_type                    119390 non-null  object \n",
      " 23  agent                           103050 non-null  float64\n",
      " 24  company                         6797 non-null    float64\n",
      " 25  days_in_waiting_list            119390 non-null  int64  \n",
      " 26  customer_type                   119390 non-null  object \n",
      " 27  adr                             119390 non-null  float64\n",
      " 28  required_car_parking_spaces     119390 non-null  int64  \n",
      " 29  total_of_special_requests       119390 non-null  int64  \n",
      " 30  reservation_status              119390 non-null  object \n",
      " 31  reservation_status_date         119390 non-null  object \n",
      "dtypes: float64(4), int64(16), object(12)\n",
      "memory usage: 29.1+ MB\n"
     ]
    }
   ],
   "source": [
    "chotel.info()"
   ]
  },
  {
   "cell_type": "code",
   "execution_count": 7,
   "metadata": {
    "execution": {
     "iopub.execute_input": "2023-04-17T21:18:11.224553Z",
     "iopub.status.busy": "2023-04-17T21:18:11.223961Z",
     "iopub.status.idle": "2023-04-17T21:18:11.30781Z",
     "shell.execute_reply": "2023-04-17T21:18:11.306867Z",
     "shell.execute_reply.started": "2023-04-17T21:18:11.224506Z"
    }
   },
   "outputs": [
    {
     "data": {
      "text/plain": [
       "company                           112593\n",
       "agent                              16340\n",
       "country                              488\n",
       "children                               4\n",
       "reserved_room_type                     0\n",
       "assigned_room_type                     0\n",
       "booking_changes                        0\n",
       "deposit_type                           0\n",
       "hotel                                  0\n",
       "previous_cancellations                 0\n",
       "days_in_waiting_list                   0\n",
       "customer_type                          0\n",
       "adr                                    0\n",
       "required_car_parking_spaces            0\n",
       "total_of_special_requests              0\n",
       "reservation_status                     0\n",
       "previous_bookings_not_canceled         0\n",
       "is_repeated_guest                      0\n",
       "is_canceled                            0\n",
       "distribution_channel                   0\n",
       "market_segment                         0\n",
       "meal                                   0\n",
       "babies                                 0\n",
       "adults                                 0\n",
       "stays_in_week_nights                   0\n",
       "stays_in_weekend_nights                0\n",
       "arrival_date_day_of_month              0\n",
       "arrival_date_week_number               0\n",
       "arrival_date_month                     0\n",
       "arrival_date_year                      0\n",
       "lead_time                              0\n",
       "reservation_status_date                0\n",
       "dtype: int64"
      ]
     },
     "execution_count": 7,
     "metadata": {},
     "output_type": "execute_result"
    }
   ],
   "source": [
    "# Checking for all null values.\n",
    "chotel.isna().sum().sort_values(ascending=False)"
   ]
  },
  {
   "cell_type": "markdown",
   "metadata": {},
   "source": [
    "The column company and agent have higher number of missing values.And these columns are not relevent for our analysis, so we are gonna delete them."
   ]
  },
  {
   "cell_type": "code",
   "execution_count": 8,
   "metadata": {
    "execution": {
     "iopub.execute_input": "2023-04-17T21:18:11.30961Z",
     "iopub.status.busy": "2023-04-17T21:18:11.309266Z",
     "iopub.status.idle": "2023-04-17T21:18:11.354558Z",
     "shell.execute_reply": "2023-04-17T21:18:11.353214Z",
     "shell.execute_reply.started": "2023-04-17T21:18:11.30958Z"
    }
   },
   "outputs": [
    {
     "data": {
      "text/html": [
       "<div>\n",
       "<style scoped>\n",
       "    .dataframe tbody tr th:only-of-type {\n",
       "        vertical-align: middle;\n",
       "    }\n",
       "\n",
       "    .dataframe tbody tr th {\n",
       "        vertical-align: top;\n",
       "    }\n",
       "\n",
       "    .dataframe thead th {\n",
       "        text-align: right;\n",
       "    }\n",
       "</style>\n",
       "<table border=\"1\" class=\"dataframe\">\n",
       "  <thead>\n",
       "    <tr style=\"text-align: right;\">\n",
       "      <th></th>\n",
       "      <th>hotel</th>\n",
       "      <th>is_canceled</th>\n",
       "      <th>lead_time</th>\n",
       "      <th>arrival_date_year</th>\n",
       "      <th>arrival_date_month</th>\n",
       "      <th>arrival_date_week_number</th>\n",
       "      <th>arrival_date_day_of_month</th>\n",
       "      <th>stays_in_weekend_nights</th>\n",
       "      <th>stays_in_week_nights</th>\n",
       "      <th>adults</th>\n",
       "      <th>...</th>\n",
       "      <th>assigned_room_type</th>\n",
       "      <th>booking_changes</th>\n",
       "      <th>deposit_type</th>\n",
       "      <th>days_in_waiting_list</th>\n",
       "      <th>customer_type</th>\n",
       "      <th>adr</th>\n",
       "      <th>required_car_parking_spaces</th>\n",
       "      <th>total_of_special_requests</th>\n",
       "      <th>reservation_status</th>\n",
       "      <th>reservation_status_date</th>\n",
       "    </tr>\n",
       "  </thead>\n",
       "  <tbody>\n",
       "    <tr>\n",
       "      <th>0</th>\n",
       "      <td>Resort Hotel</td>\n",
       "      <td>0</td>\n",
       "      <td>342</td>\n",
       "      <td>2015</td>\n",
       "      <td>July</td>\n",
       "      <td>27</td>\n",
       "      <td>1</td>\n",
       "      <td>0</td>\n",
       "      <td>0</td>\n",
       "      <td>2</td>\n",
       "      <td>...</td>\n",
       "      <td>C</td>\n",
       "      <td>3</td>\n",
       "      <td>No Deposit</td>\n",
       "      <td>0</td>\n",
       "      <td>Transient</td>\n",
       "      <td>0.0</td>\n",
       "      <td>0</td>\n",
       "      <td>0</td>\n",
       "      <td>Check-Out</td>\n",
       "      <td>2015-07-01</td>\n",
       "    </tr>\n",
       "  </tbody>\n",
       "</table>\n",
       "<p>1 rows × 30 columns</p>\n",
       "</div>"
      ],
      "text/plain": [
       "          hotel  is_canceled  lead_time  arrival_date_year arrival_date_month  \\\n",
       "0  Resort Hotel            0        342               2015               July   \n",
       "\n",
       "   arrival_date_week_number  arrival_date_day_of_month  \\\n",
       "0                        27                          1   \n",
       "\n",
       "   stays_in_weekend_nights  stays_in_week_nights  adults  ...  \\\n",
       "0                        0                     0       2  ...   \n",
       "\n",
       "   assigned_room_type  booking_changes deposit_type days_in_waiting_list  \\\n",
       "0                   C                3   No Deposit                    0   \n",
       "\n",
       "  customer_type  adr  required_car_parking_spaces  total_of_special_requests  \\\n",
       "0     Transient  0.0                            0                          0   \n",
       "\n",
       "   reservation_status reservation_status_date  \n",
       "0           Check-Out              2015-07-01  \n",
       "\n",
       "[1 rows x 30 columns]"
      ]
     },
     "execution_count": 8,
     "metadata": {},
     "output_type": "execute_result"
    }
   ],
   "source": [
    "chotel=chotel.drop(['company','agent'],axis=1)\n",
    "chotel.head(1)"
   ]
  },
  {
   "cell_type": "markdown",
   "metadata": {},
   "source": [
    "The columns country and children have a small number of missing values.But they can be important factor for the analysis, so here we are just removing those rows where we have null values in these columns.  "
   ]
  },
  {
   "cell_type": "code",
   "execution_count": 9,
   "metadata": {
    "execution": {
     "iopub.execute_input": "2023-04-17T21:18:11.356198Z",
     "iopub.status.busy": "2023-04-17T21:18:11.355889Z",
     "iopub.status.idle": "2023-04-17T21:18:11.401109Z",
     "shell.execute_reply": "2023-04-17T21:18:11.40004Z",
     "shell.execute_reply.started": "2023-04-17T21:18:11.35617Z"
    }
   },
   "outputs": [
    {
     "data": {
      "text/plain": [
       "488"
      ]
     },
     "execution_count": 9,
     "metadata": {},
     "output_type": "execute_result"
    }
   ],
   "source": [
    "chotel['country'].isnull().sum()"
   ]
  },
  {
   "cell_type": "code",
   "execution_count": 10,
   "metadata": {
    "execution": {
     "iopub.execute_input": "2023-04-17T21:18:11.402674Z",
     "iopub.status.busy": "2023-04-17T21:18:11.402315Z",
     "iopub.status.idle": "2023-04-17T21:18:11.427022Z",
     "shell.execute_reply": "2023-04-17T21:18:11.426024Z",
     "shell.execute_reply.started": "2023-04-17T21:18:11.402636Z"
    }
   },
   "outputs": [
    {
     "data": {
      "text/plain": [
       "4"
      ]
     },
     "execution_count": 10,
     "metadata": {},
     "output_type": "execute_result"
    }
   ],
   "source": [
    "chotel['children'].isnull().sum()"
   ]
  },
  {
   "cell_type": "code",
   "execution_count": 11,
   "metadata": {
    "execution": {
     "iopub.execute_input": "2023-04-17T21:18:11.428525Z",
     "iopub.status.busy": "2023-04-17T21:18:11.428287Z",
     "iopub.status.idle": "2023-04-17T21:18:11.562967Z",
     "shell.execute_reply": "2023-04-17T21:18:11.561857Z",
     "shell.execute_reply.started": "2023-04-17T21:18:11.428502Z"
    }
   },
   "outputs": [],
   "source": [
    "chotel=chotel.dropna(axis=0).reset_index(drop=True)"
   ]
  },
  {
   "cell_type": "code",
   "execution_count": 12,
   "metadata": {
    "execution": {
     "iopub.execute_input": "2023-04-17T21:18:11.56714Z",
     "iopub.status.busy": "2023-04-17T21:18:11.566793Z",
     "iopub.status.idle": "2023-04-17T21:18:11.592981Z",
     "shell.execute_reply": "2023-04-17T21:18:11.591671Z",
     "shell.execute_reply.started": "2023-04-17T21:18:11.567109Z"
    }
   },
   "outputs": [
    {
     "data": {
      "text/html": [
       "<div>\n",
       "<style scoped>\n",
       "    .dataframe tbody tr th:only-of-type {\n",
       "        vertical-align: middle;\n",
       "    }\n",
       "\n",
       "    .dataframe tbody tr th {\n",
       "        vertical-align: top;\n",
       "    }\n",
       "\n",
       "    .dataframe thead th {\n",
       "        text-align: right;\n",
       "    }\n",
       "</style>\n",
       "<table border=\"1\" class=\"dataframe\">\n",
       "  <thead>\n",
       "    <tr style=\"text-align: right;\">\n",
       "      <th></th>\n",
       "      <th>hotel</th>\n",
       "      <th>is_canceled</th>\n",
       "      <th>lead_time</th>\n",
       "      <th>arrival_date_year</th>\n",
       "      <th>arrival_date_month</th>\n",
       "      <th>arrival_date_week_number</th>\n",
       "      <th>arrival_date_day_of_month</th>\n",
       "      <th>stays_in_weekend_nights</th>\n",
       "      <th>stays_in_week_nights</th>\n",
       "      <th>adults</th>\n",
       "      <th>...</th>\n",
       "      <th>assigned_room_type</th>\n",
       "      <th>booking_changes</th>\n",
       "      <th>deposit_type</th>\n",
       "      <th>days_in_waiting_list</th>\n",
       "      <th>customer_type</th>\n",
       "      <th>adr</th>\n",
       "      <th>required_car_parking_spaces</th>\n",
       "      <th>total_of_special_requests</th>\n",
       "      <th>reservation_status</th>\n",
       "      <th>reservation_status_date</th>\n",
       "    </tr>\n",
       "  </thead>\n",
       "  <tbody>\n",
       "    <tr>\n",
       "      <th>0</th>\n",
       "      <td>Resort Hotel</td>\n",
       "      <td>0</td>\n",
       "      <td>342</td>\n",
       "      <td>2015</td>\n",
       "      <td>July</td>\n",
       "      <td>27</td>\n",
       "      <td>1</td>\n",
       "      <td>0</td>\n",
       "      <td>0</td>\n",
       "      <td>2</td>\n",
       "      <td>...</td>\n",
       "      <td>C</td>\n",
       "      <td>3</td>\n",
       "      <td>No Deposit</td>\n",
       "      <td>0</td>\n",
       "      <td>Transient</td>\n",
       "      <td>0.0</td>\n",
       "      <td>0</td>\n",
       "      <td>0</td>\n",
       "      <td>Check-Out</td>\n",
       "      <td>2015-07-01</td>\n",
       "    </tr>\n",
       "  </tbody>\n",
       "</table>\n",
       "<p>1 rows × 30 columns</p>\n",
       "</div>"
      ],
      "text/plain": [
       "          hotel  is_canceled  lead_time  arrival_date_year arrival_date_month  \\\n",
       "0  Resort Hotel            0        342               2015               July   \n",
       "\n",
       "   arrival_date_week_number  arrival_date_day_of_month  \\\n",
       "0                        27                          1   \n",
       "\n",
       "   stays_in_weekend_nights  stays_in_week_nights  adults  ...  \\\n",
       "0                        0                     0       2  ...   \n",
       "\n",
       "   assigned_room_type  booking_changes deposit_type days_in_waiting_list  \\\n",
       "0                   C                3   No Deposit                    0   \n",
       "\n",
       "  customer_type  adr  required_car_parking_spaces  total_of_special_requests  \\\n",
       "0     Transient  0.0                            0                          0   \n",
       "\n",
       "   reservation_status reservation_status_date  \n",
       "0           Check-Out              2015-07-01  \n",
       "\n",
       "[1 rows x 30 columns]"
      ]
     },
     "execution_count": 12,
     "metadata": {},
     "output_type": "execute_result"
    }
   ],
   "source": [
    "chotel.head(1)"
   ]
  },
  {
   "cell_type": "code",
   "execution_count": 13,
   "metadata": {
    "execution": {
     "iopub.execute_input": "2023-04-17T21:18:11.595255Z",
     "iopub.status.busy": "2023-04-17T21:18:11.594782Z",
     "iopub.status.idle": "2023-04-17T21:18:11.675148Z",
     "shell.execute_reply": "2023-04-17T21:18:11.674153Z",
     "shell.execute_reply.started": "2023-04-17T21:18:11.595176Z"
    }
   },
   "outputs": [
    {
     "data": {
      "text/plain": [
       "hotel                             0\n",
       "is_canceled                       0\n",
       "reservation_status                0\n",
       "total_of_special_requests         0\n",
       "required_car_parking_spaces       0\n",
       "adr                               0\n",
       "customer_type                     0\n",
       "days_in_waiting_list              0\n",
       "deposit_type                      0\n",
       "booking_changes                   0\n",
       "assigned_room_type                0\n",
       "reserved_room_type                0\n",
       "previous_bookings_not_canceled    0\n",
       "previous_cancellations            0\n",
       "is_repeated_guest                 0\n",
       "distribution_channel              0\n",
       "market_segment                    0\n",
       "country                           0\n",
       "meal                              0\n",
       "babies                            0\n",
       "children                          0\n",
       "adults                            0\n",
       "stays_in_week_nights              0\n",
       "stays_in_weekend_nights           0\n",
       "arrival_date_day_of_month         0\n",
       "arrival_date_week_number          0\n",
       "arrival_date_month                0\n",
       "arrival_date_year                 0\n",
       "lead_time                         0\n",
       "reservation_status_date           0\n",
       "dtype: int64"
      ]
     },
     "execution_count": 13,
     "metadata": {},
     "output_type": "execute_result"
    }
   ],
   "source": [
    "chotel.isna().sum().sort_values(ascending=False)"
   ]
  },
  {
   "cell_type": "code",
   "execution_count": 14,
   "metadata": {
    "execution": {
     "iopub.execute_input": "2023-04-17T21:18:11.676628Z",
     "iopub.status.busy": "2023-04-17T21:18:11.676349Z",
     "iopub.status.idle": "2023-04-17T21:18:11.688802Z",
     "shell.execute_reply": "2023-04-17T21:18:11.68735Z",
     "shell.execute_reply.started": "2023-04-17T21:18:11.676603Z"
    }
   },
   "outputs": [
    {
     "data": {
      "text/plain": [
       "(170, 30)"
      ]
     },
     "execution_count": 14,
     "metadata": {},
     "output_type": "execute_result"
    }
   ],
   "source": [
    "# Checking where there is no guests.\n",
    "chotel[chotel.adults + chotel.babies + chotel.children == 0].shape"
   ]
  },
  {
   "cell_type": "markdown",
   "metadata": {},
   "source": [
    "These rows does not make any sense, so we are gonna delete these rows."
   ]
  },
  {
   "cell_type": "code",
   "execution_count": 15,
   "metadata": {
    "execution": {
     "iopub.execute_input": "2023-04-17T21:18:11.690499Z",
     "iopub.status.busy": "2023-04-17T21:18:11.690192Z",
     "iopub.status.idle": "2023-04-17T21:18:11.754475Z",
     "shell.execute_reply": "2023-04-17T21:18:11.753274Z",
     "shell.execute_reply.started": "2023-04-17T21:18:11.690471Z"
    }
   },
   "outputs": [],
   "source": [
    "chotel = chotel.drop(chotel[(chotel.adults + chotel.babies + \n",
    "                             chotel.children == 0)].index).reset_index(drop=True)"
   ]
  },
  {
   "cell_type": "code",
   "execution_count": 16,
   "metadata": {
    "execution": {
     "iopub.execute_input": "2023-04-17T21:18:11.756771Z",
     "iopub.status.busy": "2023-04-17T21:18:11.756085Z",
     "iopub.status.idle": "2023-04-17T21:18:11.782781Z",
     "shell.execute_reply": "2023-04-17T21:18:11.781683Z",
     "shell.execute_reply.started": "2023-04-17T21:18:11.756728Z"
    }
   },
   "outputs": [
    {
     "data": {
      "text/html": [
       "<div>\n",
       "<style scoped>\n",
       "    .dataframe tbody tr th:only-of-type {\n",
       "        vertical-align: middle;\n",
       "    }\n",
       "\n",
       "    .dataframe tbody tr th {\n",
       "        vertical-align: top;\n",
       "    }\n",
       "\n",
       "    .dataframe thead th {\n",
       "        text-align: right;\n",
       "    }\n",
       "</style>\n",
       "<table border=\"1\" class=\"dataframe\">\n",
       "  <thead>\n",
       "    <tr style=\"text-align: right;\">\n",
       "      <th></th>\n",
       "      <th>hotel</th>\n",
       "      <th>is_canceled</th>\n",
       "      <th>lead_time</th>\n",
       "      <th>arrival_date_year</th>\n",
       "      <th>arrival_date_month</th>\n",
       "      <th>arrival_date_week_number</th>\n",
       "      <th>arrival_date_day_of_month</th>\n",
       "      <th>stays_in_weekend_nights</th>\n",
       "      <th>stays_in_week_nights</th>\n",
       "      <th>adults</th>\n",
       "      <th>...</th>\n",
       "      <th>assigned_room_type</th>\n",
       "      <th>booking_changes</th>\n",
       "      <th>deposit_type</th>\n",
       "      <th>days_in_waiting_list</th>\n",
       "      <th>customer_type</th>\n",
       "      <th>adr</th>\n",
       "      <th>required_car_parking_spaces</th>\n",
       "      <th>total_of_special_requests</th>\n",
       "      <th>reservation_status</th>\n",
       "      <th>reservation_status_date</th>\n",
       "    </tr>\n",
       "  </thead>\n",
       "  <tbody>\n",
       "    <tr>\n",
       "      <th>0</th>\n",
       "      <td>Resort Hotel</td>\n",
       "      <td>0</td>\n",
       "      <td>342</td>\n",
       "      <td>2015</td>\n",
       "      <td>July</td>\n",
       "      <td>27</td>\n",
       "      <td>1</td>\n",
       "      <td>0</td>\n",
       "      <td>0</td>\n",
       "      <td>2</td>\n",
       "      <td>...</td>\n",
       "      <td>C</td>\n",
       "      <td>3</td>\n",
       "      <td>No Deposit</td>\n",
       "      <td>0</td>\n",
       "      <td>Transient</td>\n",
       "      <td>0.0</td>\n",
       "      <td>0</td>\n",
       "      <td>0</td>\n",
       "      <td>Check-Out</td>\n",
       "      <td>2015-07-01</td>\n",
       "    </tr>\n",
       "  </tbody>\n",
       "</table>\n",
       "<p>1 rows × 30 columns</p>\n",
       "</div>"
      ],
      "text/plain": [
       "          hotel  is_canceled  lead_time  arrival_date_year arrival_date_month  \\\n",
       "0  Resort Hotel            0        342               2015               July   \n",
       "\n",
       "   arrival_date_week_number  arrival_date_day_of_month  \\\n",
       "0                        27                          1   \n",
       "\n",
       "   stays_in_weekend_nights  stays_in_week_nights  adults  ...  \\\n",
       "0                        0                     0       2  ...   \n",
       "\n",
       "   assigned_room_type  booking_changes deposit_type days_in_waiting_list  \\\n",
       "0                   C                3   No Deposit                    0   \n",
       "\n",
       "  customer_type  adr  required_car_parking_spaces  total_of_special_requests  \\\n",
       "0     Transient  0.0                            0                          0   \n",
       "\n",
       "   reservation_status reservation_status_date  \n",
       "0           Check-Out              2015-07-01  \n",
       "\n",
       "[1 rows x 30 columns]"
      ]
     },
     "execution_count": 16,
     "metadata": {},
     "output_type": "execute_result"
    }
   ],
   "source": [
    "chotel.head(1)"
   ]
  },
  {
   "cell_type": "code",
   "execution_count": 17,
   "metadata": {},
   "outputs": [],
   "source": [
    "# Change the reservation status date to date format\n",
    "\n",
    "chotel['reservation_status_date'] = pd.to_datetime(chotel['reservation_status_date'])"
   ]
  },
  {
   "cell_type": "code",
   "execution_count": 18,
   "metadata": {
    "execution": {
     "iopub.execute_input": "2023-04-17T21:18:11.784646Z",
     "iopub.status.busy": "2023-04-17T21:18:11.784325Z",
     "iopub.status.idle": "2023-04-17T21:18:11.883366Z",
     "shell.execute_reply": "2023-04-17T21:18:11.88238Z",
     "shell.execute_reply.started": "2023-04-17T21:18:11.784615Z"
    }
   },
   "outputs": [
    {
     "data": {
      "text/html": [
       "<div>\n",
       "<style scoped>\n",
       "    .dataframe tbody tr th:only-of-type {\n",
       "        vertical-align: middle;\n",
       "    }\n",
       "\n",
       "    .dataframe tbody tr th {\n",
       "        vertical-align: top;\n",
       "    }\n",
       "\n",
       "    .dataframe thead th {\n",
       "        text-align: right;\n",
       "    }\n",
       "</style>\n",
       "<table border=\"1\" class=\"dataframe\">\n",
       "  <thead>\n",
       "    <tr style=\"text-align: right;\">\n",
       "      <th></th>\n",
       "      <th>count</th>\n",
       "      <th>mean</th>\n",
       "      <th>std</th>\n",
       "      <th>min</th>\n",
       "      <th>25%</th>\n",
       "      <th>50%</th>\n",
       "      <th>75%</th>\n",
       "      <th>max</th>\n",
       "    </tr>\n",
       "  </thead>\n",
       "  <tbody>\n",
       "    <tr>\n",
       "      <th>is_canceled</th>\n",
       "      <td>118728.0</td>\n",
       "      <td>0.371757</td>\n",
       "      <td>0.483276</td>\n",
       "      <td>0.00</td>\n",
       "      <td>0.0</td>\n",
       "      <td>0.0</td>\n",
       "      <td>1.0</td>\n",
       "      <td>1.0</td>\n",
       "    </tr>\n",
       "    <tr>\n",
       "      <th>lead_time</th>\n",
       "      <td>118728.0</td>\n",
       "      <td>104.401312</td>\n",
       "      <td>106.915284</td>\n",
       "      <td>0.00</td>\n",
       "      <td>18.0</td>\n",
       "      <td>70.0</td>\n",
       "      <td>161.0</td>\n",
       "      <td>737.0</td>\n",
       "    </tr>\n",
       "    <tr>\n",
       "      <th>arrival_date_year</th>\n",
       "      <td>118728.0</td>\n",
       "      <td>2016.157596</td>\n",
       "      <td>0.707456</td>\n",
       "      <td>2015.00</td>\n",
       "      <td>2016.0</td>\n",
       "      <td>2016.0</td>\n",
       "      <td>2017.0</td>\n",
       "      <td>2017.0</td>\n",
       "    </tr>\n",
       "    <tr>\n",
       "      <th>arrival_date_week_number</th>\n",
       "      <td>118728.0</td>\n",
       "      <td>27.165100</td>\n",
       "      <td>13.586362</td>\n",
       "      <td>1.00</td>\n",
       "      <td>16.0</td>\n",
       "      <td>28.0</td>\n",
       "      <td>38.0</td>\n",
       "      <td>53.0</td>\n",
       "    </tr>\n",
       "    <tr>\n",
       "      <th>arrival_date_day_of_month</th>\n",
       "      <td>118728.0</td>\n",
       "      <td>15.800965</td>\n",
       "      <td>8.780412</td>\n",
       "      <td>1.00</td>\n",
       "      <td>8.0</td>\n",
       "      <td>16.0</td>\n",
       "      <td>23.0</td>\n",
       "      <td>31.0</td>\n",
       "    </tr>\n",
       "    <tr>\n",
       "      <th>stays_in_weekend_nights</th>\n",
       "      <td>118728.0</td>\n",
       "      <td>0.928307</td>\n",
       "      <td>0.992725</td>\n",
       "      <td>0.00</td>\n",
       "      <td>0.0</td>\n",
       "      <td>1.0</td>\n",
       "      <td>2.0</td>\n",
       "      <td>16.0</td>\n",
       "    </tr>\n",
       "    <tr>\n",
       "      <th>stays_in_week_nights</th>\n",
       "      <td>118728.0</td>\n",
       "      <td>2.500918</td>\n",
       "      <td>1.889089</td>\n",
       "      <td>0.00</td>\n",
       "      <td>1.0</td>\n",
       "      <td>2.0</td>\n",
       "      <td>3.0</td>\n",
       "      <td>40.0</td>\n",
       "    </tr>\n",
       "    <tr>\n",
       "      <th>adults</th>\n",
       "      <td>118728.0</td>\n",
       "      <td>1.861052</td>\n",
       "      <td>0.574697</td>\n",
       "      <td>0.00</td>\n",
       "      <td>2.0</td>\n",
       "      <td>2.0</td>\n",
       "      <td>2.0</td>\n",
       "      <td>55.0</td>\n",
       "    </tr>\n",
       "    <tr>\n",
       "      <th>children</th>\n",
       "      <td>118728.0</td>\n",
       "      <td>0.104356</td>\n",
       "      <td>0.399439</td>\n",
       "      <td>0.00</td>\n",
       "      <td>0.0</td>\n",
       "      <td>0.0</td>\n",
       "      <td>0.0</td>\n",
       "      <td>10.0</td>\n",
       "    </tr>\n",
       "    <tr>\n",
       "      <th>babies</th>\n",
       "      <td>118728.0</td>\n",
       "      <td>0.007959</td>\n",
       "      <td>0.097449</td>\n",
       "      <td>0.00</td>\n",
       "      <td>0.0</td>\n",
       "      <td>0.0</td>\n",
       "      <td>0.0</td>\n",
       "      <td>10.0</td>\n",
       "    </tr>\n",
       "    <tr>\n",
       "      <th>is_repeated_guest</th>\n",
       "      <td>118728.0</td>\n",
       "      <td>0.031593</td>\n",
       "      <td>0.174915</td>\n",
       "      <td>0.00</td>\n",
       "      <td>0.0</td>\n",
       "      <td>0.0</td>\n",
       "      <td>0.0</td>\n",
       "      <td>1.0</td>\n",
       "    </tr>\n",
       "    <tr>\n",
       "      <th>previous_cancellations</th>\n",
       "      <td>118728.0</td>\n",
       "      <td>0.087208</td>\n",
       "      <td>0.846419</td>\n",
       "      <td>0.00</td>\n",
       "      <td>0.0</td>\n",
       "      <td>0.0</td>\n",
       "      <td>0.0</td>\n",
       "      <td>26.0</td>\n",
       "    </tr>\n",
       "    <tr>\n",
       "      <th>previous_bookings_not_canceled</th>\n",
       "      <td>118728.0</td>\n",
       "      <td>0.131612</td>\n",
       "      <td>1.485300</td>\n",
       "      <td>0.00</td>\n",
       "      <td>0.0</td>\n",
       "      <td>0.0</td>\n",
       "      <td>0.0</td>\n",
       "      <td>72.0</td>\n",
       "    </tr>\n",
       "    <tr>\n",
       "      <th>booking_changes</th>\n",
       "      <td>118728.0</td>\n",
       "      <td>0.218828</td>\n",
       "      <td>0.638914</td>\n",
       "      <td>0.00</td>\n",
       "      <td>0.0</td>\n",
       "      <td>0.0</td>\n",
       "      <td>0.0</td>\n",
       "      <td>18.0</td>\n",
       "    </tr>\n",
       "    <tr>\n",
       "      <th>days_in_waiting_list</th>\n",
       "      <td>118728.0</td>\n",
       "      <td>2.330638</td>\n",
       "      <td>17.633065</td>\n",
       "      <td>0.00</td>\n",
       "      <td>0.0</td>\n",
       "      <td>0.0</td>\n",
       "      <td>0.0</td>\n",
       "      <td>391.0</td>\n",
       "    </tr>\n",
       "    <tr>\n",
       "      <th>adr</th>\n",
       "      <td>118728.0</td>\n",
       "      <td>102.133442</td>\n",
       "      <td>50.389602</td>\n",
       "      <td>-6.38</td>\n",
       "      <td>70.0</td>\n",
       "      <td>95.0</td>\n",
       "      <td>126.0</td>\n",
       "      <td>5400.0</td>\n",
       "    </tr>\n",
       "    <tr>\n",
       "      <th>required_car_parking_spaces</th>\n",
       "      <td>118728.0</td>\n",
       "      <td>0.061915</td>\n",
       "      <td>0.244230</td>\n",
       "      <td>0.00</td>\n",
       "      <td>0.0</td>\n",
       "      <td>0.0</td>\n",
       "      <td>0.0</td>\n",
       "      <td>8.0</td>\n",
       "    </tr>\n",
       "    <tr>\n",
       "      <th>total_of_special_requests</th>\n",
       "      <td>118728.0</td>\n",
       "      <td>0.571778</td>\n",
       "      <td>0.792740</td>\n",
       "      <td>0.00</td>\n",
       "      <td>0.0</td>\n",
       "      <td>0.0</td>\n",
       "      <td>1.0</td>\n",
       "      <td>5.0</td>\n",
       "    </tr>\n",
       "  </tbody>\n",
       "</table>\n",
       "</div>"
      ],
      "text/plain": [
       "                                   count         mean         std      min  \\\n",
       "is_canceled                     118728.0     0.371757    0.483276     0.00   \n",
       "lead_time                       118728.0   104.401312  106.915284     0.00   \n",
       "arrival_date_year               118728.0  2016.157596    0.707456  2015.00   \n",
       "arrival_date_week_number        118728.0    27.165100   13.586362     1.00   \n",
       "arrival_date_day_of_month       118728.0    15.800965    8.780412     1.00   \n",
       "stays_in_weekend_nights         118728.0     0.928307    0.992725     0.00   \n",
       "stays_in_week_nights            118728.0     2.500918    1.889089     0.00   \n",
       "adults                          118728.0     1.861052    0.574697     0.00   \n",
       "children                        118728.0     0.104356    0.399439     0.00   \n",
       "babies                          118728.0     0.007959    0.097449     0.00   \n",
       "is_repeated_guest               118728.0     0.031593    0.174915     0.00   \n",
       "previous_cancellations          118728.0     0.087208    0.846419     0.00   \n",
       "previous_bookings_not_canceled  118728.0     0.131612    1.485300     0.00   \n",
       "booking_changes                 118728.0     0.218828    0.638914     0.00   \n",
       "days_in_waiting_list            118728.0     2.330638   17.633065     0.00   \n",
       "adr                             118728.0   102.133442   50.389602    -6.38   \n",
       "required_car_parking_spaces     118728.0     0.061915    0.244230     0.00   \n",
       "total_of_special_requests       118728.0     0.571778    0.792740     0.00   \n",
       "\n",
       "                                   25%     50%     75%     max  \n",
       "is_canceled                        0.0     0.0     1.0     1.0  \n",
       "lead_time                         18.0    70.0   161.0   737.0  \n",
       "arrival_date_year               2016.0  2016.0  2017.0  2017.0  \n",
       "arrival_date_week_number          16.0    28.0    38.0    53.0  \n",
       "arrival_date_day_of_month          8.0    16.0    23.0    31.0  \n",
       "stays_in_weekend_nights            0.0     1.0     2.0    16.0  \n",
       "stays_in_week_nights               1.0     2.0     3.0    40.0  \n",
       "adults                             2.0     2.0     2.0    55.0  \n",
       "children                           0.0     0.0     0.0    10.0  \n",
       "babies                             0.0     0.0     0.0    10.0  \n",
       "is_repeated_guest                  0.0     0.0     0.0     1.0  \n",
       "previous_cancellations             0.0     0.0     0.0    26.0  \n",
       "previous_bookings_not_canceled     0.0     0.0     0.0    72.0  \n",
       "booking_changes                    0.0     0.0     0.0    18.0  \n",
       "days_in_waiting_list               0.0     0.0     0.0   391.0  \n",
       "adr                               70.0    95.0   126.0  5400.0  \n",
       "required_car_parking_spaces        0.0     0.0     0.0     8.0  \n",
       "total_of_special_requests          0.0     0.0     1.0     5.0  "
      ]
     },
     "execution_count": 18,
     "metadata": {},
     "output_type": "execute_result"
    }
   ],
   "source": [
    "chotel.describe().T"
   ]
  },
  {
   "cell_type": "code",
   "execution_count": 19,
   "metadata": {},
   "outputs": [
    {
     "data": {
      "text/html": [
       "<div>\n",
       "<style scoped>\n",
       "    .dataframe tbody tr th:only-of-type {\n",
       "        vertical-align: middle;\n",
       "    }\n",
       "\n",
       "    .dataframe tbody tr th {\n",
       "        vertical-align: top;\n",
       "    }\n",
       "\n",
       "    .dataframe thead th {\n",
       "        text-align: right;\n",
       "    }\n",
       "</style>\n",
       "<table border=\"1\" class=\"dataframe\">\n",
       "  <thead>\n",
       "    <tr style=\"text-align: right;\">\n",
       "      <th></th>\n",
       "      <th>is_canceled</th>\n",
       "      <th>lead_time</th>\n",
       "      <th>arrival_date_year</th>\n",
       "      <th>arrival_date_week_number</th>\n",
       "      <th>arrival_date_day_of_month</th>\n",
       "      <th>stays_in_weekend_nights</th>\n",
       "      <th>stays_in_week_nights</th>\n",
       "      <th>adults</th>\n",
       "      <th>children</th>\n",
       "      <th>babies</th>\n",
       "      <th>is_repeated_guest</th>\n",
       "      <th>previous_cancellations</th>\n",
       "      <th>previous_bookings_not_canceled</th>\n",
       "      <th>booking_changes</th>\n",
       "      <th>days_in_waiting_list</th>\n",
       "      <th>adr</th>\n",
       "      <th>required_car_parking_spaces</th>\n",
       "      <th>total_of_special_requests</th>\n",
       "    </tr>\n",
       "  </thead>\n",
       "  <tbody>\n",
       "    <tr>\n",
       "      <th>is_canceled</th>\n",
       "      <td>1.000000</td>\n",
       "      <td>0.291602</td>\n",
       "      <td>0.016408</td>\n",
       "      <td>0.007664</td>\n",
       "      <td>-0.006002</td>\n",
       "      <td>-0.002223</td>\n",
       "      <td>0.024803</td>\n",
       "      <td>0.056130</td>\n",
       "      <td>0.004535</td>\n",
       "      <td>-0.032605</td>\n",
       "      <td>-0.084141</td>\n",
       "      <td>0.109909</td>\n",
       "      <td>-0.055502</td>\n",
       "      <td>-0.145136</td>\n",
       "      <td>0.054113</td>\n",
       "      <td>0.044885</td>\n",
       "      <td>-0.195012</td>\n",
       "      <td>-0.235923</td>\n",
       "    </tr>\n",
       "    <tr>\n",
       "      <th>lead_time</th>\n",
       "      <td>0.291602</td>\n",
       "      <td>1.000000</td>\n",
       "      <td>0.040085</td>\n",
       "      <td>0.126875</td>\n",
       "      <td>0.002402</td>\n",
       "      <td>0.084327</td>\n",
       "      <td>0.165913</td>\n",
       "      <td>0.115020</td>\n",
       "      <td>-0.038580</td>\n",
       "      <td>-0.021231</td>\n",
       "      <td>-0.123867</td>\n",
       "      <td>0.085949</td>\n",
       "      <td>-0.071164</td>\n",
       "      <td>0.002126</td>\n",
       "      <td>0.169935</td>\n",
       "      <td>-0.068174</td>\n",
       "      <td>-0.115707</td>\n",
       "      <td>-0.096710</td>\n",
       "    </tr>\n",
       "    <tr>\n",
       "      <th>arrival_date_year</th>\n",
       "      <td>0.016408</td>\n",
       "      <td>0.040085</td>\n",
       "      <td>1.000000</td>\n",
       "      <td>-0.540297</td>\n",
       "      <td>-0.000511</td>\n",
       "      <td>0.021832</td>\n",
       "      <td>0.032030</td>\n",
       "      <td>0.029663</td>\n",
       "      <td>0.054556</td>\n",
       "      <td>-0.013186</td>\n",
       "      <td>0.010064</td>\n",
       "      <td>-0.120006</td>\n",
       "      <td>0.029813</td>\n",
       "      <td>0.031669</td>\n",
       "      <td>-0.056676</td>\n",
       "      <td>0.198612</td>\n",
       "      <td>-0.012795</td>\n",
       "      <td>0.108980</td>\n",
       "    </tr>\n",
       "    <tr>\n",
       "      <th>arrival_date_week_number</th>\n",
       "      <td>0.007664</td>\n",
       "      <td>0.126875</td>\n",
       "      <td>-0.540297</td>\n",
       "      <td>1.000000</td>\n",
       "      <td>0.066577</td>\n",
       "      <td>0.018086</td>\n",
       "      <td>0.015531</td>\n",
       "      <td>0.025956</td>\n",
       "      <td>0.005527</td>\n",
       "      <td>0.010058</td>\n",
       "      <td>-0.031413</td>\n",
       "      <td>0.035354</td>\n",
       "      <td>-0.020876</td>\n",
       "      <td>0.005978</td>\n",
       "      <td>0.022732</td>\n",
       "      <td>0.075699</td>\n",
       "      <td>0.001770</td>\n",
       "      <td>0.025810</td>\n",
       "    </tr>\n",
       "    <tr>\n",
       "      <th>arrival_date_day_of_month</th>\n",
       "      <td>-0.006002</td>\n",
       "      <td>0.002402</td>\n",
       "      <td>-0.000511</td>\n",
       "      <td>0.066577</td>\n",
       "      <td>1.000000</td>\n",
       "      <td>-0.015739</td>\n",
       "      <td>-0.027723</td>\n",
       "      <td>-0.001884</td>\n",
       "      <td>0.014570</td>\n",
       "      <td>-0.000541</td>\n",
       "      <td>-0.006660</td>\n",
       "      <td>-0.027024</td>\n",
       "      <td>0.000116</td>\n",
       "      <td>0.011442</td>\n",
       "      <td>0.022546</td>\n",
       "      <td>0.030053</td>\n",
       "      <td>0.008158</td>\n",
       "      <td>0.003078</td>\n",
       "    </tr>\n",
       "    <tr>\n",
       "      <th>stays_in_weekend_nights</th>\n",
       "      <td>-0.002223</td>\n",
       "      <td>0.084327</td>\n",
       "      <td>0.021832</td>\n",
       "      <td>0.018086</td>\n",
       "      <td>-0.015739</td>\n",
       "      <td>1.000000</td>\n",
       "      <td>0.490100</td>\n",
       "      <td>0.093397</td>\n",
       "      <td>0.045780</td>\n",
       "      <td>0.018523</td>\n",
       "      <td>-0.086587</td>\n",
       "      <td>-0.012998</td>\n",
       "      <td>-0.040727</td>\n",
       "      <td>0.049222</td>\n",
       "      <td>-0.054810</td>\n",
       "      <td>0.048701</td>\n",
       "      <td>-0.018099</td>\n",
       "      <td>0.072146</td>\n",
       "    </tr>\n",
       "    <tr>\n",
       "      <th>stays_in_week_nights</th>\n",
       "      <td>0.024803</td>\n",
       "      <td>0.165913</td>\n",
       "      <td>0.032030</td>\n",
       "      <td>0.015531</td>\n",
       "      <td>-0.027723</td>\n",
       "      <td>0.490100</td>\n",
       "      <td>1.000000</td>\n",
       "      <td>0.095399</td>\n",
       "      <td>0.044723</td>\n",
       "      <td>0.020343</td>\n",
       "      <td>-0.096020</td>\n",
       "      <td>-0.014252</td>\n",
       "      <td>-0.047478</td>\n",
       "      <td>0.079335</td>\n",
       "      <td>-0.002159</td>\n",
       "      <td>0.065344</td>\n",
       "      <td>-0.024431</td>\n",
       "      <td>0.067360</td>\n",
       "    </tr>\n",
       "    <tr>\n",
       "      <th>adults</th>\n",
       "      <td>0.056130</td>\n",
       "      <td>0.115020</td>\n",
       "      <td>0.029663</td>\n",
       "      <td>0.025956</td>\n",
       "      <td>-0.001884</td>\n",
       "      <td>0.093397</td>\n",
       "      <td>0.095399</td>\n",
       "      <td>1.000000</td>\n",
       "      <td>0.028603</td>\n",
       "      <td>0.017642</td>\n",
       "      <td>-0.141921</td>\n",
       "      <td>-0.007278</td>\n",
       "      <td>-0.105795</td>\n",
       "      <td>-0.042070</td>\n",
       "      <td>-0.008814</td>\n",
       "      <td>0.221413</td>\n",
       "      <td>0.016107</td>\n",
       "      <td>0.122418</td>\n",
       "    </tr>\n",
       "    <tr>\n",
       "      <th>children</th>\n",
       "      <td>0.004535</td>\n",
       "      <td>-0.038580</td>\n",
       "      <td>0.054556</td>\n",
       "      <td>0.005527</td>\n",
       "      <td>0.014570</td>\n",
       "      <td>0.045780</td>\n",
       "      <td>0.044723</td>\n",
       "      <td>0.028603</td>\n",
       "      <td>1.000000</td>\n",
       "      <td>0.024101</td>\n",
       "      <td>-0.032602</td>\n",
       "      <td>-0.024775</td>\n",
       "      <td>-0.020368</td>\n",
       "      <td>0.050717</td>\n",
       "      <td>-0.033415</td>\n",
       "      <td>0.325228</td>\n",
       "      <td>0.057059</td>\n",
       "      <td>0.081811</td>\n",
       "    </tr>\n",
       "    <tr>\n",
       "      <th>babies</th>\n",
       "      <td>-0.032605</td>\n",
       "      <td>-0.021231</td>\n",
       "      <td>-0.013186</td>\n",
       "      <td>0.010058</td>\n",
       "      <td>-0.000541</td>\n",
       "      <td>0.018523</td>\n",
       "      <td>0.020343</td>\n",
       "      <td>0.017642</td>\n",
       "      <td>0.024101</td>\n",
       "      <td>1.000000</td>\n",
       "      <td>-0.008823</td>\n",
       "      <td>-0.007496</td>\n",
       "      <td>-0.006306</td>\n",
       "      <td>0.085389</td>\n",
       "      <td>-0.010654</td>\n",
       "      <td>0.028455</td>\n",
       "      <td>0.036979</td>\n",
       "      <td>0.097654</td>\n",
       "    </tr>\n",
       "    <tr>\n",
       "      <th>is_repeated_guest</th>\n",
       "      <td>-0.084141</td>\n",
       "      <td>-0.123867</td>\n",
       "      <td>0.010064</td>\n",
       "      <td>-0.031413</td>\n",
       "      <td>-0.006660</td>\n",
       "      <td>-0.086587</td>\n",
       "      <td>-0.096020</td>\n",
       "      <td>-0.141921</td>\n",
       "      <td>-0.032602</td>\n",
       "      <td>-0.008823</td>\n",
       "      <td>1.000000</td>\n",
       "      <td>0.082825</td>\n",
       "      <td>0.425875</td>\n",
       "      <td>0.013127</td>\n",
       "      <td>-0.022142</td>\n",
       "      <td>-0.131818</td>\n",
       "      <td>0.078620</td>\n",
       "      <td>0.013076</td>\n",
       "    </tr>\n",
       "    <tr>\n",
       "      <th>previous_cancellations</th>\n",
       "      <td>0.109909</td>\n",
       "      <td>0.085949</td>\n",
       "      <td>-0.120006</td>\n",
       "      <td>0.035354</td>\n",
       "      <td>-0.027024</td>\n",
       "      <td>-0.012998</td>\n",
       "      <td>-0.014252</td>\n",
       "      <td>-0.007278</td>\n",
       "      <td>-0.024775</td>\n",
       "      <td>-0.007496</td>\n",
       "      <td>0.082825</td>\n",
       "      <td>1.000000</td>\n",
       "      <td>0.154127</td>\n",
       "      <td>-0.027361</td>\n",
       "      <td>0.005941</td>\n",
       "      <td>-0.066233</td>\n",
       "      <td>-0.018500</td>\n",
       "      <td>-0.048681</td>\n",
       "    </tr>\n",
       "    <tr>\n",
       "      <th>previous_bookings_not_canceled</th>\n",
       "      <td>-0.055502</td>\n",
       "      <td>-0.071164</td>\n",
       "      <td>0.029813</td>\n",
       "      <td>-0.020876</td>\n",
       "      <td>0.000116</td>\n",
       "      <td>-0.040727</td>\n",
       "      <td>-0.047478</td>\n",
       "      <td>-0.105795</td>\n",
       "      <td>-0.020368</td>\n",
       "      <td>-0.006306</td>\n",
       "      <td>0.425875</td>\n",
       "      <td>0.154127</td>\n",
       "      <td>1.000000</td>\n",
       "      <td>0.012325</td>\n",
       "      <td>-0.009029</td>\n",
       "      <td>-0.069786</td>\n",
       "      <td>0.046798</td>\n",
       "      <td>0.037551</td>\n",
       "    </tr>\n",
       "    <tr>\n",
       "      <th>booking_changes</th>\n",
       "      <td>-0.145136</td>\n",
       "      <td>0.002126</td>\n",
       "      <td>0.031669</td>\n",
       "      <td>0.005978</td>\n",
       "      <td>0.011442</td>\n",
       "      <td>0.049222</td>\n",
       "      <td>0.079335</td>\n",
       "      <td>-0.042070</td>\n",
       "      <td>0.050717</td>\n",
       "      <td>0.085389</td>\n",
       "      <td>0.013127</td>\n",
       "      <td>-0.027361</td>\n",
       "      <td>0.012325</td>\n",
       "      <td>1.000000</td>\n",
       "      <td>-0.011939</td>\n",
       "      <td>0.026271</td>\n",
       "      <td>0.067601</td>\n",
       "      <td>0.054622</td>\n",
       "    </tr>\n",
       "    <tr>\n",
       "      <th>days_in_waiting_list</th>\n",
       "      <td>0.054113</td>\n",
       "      <td>0.169935</td>\n",
       "      <td>-0.056676</td>\n",
       "      <td>0.022732</td>\n",
       "      <td>0.022546</td>\n",
       "      <td>-0.054810</td>\n",
       "      <td>-0.002159</td>\n",
       "      <td>-0.008814</td>\n",
       "      <td>-0.033415</td>\n",
       "      <td>-0.010654</td>\n",
       "      <td>-0.022142</td>\n",
       "      <td>0.005941</td>\n",
       "      <td>-0.009029</td>\n",
       "      <td>-0.011939</td>\n",
       "      <td>1.000000</td>\n",
       "      <td>-0.041410</td>\n",
       "      <td>-0.030461</td>\n",
       "      <td>-0.082985</td>\n",
       "    </tr>\n",
       "    <tr>\n",
       "      <th>adr</th>\n",
       "      <td>0.044885</td>\n",
       "      <td>-0.068174</td>\n",
       "      <td>0.198612</td>\n",
       "      <td>0.075699</td>\n",
       "      <td>0.030053</td>\n",
       "      <td>0.048701</td>\n",
       "      <td>0.065344</td>\n",
       "      <td>0.221413</td>\n",
       "      <td>0.325228</td>\n",
       "      <td>0.028455</td>\n",
       "      <td>-0.131818</td>\n",
       "      <td>-0.066233</td>\n",
       "      <td>-0.069786</td>\n",
       "      <td>0.026271</td>\n",
       "      <td>-0.041410</td>\n",
       "      <td>1.000000</td>\n",
       "      <td>0.057978</td>\n",
       "      <td>0.171668</td>\n",
       "    </tr>\n",
       "    <tr>\n",
       "      <th>required_car_parking_spaces</th>\n",
       "      <td>-0.195012</td>\n",
       "      <td>-0.115707</td>\n",
       "      <td>-0.012795</td>\n",
       "      <td>0.001770</td>\n",
       "      <td>0.008158</td>\n",
       "      <td>-0.018099</td>\n",
       "      <td>-0.024431</td>\n",
       "      <td>0.016107</td>\n",
       "      <td>0.057059</td>\n",
       "      <td>0.036979</td>\n",
       "      <td>0.078620</td>\n",
       "      <td>-0.018500</td>\n",
       "      <td>0.046798</td>\n",
       "      <td>0.067601</td>\n",
       "      <td>-0.030461</td>\n",
       "      <td>0.057978</td>\n",
       "      <td>1.000000</td>\n",
       "      <td>0.082781</td>\n",
       "    </tr>\n",
       "    <tr>\n",
       "      <th>total_of_special_requests</th>\n",
       "      <td>-0.235923</td>\n",
       "      <td>-0.096710</td>\n",
       "      <td>0.108980</td>\n",
       "      <td>0.025810</td>\n",
       "      <td>0.003078</td>\n",
       "      <td>0.072146</td>\n",
       "      <td>0.067360</td>\n",
       "      <td>0.122418</td>\n",
       "      <td>0.081811</td>\n",
       "      <td>0.097654</td>\n",
       "      <td>0.013076</td>\n",
       "      <td>-0.048681</td>\n",
       "      <td>0.037551</td>\n",
       "      <td>0.054622</td>\n",
       "      <td>-0.082985</td>\n",
       "      <td>0.171668</td>\n",
       "      <td>0.082781</td>\n",
       "      <td>1.000000</td>\n",
       "    </tr>\n",
       "  </tbody>\n",
       "</table>\n",
       "</div>"
      ],
      "text/plain": [
       "                                is_canceled  lead_time  arrival_date_year  \\\n",
       "is_canceled                        1.000000   0.291602           0.016408   \n",
       "lead_time                          0.291602   1.000000           0.040085   \n",
       "arrival_date_year                  0.016408   0.040085           1.000000   \n",
       "arrival_date_week_number           0.007664   0.126875          -0.540297   \n",
       "arrival_date_day_of_month         -0.006002   0.002402          -0.000511   \n",
       "stays_in_weekend_nights           -0.002223   0.084327           0.021832   \n",
       "stays_in_week_nights               0.024803   0.165913           0.032030   \n",
       "adults                             0.056130   0.115020           0.029663   \n",
       "children                           0.004535  -0.038580           0.054556   \n",
       "babies                            -0.032605  -0.021231          -0.013186   \n",
       "is_repeated_guest                 -0.084141  -0.123867           0.010064   \n",
       "previous_cancellations             0.109909   0.085949          -0.120006   \n",
       "previous_bookings_not_canceled    -0.055502  -0.071164           0.029813   \n",
       "booking_changes                   -0.145136   0.002126           0.031669   \n",
       "days_in_waiting_list               0.054113   0.169935          -0.056676   \n",
       "adr                                0.044885  -0.068174           0.198612   \n",
       "required_car_parking_spaces       -0.195012  -0.115707          -0.012795   \n",
       "total_of_special_requests         -0.235923  -0.096710           0.108980   \n",
       "\n",
       "                                arrival_date_week_number  \\\n",
       "is_canceled                                     0.007664   \n",
       "lead_time                                       0.126875   \n",
       "arrival_date_year                              -0.540297   \n",
       "arrival_date_week_number                        1.000000   \n",
       "arrival_date_day_of_month                       0.066577   \n",
       "stays_in_weekend_nights                         0.018086   \n",
       "stays_in_week_nights                            0.015531   \n",
       "adults                                          0.025956   \n",
       "children                                        0.005527   \n",
       "babies                                          0.010058   \n",
       "is_repeated_guest                              -0.031413   \n",
       "previous_cancellations                          0.035354   \n",
       "previous_bookings_not_canceled                 -0.020876   \n",
       "booking_changes                                 0.005978   \n",
       "days_in_waiting_list                            0.022732   \n",
       "adr                                             0.075699   \n",
       "required_car_parking_spaces                     0.001770   \n",
       "total_of_special_requests                       0.025810   \n",
       "\n",
       "                                arrival_date_day_of_month  \\\n",
       "is_canceled                                     -0.006002   \n",
       "lead_time                                        0.002402   \n",
       "arrival_date_year                               -0.000511   \n",
       "arrival_date_week_number                         0.066577   \n",
       "arrival_date_day_of_month                        1.000000   \n",
       "stays_in_weekend_nights                         -0.015739   \n",
       "stays_in_week_nights                            -0.027723   \n",
       "adults                                          -0.001884   \n",
       "children                                         0.014570   \n",
       "babies                                          -0.000541   \n",
       "is_repeated_guest                               -0.006660   \n",
       "previous_cancellations                          -0.027024   \n",
       "previous_bookings_not_canceled                   0.000116   \n",
       "booking_changes                                  0.011442   \n",
       "days_in_waiting_list                             0.022546   \n",
       "adr                                              0.030053   \n",
       "required_car_parking_spaces                      0.008158   \n",
       "total_of_special_requests                        0.003078   \n",
       "\n",
       "                                stays_in_weekend_nights  stays_in_week_nights  \\\n",
       "is_canceled                                   -0.002223              0.024803   \n",
       "lead_time                                      0.084327              0.165913   \n",
       "arrival_date_year                              0.021832              0.032030   \n",
       "arrival_date_week_number                       0.018086              0.015531   \n",
       "arrival_date_day_of_month                     -0.015739             -0.027723   \n",
       "stays_in_weekend_nights                        1.000000              0.490100   \n",
       "stays_in_week_nights                           0.490100              1.000000   \n",
       "adults                                         0.093397              0.095399   \n",
       "children                                       0.045780              0.044723   \n",
       "babies                                         0.018523              0.020343   \n",
       "is_repeated_guest                             -0.086587             -0.096020   \n",
       "previous_cancellations                        -0.012998             -0.014252   \n",
       "previous_bookings_not_canceled                -0.040727             -0.047478   \n",
       "booking_changes                                0.049222              0.079335   \n",
       "days_in_waiting_list                          -0.054810             -0.002159   \n",
       "adr                                            0.048701              0.065344   \n",
       "required_car_parking_spaces                   -0.018099             -0.024431   \n",
       "total_of_special_requests                      0.072146              0.067360   \n",
       "\n",
       "                                  adults  children    babies  \\\n",
       "is_canceled                     0.056130  0.004535 -0.032605   \n",
       "lead_time                       0.115020 -0.038580 -0.021231   \n",
       "arrival_date_year               0.029663  0.054556 -0.013186   \n",
       "arrival_date_week_number        0.025956  0.005527  0.010058   \n",
       "arrival_date_day_of_month      -0.001884  0.014570 -0.000541   \n",
       "stays_in_weekend_nights         0.093397  0.045780  0.018523   \n",
       "stays_in_week_nights            0.095399  0.044723  0.020343   \n",
       "adults                          1.000000  0.028603  0.017642   \n",
       "children                        0.028603  1.000000  0.024101   \n",
       "babies                          0.017642  0.024101  1.000000   \n",
       "is_repeated_guest              -0.141921 -0.032602 -0.008823   \n",
       "previous_cancellations         -0.007278 -0.024775 -0.007496   \n",
       "previous_bookings_not_canceled -0.105795 -0.020368 -0.006306   \n",
       "booking_changes                -0.042070  0.050717  0.085389   \n",
       "days_in_waiting_list           -0.008814 -0.033415 -0.010654   \n",
       "adr                             0.221413  0.325228  0.028455   \n",
       "required_car_parking_spaces     0.016107  0.057059  0.036979   \n",
       "total_of_special_requests       0.122418  0.081811  0.097654   \n",
       "\n",
       "                                is_repeated_guest  previous_cancellations  \\\n",
       "is_canceled                             -0.084141                0.109909   \n",
       "lead_time                               -0.123867                0.085949   \n",
       "arrival_date_year                        0.010064               -0.120006   \n",
       "arrival_date_week_number                -0.031413                0.035354   \n",
       "arrival_date_day_of_month               -0.006660               -0.027024   \n",
       "stays_in_weekend_nights                 -0.086587               -0.012998   \n",
       "stays_in_week_nights                    -0.096020               -0.014252   \n",
       "adults                                  -0.141921               -0.007278   \n",
       "children                                -0.032602               -0.024775   \n",
       "babies                                  -0.008823               -0.007496   \n",
       "is_repeated_guest                        1.000000                0.082825   \n",
       "previous_cancellations                   0.082825                1.000000   \n",
       "previous_bookings_not_canceled           0.425875                0.154127   \n",
       "booking_changes                          0.013127               -0.027361   \n",
       "days_in_waiting_list                    -0.022142                0.005941   \n",
       "adr                                     -0.131818               -0.066233   \n",
       "required_car_parking_spaces              0.078620               -0.018500   \n",
       "total_of_special_requests                0.013076               -0.048681   \n",
       "\n",
       "                                previous_bookings_not_canceled  \\\n",
       "is_canceled                                          -0.055502   \n",
       "lead_time                                            -0.071164   \n",
       "arrival_date_year                                     0.029813   \n",
       "arrival_date_week_number                             -0.020876   \n",
       "arrival_date_day_of_month                             0.000116   \n",
       "stays_in_weekend_nights                              -0.040727   \n",
       "stays_in_week_nights                                 -0.047478   \n",
       "adults                                               -0.105795   \n",
       "children                                             -0.020368   \n",
       "babies                                               -0.006306   \n",
       "is_repeated_guest                                     0.425875   \n",
       "previous_cancellations                                0.154127   \n",
       "previous_bookings_not_canceled                        1.000000   \n",
       "booking_changes                                       0.012325   \n",
       "days_in_waiting_list                                 -0.009029   \n",
       "adr                                                  -0.069786   \n",
       "required_car_parking_spaces                           0.046798   \n",
       "total_of_special_requests                             0.037551   \n",
       "\n",
       "                                booking_changes  days_in_waiting_list  \\\n",
       "is_canceled                           -0.145136              0.054113   \n",
       "lead_time                              0.002126              0.169935   \n",
       "arrival_date_year                      0.031669             -0.056676   \n",
       "arrival_date_week_number               0.005978              0.022732   \n",
       "arrival_date_day_of_month              0.011442              0.022546   \n",
       "stays_in_weekend_nights                0.049222             -0.054810   \n",
       "stays_in_week_nights                   0.079335             -0.002159   \n",
       "adults                                -0.042070             -0.008814   \n",
       "children                               0.050717             -0.033415   \n",
       "babies                                 0.085389             -0.010654   \n",
       "is_repeated_guest                      0.013127             -0.022142   \n",
       "previous_cancellations                -0.027361              0.005941   \n",
       "previous_bookings_not_canceled         0.012325             -0.009029   \n",
       "booking_changes                        1.000000             -0.011939   \n",
       "days_in_waiting_list                  -0.011939              1.000000   \n",
       "adr                                    0.026271             -0.041410   \n",
       "required_car_parking_spaces            0.067601             -0.030461   \n",
       "total_of_special_requests              0.054622             -0.082985   \n",
       "\n",
       "                                     adr  required_car_parking_spaces  \\\n",
       "is_canceled                     0.044885                    -0.195012   \n",
       "lead_time                      -0.068174                    -0.115707   \n",
       "arrival_date_year               0.198612                    -0.012795   \n",
       "arrival_date_week_number        0.075699                     0.001770   \n",
       "arrival_date_day_of_month       0.030053                     0.008158   \n",
       "stays_in_weekend_nights         0.048701                    -0.018099   \n",
       "stays_in_week_nights            0.065344                    -0.024431   \n",
       "adults                          0.221413                     0.016107   \n",
       "children                        0.325228                     0.057059   \n",
       "babies                          0.028455                     0.036979   \n",
       "is_repeated_guest              -0.131818                     0.078620   \n",
       "previous_cancellations         -0.066233                    -0.018500   \n",
       "previous_bookings_not_canceled -0.069786                     0.046798   \n",
       "booking_changes                 0.026271                     0.067601   \n",
       "days_in_waiting_list           -0.041410                    -0.030461   \n",
       "adr                             1.000000                     0.057978   \n",
       "required_car_parking_spaces     0.057978                     1.000000   \n",
       "total_of_special_requests       0.171668                     0.082781   \n",
       "\n",
       "                                total_of_special_requests  \n",
       "is_canceled                                     -0.235923  \n",
       "lead_time                                       -0.096710  \n",
       "arrival_date_year                                0.108980  \n",
       "arrival_date_week_number                         0.025810  \n",
       "arrival_date_day_of_month                        0.003078  \n",
       "stays_in_weekend_nights                          0.072146  \n",
       "stays_in_week_nights                             0.067360  \n",
       "adults                                           0.122418  \n",
       "children                                         0.081811  \n",
       "babies                                           0.097654  \n",
       "is_repeated_guest                                0.013076  \n",
       "previous_cancellations                          -0.048681  \n",
       "previous_bookings_not_canceled                   0.037551  \n",
       "booking_changes                                  0.054622  \n",
       "days_in_waiting_list                            -0.082985  \n",
       "adr                                              0.171668  \n",
       "required_car_parking_spaces                      0.082781  \n",
       "total_of_special_requests                        1.000000  "
      ]
     },
     "execution_count": 19,
     "metadata": {},
     "output_type": "execute_result"
    }
   ],
   "source": [
    "chotel.corr().T"
   ]
  },
  {
   "cell_type": "markdown",
   "metadata": {},
   "source": [
    "# What percentage of bookings were cancelled ?"
   ]
  },
  {
   "cell_type": "code",
   "execution_count": 20,
   "metadata": {
    "execution": {
     "iopub.execute_input": "2023-04-17T21:18:11.88532Z",
     "iopub.status.busy": "2023-04-17T21:18:11.884652Z",
     "iopub.status.idle": "2023-04-17T21:18:11.911129Z",
     "shell.execute_reply": "2023-04-17T21:18:11.910036Z",
     "shell.execute_reply.started": "2023-04-17T21:18:11.885281Z"
    }
   },
   "outputs": [
    {
     "data": {
      "text/html": [
       "<div>\n",
       "<style scoped>\n",
       "    .dataframe tbody tr th:only-of-type {\n",
       "        vertical-align: middle;\n",
       "    }\n",
       "\n",
       "    .dataframe tbody tr th {\n",
       "        vertical-align: top;\n",
       "    }\n",
       "\n",
       "    .dataframe thead th {\n",
       "        text-align: right;\n",
       "    }\n",
       "</style>\n",
       "<table border=\"1\" class=\"dataframe\">\n",
       "  <thead>\n",
       "    <tr style=\"text-align: right;\">\n",
       "      <th></th>\n",
       "      <th></th>\n",
       "      <th>is_canceled</th>\n",
       "    </tr>\n",
       "    <tr>\n",
       "      <th>hotel</th>\n",
       "      <th>is_canceled</th>\n",
       "      <th></th>\n",
       "    </tr>\n",
       "  </thead>\n",
       "  <tbody>\n",
       "    <tr>\n",
       "      <th rowspan=\"2\" valign=\"top\">City Hotel</th>\n",
       "      <th>0</th>\n",
       "      <td>46082</td>\n",
       "    </tr>\n",
       "    <tr>\n",
       "      <th>1</th>\n",
       "      <td>33061</td>\n",
       "    </tr>\n",
       "    <tr>\n",
       "      <th rowspan=\"2\" valign=\"top\">Resort Hotel</th>\n",
       "      <th>0</th>\n",
       "      <td>28508</td>\n",
       "    </tr>\n",
       "    <tr>\n",
       "      <th>1</th>\n",
       "      <td>11077</td>\n",
       "    </tr>\n",
       "  </tbody>\n",
       "</table>\n",
       "</div>"
      ],
      "text/plain": [
       "                          is_canceled\n",
       "hotel        is_canceled             \n",
       "City Hotel   0                  46082\n",
       "             1                  33061\n",
       "Resort Hotel 0                  28508\n",
       "             1                  11077"
      ]
     },
     "execution_count": 20,
     "metadata": {},
     "output_type": "execute_result"
    }
   ],
   "source": [
    "booking_info=pd.DataFrame(chotel.groupby('hotel')['is_canceled'].value_counts())\n",
    "booking_info"
   ]
  },
  {
   "cell_type": "code",
   "execution_count": 21,
   "metadata": {
    "execution": {
     "iopub.execute_input": "2023-04-17T21:18:11.912903Z",
     "iopub.status.busy": "2023-04-17T21:18:11.912575Z",
     "iopub.status.idle": "2023-04-17T21:18:11.917581Z",
     "shell.execute_reply": "2023-04-17T21:18:11.916547Z",
     "shell.execute_reply.started": "2023-04-17T21:18:11.912872Z"
    }
   },
   "outputs": [],
   "source": [
    "booking_info.columns=['no of bookings']"
   ]
  },
  {
   "cell_type": "code",
   "execution_count": 22,
   "metadata": {
    "execution": {
     "iopub.execute_input": "2023-04-17T21:18:11.919197Z",
     "iopub.status.busy": "2023-04-17T21:18:11.918838Z",
     "iopub.status.idle": "2023-04-17T21:18:11.932451Z",
     "shell.execute_reply": "2023-04-17T21:18:11.931258Z",
     "shell.execute_reply.started": "2023-04-17T21:18:11.919144Z"
    }
   },
   "outputs": [
    {
     "data": {
      "text/html": [
       "<div>\n",
       "<style scoped>\n",
       "    .dataframe tbody tr th:only-of-type {\n",
       "        vertical-align: middle;\n",
       "    }\n",
       "\n",
       "    .dataframe tbody tr th {\n",
       "        vertical-align: top;\n",
       "    }\n",
       "\n",
       "    .dataframe thead th {\n",
       "        text-align: right;\n",
       "    }\n",
       "</style>\n",
       "<table border=\"1\" class=\"dataframe\">\n",
       "  <thead>\n",
       "    <tr style=\"text-align: right;\">\n",
       "      <th></th>\n",
       "      <th></th>\n",
       "      <th>no of bookings</th>\n",
       "    </tr>\n",
       "    <tr>\n",
       "      <th>hotel</th>\n",
       "      <th>is_canceled</th>\n",
       "      <th></th>\n",
       "    </tr>\n",
       "  </thead>\n",
       "  <tbody>\n",
       "    <tr>\n",
       "      <th rowspan=\"2\" valign=\"top\">City Hotel</th>\n",
       "      <th>0</th>\n",
       "      <td>46082</td>\n",
       "    </tr>\n",
       "    <tr>\n",
       "      <th>1</th>\n",
       "      <td>33061</td>\n",
       "    </tr>\n",
       "    <tr>\n",
       "      <th rowspan=\"2\" valign=\"top\">Resort Hotel</th>\n",
       "      <th>0</th>\n",
       "      <td>28508</td>\n",
       "    </tr>\n",
       "    <tr>\n",
       "      <th>1</th>\n",
       "      <td>11077</td>\n",
       "    </tr>\n",
       "  </tbody>\n",
       "</table>\n",
       "</div>"
      ],
      "text/plain": [
       "                          no of bookings\n",
       "hotel        is_canceled                \n",
       "City Hotel   0                     46082\n",
       "             1                     33061\n",
       "Resort Hotel 0                     28508\n",
       "             1                     11077"
      ]
     },
     "execution_count": 22,
     "metadata": {},
     "output_type": "execute_result"
    }
   ],
   "source": [
    "booking_info"
   ]
  },
  {
   "cell_type": "code",
   "execution_count": 23,
   "metadata": {
    "execution": {
     "iopub.execute_input": "2023-04-17T21:18:11.9342Z",
     "iopub.status.busy": "2023-04-17T21:18:11.933893Z",
     "iopub.status.idle": "2023-04-17T21:18:11.955459Z",
     "shell.execute_reply": "2023-04-17T21:18:11.954553Z",
     "shell.execute_reply.started": "2023-04-17T21:18:11.934171Z"
    }
   },
   "outputs": [],
   "source": [
    "booking_info['percentage']=chotel.groupby('hotel')['is_canceled'].value_counts(normalize=True)*100"
   ]
  },
  {
   "cell_type": "code",
   "execution_count": 24,
   "metadata": {
    "execution": {
     "iopub.execute_input": "2023-04-17T21:18:11.957035Z",
     "iopub.status.busy": "2023-04-17T21:18:11.956769Z",
     "iopub.status.idle": "2023-04-17T21:18:11.966495Z",
     "shell.execute_reply": "2023-04-17T21:18:11.965416Z",
     "shell.execute_reply.started": "2023-04-17T21:18:11.957003Z"
    }
   },
   "outputs": [
    {
     "data": {
      "text/html": [
       "<div>\n",
       "<style scoped>\n",
       "    .dataframe tbody tr th:only-of-type {\n",
       "        vertical-align: middle;\n",
       "    }\n",
       "\n",
       "    .dataframe tbody tr th {\n",
       "        vertical-align: top;\n",
       "    }\n",
       "\n",
       "    .dataframe thead th {\n",
       "        text-align: right;\n",
       "    }\n",
       "</style>\n",
       "<table border=\"1\" class=\"dataframe\">\n",
       "  <thead>\n",
       "    <tr style=\"text-align: right;\">\n",
       "      <th></th>\n",
       "      <th></th>\n",
       "      <th>no of bookings</th>\n",
       "      <th>percentage</th>\n",
       "    </tr>\n",
       "    <tr>\n",
       "      <th>hotel</th>\n",
       "      <th>is_canceled</th>\n",
       "      <th></th>\n",
       "      <th></th>\n",
       "    </tr>\n",
       "  </thead>\n",
       "  <tbody>\n",
       "    <tr>\n",
       "      <th rowspan=\"2\" valign=\"top\">City Hotel</th>\n",
       "      <th>0</th>\n",
       "      <td>46082</td>\n",
       "      <td>58.226249</td>\n",
       "    </tr>\n",
       "    <tr>\n",
       "      <th>1</th>\n",
       "      <td>33061</td>\n",
       "      <td>41.773751</td>\n",
       "    </tr>\n",
       "    <tr>\n",
       "      <th rowspan=\"2\" valign=\"top\">Resort Hotel</th>\n",
       "      <th>0</th>\n",
       "      <td>28508</td>\n",
       "      <td>72.017178</td>\n",
       "    </tr>\n",
       "    <tr>\n",
       "      <th>1</th>\n",
       "      <td>11077</td>\n",
       "      <td>27.982822</td>\n",
       "    </tr>\n",
       "  </tbody>\n",
       "</table>\n",
       "</div>"
      ],
      "text/plain": [
       "                          no of bookings  percentage\n",
       "hotel        is_canceled                            \n",
       "City Hotel   0                     46082   58.226249\n",
       "             1                     33061   41.773751\n",
       "Resort Hotel 0                     28508   72.017178\n",
       "             1                     11077   27.982822"
      ]
     },
     "execution_count": 24,
     "metadata": {},
     "output_type": "execute_result"
    }
   ],
   "source": [
    "booking_info"
   ]
  },
  {
   "cell_type": "code",
   "execution_count": 25,
   "metadata": {
    "execution": {
     "iopub.execute_input": "2023-04-17T21:18:11.968354Z",
     "iopub.status.busy": "2023-04-17T21:18:11.968046Z",
     "iopub.status.idle": "2023-04-17T21:18:11.981789Z",
     "shell.execute_reply": "2023-04-17T21:18:11.98058Z",
     "shell.execute_reply.started": "2023-04-17T21:18:11.968324Z"
    }
   },
   "outputs": [
    {
     "data": {
      "text/html": [
       "<div>\n",
       "<style scoped>\n",
       "    .dataframe tbody tr th:only-of-type {\n",
       "        vertical-align: middle;\n",
       "    }\n",
       "\n",
       "    .dataframe tbody tr th {\n",
       "        vertical-align: top;\n",
       "    }\n",
       "\n",
       "    .dataframe thead th {\n",
       "        text-align: right;\n",
       "    }\n",
       "</style>\n",
       "<table border=\"1\" class=\"dataframe\">\n",
       "  <thead>\n",
       "    <tr style=\"text-align: right;\">\n",
       "      <th></th>\n",
       "      <th></th>\n",
       "      <th>no of bookings</th>\n",
       "      <th>percentage</th>\n",
       "    </tr>\n",
       "    <tr>\n",
       "      <th>hotel</th>\n",
       "      <th>is_canceled</th>\n",
       "      <th></th>\n",
       "      <th></th>\n",
       "    </tr>\n",
       "  </thead>\n",
       "  <tbody>\n",
       "    <tr>\n",
       "      <th rowspan=\"2\" valign=\"top\">City Hotel</th>\n",
       "      <th>0</th>\n",
       "      <td>46082</td>\n",
       "      <td>58.226249</td>\n",
       "    </tr>\n",
       "    <tr>\n",
       "      <th>1</th>\n",
       "      <td>33061</td>\n",
       "      <td>41.773751</td>\n",
       "    </tr>\n",
       "    <tr>\n",
       "      <th rowspan=\"2\" valign=\"top\">Resort Hotel</th>\n",
       "      <th>0</th>\n",
       "      <td>28508</td>\n",
       "      <td>72.017178</td>\n",
       "    </tr>\n",
       "    <tr>\n",
       "      <th>1</th>\n",
       "      <td>11077</td>\n",
       "      <td>27.982822</td>\n",
       "    </tr>\n",
       "  </tbody>\n",
       "</table>\n",
       "</div>"
      ],
      "text/plain": [
       "                          no of bookings  percentage\n",
       "hotel        is_canceled                            \n",
       "City Hotel   0                     46082   58.226249\n",
       "             1                     33061   41.773751\n",
       "Resort Hotel 0                     28508   72.017178\n",
       "             1                     11077   27.982822"
      ]
     },
     "execution_count": 25,
     "metadata": {},
     "output_type": "execute_result"
    }
   ],
   "source": [
    "pd.DataFrame(booking_info)"
   ]
  },
  {
   "cell_type": "markdown",
   "metadata": {},
   "source": [
    "From the table we can say that 27.98% bookings are cancelled in Resort Hotel and 41.77% bookings are cancelled in City Hotel."
   ]
  },
  {
   "cell_type": "markdown",
   "metadata": {},
   "source": [
    "# Which type of hotel has more booking ?"
   ]
  },
  {
   "cell_type": "code",
   "execution_count": 26,
   "metadata": {
    "execution": {
     "iopub.execute_input": "2023-04-17T21:18:12.298916Z",
     "iopub.status.busy": "2023-04-17T21:18:12.298219Z",
     "iopub.status.idle": "2023-04-17T21:18:12.314188Z",
     "shell.execute_reply": "2023-04-17T21:18:12.313269Z",
     "shell.execute_reply.started": "2023-04-17T21:18:12.298877Z"
    }
   },
   "outputs": [
    {
     "data": {
      "text/html": [
       "<div>\n",
       "<style scoped>\n",
       "    .dataframe tbody tr th:only-of-type {\n",
       "        vertical-align: middle;\n",
       "    }\n",
       "\n",
       "    .dataframe tbody tr th {\n",
       "        vertical-align: top;\n",
       "    }\n",
       "\n",
       "    .dataframe thead th {\n",
       "        text-align: right;\n",
       "    }\n",
       "</style>\n",
       "<table border=\"1\" class=\"dataframe\">\n",
       "  <thead>\n",
       "    <tr style=\"text-align: right;\">\n",
       "      <th></th>\n",
       "      <th>hotel</th>\n",
       "    </tr>\n",
       "  </thead>\n",
       "  <tbody>\n",
       "    <tr>\n",
       "      <th>City Hotel</th>\n",
       "      <td>79143</td>\n",
       "    </tr>\n",
       "    <tr>\n",
       "      <th>Resort Hotel</th>\n",
       "      <td>39585</td>\n",
       "    </tr>\n",
       "  </tbody>\n",
       "</table>\n",
       "</div>"
      ],
      "text/plain": [
       "              hotel\n",
       "City Hotel    79143\n",
       "Resort Hotel  39585"
      ]
     },
     "execution_count": 26,
     "metadata": {},
     "output_type": "execute_result"
    }
   ],
   "source": [
    "preference = pd.DataFrame(chotel.hotel.value_counts())\n",
    "preference"
   ]
  },
  {
   "cell_type": "code",
   "execution_count": 27,
   "metadata": {
    "execution": {
     "iopub.execute_input": "2023-04-17T21:18:12.316062Z",
     "iopub.status.busy": "2023-04-17T21:18:12.315256Z",
     "iopub.status.idle": "2023-04-17T21:18:12.333488Z",
     "shell.execute_reply": "2023-04-17T21:18:12.332057Z",
     "shell.execute_reply.started": "2023-04-17T21:18:12.315986Z"
    }
   },
   "outputs": [
    {
     "data": {
      "text/plain": [
       "City Hotel      66.659086\n",
       "Resort Hotel    33.340914\n",
       "Name: percentage, dtype: float64"
      ]
     },
     "execution_count": 27,
     "metadata": {},
     "output_type": "execute_result"
    }
   ],
   "source": [
    "preference['percentage']=chotel.hotel.value_counts(normalize=True)*100\n",
    "preference['percentage']"
   ]
  },
  {
   "cell_type": "code",
   "execution_count": 28,
   "metadata": {
    "execution": {
     "iopub.execute_input": "2023-04-17T21:18:12.335397Z",
     "iopub.status.busy": "2023-04-17T21:18:12.335015Z",
     "iopub.status.idle": "2023-04-17T21:18:12.343256Z",
     "shell.execute_reply": "2023-04-17T21:18:12.342234Z",
     "shell.execute_reply.started": "2023-04-17T21:18:12.335364Z"
    }
   },
   "outputs": [],
   "source": [
    "preference.index.name='hotel'"
   ]
  },
  {
   "cell_type": "code",
   "execution_count": 29,
   "metadata": {
    "execution": {
     "iopub.execute_input": "2023-04-17T21:18:12.345064Z",
     "iopub.status.busy": "2023-04-17T21:18:12.344661Z",
     "iopub.status.idle": "2023-04-17T21:18:12.359437Z",
     "shell.execute_reply": "2023-04-17T21:18:12.358407Z",
     "shell.execute_reply.started": "2023-04-17T21:18:12.345021Z"
    }
   },
   "outputs": [
    {
     "data": {
      "text/html": [
       "<div>\n",
       "<style scoped>\n",
       "    .dataframe tbody tr th:only-of-type {\n",
       "        vertical-align: middle;\n",
       "    }\n",
       "\n",
       "    .dataframe tbody tr th {\n",
       "        vertical-align: top;\n",
       "    }\n",
       "\n",
       "    .dataframe thead th {\n",
       "        text-align: right;\n",
       "    }\n",
       "</style>\n",
       "<table border=\"1\" class=\"dataframe\">\n",
       "  <thead>\n",
       "    <tr style=\"text-align: right;\">\n",
       "      <th></th>\n",
       "      <th>hotel</th>\n",
       "      <th>percentage</th>\n",
       "    </tr>\n",
       "    <tr>\n",
       "      <th>hotel</th>\n",
       "      <th></th>\n",
       "      <th></th>\n",
       "    </tr>\n",
       "  </thead>\n",
       "  <tbody>\n",
       "    <tr>\n",
       "      <th>City Hotel</th>\n",
       "      <td>79143</td>\n",
       "      <td>66.659086</td>\n",
       "    </tr>\n",
       "    <tr>\n",
       "      <th>Resort Hotel</th>\n",
       "      <td>39585</td>\n",
       "      <td>33.340914</td>\n",
       "    </tr>\n",
       "  </tbody>\n",
       "</table>\n",
       "</div>"
      ],
      "text/plain": [
       "              hotel  percentage\n",
       "hotel                          \n",
       "City Hotel    79143   66.659086\n",
       "Resort Hotel  39585   33.340914"
      ]
     },
     "execution_count": 29,
     "metadata": {},
     "output_type": "execute_result"
    }
   ],
   "source": [
    "preference"
   ]
  },
  {
   "cell_type": "code",
   "execution_count": 30,
   "metadata": {
    "execution": {
     "iopub.execute_input": "2023-04-17T21:18:12.361567Z",
     "iopub.status.busy": "2023-04-17T21:18:12.361123Z",
     "iopub.status.idle": "2023-04-17T21:18:12.369642Z",
     "shell.execute_reply": "2023-04-17T21:18:12.36855Z",
     "shell.execute_reply.started": "2023-04-17T21:18:12.361523Z"
    }
   },
   "outputs": [
    {
     "data": {
      "text/html": [
       "<div>\n",
       "<style scoped>\n",
       "    .dataframe tbody tr th:only-of-type {\n",
       "        vertical-align: middle;\n",
       "    }\n",
       "\n",
       "    .dataframe tbody tr th {\n",
       "        vertical-align: top;\n",
       "    }\n",
       "\n",
       "    .dataframe thead th {\n",
       "        text-align: right;\n",
       "    }\n",
       "</style>\n",
       "<table border=\"1\" class=\"dataframe\">\n",
       "  <thead>\n",
       "    <tr style=\"text-align: right;\">\n",
       "      <th></th>\n",
       "      <th>no of bookings</th>\n",
       "      <th>percentage</th>\n",
       "    </tr>\n",
       "    <tr>\n",
       "      <th>hotel</th>\n",
       "      <th></th>\n",
       "      <th></th>\n",
       "    </tr>\n",
       "  </thead>\n",
       "  <tbody>\n",
       "    <tr>\n",
       "      <th>City Hotel</th>\n",
       "      <td>79143</td>\n",
       "      <td>66.659086</td>\n",
       "    </tr>\n",
       "    <tr>\n",
       "      <th>Resort Hotel</th>\n",
       "      <td>39585</td>\n",
       "      <td>33.340914</td>\n",
       "    </tr>\n",
       "  </tbody>\n",
       "</table>\n",
       "</div>"
      ],
      "text/plain": [
       "              no of bookings  percentage\n",
       "hotel                                   \n",
       "City Hotel             79143   66.659086\n",
       "Resort Hotel           39585   33.340914"
      ]
     },
     "execution_count": 30,
     "metadata": {},
     "output_type": "execute_result"
    }
   ],
   "source": [
    "preference.rename({'hotel':'no of bookings'},axis=1,inplace=True)\n",
    "preference"
   ]
  },
  {
   "cell_type": "markdown",
   "metadata": {},
   "source": [
    "As we can see that, booking perentage of City Hotel is higher than that of Resort Hotel."
   ]
  },
  {
   "cell_type": "markdown",
   "metadata": {},
   "source": [
    "# Which month has the highest number of arrivals ?"
   ]
  },
  {
   "cell_type": "code",
   "execution_count": 31,
   "metadata": {},
   "outputs": [
    {
     "data": {
      "text/html": [
       "<div>\n",
       "<style scoped>\n",
       "    .dataframe tbody tr th:only-of-type {\n",
       "        vertical-align: middle;\n",
       "    }\n",
       "\n",
       "    .dataframe tbody tr th {\n",
       "        vertical-align: top;\n",
       "    }\n",
       "\n",
       "    .dataframe thead th {\n",
       "        text-align: right;\n",
       "    }\n",
       "</style>\n",
       "<table border=\"1\" class=\"dataframe\">\n",
       "  <thead>\n",
       "    <tr style=\"text-align: right;\">\n",
       "      <th></th>\n",
       "      <th>hotel</th>\n",
       "      <th>is_canceled</th>\n",
       "      <th>lead_time</th>\n",
       "      <th>arrival_date_year</th>\n",
       "      <th>arrival_date_month</th>\n",
       "      <th>arrival_date_week_number</th>\n",
       "      <th>arrival_date_day_of_month</th>\n",
       "      <th>stays_in_weekend_nights</th>\n",
       "      <th>stays_in_week_nights</th>\n",
       "      <th>adults</th>\n",
       "      <th>...</th>\n",
       "      <th>assigned_room_type</th>\n",
       "      <th>booking_changes</th>\n",
       "      <th>deposit_type</th>\n",
       "      <th>days_in_waiting_list</th>\n",
       "      <th>customer_type</th>\n",
       "      <th>adr</th>\n",
       "      <th>required_car_parking_spaces</th>\n",
       "      <th>total_of_special_requests</th>\n",
       "      <th>reservation_status</th>\n",
       "      <th>reservation_status_date</th>\n",
       "    </tr>\n",
       "  </thead>\n",
       "  <tbody>\n",
       "    <tr>\n",
       "      <th>0</th>\n",
       "      <td>Resort Hotel</td>\n",
       "      <td>0</td>\n",
       "      <td>342</td>\n",
       "      <td>2015</td>\n",
       "      <td>July</td>\n",
       "      <td>27</td>\n",
       "      <td>1</td>\n",
       "      <td>0</td>\n",
       "      <td>0</td>\n",
       "      <td>2</td>\n",
       "      <td>...</td>\n",
       "      <td>C</td>\n",
       "      <td>3</td>\n",
       "      <td>No Deposit</td>\n",
       "      <td>0</td>\n",
       "      <td>Transient</td>\n",
       "      <td>0.0</td>\n",
       "      <td>0</td>\n",
       "      <td>0</td>\n",
       "      <td>Check-Out</td>\n",
       "      <td>2015-07-01</td>\n",
       "    </tr>\n",
       "    <tr>\n",
       "      <th>1</th>\n",
       "      <td>Resort Hotel</td>\n",
       "      <td>0</td>\n",
       "      <td>737</td>\n",
       "      <td>2015</td>\n",
       "      <td>July</td>\n",
       "      <td>27</td>\n",
       "      <td>1</td>\n",
       "      <td>0</td>\n",
       "      <td>0</td>\n",
       "      <td>2</td>\n",
       "      <td>...</td>\n",
       "      <td>C</td>\n",
       "      <td>4</td>\n",
       "      <td>No Deposit</td>\n",
       "      <td>0</td>\n",
       "      <td>Transient</td>\n",
       "      <td>0.0</td>\n",
       "      <td>0</td>\n",
       "      <td>0</td>\n",
       "      <td>Check-Out</td>\n",
       "      <td>2015-07-01</td>\n",
       "    </tr>\n",
       "    <tr>\n",
       "      <th>2</th>\n",
       "      <td>Resort Hotel</td>\n",
       "      <td>0</td>\n",
       "      <td>7</td>\n",
       "      <td>2015</td>\n",
       "      <td>July</td>\n",
       "      <td>27</td>\n",
       "      <td>1</td>\n",
       "      <td>0</td>\n",
       "      <td>1</td>\n",
       "      <td>1</td>\n",
       "      <td>...</td>\n",
       "      <td>C</td>\n",
       "      <td>0</td>\n",
       "      <td>No Deposit</td>\n",
       "      <td>0</td>\n",
       "      <td>Transient</td>\n",
       "      <td>75.0</td>\n",
       "      <td>0</td>\n",
       "      <td>0</td>\n",
       "      <td>Check-Out</td>\n",
       "      <td>2015-07-02</td>\n",
       "    </tr>\n",
       "    <tr>\n",
       "      <th>3</th>\n",
       "      <td>Resort Hotel</td>\n",
       "      <td>0</td>\n",
       "      <td>13</td>\n",
       "      <td>2015</td>\n",
       "      <td>July</td>\n",
       "      <td>27</td>\n",
       "      <td>1</td>\n",
       "      <td>0</td>\n",
       "      <td>1</td>\n",
       "      <td>1</td>\n",
       "      <td>...</td>\n",
       "      <td>A</td>\n",
       "      <td>0</td>\n",
       "      <td>No Deposit</td>\n",
       "      <td>0</td>\n",
       "      <td>Transient</td>\n",
       "      <td>75.0</td>\n",
       "      <td>0</td>\n",
       "      <td>0</td>\n",
       "      <td>Check-Out</td>\n",
       "      <td>2015-07-02</td>\n",
       "    </tr>\n",
       "    <tr>\n",
       "      <th>4</th>\n",
       "      <td>Resort Hotel</td>\n",
       "      <td>0</td>\n",
       "      <td>14</td>\n",
       "      <td>2015</td>\n",
       "      <td>July</td>\n",
       "      <td>27</td>\n",
       "      <td>1</td>\n",
       "      <td>0</td>\n",
       "      <td>2</td>\n",
       "      <td>2</td>\n",
       "      <td>...</td>\n",
       "      <td>A</td>\n",
       "      <td>0</td>\n",
       "      <td>No Deposit</td>\n",
       "      <td>0</td>\n",
       "      <td>Transient</td>\n",
       "      <td>98.0</td>\n",
       "      <td>0</td>\n",
       "      <td>1</td>\n",
       "      <td>Check-Out</td>\n",
       "      <td>2015-07-03</td>\n",
       "    </tr>\n",
       "  </tbody>\n",
       "</table>\n",
       "<p>5 rows × 30 columns</p>\n",
       "</div>"
      ],
      "text/plain": [
       "          hotel  is_canceled  lead_time  arrival_date_year arrival_date_month  \\\n",
       "0  Resort Hotel            0        342               2015               July   \n",
       "1  Resort Hotel            0        737               2015               July   \n",
       "2  Resort Hotel            0          7               2015               July   \n",
       "3  Resort Hotel            0         13               2015               July   \n",
       "4  Resort Hotel            0         14               2015               July   \n",
       "\n",
       "   arrival_date_week_number  arrival_date_day_of_month  \\\n",
       "0                        27                          1   \n",
       "1                        27                          1   \n",
       "2                        27                          1   \n",
       "3                        27                          1   \n",
       "4                        27                          1   \n",
       "\n",
       "   stays_in_weekend_nights  stays_in_week_nights  adults  ...  \\\n",
       "0                        0                     0       2  ...   \n",
       "1                        0                     0       2  ...   \n",
       "2                        0                     1       1  ...   \n",
       "3                        0                     1       1  ...   \n",
       "4                        0                     2       2  ...   \n",
       "\n",
       "   assigned_room_type  booking_changes deposit_type days_in_waiting_list  \\\n",
       "0                   C                3   No Deposit                    0   \n",
       "1                   C                4   No Deposit                    0   \n",
       "2                   C                0   No Deposit                    0   \n",
       "3                   A                0   No Deposit                    0   \n",
       "4                   A                0   No Deposit                    0   \n",
       "\n",
       "  customer_type   adr  required_car_parking_spaces  total_of_special_requests  \\\n",
       "0     Transient   0.0                            0                          0   \n",
       "1     Transient   0.0                            0                          0   \n",
       "2     Transient  75.0                            0                          0   \n",
       "3     Transient  75.0                            0                          0   \n",
       "4     Transient  98.0                            0                          1   \n",
       "\n",
       "   reservation_status reservation_status_date  \n",
       "0           Check-Out              2015-07-01  \n",
       "1           Check-Out              2015-07-01  \n",
       "2           Check-Out              2015-07-02  \n",
       "3           Check-Out              2015-07-02  \n",
       "4           Check-Out              2015-07-03  \n",
       "\n",
       "[5 rows x 30 columns]"
      ]
     },
     "execution_count": 31,
     "metadata": {},
     "output_type": "execute_result"
    }
   ],
   "source": [
    "confirmed_booking=chotel.loc[chotel.is_canceled==0]\n",
    "confirmed_booking.head()"
   ]
  },
  {
   "cell_type": "code",
   "execution_count": 32,
   "metadata": {
    "execution": {
     "iopub.execute_input": "2023-04-17T21:18:12.669871Z",
     "iopub.status.busy": "2023-04-17T21:18:12.669443Z",
     "iopub.status.idle": "2023-04-17T21:18:12.683538Z",
     "shell.execute_reply": "2023-04-17T21:18:12.682384Z",
     "shell.execute_reply.started": "2023-04-17T21:18:12.669843Z"
    }
   },
   "outputs": [
    {
     "data": {
      "text/html": [
       "<div>\n",
       "<style scoped>\n",
       "    .dataframe tbody tr th:only-of-type {\n",
       "        vertical-align: middle;\n",
       "    }\n",
       "\n",
       "    .dataframe tbody tr th {\n",
       "        vertical-align: top;\n",
       "    }\n",
       "\n",
       "    .dataframe thead th {\n",
       "        text-align: right;\n",
       "    }\n",
       "</style>\n",
       "<table border=\"1\" class=\"dataframe\">\n",
       "  <thead>\n",
       "    <tr style=\"text-align: right;\">\n",
       "      <th></th>\n",
       "      <th>arrival_date_month</th>\n",
       "    </tr>\n",
       "  </thead>\n",
       "  <tbody>\n",
       "    <tr>\n",
       "      <th>August</th>\n",
       "      <td>8604</td>\n",
       "    </tr>\n",
       "    <tr>\n",
       "      <th>July</th>\n",
       "      <td>7880</td>\n",
       "    </tr>\n",
       "    <tr>\n",
       "      <th>May</th>\n",
       "      <td>7091</td>\n",
       "    </tr>\n",
       "    <tr>\n",
       "      <th>October</th>\n",
       "      <td>6854</td>\n",
       "    </tr>\n",
       "    <tr>\n",
       "      <th>March</th>\n",
       "      <td>6566</td>\n",
       "    </tr>\n",
       "  </tbody>\n",
       "</table>\n",
       "</div>"
      ],
      "text/plain": [
       "         arrival_date_month\n",
       "August                 8604\n",
       "July                   7880\n",
       "May                    7091\n",
       "October                6854\n",
       "March                  6566"
      ]
     },
     "execution_count": 32,
     "metadata": {},
     "output_type": "execute_result"
    }
   ],
   "source": [
    "people_arrival_count_df=pd.DataFrame(confirmed_booking['arrival_date_month'].value_counts())\n",
    "people_arrival_count_df.head()"
   ]
  },
  {
   "cell_type": "code",
   "execution_count": 33,
   "metadata": {
    "execution": {
     "iopub.execute_input": "2023-04-17T21:18:12.685925Z",
     "iopub.status.busy": "2023-04-17T21:18:12.68543Z",
     "iopub.status.idle": "2023-04-17T21:18:12.691973Z",
     "shell.execute_reply": "2023-04-17T21:18:12.690925Z",
     "shell.execute_reply.started": "2023-04-17T21:18:12.685873Z"
    }
   },
   "outputs": [],
   "source": [
    "people_arrival_count_df.columns=['No of bookings']"
   ]
  },
  {
   "cell_type": "code",
   "execution_count": 34,
   "metadata": {
    "execution": {
     "iopub.execute_input": "2023-04-17T21:18:12.694048Z",
     "iopub.status.busy": "2023-04-17T21:18:12.693549Z",
     "iopub.status.idle": "2023-04-17T21:18:12.707162Z",
     "shell.execute_reply": "2023-04-17T21:18:12.70617Z",
     "shell.execute_reply.started": "2023-04-17T21:18:12.694006Z"
    }
   },
   "outputs": [
    {
     "data": {
      "text/html": [
       "<div>\n",
       "<style scoped>\n",
       "    .dataframe tbody tr th:only-of-type {\n",
       "        vertical-align: middle;\n",
       "    }\n",
       "\n",
       "    .dataframe tbody tr th {\n",
       "        vertical-align: top;\n",
       "    }\n",
       "\n",
       "    .dataframe thead th {\n",
       "        text-align: right;\n",
       "    }\n",
       "</style>\n",
       "<table border=\"1\" class=\"dataframe\">\n",
       "  <thead>\n",
       "    <tr style=\"text-align: right;\">\n",
       "      <th></th>\n",
       "      <th>No of bookings</th>\n",
       "    </tr>\n",
       "  </thead>\n",
       "  <tbody>\n",
       "    <tr>\n",
       "      <th>August</th>\n",
       "      <td>8604</td>\n",
       "    </tr>\n",
       "    <tr>\n",
       "      <th>July</th>\n",
       "      <td>7880</td>\n",
       "    </tr>\n",
       "    <tr>\n",
       "      <th>May</th>\n",
       "      <td>7091</td>\n",
       "    </tr>\n",
       "    <tr>\n",
       "      <th>October</th>\n",
       "      <td>6854</td>\n",
       "    </tr>\n",
       "    <tr>\n",
       "      <th>March</th>\n",
       "      <td>6566</td>\n",
       "    </tr>\n",
       "  </tbody>\n",
       "</table>\n",
       "</div>"
      ],
      "text/plain": [
       "         No of bookings\n",
       "August             8604\n",
       "July               7880\n",
       "May                7091\n",
       "October            6854\n",
       "March              6566"
      ]
     },
     "execution_count": 34,
     "metadata": {},
     "output_type": "execute_result"
    }
   ],
   "source": [
    "people_arrival_count_df.head()"
   ]
  },
  {
   "cell_type": "code",
   "execution_count": 35,
   "metadata": {
    "execution": {
     "iopub.execute_input": "2023-04-17T21:18:12.709187Z",
     "iopub.status.busy": "2023-04-17T21:18:12.708698Z",
     "iopub.status.idle": "2023-04-17T21:18:12.715442Z",
     "shell.execute_reply": "2023-04-17T21:18:12.71428Z",
     "shell.execute_reply.started": "2023-04-17T21:18:12.709147Z"
    }
   },
   "outputs": [],
   "source": [
    "people_arrival_count_df.index.name='arrival_date_month'"
   ]
  },
  {
   "cell_type": "code",
   "execution_count": 36,
   "metadata": {
    "execution": {
     "iopub.execute_input": "2023-04-17T21:18:12.716782Z",
     "iopub.status.busy": "2023-04-17T21:18:12.716412Z",
     "iopub.status.idle": "2023-04-17T21:18:12.729395Z",
     "shell.execute_reply": "2023-04-17T21:18:12.728413Z",
     "shell.execute_reply.started": "2023-04-17T21:18:12.716742Z"
    }
   },
   "outputs": [
    {
     "data": {
      "text/html": [
       "<div>\n",
       "<style scoped>\n",
       "    .dataframe tbody tr th:only-of-type {\n",
       "        vertical-align: middle;\n",
       "    }\n",
       "\n",
       "    .dataframe tbody tr th {\n",
       "        vertical-align: top;\n",
       "    }\n",
       "\n",
       "    .dataframe thead th {\n",
       "        text-align: right;\n",
       "    }\n",
       "</style>\n",
       "<table border=\"1\" class=\"dataframe\">\n",
       "  <thead>\n",
       "    <tr style=\"text-align: right;\">\n",
       "      <th></th>\n",
       "      <th>No of bookings</th>\n",
       "    </tr>\n",
       "    <tr>\n",
       "      <th>arrival_date_month</th>\n",
       "      <th></th>\n",
       "    </tr>\n",
       "  </thead>\n",
       "  <tbody>\n",
       "    <tr>\n",
       "      <th>August</th>\n",
       "      <td>8604</td>\n",
       "    </tr>\n",
       "    <tr>\n",
       "      <th>July</th>\n",
       "      <td>7880</td>\n",
       "    </tr>\n",
       "    <tr>\n",
       "      <th>May</th>\n",
       "      <td>7091</td>\n",
       "    </tr>\n",
       "    <tr>\n",
       "      <th>October</th>\n",
       "      <td>6854</td>\n",
       "    </tr>\n",
       "    <tr>\n",
       "      <th>March</th>\n",
       "      <td>6566</td>\n",
       "    </tr>\n",
       "  </tbody>\n",
       "</table>\n",
       "</div>"
      ],
      "text/plain": [
       "                    No of bookings\n",
       "arrival_date_month                \n",
       "August                        8604\n",
       "July                          7880\n",
       "May                           7091\n",
       "October                       6854\n",
       "March                         6566"
      ]
     },
     "execution_count": 36,
     "metadata": {},
     "output_type": "execute_result"
    }
   ],
   "source": [
    "people_arrival_count_df.head()"
   ]
  },
  {
   "cell_type": "code",
   "execution_count": 38,
   "metadata": {
    "execution": {
     "iopub.execute_input": "2023-04-17T21:18:12.73111Z",
     "iopub.status.busy": "2023-04-17T21:18:12.730824Z",
     "iopub.status.idle": "2023-04-17T21:18:12.74146Z",
     "shell.execute_reply": "2023-04-17T21:18:12.740636Z",
     "shell.execute_reply.started": "2023-04-17T21:18:12.731083Z"
    }
   },
   "outputs": [],
   "source": [
    "people_arrival_count_df['booking_percentage'] =confirmed_booking['arrival_date_month'].value_counts(normalize=True)*100"
   ]
  },
  {
   "cell_type": "code",
   "execution_count": 39,
   "metadata": {
    "execution": {
     "iopub.execute_input": "2023-04-17T21:18:12.743068Z",
     "iopub.status.busy": "2023-04-17T21:18:12.742568Z",
     "iopub.status.idle": "2023-04-17T21:18:12.757361Z",
     "shell.execute_reply": "2023-04-17T21:18:12.756286Z",
     "shell.execute_reply.started": "2023-04-17T21:18:12.743035Z"
    }
   },
   "outputs": [
    {
     "data": {
      "text/html": [
       "<div>\n",
       "<style scoped>\n",
       "    .dataframe tbody tr th:only-of-type {\n",
       "        vertical-align: middle;\n",
       "    }\n",
       "\n",
       "    .dataframe tbody tr th {\n",
       "        vertical-align: top;\n",
       "    }\n",
       "\n",
       "    .dataframe thead th {\n",
       "        text-align: right;\n",
       "    }\n",
       "</style>\n",
       "<table border=\"1\" class=\"dataframe\">\n",
       "  <thead>\n",
       "    <tr style=\"text-align: right;\">\n",
       "      <th></th>\n",
       "      <th>No of bookings</th>\n",
       "      <th>booking_percentage</th>\n",
       "    </tr>\n",
       "    <tr>\n",
       "      <th>arrival_date_month</th>\n",
       "      <th></th>\n",
       "      <th></th>\n",
       "    </tr>\n",
       "  </thead>\n",
       "  <tbody>\n",
       "    <tr>\n",
       "      <th>August</th>\n",
       "      <td>8604</td>\n",
       "      <td>11.535058</td>\n",
       "    </tr>\n",
       "    <tr>\n",
       "      <th>July</th>\n",
       "      <td>7880</td>\n",
       "      <td>10.564419</td>\n",
       "    </tr>\n",
       "    <tr>\n",
       "      <th>May</th>\n",
       "      <td>7091</td>\n",
       "      <td>9.506636</td>\n",
       "    </tr>\n",
       "    <tr>\n",
       "      <th>October</th>\n",
       "      <td>6854</td>\n",
       "      <td>9.188899</td>\n",
       "    </tr>\n",
       "    <tr>\n",
       "      <th>March</th>\n",
       "      <td>6566</td>\n",
       "      <td>8.802789</td>\n",
       "    </tr>\n",
       "    <tr>\n",
       "      <th>April</th>\n",
       "      <td>6528</td>\n",
       "      <td>8.751843</td>\n",
       "    </tr>\n",
       "    <tr>\n",
       "      <th>June</th>\n",
       "      <td>6384</td>\n",
       "      <td>8.558788</td>\n",
       "    </tr>\n",
       "    <tr>\n",
       "      <th>September</th>\n",
       "      <td>6360</td>\n",
       "      <td>8.526612</td>\n",
       "    </tr>\n",
       "    <tr>\n",
       "      <th>February</th>\n",
       "      <td>5304</td>\n",
       "      <td>7.110873</td>\n",
       "    </tr>\n",
       "    <tr>\n",
       "      <th>November</th>\n",
       "      <td>4611</td>\n",
       "      <td>6.181794</td>\n",
       "    </tr>\n",
       "    <tr>\n",
       "      <th>December</th>\n",
       "      <td>4347</td>\n",
       "      <td>5.827859</td>\n",
       "    </tr>\n",
       "    <tr>\n",
       "      <th>January</th>\n",
       "      <td>4061</td>\n",
       "      <td>5.444430</td>\n",
       "    </tr>\n",
       "  </tbody>\n",
       "</table>\n",
       "</div>"
      ],
      "text/plain": [
       "                    No of bookings  booking_percentage\n",
       "arrival_date_month                                    \n",
       "August                        8604           11.535058\n",
       "July                          7880           10.564419\n",
       "May                           7091            9.506636\n",
       "October                       6854            9.188899\n",
       "March                         6566            8.802789\n",
       "April                         6528            8.751843\n",
       "June                          6384            8.558788\n",
       "September                     6360            8.526612\n",
       "February                      5304            7.110873\n",
       "November                      4611            6.181794\n",
       "December                      4347            5.827859\n",
       "January                       4061            5.444430"
      ]
     },
     "execution_count": 39,
     "metadata": {},
     "output_type": "execute_result"
    }
   ],
   "source": [
    "people_arrival_count_df"
   ]
  },
  {
   "cell_type": "markdown",
   "metadata": {},
   "source": [
    "From the above we see that, August has the highest number of arrivals and January has the lowest number of arrivals."
   ]
  },
  {
   "cell_type": "markdown",
   "metadata": {},
   "source": [
    "# Which year has highest number of arrivals ?"
   ]
  },
  {
   "cell_type": "code",
   "execution_count": 41,
   "metadata": {
    "execution": {
     "iopub.execute_input": "2023-04-17T21:18:13.089076Z",
     "iopub.status.busy": "2023-04-17T21:18:13.088059Z",
     "iopub.status.idle": "2023-04-17T21:18:13.109245Z",
     "shell.execute_reply": "2023-04-17T21:18:13.10807Z",
     "shell.execute_reply.started": "2023-04-17T21:18:13.089032Z"
    }
   },
   "outputs": [
    {
     "data": {
      "text/html": [
       "<div>\n",
       "<style scoped>\n",
       "    .dataframe tbody tr th:only-of-type {\n",
       "        vertical-align: middle;\n",
       "    }\n",
       "\n",
       "    .dataframe tbody tr th {\n",
       "        vertical-align: top;\n",
       "    }\n",
       "\n",
       "    .dataframe thead th {\n",
       "        text-align: right;\n",
       "    }\n",
       "</style>\n",
       "<table border=\"1\" class=\"dataframe\">\n",
       "  <thead>\n",
       "    <tr style=\"text-align: right;\">\n",
       "      <th></th>\n",
       "      <th></th>\n",
       "      <th>hotel</th>\n",
       "    </tr>\n",
       "    <tr>\n",
       "      <th>arrival_date_year</th>\n",
       "      <th>hotel</th>\n",
       "      <th></th>\n",
       "    </tr>\n",
       "  </thead>\n",
       "  <tbody>\n",
       "    <tr>\n",
       "      <th rowspan=\"2\" valign=\"top\">2015</th>\n",
       "      <th>City Hotel</th>\n",
       "      <td>7654</td>\n",
       "    </tr>\n",
       "    <tr>\n",
       "      <th>Resort Hotel</th>\n",
       "      <td>6071</td>\n",
       "    </tr>\n",
       "    <tr>\n",
       "      <th rowspan=\"2\" valign=\"top\">2016</th>\n",
       "      <th>City Hotel</th>\n",
       "      <td>22662</td>\n",
       "    </tr>\n",
       "    <tr>\n",
       "      <th>Resort Hotel</th>\n",
       "      <td>13389</td>\n",
       "    </tr>\n",
       "    <tr>\n",
       "      <th rowspan=\"2\" valign=\"top\">2017</th>\n",
       "      <th>City Hotel</th>\n",
       "      <td>15766</td>\n",
       "    </tr>\n",
       "    <tr>\n",
       "      <th>Resort Hotel</th>\n",
       "      <td>9048</td>\n",
       "    </tr>\n",
       "  </tbody>\n",
       "</table>\n",
       "</div>"
      ],
      "text/plain": [
       "                                hotel\n",
       "arrival_date_year hotel              \n",
       "2015              City Hotel     7654\n",
       "                  Resort Hotel   6071\n",
       "2016              City Hotel    22662\n",
       "                  Resort Hotel  13389\n",
       "2017              City Hotel    15766\n",
       "                  Resort Hotel   9048"
      ]
     },
     "execution_count": 41,
     "metadata": {},
     "output_type": "execute_result"
    }
   ],
   "source": [
    "yearly_bookings=pd.DataFrame(confirmed_booking.groupby('arrival_date_year')['hotel'].value_counts())\n",
    "yearly_bookings"
   ]
  },
  {
   "cell_type": "code",
   "execution_count": 42,
   "metadata": {
    "execution": {
     "iopub.execute_input": "2023-04-17T21:18:13.111424Z",
     "iopub.status.busy": "2023-04-17T21:18:13.110741Z",
     "iopub.status.idle": "2023-04-17T21:18:13.116419Z",
     "shell.execute_reply": "2023-04-17T21:18:13.11526Z",
     "shell.execute_reply.started": "2023-04-17T21:18:13.111384Z"
    }
   },
   "outputs": [],
   "source": [
    "yearly_bookings.columns=['No of bookings']"
   ]
  },
  {
   "cell_type": "code",
   "execution_count": 43,
   "metadata": {
    "execution": {
     "iopub.execute_input": "2023-04-17T21:18:13.117899Z",
     "iopub.status.busy": "2023-04-17T21:18:13.117549Z",
     "iopub.status.idle": "2023-04-17T21:18:13.13105Z",
     "shell.execute_reply": "2023-04-17T21:18:13.129956Z",
     "shell.execute_reply.started": "2023-04-17T21:18:13.117866Z"
    }
   },
   "outputs": [
    {
     "data": {
      "text/html": [
       "<div>\n",
       "<style scoped>\n",
       "    .dataframe tbody tr th:only-of-type {\n",
       "        vertical-align: middle;\n",
       "    }\n",
       "\n",
       "    .dataframe tbody tr th {\n",
       "        vertical-align: top;\n",
       "    }\n",
       "\n",
       "    .dataframe thead th {\n",
       "        text-align: right;\n",
       "    }\n",
       "</style>\n",
       "<table border=\"1\" class=\"dataframe\">\n",
       "  <thead>\n",
       "    <tr style=\"text-align: right;\">\n",
       "      <th></th>\n",
       "      <th></th>\n",
       "      <th>No of bookings</th>\n",
       "    </tr>\n",
       "    <tr>\n",
       "      <th>arrival_date_year</th>\n",
       "      <th>hotel</th>\n",
       "      <th></th>\n",
       "    </tr>\n",
       "  </thead>\n",
       "  <tbody>\n",
       "    <tr>\n",
       "      <th rowspan=\"2\" valign=\"top\">2015</th>\n",
       "      <th>City Hotel</th>\n",
       "      <td>7654</td>\n",
       "    </tr>\n",
       "    <tr>\n",
       "      <th>Resort Hotel</th>\n",
       "      <td>6071</td>\n",
       "    </tr>\n",
       "    <tr>\n",
       "      <th rowspan=\"2\" valign=\"top\">2016</th>\n",
       "      <th>City Hotel</th>\n",
       "      <td>22662</td>\n",
       "    </tr>\n",
       "    <tr>\n",
       "      <th>Resort Hotel</th>\n",
       "      <td>13389</td>\n",
       "    </tr>\n",
       "    <tr>\n",
       "      <th rowspan=\"2\" valign=\"top\">2017</th>\n",
       "      <th>City Hotel</th>\n",
       "      <td>15766</td>\n",
       "    </tr>\n",
       "    <tr>\n",
       "      <th>Resort Hotel</th>\n",
       "      <td>9048</td>\n",
       "    </tr>\n",
       "  </tbody>\n",
       "</table>\n",
       "</div>"
      ],
      "text/plain": [
       "                                No of bookings\n",
       "arrival_date_year hotel                       \n",
       "2015              City Hotel              7654\n",
       "                  Resort Hotel            6071\n",
       "2016              City Hotel             22662\n",
       "                  Resort Hotel           13389\n",
       "2017              City Hotel             15766\n",
       "                  Resort Hotel            9048"
      ]
     },
     "execution_count": 43,
     "metadata": {},
     "output_type": "execute_result"
    }
   ],
   "source": [
    "yearly_bookings"
   ]
  },
  {
   "cell_type": "markdown",
   "metadata": {},
   "source": [
    "From the above we see that, most number of people arrived in year 2016."
   ]
  },
  {
   "cell_type": "markdown",
   "metadata": {},
   "source": [
    "# Top 10 countries from which people are coming the most ? "
   ]
  },
  {
   "cell_type": "code",
   "execution_count": 44,
   "metadata": {
    "execution": {
     "iopub.execute_input": "2023-04-17T21:18:13.395599Z",
     "iopub.status.busy": "2023-04-17T21:18:13.39515Z",
     "iopub.status.idle": "2023-04-17T21:18:13.416553Z",
     "shell.execute_reply": "2023-04-17T21:18:13.415689Z",
     "shell.execute_reply.started": "2023-04-17T21:18:13.395548Z"
    }
   },
   "outputs": [
    {
     "data": {
      "text/html": [
       "<div>\n",
       "<style scoped>\n",
       "    .dataframe tbody tr th:only-of-type {\n",
       "        vertical-align: middle;\n",
       "    }\n",
       "\n",
       "    .dataframe tbody tr th {\n",
       "        vertical-align: top;\n",
       "    }\n",
       "\n",
       "    .dataframe thead th {\n",
       "        text-align: right;\n",
       "    }\n",
       "</style>\n",
       "<table border=\"1\" class=\"dataframe\">\n",
       "  <thead>\n",
       "    <tr style=\"text-align: right;\">\n",
       "      <th></th>\n",
       "      <th>country</th>\n",
       "    </tr>\n",
       "  </thead>\n",
       "  <tbody>\n",
       "    <tr>\n",
       "      <th>PRT</th>\n",
       "      <td>20977</td>\n",
       "    </tr>\n",
       "    <tr>\n",
       "      <th>GBR</th>\n",
       "      <td>9668</td>\n",
       "    </tr>\n",
       "    <tr>\n",
       "      <th>FRA</th>\n",
       "      <td>8468</td>\n",
       "    </tr>\n",
       "    <tr>\n",
       "      <th>ESP</th>\n",
       "      <td>6383</td>\n",
       "    </tr>\n",
       "    <tr>\n",
       "      <th>DEU</th>\n",
       "      <td>6067</td>\n",
       "    </tr>\n",
       "    <tr>\n",
       "      <th>...</th>\n",
       "      <td>...</td>\n",
       "    </tr>\n",
       "    <tr>\n",
       "      <th>BHR</th>\n",
       "      <td>1</td>\n",
       "    </tr>\n",
       "    <tr>\n",
       "      <th>DJI</th>\n",
       "      <td>1</td>\n",
       "    </tr>\n",
       "    <tr>\n",
       "      <th>MLI</th>\n",
       "      <td>1</td>\n",
       "    </tr>\n",
       "    <tr>\n",
       "      <th>NPL</th>\n",
       "      <td>1</td>\n",
       "    </tr>\n",
       "    <tr>\n",
       "      <th>FRO</th>\n",
       "      <td>1</td>\n",
       "    </tr>\n",
       "  </tbody>\n",
       "</table>\n",
       "<p>165 rows × 1 columns</p>\n",
       "</div>"
      ],
      "text/plain": [
       "     country\n",
       "PRT    20977\n",
       "GBR     9668\n",
       "FRA     8468\n",
       "ESP     6383\n",
       "DEU     6067\n",
       "..       ...\n",
       "BHR        1\n",
       "DJI        1\n",
       "MLI        1\n",
       "NPL        1\n",
       "FRO        1\n",
       "\n",
       "[165 rows x 1 columns]"
      ]
     },
     "execution_count": 44,
     "metadata": {},
     "output_type": "execute_result"
    }
   ],
   "source": [
    "# Top 10 countries people are comming the most in number.\n",
    "country=pd.DataFrame(confirmed_booking.country.value_counts())\n",
    "country"
   ]
  },
  {
   "cell_type": "code",
   "execution_count": 45,
   "metadata": {
    "execution": {
     "iopub.execute_input": "2023-04-17T21:18:13.418466Z",
     "iopub.status.busy": "2023-04-17T21:18:13.41798Z",
     "iopub.status.idle": "2023-04-17T21:18:13.42763Z",
     "shell.execute_reply": "2023-04-17T21:18:13.426768Z",
     "shell.execute_reply.started": "2023-04-17T21:18:13.418436Z"
    }
   },
   "outputs": [],
   "source": [
    "country.columns=['no of bookings']"
   ]
  },
  {
   "cell_type": "code",
   "execution_count": 46,
   "metadata": {
    "execution": {
     "iopub.execute_input": "2023-04-17T21:18:13.429255Z",
     "iopub.status.busy": "2023-04-17T21:18:13.428911Z",
     "iopub.status.idle": "2023-04-17T21:18:13.442194Z",
     "shell.execute_reply": "2023-04-17T21:18:13.44152Z",
     "shell.execute_reply.started": "2023-04-17T21:18:13.4292Z"
    }
   },
   "outputs": [
    {
     "data": {
      "text/html": [
       "<div>\n",
       "<style scoped>\n",
       "    .dataframe tbody tr th:only-of-type {\n",
       "        vertical-align: middle;\n",
       "    }\n",
       "\n",
       "    .dataframe tbody tr th {\n",
       "        vertical-align: top;\n",
       "    }\n",
       "\n",
       "    .dataframe thead th {\n",
       "        text-align: right;\n",
       "    }\n",
       "</style>\n",
       "<table border=\"1\" class=\"dataframe\">\n",
       "  <thead>\n",
       "    <tr style=\"text-align: right;\">\n",
       "      <th></th>\n",
       "      <th>no of bookings</th>\n",
       "    </tr>\n",
       "  </thead>\n",
       "  <tbody>\n",
       "    <tr>\n",
       "      <th>PRT</th>\n",
       "      <td>20977</td>\n",
       "    </tr>\n",
       "    <tr>\n",
       "      <th>GBR</th>\n",
       "      <td>9668</td>\n",
       "    </tr>\n",
       "    <tr>\n",
       "      <th>FRA</th>\n",
       "      <td>8468</td>\n",
       "    </tr>\n",
       "    <tr>\n",
       "      <th>ESP</th>\n",
       "      <td>6383</td>\n",
       "    </tr>\n",
       "    <tr>\n",
       "      <th>DEU</th>\n",
       "      <td>6067</td>\n",
       "    </tr>\n",
       "    <tr>\n",
       "      <th>IRL</th>\n",
       "      <td>2542</td>\n",
       "    </tr>\n",
       "    <tr>\n",
       "      <th>ITA</th>\n",
       "      <td>2428</td>\n",
       "    </tr>\n",
       "    <tr>\n",
       "      <th>BEL</th>\n",
       "      <td>1868</td>\n",
       "    </tr>\n",
       "    <tr>\n",
       "      <th>NLD</th>\n",
       "      <td>1716</td>\n",
       "    </tr>\n",
       "    <tr>\n",
       "      <th>USA</th>\n",
       "      <td>1592</td>\n",
       "    </tr>\n",
       "  </tbody>\n",
       "</table>\n",
       "</div>"
      ],
      "text/plain": [
       "     no of bookings\n",
       "PRT           20977\n",
       "GBR            9668\n",
       "FRA            8468\n",
       "ESP            6383\n",
       "DEU            6067\n",
       "IRL            2542\n",
       "ITA            2428\n",
       "BEL            1868\n",
       "NLD            1716\n",
       "USA            1592"
      ]
     },
     "execution_count": 46,
     "metadata": {},
     "output_type": "execute_result"
    }
   ],
   "source": [
    "country.head(10)"
   ]
  },
  {
   "cell_type": "markdown",
   "metadata": {},
   "source": [
    "From the above we see that, Portugal has the highest number of arrivals."
   ]
  },
  {
   "cell_type": "markdown",
   "metadata": {},
   "source": [
    "# Market Segment wise bookings"
   ]
  },
  {
   "cell_type": "code",
   "execution_count": 47,
   "metadata": {
    "execution": {
     "iopub.execute_input": "2023-04-17T21:18:13.776867Z",
     "iopub.status.busy": "2023-04-17T21:18:13.775987Z",
     "iopub.status.idle": "2023-04-17T21:18:13.793561Z",
     "shell.execute_reply": "2023-04-17T21:18:13.792386Z",
     "shell.execute_reply.started": "2023-04-17T21:18:13.776822Z"
    }
   },
   "outputs": [
    {
     "data": {
      "text/html": [
       "<div>\n",
       "<style scoped>\n",
       "    .dataframe tbody tr th:only-of-type {\n",
       "        vertical-align: middle;\n",
       "    }\n",
       "\n",
       "    .dataframe tbody tr th {\n",
       "        vertical-align: top;\n",
       "    }\n",
       "\n",
       "    .dataframe thead th {\n",
       "        text-align: right;\n",
       "    }\n",
       "</style>\n",
       "<table border=\"1\" class=\"dataframe\">\n",
       "  <thead>\n",
       "    <tr style=\"text-align: right;\">\n",
       "      <th></th>\n",
       "      <th>market_segment</th>\n",
       "    </tr>\n",
       "  </thead>\n",
       "  <tbody>\n",
       "    <tr>\n",
       "      <th>Online TA</th>\n",
       "      <td>35599</td>\n",
       "    </tr>\n",
       "    <tr>\n",
       "      <th>Offline TA/TO</th>\n",
       "      <td>15854</td>\n",
       "    </tr>\n",
       "    <tr>\n",
       "      <th>Direct</th>\n",
       "      <td>10504</td>\n",
       "    </tr>\n",
       "    <tr>\n",
       "      <th>Groups</th>\n",
       "      <td>7692</td>\n",
       "    </tr>\n",
       "    <tr>\n",
       "      <th>Corporate</th>\n",
       "      <td>4121</td>\n",
       "    </tr>\n",
       "    <tr>\n",
       "      <th>Complementary</th>\n",
       "      <td>637</td>\n",
       "    </tr>\n",
       "    <tr>\n",
       "      <th>Aviation</th>\n",
       "      <td>183</td>\n",
       "    </tr>\n",
       "  </tbody>\n",
       "</table>\n",
       "</div>"
      ],
      "text/plain": [
       "               market_segment\n",
       "Online TA               35599\n",
       "Offline TA/TO           15854\n",
       "Direct                  10504\n",
       "Groups                   7692\n",
       "Corporate                4121\n",
       "Complementary             637\n",
       "Aviation                  183"
      ]
     },
     "execution_count": 47,
     "metadata": {},
     "output_type": "execute_result"
    }
   ],
   "source": [
    "market_df=pd.DataFrame(confirmed_booking.market_segment.value_counts())\n",
    "market_df"
   ]
  },
  {
   "cell_type": "code",
   "execution_count": 48,
   "metadata": {
    "execution": {
     "iopub.execute_input": "2023-04-17T21:18:13.796139Z",
     "iopub.status.busy": "2023-04-17T21:18:13.795364Z",
     "iopub.status.idle": "2023-04-17T21:18:13.803772Z",
     "shell.execute_reply": "2023-04-17T21:18:13.802692Z",
     "shell.execute_reply.started": "2023-04-17T21:18:13.796092Z"
    }
   },
   "outputs": [],
   "source": [
    "market_df.index.name='market_segment'"
   ]
  },
  {
   "cell_type": "code",
   "execution_count": 49,
   "metadata": {
    "execution": {
     "iopub.execute_input": "2023-04-17T21:18:13.805896Z",
     "iopub.status.busy": "2023-04-17T21:18:13.805332Z",
     "iopub.status.idle": "2023-04-17T21:18:13.825898Z",
     "shell.execute_reply": "2023-04-17T21:18:13.822459Z",
     "shell.execute_reply.started": "2023-04-17T21:18:13.805851Z"
    }
   },
   "outputs": [
    {
     "data": {
      "text/html": [
       "<div>\n",
       "<style scoped>\n",
       "    .dataframe tbody tr th:only-of-type {\n",
       "        vertical-align: middle;\n",
       "    }\n",
       "\n",
       "    .dataframe tbody tr th {\n",
       "        vertical-align: top;\n",
       "    }\n",
       "\n",
       "    .dataframe thead th {\n",
       "        text-align: right;\n",
       "    }\n",
       "</style>\n",
       "<table border=\"1\" class=\"dataframe\">\n",
       "  <thead>\n",
       "    <tr style=\"text-align: right;\">\n",
       "      <th></th>\n",
       "      <th>market_segment</th>\n",
       "    </tr>\n",
       "    <tr>\n",
       "      <th>market_segment</th>\n",
       "      <th></th>\n",
       "    </tr>\n",
       "  </thead>\n",
       "  <tbody>\n",
       "    <tr>\n",
       "      <th>Online TA</th>\n",
       "      <td>35599</td>\n",
       "    </tr>\n",
       "    <tr>\n",
       "      <th>Offline TA/TO</th>\n",
       "      <td>15854</td>\n",
       "    </tr>\n",
       "    <tr>\n",
       "      <th>Direct</th>\n",
       "      <td>10504</td>\n",
       "    </tr>\n",
       "    <tr>\n",
       "      <th>Groups</th>\n",
       "      <td>7692</td>\n",
       "    </tr>\n",
       "    <tr>\n",
       "      <th>Corporate</th>\n",
       "      <td>4121</td>\n",
       "    </tr>\n",
       "    <tr>\n",
       "      <th>Complementary</th>\n",
       "      <td>637</td>\n",
       "    </tr>\n",
       "    <tr>\n",
       "      <th>Aviation</th>\n",
       "      <td>183</td>\n",
       "    </tr>\n",
       "  </tbody>\n",
       "</table>\n",
       "</div>"
      ],
      "text/plain": [
       "                market_segment\n",
       "market_segment                \n",
       "Online TA                35599\n",
       "Offline TA/TO            15854\n",
       "Direct                   10504\n",
       "Groups                    7692\n",
       "Corporate                 4121\n",
       "Complementary              637\n",
       "Aviation                   183"
      ]
     },
     "execution_count": 49,
     "metadata": {},
     "output_type": "execute_result"
    }
   ],
   "source": [
    "market_df"
   ]
  },
  {
   "cell_type": "code",
   "execution_count": 50,
   "metadata": {
    "execution": {
     "iopub.execute_input": "2023-04-17T21:18:13.82813Z",
     "iopub.status.busy": "2023-04-17T21:18:13.827761Z",
     "iopub.status.idle": "2023-04-17T21:18:13.832718Z",
     "shell.execute_reply": "2023-04-17T21:18:13.831651Z",
     "shell.execute_reply.started": "2023-04-17T21:18:13.828093Z"
    }
   },
   "outputs": [],
   "source": [
    "market_df.columns=['no of bookings']"
   ]
  },
  {
   "cell_type": "code",
   "execution_count": 51,
   "metadata": {
    "execution": {
     "iopub.execute_input": "2023-04-17T21:18:13.835167Z",
     "iopub.status.busy": "2023-04-17T21:18:13.834164Z",
     "iopub.status.idle": "2023-04-17T21:18:13.847135Z",
     "shell.execute_reply": "2023-04-17T21:18:13.846156Z",
     "shell.execute_reply.started": "2023-04-17T21:18:13.835122Z"
    }
   },
   "outputs": [
    {
     "data": {
      "text/html": [
       "<div>\n",
       "<style scoped>\n",
       "    .dataframe tbody tr th:only-of-type {\n",
       "        vertical-align: middle;\n",
       "    }\n",
       "\n",
       "    .dataframe tbody tr th {\n",
       "        vertical-align: top;\n",
       "    }\n",
       "\n",
       "    .dataframe thead th {\n",
       "        text-align: right;\n",
       "    }\n",
       "</style>\n",
       "<table border=\"1\" class=\"dataframe\">\n",
       "  <thead>\n",
       "    <tr style=\"text-align: right;\">\n",
       "      <th></th>\n",
       "      <th>no of bookings</th>\n",
       "    </tr>\n",
       "    <tr>\n",
       "      <th>market_segment</th>\n",
       "      <th></th>\n",
       "    </tr>\n",
       "  </thead>\n",
       "  <tbody>\n",
       "    <tr>\n",
       "      <th>Online TA</th>\n",
       "      <td>35599</td>\n",
       "    </tr>\n",
       "    <tr>\n",
       "      <th>Offline TA/TO</th>\n",
       "      <td>15854</td>\n",
       "    </tr>\n",
       "    <tr>\n",
       "      <th>Direct</th>\n",
       "      <td>10504</td>\n",
       "    </tr>\n",
       "    <tr>\n",
       "      <th>Groups</th>\n",
       "      <td>7692</td>\n",
       "    </tr>\n",
       "    <tr>\n",
       "      <th>Corporate</th>\n",
       "      <td>4121</td>\n",
       "    </tr>\n",
       "    <tr>\n",
       "      <th>Complementary</th>\n",
       "      <td>637</td>\n",
       "    </tr>\n",
       "    <tr>\n",
       "      <th>Aviation</th>\n",
       "      <td>183</td>\n",
       "    </tr>\n",
       "  </tbody>\n",
       "</table>\n",
       "</div>"
      ],
      "text/plain": [
       "                no of bookings\n",
       "market_segment                \n",
       "Online TA                35599\n",
       "Offline TA/TO            15854\n",
       "Direct                   10504\n",
       "Groups                    7692\n",
       "Corporate                 4121\n",
       "Complementary              637\n",
       "Aviation                   183"
      ]
     },
     "execution_count": 51,
     "metadata": {},
     "output_type": "execute_result"
    }
   ],
   "source": [
    "market_df"
   ]
  },
  {
   "cell_type": "markdown",
   "metadata": {},
   "source": [
    "From the above we see that, Online TA is the most frequent maket segment."
   ]
  },
  {
   "cell_type": "markdown",
   "metadata": {},
   "source": [
    "# How many nights mostly the guests stay in the hotel ?"
   ]
  },
  {
   "cell_type": "code",
   "execution_count": 68,
   "metadata": {
    "execution": {
     "iopub.execute_input": "2023-04-17T21:18:16.092319Z",
     "iopub.status.busy": "2023-04-17T21:18:16.091506Z",
     "iopub.status.idle": "2023-04-17T21:18:16.100822Z",
     "shell.execute_reply": "2023-04-17T21:18:16.100119Z",
     "shell.execute_reply.started": "2023-04-17T21:18:16.092282Z"
    }
   },
   "outputs": [
    {
     "data": {
      "text/plain": [
       "3.0    26745\n",
       "2.0    25024\n",
       "4.0    18832\n",
       "1.0    16111\n",
       "5.0    12768\n",
       "6.0     6091\n",
       "7.0     5299\n",
       "0.0     3147\n",
       "8.0     1450\n",
       "9.0     1164\n",
       "dtype: int64"
      ]
     },
     "execution_count": 68,
     "metadata": {},
     "output_type": "execute_result"
    }
   ],
   "source": [
    "stay=(chotel['stays_in_weekend_nights'] + chotel['stays_in_week_nights']).value_counts()\n",
    "stay.head(10)"
   ]
  },
  {
   "cell_type": "markdown",
   "metadata": {},
   "source": [
    "Most of the guests stay for 1,2 and 3 nights.More than 60% of guests come under these three options."
   ]
  },
  {
   "cell_type": "markdown",
   "metadata": {},
   "source": [
    "# Which is the most reserved room type ?"
   ]
  },
  {
   "cell_type": "code",
   "execution_count": 67,
   "metadata": {},
   "outputs": [
    {
     "data": {
      "text/plain": [
       "A    85480\n",
       "D    19151\n",
       "E     6481\n",
       "F     2887\n",
       "G     2081\n",
       "Name: reserved_room_type, dtype: int64"
      ]
     },
     "execution_count": 67,
     "metadata": {},
     "output_type": "execute_result"
    }
   ],
   "source": [
    "chotel.reserved_room_type.value_counts().head()"
   ]
  },
  {
   "cell_type": "markdown",
   "metadata": {},
   "source": [
    "# Which is the most common customer type ?"
   ]
  },
  {
   "cell_type": "code",
   "execution_count": 66,
   "metadata": {},
   "outputs": [
    {
     "data": {
      "text/plain": [
       "Transient          89046\n",
       "Transient-Party    25042\n",
       "Contract            4072\n",
       "Group                568\n",
       "Name: customer_type, dtype: int64"
      ]
     },
     "execution_count": 66,
     "metadata": {},
     "output_type": "execute_result"
    }
   ],
   "source": [
    "chotel.customer_type.value_counts()\n"
   ]
  },
  {
   "cell_type": "markdown",
   "metadata": {},
   "source": [
    "# Which is the most popular meal package ?"
   ]
  },
  {
   "cell_type": "code",
   "execution_count": 65,
   "metadata": {},
   "outputs": [
    {
     "data": {
      "text/plain": [
       "BB           91789\n",
       "HB           14429\n",
       "SC           10547\n",
       "Undefined     1165\n",
       "FB             798\n",
       "Name: meal, dtype: int64"
      ]
     },
     "execution_count": 65,
     "metadata": {},
     "output_type": "execute_result"
    }
   ],
   "source": [
    "chotel.meal.value_counts().head()\n"
   ]
  },
  {
   "cell_type": "markdown",
   "metadata": {},
   "source": [
    "# CONCLUSION"
   ]
  },
  {
   "cell_type": "markdown",
   "metadata": {},
   "source": [
    "* Majority of the hotels are City Hotel, so we have to spend more money on these types of hotels."
   ]
  },
  {
   "cell_type": "markdown",
   "metadata": {},
   "source": [
    "* Most number of bookings occured in summer months, so we have to target these summer months to increase the hotel business."
   ]
  },
  {
   "cell_type": "markdown",
   "metadata": {},
   "source": [
    "* Most of the guests are from western nations, so we have to spent more time and money on those nations so that the hotel business will grow more on those nations."
   ]
  },
  {
   "cell_type": "markdown",
   "metadata": {},
   "source": [
    "* Most of the guests are Transient, so we can target these types of guests to increase the number of booking."
   ]
  }
 ],
 "metadata": {
  "kernelspec": {
   "display_name": "Python 3 (ipykernel)",
   "language": "python",
   "name": "python3"
  },
  "language_info": {
   "codemirror_mode": {
    "name": "ipython",
    "version": 3
   },
   "file_extension": ".py",
   "mimetype": "text/x-python",
   "name": "python",
   "nbconvert_exporter": "python",
   "pygments_lexer": "ipython3",
   "version": "3.9.12"
  }
 },
 "nbformat": 4,
 "nbformat_minor": 4
}
