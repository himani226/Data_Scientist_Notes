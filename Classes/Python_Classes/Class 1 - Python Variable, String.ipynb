{
 "cells": [
  {
   "cell_type": "markdown",
   "id": "ef87e255",
   "metadata": {},
   "source": [
    "# Syntax\n"
   ]
  },
  {
   "cell_type": "code",
   "execution_count": 1,
   "id": "c972574d",
   "metadata": {},
   "outputs": [
    {
     "name": "stdout",
     "output_type": "stream",
     "text": [
      "Welcome to C-DAC\n"
     ]
    }
   ],
   "source": [
    "print(\"Welcome to C-DAC\")"
   ]
  },
  {
   "cell_type": "code",
   "execution_count": 2,
   "id": "7dc3b6b5",
   "metadata": {},
   "outputs": [
    {
     "name": "stdout",
     "output_type": "stream",
     "text": [
      "4 greater than 2\n"
     ]
    }
   ],
   "source": [
    "if 4>2:\n",
    "    print(\"4 greater than 2\")"
   ]
  },
  {
   "cell_type": "code",
   "execution_count": 3,
   "id": "9d02b9e8",
   "metadata": {},
   "outputs": [],
   "source": [
    "#print welcome to c-dac"
   ]
  },
  {
   "cell_type": "code",
   "execution_count": 4,
   "id": "eac16133",
   "metadata": {},
   "outputs": [
    {
     "data": {
      "text/plain": [
       "'cdac mein apka swagat hai'"
      ]
     },
     "execution_count": 4,
     "metadata": {},
     "output_type": "execute_result"
    }
   ],
   "source": [
    "'''cdac mein apka swagat hai'''"
   ]
  },
  {
   "cell_type": "markdown",
   "id": "5e59e687",
   "metadata": {},
   "source": [
    "### Variables"
   ]
  },
  {
   "cell_type": "code",
   "execution_count": 5,
   "id": "d46366fc",
   "metadata": {},
   "outputs": [
    {
     "data": {
      "text/plain": [
       "1"
      ]
     },
     "execution_count": 5,
     "metadata": {},
     "output_type": "execute_result"
    }
   ],
   "source": [
    "1"
   ]
  },
  {
   "cell_type": "code",
   "execution_count": 6,
   "id": "2c31f1cf",
   "metadata": {},
   "outputs": [],
   "source": [
    "student = \"Himani\""
   ]
  },
  {
   "cell_type": "code",
   "execution_count": 7,
   "id": "0cfc8501",
   "metadata": {},
   "outputs": [
    {
     "data": {
      "text/plain": [
       "'Himani'"
      ]
     },
     "execution_count": 7,
     "metadata": {},
     "output_type": "execute_result"
    }
   ],
   "source": [
    "student"
   ]
  },
  {
   "cell_type": "code",
   "execution_count": 8,
   "id": "e028f7be",
   "metadata": {},
   "outputs": [
    {
     "ename": "SyntaxError",
     "evalue": "invalid syntax (427706450.py, line 1)",
     "output_type": "error",
     "traceback": [
      "\u001b[1;36m  Input \u001b[1;32mIn [8]\u001b[1;36m\u001b[0m\n\u001b[1;33m    1student=\"himani\"\u001b[0m\n\u001b[1;37m     ^\u001b[0m\n\u001b[1;31mSyntaxError\u001b[0m\u001b[1;31m:\u001b[0m invalid syntax\n"
     ]
    }
   ],
   "source": [
    "1student=\"himani\""
   ]
  },
  {
   "cell_type": "code",
   "execution_count": 9,
   "id": "175144d6",
   "metadata": {},
   "outputs": [
    {
     "data": {
      "text/plain": [
       "'Himani'"
      ]
     },
     "execution_count": 9,
     "metadata": {},
     "output_type": "execute_result"
    }
   ],
   "source": [
    "s1tudent=\"Himani\"\n",
    "s1tudent\n"
   ]
  },
  {
   "cell_type": "code",
   "execution_count": 10,
   "id": "c8b9377f",
   "metadata": {},
   "outputs": [
    {
     "ename": "SyntaxError",
     "evalue": "invalid syntax (1388172557.py, line 1)",
     "output_type": "error",
     "traceback": [
      "\u001b[1;36m  Input \u001b[1;32mIn [10]\u001b[1;36m\u001b[0m\n\u001b[1;33m    @studnt=\"himani\"\u001b[0m\n\u001b[1;37m           ^\u001b[0m\n\u001b[1;31mSyntaxError\u001b[0m\u001b[1;31m:\u001b[0m invalid syntax\n"
     ]
    }
   ],
   "source": [
    "@studnt=\"himani\""
   ]
  },
  {
   "cell_type": "code",
   "execution_count": 11,
   "id": "984c9255",
   "metadata": {},
   "outputs": [],
   "source": [
    "num_of_schools=10"
   ]
  },
  {
   "cell_type": "code",
   "execution_count": 12,
   "id": "a7902991",
   "metadata": {},
   "outputs": [],
   "source": [
    "numSchool=10"
   ]
  },
  {
   "cell_type": "code",
   "execution_count": 13,
   "id": "d721b1f3",
   "metadata": {},
   "outputs": [],
   "source": [
    "School_Number=10"
   ]
  },
  {
   "cell_type": "markdown",
   "id": "fdbcfd09",
   "metadata": {},
   "source": [
    "### Scope of Variables"
   ]
  },
  {
   "cell_type": "code",
   "execution_count": 14,
   "id": "72e5651b",
   "metadata": {},
   "outputs": [
    {
     "name": "stdout",
     "output_type": "stream",
     "text": [
      "Potato is a local variable value.\n",
      "Vanilla is a global variable value.\n",
      "Lichi is a local variable value.\n"
     ]
    }
   ],
   "source": [
    "icecream = \"Vanilla\"    #global variable\n",
    "def foods():\n",
    "    vegetable = \"Potato\"    #local variable\n",
    "    fruit = \"Lichi\"         #local variable\n",
    "    print(vegetable + \" is a local variable value.\")\n",
    "    print(icecream + \" is a global variable value.\")\n",
    "    print(fruit + \" is a local variable value.\")\n",
    "\n",
    "foods()"
   ]
  },
  {
   "cell_type": "code",
   "execution_count": 15,
   "id": "89813acb",
   "metadata": {},
   "outputs": [
    {
     "name": "stdout",
     "output_type": "stream",
     "text": [
      "Vanilla is a global variable value.\n"
     ]
    },
    {
     "ename": "NameError",
     "evalue": "name 'fruit' is not defined",
     "output_type": "error",
     "traceback": [
      "\u001b[1;31m---------------------------------------------------------------------------\u001b[0m",
      "\u001b[1;31mNameError\u001b[0m                                 Traceback (most recent call last)",
      "Input \u001b[1;32mIn [15]\u001b[0m, in \u001b[0;36m<cell line: 7>\u001b[1;34m()\u001b[0m\n\u001b[0;32m      5\u001b[0m     \u001b[38;5;28mprint\u001b[39m(vegetable \u001b[38;5;241m+\u001b[39m \u001b[38;5;124m\"\u001b[39m\u001b[38;5;124m is a local variable value.\u001b[39m\u001b[38;5;124m\"\u001b[39m)\n\u001b[0;32m      6\u001b[0m \u001b[38;5;28mprint\u001b[39m(icecream \u001b[38;5;241m+\u001b[39m \u001b[38;5;124m\"\u001b[39m\u001b[38;5;124m is a global variable value.\u001b[39m\u001b[38;5;124m\"\u001b[39m)\n\u001b[1;32m----> 7\u001b[0m \u001b[38;5;28mprint\u001b[39m(\u001b[43mfruit\u001b[49m \u001b[38;5;241m+\u001b[39m \u001b[38;5;124m\"\u001b[39m\u001b[38;5;124m is a local variable value.\u001b[39m\u001b[38;5;124m\"\u001b[39m)\n\u001b[0;32m      8\u001b[0m foods()\n",
      "\u001b[1;31mNameError\u001b[0m: name 'fruit' is not defined"
     ]
    }
   ],
   "source": [
    "icecream = \"Vanilla\"    #global variable\n",
    "def foods():\n",
    "    vegetable = \"Potato\"    #local variable\n",
    "    fruit = \"Lichi\"         #local variable\n",
    "    print(vegetable + \" is a local variable value.\")\n",
    "print(icecream + \" is a global variable value.\")\n",
    "print(fruit + \" is a local variable value.\")\n",
    "foods()"
   ]
  },
  {
   "cell_type": "markdown",
   "id": "2664c9c0",
   "metadata": {},
   "source": [
    "1. Create a variable \n",
    "2. \n",
    "3. "
   ]
  },
  {
   "cell_type": "markdown",
   "id": "c88ee21f",
   "metadata": {},
   "source": [
    "### String"
   ]
  },
  {
   "cell_type": "code",
   "execution_count": 16,
   "id": "aea9aaf4",
   "metadata": {},
   "outputs": [],
   "source": [
    "a = \"double quotes\""
   ]
  },
  {
   "cell_type": "code",
   "execution_count": 17,
   "id": "6a8235bb",
   "metadata": {},
   "outputs": [
    {
     "data": {
      "text/plain": [
       "str"
      ]
     },
     "execution_count": 17,
     "metadata": {},
     "output_type": "execute_result"
    }
   ],
   "source": [
    "type(a)"
   ]
  },
  {
   "cell_type": "code",
   "execution_count": 18,
   "id": "b9c06493",
   "metadata": {},
   "outputs": [
    {
     "data": {
      "text/plain": [
       "int"
      ]
     },
     "execution_count": 18,
     "metadata": {},
     "output_type": "execute_result"
    }
   ],
   "source": [
    "b = 1\n",
    "type(b)"
   ]
  },
  {
   "cell_type": "code",
   "execution_count": 19,
   "id": "a83c2e23",
   "metadata": {},
   "outputs": [],
   "source": [
    "c = 1.4"
   ]
  },
  {
   "cell_type": "code",
   "execution_count": 20,
   "id": "1b10b012",
   "metadata": {},
   "outputs": [
    {
     "data": {
      "text/plain": [
       "float"
      ]
     },
     "execution_count": 20,
     "metadata": {},
     "output_type": "execute_result"
    }
   ],
   "source": [
    "type(c)"
   ]
  },
  {
   "cell_type": "code",
   "execution_count": 21,
   "id": "0d670dcd",
   "metadata": {},
   "outputs": [
    {
     "data": {
      "text/plain": [
       "complex"
      ]
     },
     "execution_count": 21,
     "metadata": {},
     "output_type": "execute_result"
    }
   ],
   "source": [
    "q = 1 + 2j\n",
    "type(q)"
   ]
  },
  {
   "cell_type": "code",
   "execution_count": 22,
   "id": "5e3d8c74",
   "metadata": {},
   "outputs": [
    {
     "data": {
      "text/plain": [
       "'double quotes'"
      ]
     },
     "execution_count": 22,
     "metadata": {},
     "output_type": "execute_result"
    }
   ],
   "source": [
    "a"
   ]
  },
  {
   "cell_type": "code",
   "execution_count": 23,
   "id": "73c03865",
   "metadata": {},
   "outputs": [
    {
     "data": {
      "text/plain": [
       "13"
      ]
     },
     "execution_count": 23,
     "metadata": {},
     "output_type": "execute_result"
    }
   ],
   "source": [
    "len(a)"
   ]
  },
  {
   "cell_type": "code",
   "execution_count": 24,
   "id": "27be26e0",
   "metadata": {},
   "outputs": [
    {
     "data": {
      "text/plain": [
       "'d'"
      ]
     },
     "execution_count": 24,
     "metadata": {},
     "output_type": "execute_result"
    }
   ],
   "source": [
    "a[0]"
   ]
  },
  {
   "cell_type": "code",
   "execution_count": 25,
   "id": "905d5840",
   "metadata": {},
   "outputs": [
    {
     "data": {
      "text/plain": [
       "'s'"
      ]
     },
     "execution_count": 25,
     "metadata": {},
     "output_type": "execute_result"
    }
   ],
   "source": [
    "a[-1]"
   ]
  },
  {
   "cell_type": "code",
   "execution_count": 26,
   "id": "7500e56f",
   "metadata": {},
   "outputs": [
    {
     "data": {
      "text/plain": [
       "' '"
      ]
     },
     "execution_count": 26,
     "metadata": {},
     "output_type": "execute_result"
    }
   ],
   "source": [
    "a[6]"
   ]
  },
  {
   "cell_type": "code",
   "execution_count": 27,
   "id": "6e64a34b",
   "metadata": {},
   "outputs": [
    {
     "data": {
      "text/plain": [
       "'ouble'"
      ]
     },
     "execution_count": 27,
     "metadata": {},
     "output_type": "execute_result"
    }
   ],
   "source": [
    "a[1:6]"
   ]
  },
  {
   "cell_type": "code",
   "execution_count": 28,
   "id": "e3df9dd3",
   "metadata": {},
   "outputs": [],
   "source": [
    "b=a.upper()"
   ]
  },
  {
   "cell_type": "code",
   "execution_count": 29,
   "id": "f3d5b5cc",
   "metadata": {},
   "outputs": [
    {
     "data": {
      "text/plain": [
       "'DOUBLE QUOTES'"
      ]
     },
     "execution_count": 29,
     "metadata": {},
     "output_type": "execute_result"
    }
   ],
   "source": [
    "b"
   ]
  },
  {
   "cell_type": "code",
   "execution_count": 30,
   "id": "684f0b68",
   "metadata": {},
   "outputs": [
    {
     "data": {
      "text/plain": [
       "'bouble quotes'"
      ]
     },
     "execution_count": 30,
     "metadata": {},
     "output_type": "execute_result"
    }
   ],
   "source": [
    "a.replace(\"d\",\"b\")"
   ]
  },
  {
   "cell_type": "code",
   "execution_count": 31,
   "id": "155b8917",
   "metadata": {},
   "outputs": [
    {
     "data": {
      "text/plain": [
       "'o'"
      ]
     },
     "execution_count": 31,
     "metadata": {},
     "output_type": "execute_result"
    }
   ],
   "source": [
    "a[1]"
   ]
  },
  {
   "cell_type": "code",
   "execution_count": 32,
   "id": "96de4f5b",
   "metadata": {},
   "outputs": [
    {
     "data": {
      "text/plain": [
       "'a'"
      ]
     },
     "execution_count": 32,
     "metadata": {},
     "output_type": "execute_result"
    }
   ],
   "source": [
    "a[1].replace(\"o\",\"a\")"
   ]
  },
  {
   "cell_type": "code",
   "execution_count": 33,
   "id": "db13b1dc",
   "metadata": {},
   "outputs": [
    {
     "data": {
      "text/plain": [
       "'doub'"
      ]
     },
     "execution_count": 33,
     "metadata": {},
     "output_type": "execute_result"
    }
   ],
   "source": [
    "a[:-9]"
   ]
  },
  {
   "cell_type": "markdown",
   "id": "9c95788b",
   "metadata": {},
   "source": [
    "### String Properties\n",
    "\n",
    "Strings have an important property known as immutability. This means that once a string is created, the elements within it can not be changed or replaced. For example:"
   ]
  },
  {
   "cell_type": "code",
   "execution_count": 34,
   "id": "fb30289a",
   "metadata": {},
   "outputs": [
    {
     "data": {
      "text/plain": [
       "'double quotes'"
      ]
     },
     "execution_count": 34,
     "metadata": {},
     "output_type": "execute_result"
    }
   ],
   "source": [
    "a"
   ]
  },
  {
   "cell_type": "code",
   "execution_count": 35,
   "id": "b5cce06f",
   "metadata": {},
   "outputs": [
    {
     "ename": "TypeError",
     "evalue": "'str' object does not support item assignment",
     "output_type": "error",
     "traceback": [
      "\u001b[1;31m---------------------------------------------------------------------------\u001b[0m",
      "\u001b[1;31mTypeError\u001b[0m                                 Traceback (most recent call last)",
      "Input \u001b[1;32mIn [35]\u001b[0m, in \u001b[0;36m<cell line: 3>\u001b[1;34m()\u001b[0m\n\u001b[0;32m      1\u001b[0m \u001b[38;5;66;03m# change the first letter to 'x'\u001b[39;00m\n\u001b[1;32m----> 3\u001b[0m a[\u001b[38;5;241m0\u001b[39m] \u001b[38;5;241m=\u001b[39m \u001b[38;5;124m'\u001b[39m\u001b[38;5;124mx\u001b[39m\u001b[38;5;124m'\u001b[39m\n",
      "\u001b[1;31mTypeError\u001b[0m: 'str' object does not support item assignment"
     ]
    }
   ],
   "source": [
    "# change the first letter to 'x'\n",
    "\n",
    "a[0] = 'x'"
   ]
  },
  {
   "cell_type": "code",
   "execution_count": 36,
   "id": "6f253cab",
   "metadata": {},
   "outputs": [
    {
     "data": {
      "text/plain": [
       "'double quotes add me!'"
      ]
     },
     "execution_count": 36,
     "metadata": {},
     "output_type": "execute_result"
    }
   ],
   "source": [
    "# concatenate strings\n",
    "\n",
    "a + ' add me!'"
   ]
  },
  {
   "cell_type": "code",
   "execution_count": 38,
   "id": "736594ee",
   "metadata": {},
   "outputs": [
    {
     "data": {
      "text/plain": [
       "'hellohellohellohellohello'"
      ]
     },
     "execution_count": 38,
     "metadata": {},
     "output_type": "execute_result"
    }
   ],
   "source": [
    "# multiplication symbol to create repetition\n",
    "\n",
    "p = 'hello'\n",
    "\n",
    "p*5"
   ]
  },
  {
   "cell_type": "code",
   "execution_count": 40,
   "id": "2a26736b",
   "metadata": {},
   "outputs": [
    {
     "data": {
      "text/plain": [
       "['double', 'quotes']"
      ]
     },
     "execution_count": 40,
     "metadata": {},
     "output_type": "execute_result"
    }
   ],
   "source": [
    "# Split a string by blank space (this is the default)\n",
    "\n",
    "a.split()"
   ]
  },
  {
   "cell_type": "code",
   "execution_count": 41,
   "id": "3ba130b6",
   "metadata": {},
   "outputs": [
    {
     "data": {
      "text/plain": [
       "['double ', 'uotes']"
      ]
     },
     "execution_count": 41,
     "metadata": {},
     "output_type": "execute_result"
    }
   ],
   "source": [
    "# Split by a specific element (doesn't include the element that was split on)\n",
    "\n",
    "a.split('q')"
   ]
  },
  {
   "cell_type": "markdown",
   "id": "39eeced2",
   "metadata": {},
   "source": [
    "### Print Formatting\n",
    "\n",
    "String formatting lets you inject items into a string rather than trying to chain items together using commas or string concatenation.Consider:\n",
    "\n",
    "    player = 'MSD'\n",
    "    run = 98\n",
    "    \n",
    "    'Last night, '+player+' scored '+str(run)+' runs.'  # concatenation\n",
    "    \n",
    "    f'Last night, {player} scored {run} runs.'          # string formatting\n",
    "\n",
    "\n",
    "There are three ways to perform string formatting.\n",
    "* The oldest method involves placeholders using the modulo `%` character.\n",
    "* An improved technique uses the `.format()` string method.\n",
    "* The newest method, introduced with Python 3.6, uses formatted string literals, called *f-strings*."
   ]
  },
  {
   "cell_type": "markdown",
   "id": "92b29752",
   "metadata": {},
   "source": [
    "### Formatting with placeholders\n",
    "\n",
    "<code>%s</code> to inject strings into your print statements. The modulo `%` is referred to as a \"string formatting operator\"."
   ]
  },
  {
   "cell_type": "code",
   "execution_count": 46,
   "id": "328eb908",
   "metadata": {},
   "outputs": [
    {
     "name": "stdout",
     "output_type": "stream",
     "text": [
      "I'm going to add something here.\n"
     ]
    }
   ],
   "source": [
    "print(\"I'm going to add %s here.\" %'something')"
   ]
  },
  {
   "cell_type": "code",
   "execution_count": 48,
   "id": "712d219c",
   "metadata": {},
   "outputs": [
    {
     "name": "stdout",
     "output_type": "stream",
     "text": [
      "I'm going to add some text here, and more text here.\n"
     ]
    }
   ],
   "source": [
    "#pass variable names\n",
    "\n",
    "x, y = 'some', 'more'\n",
    "print(\"I'm going to add %s text here, and %s text here.\"%(x,y))"
   ]
  },
  {
   "cell_type": "markdown",
   "id": "bef5c2f4",
   "metadata": {},
   "source": [
    "### Formatting with the .format() method"
   ]
  },
  {
   "cell_type": "code",
   "execution_count": 45,
   "id": "9ebaff2a",
   "metadata": {},
   "outputs": [
    {
     "data": {
      "text/plain": [
       "'Add one more string with curly brackets: The added format'"
      ]
     },
     "execution_count": 45,
     "metadata": {},
     "output_type": "execute_result"
    }
   ],
   "source": [
    "'Add one more string with curly brackets: {}'.format('The added format')"
   ]
  },
  {
   "cell_type": "code",
   "execution_count": 4,
   "id": "75542fd8",
   "metadata": {},
   "outputs": [
    {
     "name": "stdout",
     "output_type": "stream",
     "text": [
      "The cow jumped over moon\n"
     ]
    }
   ],
   "source": [
    "#  Inserted objects can be called by index position\n",
    "\n",
    "print('The {2} {1} {0} moon'.format('over','jumped','cow'))"
   ]
  },
  {
   "cell_type": "code",
   "execution_count": 50,
   "id": "e0694b8a",
   "metadata": {},
   "outputs": [
    {
     "name": "stdout",
     "output_type": "stream",
     "text": [
      "My name is: Himani, and my age is: 32\n"
     ]
    }
   ],
   "source": [
    "# Inserted objects can be assigned keywords\n",
    "\n",
    "age = 32\n",
    "name = 'Himani'\n",
    "\n",
    "print('My name is: {one}, and my age is: {two}'.format(one=name,two=age))"
   ]
  },
  {
   "cell_type": "code",
   "execution_count": 43,
   "id": "1ece4086",
   "metadata": {},
   "outputs": [
    {
     "name": "stdout",
     "output_type": "stream",
     "text": [
      "My age is: 32, and my name is: Himani\n"
     ]
    }
   ],
   "source": [
    "print('My age is: {}, and my name is: {}'.format(age,name))"
   ]
  },
  {
   "cell_type": "markdown",
   "id": "f1a7ab01",
   "metadata": {},
   "source": [
    "### Formatted String Literals (f-strings)\n",
    "\n",
    "Introduced in Python 3.6 and above , f-strings offer several benefits over the older .format(). For one, you can bring outside variables immediately into to the string rather than pass them as arguments through .format(var)."
   ]
  },
  {
   "cell_type": "code",
   "execution_count": 51,
   "id": "3cbca8a8",
   "metadata": {},
   "outputs": [
    {
     "name": "stdout",
     "output_type": "stream",
     "text": [
      "She said her name is Himani.\n"
     ]
    }
   ],
   "source": [
    "name = 'Himani'\n",
    "\n",
    "print(f\"She said her name is {name}.\")"
   ]
  }
 ],
 "metadata": {
  "kernelspec": {
   "display_name": "Python 3 (ipykernel)",
   "language": "python",
   "name": "python3"
  },
  "language_info": {
   "codemirror_mode": {
    "name": "ipython",
    "version": 3
   },
   "file_extension": ".py",
   "mimetype": "text/x-python",
   "name": "python",
   "nbconvert_exporter": "python",
   "pygments_lexer": "ipython3",
   "version": "3.9.12"
  }
 },
 "nbformat": 4,
 "nbformat_minor": 5
}
