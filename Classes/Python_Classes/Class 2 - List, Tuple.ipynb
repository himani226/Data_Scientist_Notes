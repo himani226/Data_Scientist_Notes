{
 "cells": [
  {
   "cell_type": "markdown",
   "id": "9c55ea32",
   "metadata": {},
   "source": [
    "### List\n",
    "\n",
    "* Lists are one of the most powerful data structures in python\n",
    "* An empty list is created using list() function\n",
    "* List need not be always homogeneous.\n",
    "* A single list can contain strings, integers, as well as other objects. \n",
    "* Lists can also be used for implementing stacks and queues.\n",
    "* Lists are mutable, i.e., they can be altered once declared"
   ]
  },
  {
   "cell_type": "code",
   "execution_count": 1,
   "id": "858f3bba",
   "metadata": {},
   "outputs": [],
   "source": [
    "L=list()or []"
   ]
  },
  {
   "cell_type": "code",
   "execution_count": 2,
   "id": "7555a49f",
   "metadata": {},
   "outputs": [
    {
     "data": {
      "text/plain": [
       "list"
      ]
     },
     "execution_count": 2,
     "metadata": {},
     "output_type": "execute_result"
    }
   ],
   "source": [
    "type(L)"
   ]
  },
  {
   "cell_type": "code",
   "execution_count": 3,
   "id": "127f1dbc",
   "metadata": {},
   "outputs": [],
   "source": [
    "L = [1,\"a\",\"string\",1+2,1.1,1+2j]"
   ]
  },
  {
   "cell_type": "code",
   "execution_count": 4,
   "id": "10bc9a14",
   "metadata": {},
   "outputs": [
    {
     "data": {
      "text/plain": [
       "[1, 'a', 'string', 3, 1.1, (1+2j)]"
      ]
     },
     "execution_count": 4,
     "metadata": {},
     "output_type": "execute_result"
    }
   ],
   "source": [
    "L"
   ]
  },
  {
   "cell_type": "code",
   "execution_count": 5,
   "id": "1acf375a",
   "metadata": {},
   "outputs": [],
   "source": [
    "# Append 9 in given list L\n",
    "\n",
    "L.append(9)"
   ]
  },
  {
   "cell_type": "code",
   "execution_count": 6,
   "id": "306d92b8",
   "metadata": {},
   "outputs": [
    {
     "data": {
      "text/plain": [
       "[1, 'a', 'string', 3, 1.1, (1+2j), 9]"
      ]
     },
     "execution_count": 6,
     "metadata": {},
     "output_type": "execute_result"
    }
   ],
   "source": [
    "L"
   ]
  },
  {
   "cell_type": "code",
   "execution_count": 7,
   "id": "311057c2",
   "metadata": {},
   "outputs": [
    {
     "data": {
      "text/plain": [
       "[1, 'a', 'string', 3, 1.1, (1+2j)]"
      ]
     },
     "execution_count": 7,
     "metadata": {},
     "output_type": "execute_result"
    }
   ],
   "source": [
    "# Pop last value or element from the list\n",
    "\n",
    "L.pop()\n",
    "L"
   ]
  },
  {
   "cell_type": "code",
   "execution_count": 8,
   "id": "1401b5f1",
   "metadata": {},
   "outputs": [
    {
     "data": {
      "text/plain": [
       "[1, 'a', 3, 1.1, (1+2j)]"
      ]
     },
     "execution_count": 8,
     "metadata": {},
     "output_type": "execute_result"
    }
   ],
   "source": [
    "# Delete value placed at third position\n",
    "\n",
    "del L[2]\n",
    "L"
   ]
  },
  {
   "cell_type": "code",
   "execution_count": 9,
   "id": "2a200397",
   "metadata": {},
   "outputs": [],
   "source": [
    "# Create list of pizzas\n",
    "# Positive Indexing\n",
    "\n",
    "pizza_type = [\"Small\", \"Medium\", \"Large\"]\n",
    "#              [0]      [1]        [2] "
   ]
  },
  {
   "cell_type": "code",
   "execution_count": 10,
   "id": "bcc93d0c",
   "metadata": {},
   "outputs": [
    {
     "name": "stdout",
     "output_type": "stream",
     "text": [
      "['Small', 'Medium', 'Large', 'Extra Large']\n"
     ]
    }
   ],
   "source": [
    "# insert extra large in the list at place fourth\n",
    "\n",
    "pizza_type.insert(4, \"Extra Large\")   #inserts item at index start with 1\n",
    "\n",
    "print(pizza_type)"
   ]
  },
  {
   "cell_type": "code",
   "execution_count": 11,
   "id": "f68e3554",
   "metadata": {},
   "outputs": [
    {
     "name": "stdout",
     "output_type": "stream",
     "text": [
      "Extra Large\n",
      "Medium\n"
     ]
    }
   ],
   "source": [
    "# Negative Indexing\n",
    "\n",
    "pizza_type = [\"Small\", \"Medium\", \"Large\", \"Extra Large\"]\n",
    "#               [-4]    [-3]     [-2]      [-1]\n",
    "print(pizza_type[-1])\n",
    "print(pizza_type[-3])"
   ]
  },
  {
   "cell_type": "code",
   "execution_count": 12,
   "id": "ebf09a0b",
   "metadata": {},
   "outputs": [
    {
     "name": "stdout",
     "output_type": "stream",
     "text": [
      "['mouse', 'pig', 'horse', 'donkey']\n",
      "['bat', 'mouse', 'pig', 'horse', 'donkey']\n"
     ]
    }
   ],
   "source": [
    "animals = [\"cat\", \"dog\", \"bat\",\n",
    "           \"mouse\", \"pig\", \"horse\", \"donkey\", \n",
    "           \"goat\", \"cow\"]\n",
    "\n",
    "print(animals[3:7]) #using positive indexes\n",
    "print(animals[-7:-2]) #using negative indexes"
   ]
  },
  {
   "cell_type": "code",
   "execution_count": 17,
   "id": "dd13f610",
   "metadata": {},
   "outputs": [
    {
     "name": "stdout",
     "output_type": "stream",
     "text": [
      "['cat', 'bat', 'pig', 'donkey', 'cow']\n",
      "['cat', 'bat', 'pig', 'donkey']\n"
     ]
    }
   ],
   "source": [
    "#Example print alternate values\n",
    "\n",
    "animals = [\"cat\", \"dog\", \"bat\", \"mouse\", \"pig\", \n",
    "           \"horse\", \"donkey\", \"goat\", \"cow\"]\n",
    "\n",
    "print(animals[0:9:2]) #using positive indexes\n",
    "print(animals[-9:-1:2]) #using negative indexes"
   ]
  },
  {
   "cell_type": "code",
   "execution_count": 18,
   "id": "cbead6d0",
   "metadata": {},
   "outputs": [
    {
     "name": "stdout",
     "output_type": "stream",
     "text": [
      "['cat', 'mouse', 'donkey']\n"
     ]
    }
   ],
   "source": [
    "# Example: printing every 3rd consecutive within a given range\n",
    "\n",
    "animals = [\"cat\", \"dog\", \"bat\", \"mouse\", \"pig\", \"horse\", \"donkey\", \"goat\", \"cow\"]\n",
    "print(animals[0:8:3])"
   ]
  },
  {
   "cell_type": "code",
   "execution_count": 19,
   "id": "59935a80",
   "metadata": {},
   "outputs": [
    {
     "name": "stdout",
     "output_type": "stream",
     "text": [
      "['voilet', 'indigo', 'blue', 'green', 'yellow', 'orange', 'red']\n"
     ]
    }
   ],
   "source": [
    "#add a list to a list\n",
    "colors = [\"voilet\", \"indigo\", \"blue\"]\n",
    "rainbow = [\"green\", \"yellow\", \"orange\", \"red\"]\n",
    "\n",
    "colors.extend(rainbow)\n",
    "print(colors)"
   ]
  },
  {
   "cell_type": "code",
   "execution_count": 20,
   "id": "b9b9ae07",
   "metadata": {},
   "outputs": [
    {
     "name": "stdout",
     "output_type": "stream",
     "text": [
      "['voilet', 'indigo', 'blue', 'green', 'yellow', 'orange', 'red']\n"
     ]
    }
   ],
   "source": [
    "#concatenate two lists:\n",
    "\n",
    "colors = [\"voilet\", \"indigo\", \"blue\", \"green\"]\n",
    "colors2 = [\"yellow\", \"orange\", \"red\"]\n",
    "\n",
    "print(colors + colors2)"
   ]
  },
  {
   "cell_type": "code",
   "execution_count": 21,
   "id": "35253866",
   "metadata": {},
   "outputs": [
    {
     "name": "stdout",
     "output_type": "stream",
     "text": [
      "['voilet', 'indigo', 'green', 'yellow']\n"
     ]
    }
   ],
   "source": [
    "# remove item\n",
    "\n",
    "colors = [\"voilet\", \"indigo\", \"blue\", \"green\", \"yellow\"]\n",
    "colors.remove(\"blue\")\n",
    "\n",
    "print(colors)"
   ]
  },
  {
   "cell_type": "code",
   "execution_count": 26,
   "id": "f76d7d99",
   "metadata": {},
   "outputs": [
    {
     "name": "stdout",
     "output_type": "stream",
     "text": [
      "['voilet', 'indigo', 'blue', 'green', 'yellow']\n"
     ]
    }
   ],
   "source": [
    "#del item\n",
    "\n",
    "colors = [\"voilet\", \"indigo\", \"blue\", \"green\", \"yellow\"]\n",
    "print(colors)\n",
    "\n",
    "del colors\n",
    "\n",
    "#print(colors)"
   ]
  },
  {
   "cell_type": "code",
   "execution_count": 27,
   "id": "b3600e51",
   "metadata": {},
   "outputs": [
    {
     "ename": "NameError",
     "evalue": "name 'colors' is not defined",
     "output_type": "error",
     "traceback": [
      "\u001b[1;31m---------------------------------------------------------------------------\u001b[0m",
      "\u001b[1;31mNameError\u001b[0m                                 Traceback (most recent call last)",
      "Input \u001b[1;32mIn [27]\u001b[0m, in \u001b[0;36m<cell line: 1>\u001b[1;34m()\u001b[0m\n\u001b[1;32m----> 1\u001b[0m \u001b[38;5;28mprint\u001b[39m(\u001b[43mcolors\u001b[49m)\n",
      "\u001b[1;31mNameError\u001b[0m: name 'colors' is not defined"
     ]
    }
   ],
   "source": [
    "print(colors)"
   ]
  },
  {
   "cell_type": "code",
   "execution_count": 28,
   "id": "82b759e9",
   "metadata": {},
   "outputs": [
    {
     "name": "stdout",
     "output_type": "stream",
     "text": [
      "[]\n"
     ]
    }
   ],
   "source": [
    "#clear list\n",
    "\n",
    "colors = [\"voilet\", \"indigo\", \"blue\", \"green\", \"yellow\"]\n",
    "\n",
    "colors.clear()\n",
    "\n",
    "print(colors)"
   ]
  },
  {
   "cell_type": "code",
   "execution_count": 29,
   "id": "9359f00a",
   "metadata": {},
   "outputs": [
    {
     "name": "stdout",
     "output_type": "stream",
     "text": [
      "['Aaush', 'Rajat', 'Neha', 'Natasha', 'Suraj']\n"
     ]
    }
   ],
   "source": [
    "# change/replace items in the list\n",
    "\n",
    "names = [\"Aaush\", \"Rajat\", \"Pragiti\", \"Natasha\", \"Suraj\"]\n",
    "\n",
    "names[2] = \"Neha\"\n",
    "\n",
    "print(names)"
   ]
  },
  {
   "cell_type": "code",
   "execution_count": 30,
   "id": "552b80be",
   "metadata": {},
   "outputs": [
    {
     "data": {
      "text/plain": [
       "['Aaush',\n",
       " 'Rajat',\n",
       " 'Neha',\n",
       " 'Natasha',\n",
       " 'Suraj',\n",
       " 'Aaush',\n",
       " 'Rajat',\n",
       " 'Neha',\n",
       " 'Natasha',\n",
       " 'Suraj']"
      ]
     },
     "execution_count": 30,
     "metadata": {},
     "output_type": "execute_result"
    }
   ],
   "source": [
    "# * for a duplication method similar to string\n",
    "\n",
    "names * 2"
   ]
  },
  {
   "cell_type": "markdown",
   "id": "f346cbf6",
   "metadata": {},
   "source": [
    "Note that lists indexing will return an error if there is no element at that index. For example:"
   ]
  },
  {
   "cell_type": "code",
   "execution_count": 31,
   "id": "38d2d8bf",
   "metadata": {},
   "outputs": [
    {
     "ename": "IndexError",
     "evalue": "list index out of range",
     "output_type": "error",
     "traceback": [
      "\u001b[1;31m---------------------------------------------------------------------------\u001b[0m",
      "\u001b[1;31mIndexError\u001b[0m                                Traceback (most recent call last)",
      "Input \u001b[1;32mIn [31]\u001b[0m, in \u001b[0;36m<cell line: 1>\u001b[1;34m()\u001b[0m\n\u001b[1;32m----> 1\u001b[0m \u001b[43mnames\u001b[49m\u001b[43m[\u001b[49m\u001b[38;5;241;43m10\u001b[39;49m\u001b[43m]\u001b[49m\n",
      "\u001b[1;31mIndexError\u001b[0m: list index out of range"
     ]
    }
   ],
   "source": [
    "names[10]"
   ]
  },
  {
   "cell_type": "code",
   "execution_count": 32,
   "id": "6a229f7b",
   "metadata": {},
   "outputs": [],
   "source": [
    "# sort method and the reverse methods\n",
    "\n",
    "names.reverse()"
   ]
  },
  {
   "cell_type": "code",
   "execution_count": 33,
   "id": "c39639df",
   "metadata": {},
   "outputs": [
    {
     "data": {
      "text/plain": [
       "['Suraj', 'Natasha', 'Neha', 'Rajat', 'Aaush']"
      ]
     },
     "execution_count": 33,
     "metadata": {},
     "output_type": "execute_result"
    }
   ],
   "source": [
    "names"
   ]
  },
  {
   "cell_type": "code",
   "execution_count": 34,
   "id": "582f9302",
   "metadata": {},
   "outputs": [],
   "source": [
    "#Use sort to sort the list (in this case alphabetical order, but for numbers it will go ascending)\n",
    "\n",
    "names.sort()"
   ]
  },
  {
   "cell_type": "code",
   "execution_count": 35,
   "id": "baa9c50e",
   "metadata": {},
   "outputs": [
    {
     "data": {
      "text/plain": [
       "['Aaush', 'Natasha', 'Neha', 'Rajat', 'Suraj']"
      ]
     },
     "execution_count": 35,
     "metadata": {},
     "output_type": "execute_result"
    }
   ],
   "source": [
    "names"
   ]
  },
  {
   "cell_type": "code",
   "execution_count": 37,
   "id": "b01af1c0",
   "metadata": {},
   "outputs": [
    {
     "data": {
      "text/plain": [
       "False"
      ]
     },
     "execution_count": 37,
     "metadata": {},
     "output_type": "execute_result"
    }
   ],
   "source": [
    "## whether the element is present in list or not\n",
    "\n",
    "'deep' in names"
   ]
  },
  {
   "cell_type": "markdown",
   "id": "e1eba2fa",
   "metadata": {},
   "source": [
    "### Nested List\n",
    "\n",
    "Python data structures support *nesting*. This means we can have data structures within data structures."
   ]
  },
  {
   "cell_type": "code",
   "execution_count": 38,
   "id": "3b776031",
   "metadata": {},
   "outputs": [],
   "source": [
    "# Let's make three lists\n",
    "m=[1,2,3]\n",
    "n=[4,5,6]\n",
    "o=[7,8,9]\n",
    "\n",
    "# Make a list of lists to form a matrix\n",
    "matrix = [m,n,o]"
   ]
  },
  {
   "cell_type": "code",
   "execution_count": 39,
   "id": "0b35daa5",
   "metadata": {},
   "outputs": [
    {
     "data": {
      "text/plain": [
       "[[1, 2, 3], [4, 5, 6], [7, 8, 9]]"
      ]
     },
     "execution_count": 39,
     "metadata": {},
     "output_type": "execute_result"
    }
   ],
   "source": [
    "matrix"
   ]
  },
  {
   "cell_type": "code",
   "execution_count": 40,
   "id": "d6ea2cc3",
   "metadata": {},
   "outputs": [
    {
     "data": {
      "text/plain": [
       "[1, 2, 3]"
      ]
     },
     "execution_count": 40,
     "metadata": {},
     "output_type": "execute_result"
    }
   ],
   "source": [
    "matrix[0]"
   ]
  },
  {
   "cell_type": "code",
   "execution_count": 41,
   "id": "f4ee7934",
   "metadata": {},
   "outputs": [
    {
     "data": {
      "text/plain": [
       "2"
      ]
     },
     "execution_count": 41,
     "metadata": {},
     "output_type": "execute_result"
    }
   ],
   "source": [
    "matrix[0][1]"
   ]
  },
  {
   "cell_type": "markdown",
   "id": "1cd97b30",
   "metadata": {},
   "source": [
    "### Questions\n",
    "\n",
    "1. Create a list called my_list having element 1,2,3,4,5.\n",
    "2. Access elements using indexing at position first and fourth.\n",
    "3. Get the element from the list like [2,3,4].\n",
    "4. Remove 3 from the list.\n",
    "5. Get the length of the list."
   ]
  },
  {
   "cell_type": "markdown",
   "id": "86d0db3e",
   "metadata": {},
   "source": [
    "### Tuples\n",
    "\n",
    "* Tuples are ordered collection of data items. \n",
    "* They store multiple items in a single variable. \n",
    "* Tuple items are separated by commas and enclosed within round brackets (). \n",
    "* Tuples are unchangeable meaning we can not alter them after creation."
   ]
  },
  {
   "cell_type": "code",
   "execution_count": 42,
   "id": "dc1365fa",
   "metadata": {},
   "outputs": [
    {
     "data": {
      "text/plain": [
       "tuple"
      ]
     },
     "execution_count": 42,
     "metadata": {},
     "output_type": "execute_result"
    }
   ],
   "source": [
    "t=()\n",
    "type(t)"
   ]
  },
  {
   "cell_type": "code",
   "execution_count": 43,
   "id": "e031f270",
   "metadata": {},
   "outputs": [
    {
     "data": {
      "text/plain": [
       "(1, 2, 3, 4, 3, 1)"
      ]
     },
     "execution_count": 43,
     "metadata": {},
     "output_type": "execute_result"
    }
   ],
   "source": [
    "t = (1,2,3,4,3,1)\n",
    "t"
   ]
  },
  {
   "cell_type": "code",
   "execution_count": 45,
   "id": "7cb9fabf",
   "metadata": {},
   "outputs": [
    {
     "data": {
      "text/plain": [
       "3"
      ]
     },
     "execution_count": 45,
     "metadata": {},
     "output_type": "execute_result"
    }
   ],
   "source": [
    "# access first element of the tuple\n",
    "\n",
    "t[2]"
   ]
  },
  {
   "cell_type": "code",
   "execution_count": 47,
   "id": "6544ca03",
   "metadata": {},
   "outputs": [
    {
     "ename": "TypeError",
     "evalue": "'tuple' object does not support item assignment",
     "output_type": "error",
     "traceback": [
      "\u001b[1;31m---------------------------------------------------------------------------\u001b[0m",
      "\u001b[1;31mTypeError\u001b[0m                                 Traceback (most recent call last)",
      "Input \u001b[1;32mIn [47]\u001b[0m, in \u001b[0;36m<cell line: 3>\u001b[1;34m()\u001b[0m\n\u001b[0;32m      1\u001b[0m \u001b[38;5;66;03m# replace first element with new\u001b[39;00m\n\u001b[1;32m----> 3\u001b[0m t[\u001b[38;5;241m0\u001b[39m] \u001b[38;5;241m=\u001b[39m \u001b[38;5;241m5\u001b[39m\n",
      "\u001b[1;31mTypeError\u001b[0m: 'tuple' object does not support item assignment"
     ]
    }
   ],
   "source": [
    "# replace first element with new\n",
    "\n",
    "t[0] = 5"
   ]
  },
  {
   "cell_type": "code",
   "execution_count": 48,
   "id": "b745f26e",
   "metadata": {},
   "outputs": [
    {
     "ename": "AttributeError",
     "evalue": "'tuple' object has no attribute 'append'",
     "output_type": "error",
     "traceback": [
      "\u001b[1;31m---------------------------------------------------------------------------\u001b[0m",
      "\u001b[1;31mAttributeError\u001b[0m                            Traceback (most recent call last)",
      "Input \u001b[1;32mIn [48]\u001b[0m, in \u001b[0;36m<cell line: 1>\u001b[1;34m()\u001b[0m\n\u001b[1;32m----> 1\u001b[0m \u001b[43mt\u001b[49m\u001b[38;5;241;43m.\u001b[39;49m\u001b[43mappend\u001b[49m(\u001b[38;5;124m'\u001b[39m\u001b[38;5;124mno\u001b[39m\u001b[38;5;124m'\u001b[39m)\n",
      "\u001b[1;31mAttributeError\u001b[0m: 'tuple' object has no attribute 'append'"
     ]
    }
   ],
   "source": [
    "t.append('no')"
   ]
  },
  {
   "cell_type": "code",
   "execution_count": 49,
   "id": "12cea726",
   "metadata": {},
   "outputs": [
    {
     "name": "stdout",
     "output_type": "stream",
     "text": [
      "('Yash', 18, 'Puneet', 9.8)\n"
     ]
    }
   ],
   "source": [
    "#Tuples with different data types\n",
    "\n",
    "details = (\"Yash\", 18, \"Puneet\", 9.8)\n",
    "\n",
    "print(details)"
   ]
  },
  {
   "cell_type": "code",
   "execution_count": 50,
   "id": "8b09c839",
   "metadata": {},
   "outputs": [],
   "source": [
    "# Create a tuple having name animals\n",
    "\n",
    "animals = (\"cat\", \"dog\", \"bat\", \"mouse\", \n",
    "           \"pig\", \"horse\", \"donkey\", \"goat\", \"cow\")"
   ]
  },
  {
   "cell_type": "code",
   "execution_count": 51,
   "id": "892f1a4c",
   "metadata": {},
   "outputs": [
    {
     "name": "stdout",
     "output_type": "stream",
     "text": [
      "('cat', 'bat', 'pig', 'donkey', 'cow')\n"
     ]
    }
   ],
   "source": [
    "# print alternate values in each tuple\n",
    "\n",
    "print(animals[::2])"
   ]
  },
  {
   "cell_type": "code",
   "execution_count": 52,
   "id": "f1779cd0",
   "metadata": {},
   "outputs": [
    {
     "name": "stdout",
     "output_type": "stream",
     "text": [
      "('Pakistan', 'Afghanistan', 'Bangladesh', 'ShriLanka', 'Vietnam', 'India', 'China')\n"
     ]
    }
   ],
   "source": [
    "# concatenate tuples\n",
    "\n",
    "countries = (\"Pakistan\", \"Afghanistan\", \"Bangladesh\", \"ShriLanka\")\n",
    "countries2 = (\"Vietnam\", \"India\", \"China\")\n",
    "\n",
    "southEastAsia = countries + countries2\n",
    "print(southEastAsia)"
   ]
  },
  {
   "cell_type": "markdown",
   "id": "ee86420c",
   "metadata": {},
   "source": [
    "### Unpack Tuples"
   ]
  },
  {
   "cell_type": "code",
   "execution_count": 1,
   "id": "c45a9974",
   "metadata": {},
   "outputs": [
    {
     "name": "stdout",
     "output_type": "stream",
     "text": [
      "Name: Himani\n",
      "Age: 40\n",
      "Studied at: NIT\n"
     ]
    }
   ],
   "source": [
    "info = (\"Himani\", 40, \"NIT\")\n",
    "(name, age, university) = info\n",
    "print(\"Name:\", name)\n",
    "print(\"Age:\",age)\n",
    "print(\"Studied at:\",university)"
   ]
  },
  {
   "cell_type": "code",
   "execution_count": 5,
   "id": "2c9b327e",
   "metadata": {},
   "outputs": [
    {
     "name": "stdout",
     "output_type": "stream",
     "text": [
      "Animals: cat\n",
      "Bird: ['dog', 'horse', 'pig', 'parrot']\n",
      "Fish: gold fish\n"
     ]
    }
   ],
   "source": [
    "#But what if we have more number of items then the variables?\n",
    "\n",
    "pets = (\"cat\", \"dog\", \"horse\", \"pig\", \"parrot\", \"gold fish\")\n",
    "\n",
    "(x,*y,z) = pets\n",
    "\n",
    "print(\"Animals:\", x)\n",
    "print(\"Bird:\", y)\n",
    "print(\"Fish:\", z)"
   ]
  },
  {
   "cell_type": "code",
   "execution_count": 6,
   "id": "943fd091",
   "metadata": {},
   "outputs": [
    {
     "data": {
      "text/plain": [
       "list"
      ]
     },
     "execution_count": 6,
     "metadata": {},
     "output_type": "execute_result"
    }
   ],
   "source": [
    "# Convert tuple to a list\n",
    "\n",
    "my_detail=list(info)\n",
    "\n",
    "type(my_detail)"
   ]
  },
  {
   "cell_type": "code",
   "execution_count": 7,
   "id": "7f309112",
   "metadata": {},
   "outputs": [
    {
     "data": {
      "text/plain": [
       "['NEW', 40, 'NIT']"
      ]
     },
     "execution_count": 7,
     "metadata": {},
     "output_type": "execute_result"
    }
   ],
   "source": [
    "# replace first element with new\n",
    "\n",
    "my_detail[0] = 'NEW'\n",
    "\n",
    "my_detail"
   ]
  },
  {
   "cell_type": "markdown",
   "id": "cb3a43d7",
   "metadata": {},
   "source": [
    "### Basic Tuple Methods\n",
    "\n",
    "Tuples have built-in methods, but not as many as lists do."
   ]
  },
  {
   "cell_type": "code",
   "execution_count": 8,
   "id": "0e21d77b",
   "metadata": {},
   "outputs": [
    {
     "data": {
      "text/plain": [
       "2"
      ]
     },
     "execution_count": 8,
     "metadata": {},
     "output_type": "execute_result"
    }
   ],
   "source": [
    "# Use .index to enter a value and return the index\n",
    "\n",
    "info = (\"Himani\", 40, \"NIT\")\n",
    "\n",
    "info.index('NIT')"
   ]
  },
  {
   "cell_type": "code",
   "execution_count": 9,
   "id": "24333a50",
   "metadata": {},
   "outputs": [
    {
     "data": {
      "text/plain": [
       "1"
      ]
     },
     "execution_count": 9,
     "metadata": {},
     "output_type": "execute_result"
    }
   ],
   "source": [
    "info.index(40)"
   ]
  },
  {
   "cell_type": "code",
   "execution_count": 11,
   "id": "3a4aaccd",
   "metadata": {},
   "outputs": [
    {
     "data": {
      "text/plain": [
       "2"
      ]
     },
     "execution_count": 11,
     "metadata": {},
     "output_type": "execute_result"
    }
   ],
   "source": [
    "# Use .count to count the number of times a value appears\n",
    "t = (1,2,3,4,3,1)\n",
    "\n",
    "t.count(3)"
   ]
  },
  {
   "cell_type": "markdown",
   "id": "3c33dab7",
   "metadata": {},
   "source": [
    "### When to use Tuples ?"
   ]
  },
  {
   "cell_type": "markdown",
   "id": "840dc1dc",
   "metadata": {},
   "source": [
    "### Questions\n",
    "\n",
    "1. Create a tuple having elements 1,Piyush,30,Data,9,Dance\n",
    "2. Slice the elements Piyush,30\n",
    "3. Change tupe to list and add element Scientist to it\n",
    "4. Unpack tuple into course_name, batch_size, duration from tuple (\"Data Science\",30,3)\n",
    "5. Print 4 element from the created tuple"
   ]
  },
  {
   "cell_type": "code",
   "execution_count": 13,
   "id": "b805cd29",
   "metadata": {},
   "outputs": [
    {
     "data": {
      "text/plain": [
       "(1, 'Piyush', 30, 'Data', 9, 'Dance')"
      ]
     },
     "execution_count": 13,
     "metadata": {},
     "output_type": "execute_result"
    }
   ],
   "source": [
    "t=(1,'Piyush',30,'Data',9,'Dance')\n",
    "t"
   ]
  },
  {
   "cell_type": "code",
   "execution_count": 14,
   "id": "25d50e49",
   "metadata": {},
   "outputs": [
    {
     "data": {
      "text/plain": [
       "('Piyush', 30)"
      ]
     },
     "execution_count": 14,
     "metadata": {},
     "output_type": "execute_result"
    }
   ],
   "source": [
    "t[1:3]"
   ]
  },
  {
   "cell_type": "code",
   "execution_count": 15,
   "id": "039a4204",
   "metadata": {},
   "outputs": [],
   "source": [
    "x = list(t)"
   ]
  },
  {
   "cell_type": "code",
   "execution_count": 16,
   "id": "fd22743c",
   "metadata": {},
   "outputs": [],
   "source": [
    "x.append('Scientist')"
   ]
  },
  {
   "cell_type": "code",
   "execution_count": 17,
   "id": "23874e1c",
   "metadata": {},
   "outputs": [
    {
     "data": {
      "text/plain": [
       "[1, 'Piyush', 30, 'Data', 9, 'Dance', 'Scientist']"
      ]
     },
     "execution_count": 17,
     "metadata": {},
     "output_type": "execute_result"
    }
   ],
   "source": [
    "x"
   ]
  },
  {
   "cell_type": "code",
   "execution_count": 18,
   "id": "9e6a5067",
   "metadata": {},
   "outputs": [
    {
     "data": {
      "text/plain": [
       "'Data Science'"
      ]
     },
     "execution_count": 18,
     "metadata": {},
     "output_type": "execute_result"
    }
   ],
   "source": [
    "course_name, batch_size, duration = (\"Data Science\",30,3)\n",
    "course_name"
   ]
  },
  {
   "cell_type": "code",
   "execution_count": 19,
   "id": "25504e7b",
   "metadata": {},
   "outputs": [
    {
     "data": {
      "text/plain": [
       "30"
      ]
     },
     "execution_count": 19,
     "metadata": {},
     "output_type": "execute_result"
    }
   ],
   "source": [
    " batch_size"
   ]
  },
  {
   "cell_type": "code",
   "execution_count": 20,
   "id": "aa41585e",
   "metadata": {},
   "outputs": [
    {
     "data": {
      "text/plain": [
       "3"
      ]
     },
     "execution_count": 20,
     "metadata": {},
     "output_type": "execute_result"
    }
   ],
   "source": [
    "duration"
   ]
  },
  {
   "cell_type": "code",
   "execution_count": 21,
   "id": "7330f7c7",
   "metadata": {},
   "outputs": [
    {
     "data": {
      "text/plain": [
       "(1, 'Piyush', 30, 'Data')"
      ]
     },
     "execution_count": 21,
     "metadata": {},
     "output_type": "execute_result"
    }
   ],
   "source": [
    "t[0:4]"
   ]
  },
  {
   "cell_type": "code",
   "execution_count": null,
   "id": "1e18a1c5",
   "metadata": {},
   "outputs": [],
   "source": []
  }
 ],
 "metadata": {
  "kernelspec": {
   "display_name": "Python 3 (ipykernel)",
   "language": "python",
   "name": "python3"
  },
  "language_info": {
   "codemirror_mode": {
    "name": "ipython",
    "version": 3
   },
   "file_extension": ".py",
   "mimetype": "text/x-python",
   "name": "python",
   "nbconvert_exporter": "python",
   "pygments_lexer": "ipython3",
   "version": "3.9.12"
  }
 },
 "nbformat": 4,
 "nbformat_minor": 5
}
