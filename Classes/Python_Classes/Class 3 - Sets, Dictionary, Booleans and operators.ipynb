{
 "cells": [
  {
   "cell_type": "markdown",
   "id": "ccda0d6a",
   "metadata": {},
   "source": [
    "### Sets\n",
    "* Sets are unordered collection of data items. \n",
    "* They store multiple items in a single variable.\n",
    "* Sets items are separated by commas and enclosed within curly brackets {}. \n",
    "* Sets are unchangeable, meaning you cannot change items of the set once created. \n",
    "* Sets do not contain duplicate items."
   ]
  },
  {
   "cell_type": "code",
   "execution_count": null,
   "id": "5deb0670",
   "metadata": {},
   "outputs": [],
   "source": [
    "s=set()\n",
    "type(s)"
   ]
  },
  {
   "cell_type": "code",
   "execution_count": null,
   "id": "2bce153d",
   "metadata": {},
   "outputs": [],
   "source": [
    "# create a set\n",
    "\n",
    "s = {1,2,3}\n",
    "s"
   ]
  },
  {
   "cell_type": "code",
   "execution_count": null,
   "id": "93dfab31",
   "metadata": {},
   "outputs": [],
   "source": [
    "#Using .add keyword we able to add element in the set\n",
    "\n",
    "s.add(4)"
   ]
  },
  {
   "cell_type": "code",
   "execution_count": null,
   "id": "71879ca6",
   "metadata": {},
   "outputs": [],
   "source": [
    "s"
   ]
  },
  {
   "cell_type": "code",
   "execution_count": null,
   "id": "b265310a",
   "metadata": {},
   "outputs": [],
   "source": [
    "# Try to add the same element\n",
    "\n",
    "s.add(3)\n",
    "s"
   ]
  },
  {
   "cell_type": "markdown",
   "id": "6985a757",
   "metadata": {},
   "source": [
    "Notice how it won't place another 3 there. That's because a set is only concerned with unique elements! We can cast a list with multiple repeat elements to a set to get the unique elements. For example:"
   ]
  },
  {
   "cell_type": "code",
   "execution_count": null,
   "id": "c3640937",
   "metadata": {},
   "outputs": [],
   "source": [
    "# Create a list with repeat elements\n",
    "\n",
    "m = [1,1,2,2,3,4,5,6,1,1]"
   ]
  },
  {
   "cell_type": "code",
   "execution_count": null,
   "id": "fec62b9a",
   "metadata": {},
   "outputs": [],
   "source": [
    "s = set(m)\n",
    "s"
   ]
  },
  {
   "cell_type": "code",
   "execution_count": null,
   "id": "8dab785e",
   "metadata": {},
   "outputs": [],
   "source": [
    "# any type of elements can be added in the set\n",
    "\n",
    "info = {\"Carla\", 19, False, 5.9, 19}\n",
    "print(info)"
   ]
  },
  {
   "cell_type": "code",
   "execution_count": null,
   "id": "b8fbf90e",
   "metadata": {},
   "outputs": [],
   "source": [
    "#  use the update() method to add it into the existing set.\n",
    "\n",
    "cities = {\"Pathankot\", \"Mohali\", \"Dharmpur\", \"Shimla\"}\n",
    "cities2 = {\"Shimla\", \"Solan\", \"Kasuli\",\"Mohali\"}\n",
    "\n",
    "cities.update(cities2)\n",
    "print(cities)"
   ]
  },
  {
   "cell_type": "code",
   "execution_count": null,
   "id": "e39ec0d8",
   "metadata": {},
   "outputs": [],
   "source": [
    "# the union() method returns a new set \n",
    "\n",
    "cities3 = cities.union(cities2)\n",
    "print(cities3)"
   ]
  },
  {
   "cell_type": "markdown",
   "id": "beb5f5d4",
   "metadata": {},
   "source": [
    "The union() and update() methods prints all items that are present in the two sets. The union() method returns a new set whereas update() method adds item into the existing set from another set."
   ]
  },
  {
   "cell_type": "markdown",
   "id": "311f5077",
   "metadata": {},
   "source": [
    "### intersection and intersection_update():\n",
    "\n",
    "The intersection() and intersection_update() methods prints only items that are similar to both the sets. The intersection() method returns a new set whereas intersection_update() method updates into the existing set from another set."
   ]
  },
  {
   "cell_type": "code",
   "execution_count": null,
   "id": "63707985",
   "metadata": {},
   "outputs": [],
   "source": [
    "cities = {\"Pathankot\", \"Mohali\", \"Dharmpur\", \"Shimla\"}\n",
    "cities2 = {\"Shimla\", \"Solan\", \"Kasuli\",\"Mohali\"}\n",
    "\n",
    "cities3 = cities.intersection(cities2)\n",
    "print(cities3)"
   ]
  },
  {
   "cell_type": "code",
   "execution_count": null,
   "id": "9fd738c2",
   "metadata": {},
   "outputs": [],
   "source": [
    "cities.intersection_update(cities2)\n",
    "print(cities)"
   ]
  },
  {
   "cell_type": "markdown",
   "id": "cf088123",
   "metadata": {},
   "source": [
    "### symmetric_difference and symmetric_difference_update()\n",
    "\n",
    "The symmetric_difference() and symmetric_difference_update() methods prints only items that are not similar to both the sets. The symmetric_difference() method returns a new set whereas symmetric_difference_update() method updates into the existing set from another set."
   ]
  },
  {
   "cell_type": "code",
   "execution_count": null,
   "id": "88ca21c3",
   "metadata": {},
   "outputs": [],
   "source": [
    "cities = {\"Pathankot\", \"Mohali\", \"Dharmpur\", \"Shimla\"}\n",
    "cities2 = {\"Shimla\", \"Solan\", \"Kasuli\",\"Mohali\"}\n",
    "\n",
    "cities3 = cities.symmetric_difference(cities2)\n",
    "print(cities3)"
   ]
  },
  {
   "cell_type": "code",
   "execution_count": null,
   "id": "0f415c53",
   "metadata": {},
   "outputs": [],
   "source": [
    "cities.symmetric_difference_update(cities2)\n",
    "print(cities)"
   ]
  },
  {
   "cell_type": "markdown",
   "id": "86101ffb",
   "metadata": {},
   "source": [
    "### difference() and difference_update()\n",
    "\n",
    "The difference() and difference_update() methods prints only items that are only present in the original set and not in both the sets. The difference() method returns a new set whereas difference_update() method updates into the existing set from another set."
   ]
  },
  {
   "cell_type": "code",
   "execution_count": null,
   "id": "1f9e5231",
   "metadata": {},
   "outputs": [],
   "source": [
    "cities = {\"Pathankot\", \"Mohali\", \"Dharmpur\", \"Shimla\"}\n",
    "cities2 = {\"Shimla\", \"Solan\", \"Kasuli\",\"Mohali\"}\n",
    "\n",
    "cities3 = cities.difference(cities2)\n",
    "print(cities3)"
   ]
  },
  {
   "cell_type": "code",
   "execution_count": null,
   "id": "8cbab447",
   "metadata": {},
   "outputs": [],
   "source": [
    "cities.difference_update(cities2)\n",
    "print(cities)"
   ]
  },
  {
   "cell_type": "markdown",
   "id": "8a1620e6",
   "metadata": {},
   "source": [
    "### remove() and discard() methods"
   ]
  },
  {
   "cell_type": "code",
   "execution_count": null,
   "id": "291b5f41",
   "metadata": {},
   "outputs": [],
   "source": [
    "cities = {\"Pathankot\", \"Mohali\", \"Dharmpur\", \"Shimla\",\"Kullu\"}\n",
    "\n",
    "cities.remove(\"Kullu\")\n",
    "print(cities)"
   ]
  },
  {
   "cell_type": "code",
   "execution_count": null,
   "id": "3cb71d13",
   "metadata": {},
   "outputs": [],
   "source": [
    "cities = {\"Pathankot\", \"Mohali\", \"Dharmpur\", \"Shimla\"}\n",
    "\n",
    "cities.discard(\"Mohali\")\n",
    "print(cities)"
   ]
  },
  {
   "cell_type": "markdown",
   "id": "37c3f30f",
   "metadata": {},
   "source": [
    "The main difference between remove and discard is that, if we try to delete an item which is not present in set, then remove() raises an error, whereas discard() does not raise any error."
   ]
  },
  {
   "cell_type": "code",
   "execution_count": null,
   "id": "a4874d50",
   "metadata": {},
   "outputs": [],
   "source": [
    "cities.discard(\"Mohali\")\n",
    "print(cities)"
   ]
  },
  {
   "cell_type": "code",
   "execution_count": null,
   "id": "bdeba767",
   "metadata": {},
   "outputs": [],
   "source": [
    "cities.remove(\"Mohali\")\n",
    "print(cities)"
   ]
  },
  {
   "cell_type": "markdown",
   "id": "a4b75b3b",
   "metadata": {},
   "source": [
    "### isdisjoint()\n",
    "\n",
    "The isdisjoint() method checks if items of given set are present in another set. This method returns False if items are present, else it returns True."
   ]
  },
  {
   "cell_type": "code",
   "execution_count": null,
   "id": "acc3118a",
   "metadata": {},
   "outputs": [],
   "source": [
    "#check if items of a particular set are present in another set\n",
    "\n",
    "cities = {\"Pathankot\", \"Mohali\", \"Dharmpur\", \"Shimla\"}\n",
    "cities2 = {\"Shimla\", \"Solan\", \"Kasuli\",\"Mohali\"}\n",
    "\n",
    "print(cities.isdisjoint(cities2))"
   ]
  },
  {
   "cell_type": "markdown",
   "id": "f6309ccd",
   "metadata": {},
   "source": [
    "### issubset()\n",
    "\n",
    "The issubset() method checks if the items of the original set are present in the particular set. It returns True if the items are present, else it returns False.\n"
   ]
  },
  {
   "cell_type": "code",
   "execution_count": null,
   "id": "bf1859b3",
   "metadata": {},
   "outputs": [],
   "source": [
    "cities = {\"Pathankot\", \"Mohali\", \"Dharmpur\", \"Shimla\"}\n",
    "cities2 = {\"Dharmpur\"}\n",
    "\n",
    "print(cities2.issubset(cities))"
   ]
  },
  {
   "cell_type": "markdown",
   "id": "6f012e68",
   "metadata": {},
   "source": [
    "## Dictionaries"
   ]
  },
  {
   "cell_type": "markdown",
   "id": "3f3db473",
   "metadata": {},
   "source": [
    "**Mappings** are a collection of objects that are stored by a key, unlike a sequence that stored objects by their relative position. This is an important distinction, since mappings won't retain order since they have objects defined by a key.\n",
    "\n",
    "A Python dictionary consists of a key and then an associated value. That value can be almost any Python object.\n",
    "\n",
    "\n",
    "* Dictionaries are ordered collection of data items.\n",
    "* They store multiple items in a single variable.\n",
    "* Dictionaries items are key-value pairs that are separated by commas and enclosed within curly brackets {}."
   ]
  },
  {
   "cell_type": "code",
   "execution_count": null,
   "id": "63f54043",
   "metadata": {},
   "outputs": [],
   "source": [
    "d=dict()\n",
    "d"
   ]
  },
  {
   "cell_type": "code",
   "execution_count": null,
   "id": "4c8ebe5a",
   "metadata": {},
   "outputs": [],
   "source": [
    "# Make a dictionary with {} and : to signify a key and a value\n",
    "\n",
    "my_dict = {'key1':'value1','key2':'value2'}"
   ]
  },
  {
   "cell_type": "code",
   "execution_count": null,
   "id": "806082af",
   "metadata": {},
   "outputs": [],
   "source": [
    "# dictionaries are very flexible in the data types they can hold. For example:\n",
    "\n",
    "info = {\n",
    "    'name':'Karan',\n",
    "    'age':19, \n",
    "    'eligible':True\n",
    "}\n",
    "\n",
    "print(info)"
   ]
  },
  {
   "cell_type": "code",
   "execution_count": null,
   "id": "65f0561e",
   "metadata": {},
   "outputs": [],
   "source": [
    "# Accessing single values\n",
    "\n",
    "# Values in a dictionary can be accessed using keys. \n",
    "# We can access dictionary values by mentioning keys either in square brackets \n",
    "# or by using get method.\n",
    "\n",
    "info = {'name':'Karan', 'age':19, 'eligible':True}\n",
    "\n",
    "print(info['name'])\n",
    "print(info.get('age'))"
   ]
  },
  {
   "cell_type": "code",
   "execution_count": null,
   "id": "e5016bd2",
   "metadata": {},
   "outputs": [],
   "source": [
    "# print all the values in the dictionary using values() method.\n",
    "\n",
    "print(info.values())"
   ]
  },
  {
   "cell_type": "code",
   "execution_count": null,
   "id": "dff78fae",
   "metadata": {},
   "outputs": [],
   "source": [
    "# print all the keys in the dictionary using keys() method.\n",
    "\n",
    "print(info.keys())"
   ]
  },
  {
   "cell_type": "code",
   "execution_count": null,
   "id": "7244ef97",
   "metadata": {},
   "outputs": [],
   "source": [
    "# print all the key-value pairs in the dictionary using items() method\n",
    "\n",
    "print(info.items())"
   ]
  },
  {
   "cell_type": "code",
   "execution_count": null,
   "id": "b184f055",
   "metadata": {},
   "outputs": [],
   "source": [
    "# create a new key and assign a value to it\n",
    "\n",
    "# update() method updates the value of the key provided to it \n",
    "#if the item already exists in the dictionary, \n",
    "#else it creates a new key-value pair.\n",
    "\n",
    "info.update({'age':20})\n",
    "info.update({'DOB':1995})\n",
    "print(info)"
   ]
  },
  {
   "cell_type": "code",
   "execution_count": null,
   "id": "5c8d1e42",
   "metadata": {},
   "outputs": [],
   "source": [
    "# use the del keyword to remove a dictionary item. \n",
    "\n",
    "del info['age']\n",
    "print(info)"
   ]
  },
  {
   "cell_type": "code",
   "execution_count": null,
   "id": "ee2f32d2",
   "metadata": {},
   "outputs": [],
   "source": [
    "# use the copy() method to copy the contents of one dictionary \n",
    "# into another dictionary.\n",
    "\n",
    "newDict = info.copy()\n",
    "print(newDict)"
   ]
  },
  {
   "cell_type": "code",
   "execution_count": null,
   "id": "40a4080b",
   "metadata": {},
   "outputs": [],
   "source": [
    "# use the dict() function to make a new dictionary with the items of \n",
    "# original dictionary.\n",
    "\n",
    "new = dict(info)\n",
    "print(new)"
   ]
  },
  {
   "cell_type": "code",
   "execution_count": null,
   "id": "8dbbcfda",
   "metadata": {},
   "outputs": [],
   "source": [
    "info = {'name':['Karan','Suraj'], 'age':[19,20], 'eligible':True}\n",
    "\n",
    "# call names using keys\n",
    "\n",
    "info['name']"
   ]
  },
  {
   "cell_type": "code",
   "execution_count": null,
   "id": "7f6e5285",
   "metadata": {},
   "outputs": [],
   "source": [
    "# Access Suraj from the dictionary\n",
    "\n",
    "info['name'][1]"
   ]
  },
  {
   "cell_type": "code",
   "execution_count": null,
   "id": "b35a2743",
   "metadata": {},
   "outputs": [],
   "source": [
    "# Even call methods on that value\n",
    "\n",
    "info['name'][1].upper()"
   ]
  },
  {
   "cell_type": "code",
   "execution_count": null,
   "id": "52bc0646",
   "metadata": {},
   "outputs": [],
   "source": [
    "# affect the values of a key as well.\n",
    "\n",
    "# Subtract 3 from the value\n",
    "\n",
    "info['age'][1] = info['age'][1] - 3"
   ]
  },
  {
   "cell_type": "code",
   "execution_count": null,
   "id": "09b2956c",
   "metadata": {},
   "outputs": [],
   "source": [
    "info['age'][1] -= 3"
   ]
  },
  {
   "cell_type": "code",
   "execution_count": null,
   "id": "4e891c16",
   "metadata": {},
   "outputs": [],
   "source": [
    "info"
   ]
  },
  {
   "cell_type": "code",
   "execution_count": null,
   "id": "cc9df306",
   "metadata": {},
   "outputs": [],
   "source": [
    "# Create dictionary with duplicate keys\n",
    "d1 = {\"1\": 1, \"1\": 2}\n",
    "print(d1)\n",
    "\n",
    "# It will only print one key, although no error was thrown\n",
    "# If we  try to access this key, then it'll return 2, \n",
    "# so the value of the second key\n",
    "\n",
    "print(d1[\"1\"])"
   ]
  },
  {
   "cell_type": "markdown",
   "id": "d17fb00f",
   "metadata": {},
   "source": [
    "### Nesting with Dictionaries"
   ]
  },
  {
   "cell_type": "code",
   "execution_count": null,
   "id": "907ea0fe",
   "metadata": {},
   "outputs": [],
   "source": [
    "# Dictionary nested inside a dictionary nested inside a dictionary\n",
    "\n",
    "d = {'key1':{'nestkey':{'subnestkey':'value'}}}\n",
    "d"
   ]
  },
  {
   "cell_type": "code",
   "execution_count": null,
   "id": "eb2a7f0e",
   "metadata": {},
   "outputs": [],
   "source": [
    "# Keep calling the keys\n",
    "\n",
    "d['key1']['nestkey']['subnestkey']"
   ]
  },
  {
   "cell_type": "code",
   "execution_count": null,
   "id": "f9f82320",
   "metadata": {},
   "outputs": [],
   "source": [
    "# Create a two-element dictionary using curly brackets\n",
    "\n",
    "d2 = {\"Rishabh\": {\"Age\": 27, \"Hometown\": \"Shimla\"},\n",
    "      \"Taarun\": {\"Age\": 25, \"Hometown\": \"Kullu\"}}"
   ]
  },
  {
   "cell_type": "code",
   "execution_count": null,
   "id": "4a4f78ec",
   "metadata": {},
   "outputs": [],
   "source": [
    "print(d2[\"Rishabh\"][\"Age\"])"
   ]
  },
  {
   "cell_type": "code",
   "execution_count": null,
   "id": "bcbe3856",
   "metadata": {},
   "outputs": [],
   "source": [
    "course_name = Data science, Python, Cyber security\n",
    "\n",
    "batch_size = 30, 40, 20\n",
    "\n",
    "duration = 4, 5, 3\n",
    "\n",
    "Python----> batch size and duration"
   ]
  },
  {
   "cell_type": "code",
   "execution_count": null,
   "id": "c5f740a2",
   "metadata": {},
   "outputs": [],
   "source": [
    "dict={\n",
    "    'course_name':['Data science', 'Python', 'Cyber security'],\n",
    "    'batch_size':[30, 40, 20],\n",
    "    'duration':[4,5,3]\n",
    "}\n",
    "print(dict['course_name'][1])\n",
    "print(dict['batch_size'][1])\n",
    "print(dict['duration'][1])"
   ]
  },
  {
   "cell_type": "markdown",
   "id": "e666bb2d",
   "metadata": {},
   "source": [
    "### Booleans and None Type"
   ]
  },
  {
   "cell_type": "code",
   "execution_count": null,
   "id": "2edd4184",
   "metadata": {},
   "outputs": [],
   "source": [
    "# Set object to be a boolean\n",
    "\n",
    "a = True\n",
    "\n",
    "type(a)"
   ]
  },
  {
   "cell_type": "code",
   "execution_count": null,
   "id": "3d0b1de7",
   "metadata": {},
   "outputs": [],
   "source": [
    "# None placeholder\n",
    "\n",
    "b = None"
   ]
  },
  {
   "cell_type": "code",
   "execution_count": null,
   "id": "d37386a0",
   "metadata": {},
   "outputs": [],
   "source": [
    "type(b)"
   ]
  },
  {
   "cell_type": "markdown",
   "id": "e505ba37",
   "metadata": {},
   "source": [
    "### Comparison Operators\n",
    "\n",
    "<h2> Table of Comparison Operators </h2><p>  In the table below, a=3 and b=4.</p>\n",
    "\n",
    "<table class=\"table table-bordered\">\n",
    "<tr>\n",
    "<th style=\"width:10%\">Operator</th><th style=\"width:45%\">Description</th><th>Example</th>\n",
    "</tr>\n",
    "<tr>\n",
    "<td>==</td>\n",
    "<td>If the values of two operands are equal, then the condition becomes true.</td>\n",
    "<td> (a == b) is not true.</td>\n",
    "</tr>\n",
    "<tr>\n",
    "<td>!=</td>\n",
    "<td>If values of two operands are not equal, then condition becomes true.</td>\n",
    "<td>(a != b) is true</td>\n",
    "</tr>\n",
    "<tr>\n",
    "<td>&gt;</td>\n",
    "<td>If the value of left operand is greater than the value of right operand, then condition becomes true.</td>\n",
    "<td> (a &gt; b) is not true.</td>\n",
    "</tr>\n",
    "<tr>\n",
    "<td>&lt;</td>\n",
    "<td>If the value of left operand is less than the value of right operand, then condition becomes true.</td>\n",
    "<td> (a &lt; b) is true.</td>\n",
    "</tr>\n",
    "<tr>\n",
    "<td>&gt;=</td>\n",
    "<td>If the value of left operand is greater than or equal to the value of right operand, then condition becomes true.</td>\n",
    "<td> (a &gt;= b) is not true. </td>\n",
    "</tr>\n",
    "<tr>\n",
    "<td>&lt;=</td>\n",
    "<td>If the value of left operand is less than or equal to the value of right operand, then condition becomes true.</td>\n",
    "<td> (a &lt;= b) is true. </td>\n",
    "</tr>\n",
    "</table>"
   ]
  },
  {
   "cell_type": "markdown",
   "id": "c2245884",
   "metadata": {},
   "source": [
    "### Equal"
   ]
  },
  {
   "cell_type": "code",
   "execution_count": 1,
   "id": "0c833d10",
   "metadata": {},
   "outputs": [
    {
     "data": {
      "text/plain": [
       "False"
      ]
     },
     "execution_count": 1,
     "metadata": {},
     "output_type": "execute_result"
    }
   ],
   "source": [
    "2==4"
   ]
  },
  {
   "cell_type": "code",
   "execution_count": 2,
   "id": "c98774f4",
   "metadata": {},
   "outputs": [
    {
     "data": {
      "text/plain": [
       "True"
      ]
     },
     "execution_count": 2,
     "metadata": {},
     "output_type": "execute_result"
    }
   ],
   "source": [
    "4==4"
   ]
  },
  {
   "cell_type": "code",
   "execution_count": 3,
   "id": "c40b7253",
   "metadata": {},
   "outputs": [
    {
     "data": {
      "text/plain": [
       "False"
      ]
     },
     "execution_count": 3,
     "metadata": {},
     "output_type": "execute_result"
    }
   ],
   "source": [
    "'Hi'=='Bye'"
   ]
  },
  {
   "cell_type": "code",
   "execution_count": 4,
   "id": "83490366",
   "metadata": {},
   "outputs": [
    {
     "data": {
      "text/plain": [
       "True"
      ]
     },
     "execution_count": 4,
     "metadata": {},
     "output_type": "execute_result"
    }
   ],
   "source": [
    "'Hi'=='Hi'"
   ]
  },
  {
   "cell_type": "markdown",
   "id": "fcd550c5",
   "metadata": {},
   "source": [
    "### Not Equal"
   ]
  },
  {
   "cell_type": "code",
   "execution_count": 5,
   "id": "ccd322cc",
   "metadata": {},
   "outputs": [
    {
     "data": {
      "text/plain": [
       "True"
      ]
     },
     "execution_count": 5,
     "metadata": {},
     "output_type": "execute_result"
    }
   ],
   "source": [
    "'Hi' != 'Bye'"
   ]
  },
  {
   "cell_type": "code",
   "execution_count": 6,
   "id": "688eea51",
   "metadata": {},
   "outputs": [
    {
     "data": {
      "text/plain": [
       "False"
      ]
     },
     "execution_count": 6,
     "metadata": {},
     "output_type": "execute_result"
    }
   ],
   "source": [
    "3 != 3"
   ]
  },
  {
   "cell_type": "markdown",
   "id": "b503825b",
   "metadata": {},
   "source": [
    "### Greater Than"
   ]
  },
  {
   "cell_type": "code",
   "execution_count": 7,
   "id": "eb8ffd5e",
   "metadata": {},
   "outputs": [
    {
     "data": {
      "text/plain": [
       "True"
      ]
     },
     "execution_count": 7,
     "metadata": {},
     "output_type": "execute_result"
    }
   ],
   "source": [
    "4>2"
   ]
  },
  {
   "cell_type": "code",
   "execution_count": 8,
   "id": "f442b623",
   "metadata": {},
   "outputs": [
    {
     "data": {
      "text/plain": [
       "False"
      ]
     },
     "execution_count": 8,
     "metadata": {},
     "output_type": "execute_result"
    }
   ],
   "source": [
    "2>4"
   ]
  },
  {
   "cell_type": "markdown",
   "id": "ca9723f8",
   "metadata": {},
   "source": [
    "### Less Than"
   ]
  },
  {
   "cell_type": "code",
   "execution_count": 9,
   "id": "d261a7f3",
   "metadata": {},
   "outputs": [
    {
     "data": {
      "text/plain": [
       "True"
      ]
     },
     "execution_count": 9,
     "metadata": {},
     "output_type": "execute_result"
    }
   ],
   "source": [
    "2<4"
   ]
  },
  {
   "cell_type": "code",
   "execution_count": 10,
   "id": "b13ff205",
   "metadata": {},
   "outputs": [
    {
     "data": {
      "text/plain": [
       "False"
      ]
     },
     "execution_count": 10,
     "metadata": {},
     "output_type": "execute_result"
    }
   ],
   "source": [
    "3<2"
   ]
  },
  {
   "cell_type": "markdown",
   "id": "b7260a89",
   "metadata": {},
   "source": [
    "### Greater Than or Equal to"
   ]
  },
  {
   "cell_type": "code",
   "execution_count": 11,
   "id": "7638ff6b",
   "metadata": {},
   "outputs": [
    {
     "data": {
      "text/plain": [
       "True"
      ]
     },
     "execution_count": 11,
     "metadata": {},
     "output_type": "execute_result"
    }
   ],
   "source": [
    "2>=2"
   ]
  },
  {
   "cell_type": "code",
   "execution_count": 12,
   "id": "f2713dc9",
   "metadata": {},
   "outputs": [
    {
     "data": {
      "text/plain": [
       "False"
      ]
     },
     "execution_count": 12,
     "metadata": {},
     "output_type": "execute_result"
    }
   ],
   "source": [
    "3>=4"
   ]
  },
  {
   "cell_type": "markdown",
   "id": "f3257932",
   "metadata": {},
   "source": [
    "### Less than or Equal to"
   ]
  },
  {
   "cell_type": "code",
   "execution_count": 13,
   "id": "dc2bb89e",
   "metadata": {},
   "outputs": [
    {
     "data": {
      "text/plain": [
       "True"
      ]
     },
     "execution_count": 13,
     "metadata": {},
     "output_type": "execute_result"
    }
   ],
   "source": [
    "2<=2"
   ]
  },
  {
   "cell_type": "code",
   "execution_count": 14,
   "id": "59675f97",
   "metadata": {},
   "outputs": [
    {
     "data": {
      "text/plain": [
       "False"
      ]
     },
     "execution_count": 14,
     "metadata": {},
     "output_type": "execute_result"
    }
   ],
   "source": [
    "3<=1"
   ]
  },
  {
   "cell_type": "markdown",
   "id": "88d75335",
   "metadata": {},
   "source": [
    "### Chained Comparison Operators or Logical Operators"
   ]
  },
  {
   "cell_type": "code",
   "execution_count": 15,
   "id": "70c7d4af",
   "metadata": {},
   "outputs": [
    {
     "data": {
      "text/plain": [
       "True"
      ]
     },
     "execution_count": 15,
     "metadata": {},
     "output_type": "execute_result"
    }
   ],
   "source": [
    "1 < 2 < 3"
   ]
  },
  {
   "cell_type": "code",
   "execution_count": 17,
   "id": "fb029190",
   "metadata": {},
   "outputs": [
    {
     "data": {
      "text/plain": [
       "False"
      ]
     },
     "execution_count": 17,
     "metadata": {},
     "output_type": "execute_result"
    }
   ],
   "source": [
    "1<2 and 2>3"
   ]
  },
  {
   "cell_type": "code",
   "execution_count": 18,
   "id": "96123068",
   "metadata": {},
   "outputs": [
    {
     "data": {
      "text/plain": [
       "True"
      ]
     },
     "execution_count": 18,
     "metadata": {},
     "output_type": "execute_result"
    }
   ],
   "source": [
    "1 < 3 > 2"
   ]
  },
  {
   "cell_type": "code",
   "execution_count": 19,
   "id": "e94a96db",
   "metadata": {},
   "outputs": [
    {
     "data": {
      "text/plain": [
       "True"
      ]
     },
     "execution_count": 19,
     "metadata": {},
     "output_type": "execute_result"
    }
   ],
   "source": [
    "1<3 and 3>2"
   ]
  },
  {
   "cell_type": "code",
   "execution_count": 20,
   "id": "410a18f1",
   "metadata": {},
   "outputs": [
    {
     "data": {
      "text/plain": [
       "True"
      ]
     },
     "execution_count": 20,
     "metadata": {},
     "output_type": "execute_result"
    }
   ],
   "source": [
    "1==2 or 2<3"
   ]
  },
  {
   "cell_type": "code",
   "execution_count": 21,
   "id": "d34d3abd",
   "metadata": {},
   "outputs": [
    {
     "data": {
      "text/plain": [
       "True"
      ]
     },
     "execution_count": 21,
     "metadata": {},
     "output_type": "execute_result"
    }
   ],
   "source": [
    "1==1 or 100==1"
   ]
  },
  {
   "cell_type": "code",
   "execution_count": 22,
   "id": "6d534ebf",
   "metadata": {},
   "outputs": [
    {
     "data": {
      "text/plain": [
       "True"
      ]
     },
     "execution_count": 22,
     "metadata": {},
     "output_type": "execute_result"
    }
   ],
   "source": [
    "x = False\n",
    "\n",
    "not x"
   ]
  },
  {
   "cell_type": "markdown",
   "id": "d1a766d4",
   "metadata": {},
   "source": [
    "### User Inputs"
   ]
  },
  {
   "cell_type": "code",
   "execution_count": 25,
   "id": "180980b8",
   "metadata": {},
   "outputs": [
    {
     "name": "stdout",
     "output_type": "stream",
     "text": [
      "Enter any thing:10\n"
     ]
    }
   ],
   "source": [
    "x = input(\"Enter any thing:\")\n"
   ]
  },
  {
   "cell_type": "code",
   "execution_count": 27,
   "id": "af9a456f",
   "metadata": {},
   "outputs": [
    {
     "data": {
      "text/plain": [
       "str"
      ]
     },
     "execution_count": 27,
     "metadata": {},
     "output_type": "execute_result"
    }
   ],
   "source": [
    "type(x)"
   ]
  },
  {
   "cell_type": "code",
   "execution_count": 31,
   "id": "9e609fde",
   "metadata": {},
   "outputs": [
    {
     "name": "stdout",
     "output_type": "stream",
     "text": [
      "Enter value:20\n"
     ]
    }
   ],
   "source": [
    "y = int(input(\"Enter value:\"))"
   ]
  },
  {
   "cell_type": "code",
   "execution_count": 32,
   "id": "895fdac4",
   "metadata": {},
   "outputs": [
    {
     "data": {
      "text/plain": [
       "20"
      ]
     },
     "execution_count": 32,
     "metadata": {},
     "output_type": "execute_result"
    }
   ],
   "source": [
    "y"
   ]
  },
  {
   "cell_type": "code",
   "execution_count": 33,
   "id": "00eabbf9",
   "metadata": {},
   "outputs": [
    {
     "ename": "TypeError",
     "evalue": "'>' not supported between instances of 'str' and 'int'",
     "output_type": "error",
     "traceback": [
      "\u001b[1;31m---------------------------------------------------------------------------\u001b[0m",
      "\u001b[1;31mTypeError\u001b[0m                                 Traceback (most recent call last)",
      "Input \u001b[1;32mIn [33]\u001b[0m, in \u001b[0;36m<cell line: 1>\u001b[1;34m()\u001b[0m\n\u001b[1;32m----> 1\u001b[0m \u001b[43mx\u001b[49m\u001b[38;5;241;43m>\u001b[39;49m\u001b[43my\u001b[49m\n",
      "\u001b[1;31mTypeError\u001b[0m: '>' not supported between instances of 'str' and 'int'"
     ]
    }
   ],
   "source": [
    "x>y"
   ]
  },
  {
   "cell_type": "code",
   "execution_count": 34,
   "id": "190fda83",
   "metadata": {},
   "outputs": [
    {
     "ename": "TypeError",
     "evalue": "'<' not supported between instances of 'str' and 'int'",
     "output_type": "error",
     "traceback": [
      "\u001b[1;31m---------------------------------------------------------------------------\u001b[0m",
      "\u001b[1;31mTypeError\u001b[0m                                 Traceback (most recent call last)",
      "Input \u001b[1;32mIn [34]\u001b[0m, in \u001b[0;36m<cell line: 1>\u001b[1;34m()\u001b[0m\n\u001b[1;32m----> 1\u001b[0m \u001b[43mx\u001b[49m\u001b[38;5;241;43m<\u001b[39;49m\u001b[43my\u001b[49m\n",
      "\u001b[1;31mTypeError\u001b[0m: '<' not supported between instances of 'str' and 'int'"
     ]
    }
   ],
   "source": [
    "x<y"
   ]
  },
  {
   "cell_type": "markdown",
   "id": "19e07a4c",
   "metadata": {},
   "source": [
    "### Arithmatic Operators\n",
    "\n",
    "\n",
    "<h2> Table of Arithmatic Operators </h2><p>  In the table below, a=3 and b=4.</p>\n",
    "\n",
    "<table class=\"table table-bordered\">\n",
    "<tr>\n",
    "<th style=\"width:10%\">Operator</th><th style=\"width:45%\">Description</th><th>Example</th>\n",
    "</tr>\n",
    "<tr>\n",
    "<td>+</td>\n",
    "<td>Addition</td>\n",
    "<td>a+b</td>\n",
    "</tr>\n",
    "<tr>\n",
    "<td>-</td>\n",
    "<td>Subtraction</td>\n",
    "<td>a-b</td>\n",
    "</tr>\n",
    "<tr>\n",
    "<td>&gt;</td>\n",
    "<td>If the value of left operand is greater than the value of right operand, then condition becomes true.</td>\n",
    "<td> (a &gt; b) is not true.</td>\n",
    "</tr>\n",
    "<tr>\n",
    "<td>&lt;</td>\n",
    "<td>If the value of left operand is less than the value of right operand, then condition becomes true.</td>\n",
    "<td> (a &lt; b) is true.</td>\n",
    "</tr>\n",
    "<tr>\n",
    "<td>&gt;=</td>\n",
    "<td>If the value of left operand is greater than or equal to the value of right operand, then condition becomes true.</td>\n",
    "<td> (a &gt;= b) is not true. </td>\n",
    "</tr>\n",
    "<tr>\n",
    "<td>&lt;=</td>\n",
    "<td>If the value of left operand is less than or equal to the value of right operand, then condition becomes true.</td>\n",
    "<td> (a &lt;= b) is true. </td>\n",
    "</tr>\n",
    "</table>"
   ]
  },
  {
   "cell_type": "code",
   "execution_count": 35,
   "id": "8e833ac8",
   "metadata": {},
   "outputs": [
    {
     "data": {
      "text/plain": [
       "50"
      ]
     },
     "execution_count": 35,
     "metadata": {},
     "output_type": "execute_result"
    }
   ],
   "source": [
    "a=20\n",
    "b=30\n",
    "\n",
    "a+b"
   ]
  },
  {
   "cell_type": "code",
   "execution_count": 36,
   "id": "0ceddef5",
   "metadata": {},
   "outputs": [
    {
     "data": {
      "text/plain": [
       "-10"
      ]
     },
     "execution_count": 36,
     "metadata": {},
     "output_type": "execute_result"
    }
   ],
   "source": [
    "a-b"
   ]
  },
  {
   "cell_type": "code",
   "execution_count": 37,
   "id": "d635de8e",
   "metadata": {},
   "outputs": [
    {
     "data": {
      "text/plain": [
       "600"
      ]
     },
     "execution_count": 37,
     "metadata": {},
     "output_type": "execute_result"
    }
   ],
   "source": [
    "a*b"
   ]
  },
  {
   "cell_type": "code",
   "execution_count": 38,
   "id": "c89630c9",
   "metadata": {},
   "outputs": [
    {
     "data": {
      "text/plain": [
       "0.6666666666666666"
      ]
     },
     "execution_count": 38,
     "metadata": {},
     "output_type": "execute_result"
    }
   ],
   "source": [
    "a/b"
   ]
  },
  {
   "cell_type": "code",
   "execution_count": 39,
   "id": "3e80b16b",
   "metadata": {},
   "outputs": [
    {
     "data": {
      "text/plain": [
       "0"
      ]
     },
     "execution_count": 39,
     "metadata": {},
     "output_type": "execute_result"
    }
   ],
   "source": [
    "a//b"
   ]
  },
  {
   "cell_type": "code",
   "execution_count": 40,
   "id": "567114a3",
   "metadata": {},
   "outputs": [
    {
     "data": {
      "text/plain": [
       "400"
      ]
     },
     "execution_count": 40,
     "metadata": {},
     "output_type": "execute_result"
    }
   ],
   "source": [
    "#power\n",
    "c=2\n",
    "\n",
    "a**c"
   ]
  },
  {
   "cell_type": "code",
   "execution_count": 41,
   "id": "3a100e2a",
   "metadata": {},
   "outputs": [
    {
     "data": {
      "text/plain": [
       "4.47213595499958"
      ]
     },
     "execution_count": 41,
     "metadata": {},
     "output_type": "execute_result"
    }
   ],
   "source": [
    "#square root\n",
    "\n",
    "a**0.5"
   ]
  },
  {
   "cell_type": "code",
   "execution_count": 45,
   "id": "f7136411",
   "metadata": {},
   "outputs": [
    {
     "data": {
      "text/plain": [
       "4.47213595499958"
      ]
     },
     "execution_count": 45,
     "metadata": {},
     "output_type": "execute_result"
    }
   ],
   "source": [
    "import math\n",
    "\n",
    "a=20\n",
    "\n",
    "g = math.sqrt(a)\n",
    "g"
   ]
  },
  {
   "cell_type": "code",
   "execution_count": null,
   "id": "69ba370e",
   "metadata": {},
   "outputs": [],
   "source": []
  }
 ],
 "metadata": {
  "kernelspec": {
   "display_name": "Python 3 (ipykernel)",
   "language": "python",
   "name": "python3"
  },
  "language_info": {
   "codemirror_mode": {
    "name": "ipython",
    "version": 3
   },
   "file_extension": ".py",
   "mimetype": "text/x-python",
   "name": "python",
   "nbconvert_exporter": "python",
   "pygments_lexer": "ipython3",
   "version": "3.9.12"
  }
 },
 "nbformat": 4,
 "nbformat_minor": 5
}
