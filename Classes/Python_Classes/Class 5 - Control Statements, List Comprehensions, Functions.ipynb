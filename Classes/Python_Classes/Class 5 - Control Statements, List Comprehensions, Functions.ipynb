{
 "cells": [
  {
   "cell_type": "markdown",
   "id": "4e3be062",
   "metadata": {},
   "source": [
    "### break, continue, pass"
   ]
  },
  {
   "cell_type": "markdown",
   "id": "77887c2a",
   "metadata": {},
   "source": [
    "<code>break</code>, <code>continue</code>, and <code>pass</code> statements in our loops to add additional functionality for various cases. The three statements are defined by:\n",
    "\n",
    "    break: Breaks out of the current closest enclosing loop.\n",
    "    continue: Goes to the top of the closest enclosing loop.\n",
    "    pass: Does nothing at all.\n",
    "    \n",
    "    \n",
    "Thinking about <code>break</code> and <code>continue</code> statements, the general format of the <code>while</code> loop looks like this:\n",
    "\n",
    "    while test: \n",
    "        code statement\n",
    "        if test: \n",
    "            break\n",
    "        if test: \n",
    "            continue \n",
    "    else:\n",
    "\n",
    "<code>break</code> and <code>continue</code> statements can appear anywhere inside the loop’s body, but we will usually put them further nested in conjunction with an <code>if</code> statement to perform an action based on some condition.\n"
   ]
  },
  {
   "cell_type": "markdown",
   "id": "556b31e3",
   "metadata": {},
   "source": [
    "### pass"
   ]
  },
  {
   "cell_type": "code",
   "execution_count": 1,
   "id": "9057fa90",
   "metadata": {},
   "outputs": [
    {
     "ename": "IndentationError",
     "evalue": "expected an indented block (362807883.py, line 2)",
     "output_type": "error",
     "traceback": [
      "\u001b[1;36m  Input \u001b[1;32mIn [1]\u001b[1;36m\u001b[0m\n\u001b[1;33m    if (i == 2):\u001b[0m\n\u001b[1;37m                ^\u001b[0m\n\u001b[1;31mIndentationError\u001b[0m\u001b[1;31m:\u001b[0m expected an indented block\n"
     ]
    }
   ],
   "source": [
    "i=1\n",
    "if (i == 2):"
   ]
  },
  {
   "cell_type": "markdown",
   "id": "55912389",
   "metadata": {},
   "source": [
    "To avoid such an error and to continue the code execution, pass statement is used. pass statement acts as a placeholder for future code."
   ]
  },
  {
   "cell_type": "code",
   "execution_count": 2,
   "id": "9661391a",
   "metadata": {},
   "outputs": [],
   "source": [
    "i=1\n",
    "if (i == 2):\n",
    "    pass"
   ]
  },
  {
   "cell_type": "markdown",
   "id": "92bc3c2a",
   "metadata": {},
   "source": [
    "### continue\n",
    "\n",
    "This keyword is used in loops to end the current iteration and continue the next iteration of the loop"
   ]
  },
  {
   "cell_type": "code",
   "execution_count": 3,
   "id": "5ac48612",
   "metadata": {},
   "outputs": [
    {
     "name": "stdout",
     "output_type": "stream",
     "text": [
      "1\n",
      "3\n",
      "5\n",
      "7\n",
      "9\n"
     ]
    }
   ],
   "source": [
    "for i in range(1,10):\n",
    "    if(i%2 == 0):\n",
    "        continue   \n",
    "    print(i)"
   ]
  },
  {
   "cell_type": "code",
   "execution_count": 4,
   "id": "241d8140",
   "metadata": {},
   "outputs": [
    {
     "name": "stdout",
     "output_type": "stream",
     "text": [
      "2\n",
      "4\n",
      "6\n",
      "8\n",
      "10\n"
     ]
    }
   ],
   "source": [
    "i = 1\n",
    "while (i <= 10):\n",
    "    i = i + 1\n",
    "    if (i%2 != 0):\n",
    "        continue\n",
    "    print(i)"
   ]
  },
  {
   "cell_type": "markdown",
   "id": "d558f419",
   "metadata": {},
   "source": [
    "### break\n",
    "\n",
    "break keyword is used to bring the interpreter out of the loop and into the main body of the program"
   ]
  },
  {
   "cell_type": "code",
   "execution_count": 8,
   "id": "dbb6a7b6",
   "metadata": {},
   "outputs": [
    {
     "name": "stdout",
     "output_type": "stream",
     "text": [
      "1\n",
      "2\n",
      "3\n",
      "4\n"
     ]
    }
   ],
   "source": [
    "i = 1\n",
    "while (i <= 10):\n",
    "    if (i == 5):\n",
    "        break \n",
    "    print(i)\n",
    "    i = i + 1 "
   ]
  },
  {
   "cell_type": "code",
   "execution_count": 13,
   "id": "f886e9b7",
   "metadata": {},
   "outputs": [
    {
     "name": "stdout",
     "output_type": "stream",
     "text": [
      "1\n",
      "2\n",
      "3\n",
      "4\n"
     ]
    }
   ],
   "source": [
    "for i in range(1, 10):\n",
    "    if (i == 5):\n",
    "        break\n",
    "    print(i)"
   ]
  },
  {
   "cell_type": "markdown",
   "id": "b52c3cea",
   "metadata": {},
   "source": [
    "Break: eliminates the execution of remaining iteration of loop\n",
    "\n",
    "Continue: terminate only the current iteration of loop."
   ]
  },
  {
   "cell_type": "markdown",
   "id": "18a4e777",
   "metadata": {},
   "source": [
    "### Questions\n",
    "\n",
    "1. The loop keeps asking the user for a number until the user enters 'q' it exit from the loop.\n",
    "2. The loop iterates over the numbers in the list. If a number is even (divisible by 2), the ``continue statement`` is executed.\n",
    "3. Use ``while loop`` displays the sum of first 5 elements of the tuple numbers t = (1, 2, 3, 4, 5, 6, 7, 8, 9).\n",
    "4. Use ``for loop`` prints all the numbers from 0 to 6 except 3 and 6 "
   ]
  },
  {
   "cell_type": "code",
   "execution_count": 15,
   "id": "61fff7aa",
   "metadata": {},
   "outputs": [
    {
     "name": "stdout",
     "output_type": "stream",
     "text": [
      "Enter number67\n",
      "Enter number34\n",
      "Enter number23\n",
      "Enter numberq\n"
     ]
    }
   ],
   "source": [
    "while True:\n",
    "    x = input(\"Enter number\")\n",
    "    if x == 'q':\n",
    "        break"
   ]
  },
  {
   "cell_type": "code",
   "execution_count": 33,
   "id": "16a1cbf8",
   "metadata": {},
   "outputs": [
    {
     "name": "stdout",
     "output_type": "stream",
     "text": [
      "15\n"
     ]
    }
   ],
   "source": [
    "t=(1,2,3,4,5,6,7,8,9)\n",
    "\n",
    "s=0\n",
    "i=0\n",
    "\n",
    "while True:\n",
    "    s+=t[i]\n",
    "    i+=1\n",
    "    if i==5:\n",
    "        break  \n",
    "print(s)"
   ]
  },
  {
   "cell_type": "markdown",
   "id": "14a2df45",
   "metadata": {},
   "source": [
    "### List Comprehensions"
   ]
  },
  {
   "cell_type": "markdown",
   "id": "29a56f78",
   "metadata": {},
   "source": [
    "List comprehensions are used for creating new lists from other iterables like lists, tuples, dictionaries, sets, and even in arrays and strings.\n",
    "\n",
    "**Syntax:**\n",
    "\n",
    "List = [expression(item) for item in iterable if condition]\n",
    "\n",
    "**expression:** it is the item which is being iterated.\n",
    "\n",
    "**iterable:** it can be list, tuples, dictionaries, sets, and even in arrays and strings.\n",
    "\n",
    "**condition:** condition checks if the item should be added to the new list or not."
   ]
  },
  {
   "cell_type": "code",
   "execution_count": 34,
   "id": "4737649b",
   "metadata": {},
   "outputs": [
    {
     "name": "stdout",
     "output_type": "stream",
     "text": [
      "w\n",
      "o\n",
      "r\n",
      "d\n"
     ]
    }
   ],
   "source": [
    "for x in 'word':\n",
    "    print(x)"
   ]
  },
  {
   "cell_type": "code",
   "execution_count": 35,
   "id": "ce7df796",
   "metadata": {},
   "outputs": [
    {
     "data": {
      "text/plain": [
       "['w', 'o', 'r', 'd']"
      ]
     },
     "execution_count": 35,
     "metadata": {},
     "output_type": "execute_result"
    }
   ],
   "source": [
    "# Grab every letter of string in list\n",
    "\n",
    "lst = [x for x in 'word']\n",
    "\n",
    "lst"
   ]
  },
  {
   "cell_type": "code",
   "execution_count": 36,
   "id": "16517c58",
   "metadata": {},
   "outputs": [
    {
     "data": {
      "text/plain": [
       "[0, 1, 4, 9, 16, 25, 36, 49, 64, 81, 100]"
      ]
     },
     "execution_count": 36,
     "metadata": {},
     "output_type": "execute_result"
    }
   ],
   "source": [
    "# Square numbers in range and turn into list\n",
    "\n",
    "t = [x**2 for x in range(0,11)]\n",
    "t"
   ]
  },
  {
   "cell_type": "code",
   "execution_count": 37,
   "id": "89ab82d2",
   "metadata": {},
   "outputs": [
    {
     "data": {
      "text/plain": [
       "[0, 1, 16, 81, 256, 625, 1296, 2401, 4096, 6561, 10000]"
      ]
     },
     "execution_count": 37,
     "metadata": {},
     "output_type": "execute_result"
    }
   ],
   "source": [
    "s = [ x**2 for x in [x**2 for x in range(11)]]\n",
    "s"
   ]
  },
  {
   "cell_type": "code",
   "execution_count": 38,
   "id": "9a08a947",
   "metadata": {},
   "outputs": [
    {
     "name": "stdout",
     "output_type": "stream",
     "text": [
      "['Suraj', 'Yash', 'Nitasha']\n"
     ]
    }
   ],
   "source": [
    "# accepts items with the small letter “a” in the new list \n",
    "\n",
    "names = [\"Suraj\", \"Piyush\", \"Yash\", \"Rohit\",\"Shurti\", \"Nitasha\"]\n",
    "m = [i for i in names if \"a\" in i]\n",
    "print(m)"
   ]
  },
  {
   "cell_type": "markdown",
   "id": "50711aae",
   "metadata": {},
   "source": [
    "### Questions\n",
    "\n",
    "1. Create a list of numbers from 1 to 100, but only include multiples of 5.\n",
    "\n",
    "2. Filter out negative numbers from a list:[-2,-1,0,1,2]\n",
    "\n",
    "3. Generate a list of uppercase characters from a string = \"Hello, My course name is Data Science\""
   ]
  },
  {
   "cell_type": "markdown",
   "id": "849deab9",
   "metadata": {},
   "source": [
    "### Functions\n",
    "\n",
    "Functions will be one of our main building blocks when we construct larger and larger amounts of code to solve problems.\n",
    "\n",
    "**What is a function?**\n",
    "\n",
    "A function is a useful device that groups together a set of statements so they can be run more than once. They can also let us specify parameters that can serve as inputs to the functions.\n",
    "\n",
    "On a more fundamental level, functions allow us to not have to repeatedly write the same code again and again."
   ]
  },
  {
   "cell_type": "markdown",
   "id": "076dc3f1",
   "metadata": {},
   "source": [
    "### built-in functions\n",
    "\n",
    "These functions are defined and pre-coded in python. Some examples of built-in functions are as follows:\n",
    "\n",
    "min(),\n",
    "max(),\n",
    "len(),\n",
    "sum(), \n",
    "type(), \n",
    "range(),\n",
    "dict(), \n",
    "list(), \n",
    "tuple(), \n",
    "set(), \n",
    "print(), etc."
   ]
  },
  {
   "cell_type": "code",
   "execution_count": 39,
   "id": "3fb02c3b",
   "metadata": {},
   "outputs": [
    {
     "data": {
      "text/plain": [
       "10"
      ]
     },
     "execution_count": 39,
     "metadata": {},
     "output_type": "execute_result"
    }
   ],
   "source": [
    "min(10,20)"
   ]
  },
  {
   "cell_type": "code",
   "execution_count": 40,
   "id": "52822cb0",
   "metadata": {},
   "outputs": [
    {
     "data": {
      "text/plain": [
       "20"
      ]
     },
     "execution_count": 40,
     "metadata": {},
     "output_type": "execute_result"
    }
   ],
   "source": [
    "max(10,20)"
   ]
  },
  {
   "cell_type": "code",
   "execution_count": 41,
   "id": "2636efe4",
   "metadata": {},
   "outputs": [
    {
     "data": {
      "text/plain": [
       "4"
      ]
     },
     "execution_count": 41,
     "metadata": {},
     "output_type": "execute_result"
    }
   ],
   "source": [
    "x=[10,20,30,40]\n",
    "\n",
    "len(x)"
   ]
  },
  {
   "cell_type": "code",
   "execution_count": 42,
   "id": "2bb09e22",
   "metadata": {},
   "outputs": [
    {
     "data": {
      "text/plain": [
       "100"
      ]
     },
     "execution_count": 42,
     "metadata": {},
     "output_type": "execute_result"
    }
   ],
   "source": [
    "a = [10,20,30,40]\n",
    "\n",
    "sum(a)"
   ]
  },
  {
   "cell_type": "code",
   "execution_count": 43,
   "id": "3ba57c1c",
   "metadata": {},
   "outputs": [
    {
     "data": {
      "text/plain": [
       "list"
      ]
     },
     "execution_count": 43,
     "metadata": {},
     "output_type": "execute_result"
    }
   ],
   "source": [
    "type(a)"
   ]
  },
  {
   "cell_type": "code",
   "execution_count": null,
   "id": "e28e2310",
   "metadata": {},
   "outputs": [],
   "source": []
  }
 ],
 "metadata": {
  "kernelspec": {
   "display_name": "Python 3 (ipykernel)",
   "language": "python",
   "name": "python3"
  },
  "language_info": {
   "codemirror_mode": {
    "name": "ipython",
    "version": 3
   },
   "file_extension": ".py",
   "mimetype": "text/x-python",
   "name": "python",
   "nbconvert_exporter": "python",
   "pygments_lexer": "ipython3",
   "version": "3.9.12"
  }
 },
 "nbformat": 4,
 "nbformat_minor": 5
}
