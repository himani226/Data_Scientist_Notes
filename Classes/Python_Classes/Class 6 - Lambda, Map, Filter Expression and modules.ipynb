{
 "cells": [
  {
   "cell_type": "markdown",
   "id": "5201080f",
   "metadata": {},
   "source": [
    "### lambda expressions\n",
    "\n",
    "Lambda Functions are anonymous function means that the function is without a name. The lambda keyword is used to define an anonymous function in Python.\n",
    "\n",
    "<b> Syntax: lambda arguments: expression </b>\n",
    "\n",
    "1. This function can have any number of arguments but only one expression, which is evaluated and returned.\n",
    "2. One is free to use lambda functions wherever function objects are required.\n",
    "3. lambda functions are syntactically restricted to a single expression."
   ]
  },
  {
   "cell_type": "code",
   "execution_count": 1,
   "id": "bc5a8cfe",
   "metadata": {},
   "outputs": [
    {
     "data": {
      "text/plain": [
       "10"
      ]
     },
     "execution_count": 1,
     "metadata": {},
     "output_type": "execute_result"
    }
   ],
   "source": [
    "def times(var):\n",
    "    return var*2\n",
    "\n",
    "times(5)"
   ]
  },
  {
   "cell_type": "code",
   "execution_count": 2,
   "id": "a56af43a",
   "metadata": {},
   "outputs": [
    {
     "data": {
      "text/plain": [
       "<function __main__.<lambda>(var)>"
      ]
     },
     "execution_count": 2,
     "metadata": {},
     "output_type": "execute_result"
    }
   ],
   "source": [
    "lambda var: var*2"
   ]
  },
  {
   "cell_type": "code",
   "execution_count": 3,
   "id": "b52ff1e3",
   "metadata": {},
   "outputs": [
    {
     "data": {
      "text/plain": [
       "10"
      ]
     },
     "execution_count": 3,
     "metadata": {},
     "output_type": "execute_result"
    }
   ],
   "source": [
    "t = lambda var: var*2\n",
    "\n",
    "t(5)"
   ]
  },
  {
   "cell_type": "markdown",
   "id": "6c0672f4",
   "metadata": {},
   "source": [
    "#### Python Lambda Function with List Comprehension"
   ]
  },
  {
   "cell_type": "code",
   "execution_count": 32,
   "id": "ea78f71e",
   "metadata": {},
   "outputs": [
    {
     "name": "stdout",
     "output_type": "stream",
     "text": [
      "20\n",
      "20\n",
      "20\n",
      "20\n"
     ]
    }
   ],
   "source": [
    "even = [lambda x: x * 10 for x in range(1, 5)]\n",
    " \n",
    "# iterate on each lambda function\n",
    "# and invoke the function to get the calculated value\n",
    "for i in even:\n",
    "    print(i(2))"
   ]
  },
  {
   "cell_type": "markdown",
   "id": "857be9a5",
   "metadata": {},
   "source": [
    "### Questions\n",
    "\n",
    "1. Write a lambda function to find the average of a list of numbers. n=[1,2,3,4,5]\n",
    "2. Write a lambda function to check if a number is divisible by 3."
   ]
  },
  {
   "cell_type": "code",
   "execution_count": 34,
   "id": "ab6edc4d",
   "metadata": {},
   "outputs": [
    {
     "data": {
      "text/plain": [
       "False"
      ]
     },
     "execution_count": 34,
     "metadata": {},
     "output_type": "execute_result"
    }
   ],
   "source": [
    "p = lambda var:var%3==0\n",
    "p(5)"
   ]
  },
  {
   "cell_type": "code",
   "execution_count": 35,
   "id": "1589a0d8",
   "metadata": {},
   "outputs": [
    {
     "data": {
      "text/plain": [
       "True"
      ]
     },
     "execution_count": 35,
     "metadata": {},
     "output_type": "execute_result"
    }
   ],
   "source": [
    "p(3)"
   ]
  },
  {
   "cell_type": "markdown",
   "id": "57ab7c16",
   "metadata": {},
   "source": [
    "## map and filter\n",
    "\n",
    "\n",
    "map() function returns a map object(which is an iterator) of the results after applying the given function to each item of a given iterable (list, tuple etc.)\n",
    "\n",
    "\n",
    "The filter() method filters the given sequence with the help of a function that tests each element in the sequence to be true or not. \n",
    "\n",
    "\n",
    "#### Filter out all odd numbers using filter() and lambda function"
   ]
  },
  {
   "cell_type": "markdown",
   "id": "62631c28",
   "metadata": {},
   "source": [
    "#### Python Lambda Function with if-else"
   ]
  },
  {
   "cell_type": "code",
   "execution_count": 36,
   "id": "506308dc",
   "metadata": {},
   "outputs": [
    {
     "name": "stdout",
     "output_type": "stream",
     "text": [
      "15\n"
     ]
    }
   ],
   "source": [
    "x = lambda a, b : a if(a > b) else b\n",
    " \n",
    "print(x(10, 15))"
   ]
  },
  {
   "cell_type": "code",
   "execution_count": 37,
   "id": "91a6b175",
   "metadata": {},
   "outputs": [
    {
     "data": {
      "text/plain": [
       "<map at 0x23f434a0370>"
      ]
     },
     "execution_count": 37,
     "metadata": {},
     "output_type": "execute_result"
    }
   ],
   "source": [
    "def times(var):\n",
    "    return var*2\n",
    "\n",
    "seq = [1,2,3,4,5]\n",
    "\n",
    "map(times,seq)"
   ]
  },
  {
   "cell_type": "code",
   "execution_count": 38,
   "id": "760ed94c",
   "metadata": {},
   "outputs": [
    {
     "data": {
      "text/plain": [
       "[2, 4, 6, 8, 10]"
      ]
     },
     "execution_count": 38,
     "metadata": {},
     "output_type": "execute_result"
    }
   ],
   "source": [
    "list(map(times,seq))"
   ]
  },
  {
   "cell_type": "code",
   "execution_count": 41,
   "id": "f8648c3c",
   "metadata": {},
   "outputs": [
    {
     "data": {
      "text/plain": [
       "[2, 4, 6, 8, 10]"
      ]
     },
     "execution_count": 41,
     "metadata": {},
     "output_type": "execute_result"
    }
   ],
   "source": [
    "list(map(lambda var: var*2,seq))"
   ]
  },
  {
   "cell_type": "code",
   "execution_count": 42,
   "id": "93f869f0",
   "metadata": {},
   "outputs": [
    {
     "name": "stdout",
     "output_type": "stream",
     "text": [
      "[5, 7, 97, 77, 23, 73, 61]\n"
     ]
    }
   ],
   "source": [
    "li = [5, 7, 22, 97, 54, 62, 77, 23, 73, 61]\n",
    "\n",
    "t = lambda x: (x % 2 != 0)\n",
    "\n",
    "m = filter(t,li)\n",
    "\n",
    "f = list(m)\n",
    "print(f)"
   ]
  },
  {
   "cell_type": "code",
   "execution_count": 43,
   "id": "dde80aac",
   "metadata": {},
   "outputs": [
    {
     "data": {
      "text/plain": [
       "[5, 7, 97, 77, 23, 73, 61]"
      ]
     },
     "execution_count": 43,
     "metadata": {},
     "output_type": "execute_result"
    }
   ],
   "source": [
    "list(filter(lambda x:(x%2 != 0),li))"
   ]
  },
  {
   "cell_type": "code",
   "execution_count": 44,
   "id": "b68de225",
   "metadata": {},
   "outputs": [
    {
     "data": {
      "text/plain": [
       "[True, True, False, True, False, False, True, True, True, True]"
      ]
     },
     "execution_count": 44,
     "metadata": {},
     "output_type": "execute_result"
    }
   ],
   "source": [
    "list(map(lambda x:(x%2 != 0),li))"
   ]
  },
  {
   "cell_type": "markdown",
   "id": "41c8d3b0",
   "metadata": {},
   "source": [
    "<b>Question: Filter all people having age more than 18, using lambda and filter() function</b>\n",
    "\n",
    "a = [13, 90, 17, 59, 21, 60, 5]"
   ]
  },
  {
   "cell_type": "code",
   "execution_count": 47,
   "id": "30e0e155",
   "metadata": {},
   "outputs": [
    {
     "data": {
      "text/plain": [
       "[90, 59, 21, 60]"
      ]
     },
     "execution_count": 47,
     "metadata": {},
     "output_type": "execute_result"
    }
   ],
   "source": [
    "a = [13, 90, 17, 59, 21, 60, 5]\n",
    "\n",
    "list(filter(lambda z: z>18,a))"
   ]
  },
  {
   "cell_type": "markdown",
   "id": "a7f717cd",
   "metadata": {},
   "source": [
    "### Python Modules\n",
    "\n",
    "Python modules are python files which contains python code that can be used within another python files ensuring simplicity and code reusability."
   ]
  },
  {
   "cell_type": "markdown",
   "id": "553a432e",
   "metadata": {},
   "source": [
    "<b>Some built-in modules:</b>\n",
    "\n",
    "csv, datetime, json, math, random, sqlite3, statistics, tkinter, turtle, etc."
   ]
  },
  {
   "cell_type": "code",
   "execution_count": 48,
   "id": "b2819e19",
   "metadata": {},
   "outputs": [
    {
     "name": "stdout",
     "output_type": "stream",
     "text": [
      "3.141592653589793\n",
      "Sin(0) = 0.0\n",
      "Cos(30) = 0.8660254037844387\n",
      "Tanh(45) = 0.6557942026326724\n"
     ]
    }
   ],
   "source": [
    "# importing math module\n",
    "\n",
    "import math\n",
    "\n",
    "print(math.pi)\n",
    "print(\"Sin(0) =\", math.sin(0))\n",
    "print(\"Cos(30) =\", math.cos(math.pi/6))\n",
    "print(\"Tanh(45) =\", math.tanh(math.pi/4))"
   ]
  },
  {
   "cell_type": "markdown",
   "id": "039c805b",
   "metadata": {},
   "source": [
    "### dir() function\n",
    "\n",
    "lists all the function names (or variable names) in a module."
   ]
  },
  {
   "cell_type": "code",
   "execution_count": 49,
   "id": "df504066",
   "metadata": {},
   "outputs": [
    {
     "name": "stdout",
     "output_type": "stream",
     "text": [
      "['__doc__', '__loader__', '__name__', '__package__', '__spec__', 'acos', 'acosh', 'asin', 'asinh', 'atan', 'atan2', 'atanh', 'ceil', 'comb', 'copysign', 'cos', 'cosh', 'degrees', 'dist', 'e', 'erf', 'erfc', 'exp', 'expm1', 'fabs', 'factorial', 'floor', 'fmod', 'frexp', 'fsum', 'gamma', 'gcd', 'hypot', 'inf', 'isclose', 'isfinite', 'isinf', 'isnan', 'isqrt', 'lcm', 'ldexp', 'lgamma', 'log', 'log10', 'log1p', 'log2', 'modf', 'nan', 'nextafter', 'perm', 'pi', 'pow', 'prod', 'radians', 'remainder', 'sin', 'sinh', 'sqrt', 'tan', 'tanh', 'tau', 'trunc', 'ulp']\n"
     ]
    }
   ],
   "source": [
    "import math\n",
    "\n",
    "lst1 = dir(math)\n",
    "print(lst1)"
   ]
  },
  {
   "cell_type": "code",
   "execution_count": 50,
   "id": "352e2b9b",
   "metadata": {},
   "outputs": [
    {
     "data": {
      "text/plain": [
       "2.23606797749979"
      ]
     },
     "execution_count": 50,
     "metadata": {},
     "output_type": "execute_result"
    }
   ],
   "source": [
    "math.sqrt(5)"
   ]
  },
  {
   "cell_type": "code",
   "execution_count": 51,
   "id": "7ff44cd7",
   "metadata": {},
   "outputs": [
    {
     "name": "stdout",
     "output_type": "stream",
     "text": [
      "2023-06-06 12:18:44.473214\n"
     ]
    }
   ],
   "source": [
    "import datetime as dt\n",
    "\n",
    "\n",
    "x = dt.datetime.now()\n",
    "print(x)\n"
   ]
  },
  {
   "cell_type": "code",
   "execution_count": 55,
   "id": "9299fa6d",
   "metadata": {},
   "outputs": [
    {
     "name": "stdout",
     "output_type": "stream",
     "text": [
      "Mon\n"
     ]
    }
   ],
   "source": [
    "x = dt.datetime(2023, 6, 5)\n",
    "\n",
    "print(x.strftime(\"%a\"))"
   ]
  },
  {
   "cell_type": "code",
   "execution_count": 56,
   "id": "f5bd3956",
   "metadata": {},
   "outputs": [
    {
     "name": "stdout",
     "output_type": "stream",
     "text": [
      "Jun\n"
     ]
    }
   ],
   "source": [
    "x = dt.datetime(2023, 6, 5)\n",
    "\n",
    "print(x.strftime(\"%b\"))"
   ]
  },
  {
   "cell_type": "code",
   "execution_count": 59,
   "id": "708b6926",
   "metadata": {},
   "outputs": [
    {
     "name": "stdout",
     "output_type": "stream",
     "text": [
      "2023\n"
     ]
    }
   ],
   "source": [
    "x = dt.datetime(2023, 6, 5)\n",
    "\n",
    "print(x.strftime(\"%Y\"))"
   ]
  },
  {
   "cell_type": "code",
   "execution_count": 65,
   "id": "c60e1dfe",
   "metadata": {},
   "outputs": [
    {
     "data": {
      "text/plain": [
       "'rishav'"
      ]
     },
     "execution_count": 65,
     "metadata": {},
     "output_type": "execute_result"
    }
   ],
   "source": [
    "import random \n",
    "\n",
    "names = [\"piyush\",\"karan\",\"rishav\",\"kartik\"]\n",
    "\n",
    "c = random.choice(names)\n",
    "\n",
    "c"
   ]
  },
  {
   "cell_type": "code",
   "execution_count": 66,
   "id": "7beff776",
   "metadata": {},
   "outputs": [
    {
     "data": {
      "text/plain": [
       "33"
      ]
     },
     "execution_count": 66,
     "metadata": {},
     "output_type": "execute_result"
    }
   ],
   "source": [
    "k = random.randint(0,100)\n",
    "k"
   ]
  },
  {
   "cell_type": "markdown",
   "id": "33eebf22",
   "metadata": {},
   "source": [
    "Note: `random.randint(a,b)` returns a random integer in range `[a, b]`, including both end points."
   ]
  },
  {
   "cell_type": "code",
   "execution_count": 69,
   "id": "a8492db0",
   "metadata": {},
   "outputs": [
    {
     "data": {
      "text/plain": [
       "['x', 'e', 's', 'o', 's', 'r', 'i', 'e', 'p', 'n']"
      ]
     },
     "execution_count": 69,
     "metadata": {},
     "output_type": "execute_result"
    }
   ],
   "source": [
    "q = \"expression\"\n",
    "\n",
    "word = random.sample(q, len(q))\n",
    "word"
   ]
  },
  {
   "cell_type": "markdown",
   "id": "9178a392",
   "metadata": {},
   "source": [
    "### Creating and using module\n",
    "\n",
    "Write code and save file with extension .py "
   ]
  },
  {
   "cell_type": "code",
   "execution_count": 70,
   "id": "4263ba00",
   "metadata": {},
   "outputs": [],
   "source": [
    "import module"
   ]
  },
  {
   "cell_type": "code",
   "execution_count": 71,
   "id": "b7f5bf21",
   "metadata": {},
   "outputs": [
    {
     "name": "stdout",
     "output_type": "stream",
     "text": [
      "['__builtins__', '__cached__', '__doc__', '__file__', '__loader__', '__name__', '__package__', '__spec__', 'add', 'cube', 'square', 'sub']\n"
     ]
    }
   ],
   "source": [
    "lst1 = dir(module)\n",
    "print(lst1)"
   ]
  },
  {
   "cell_type": "code",
   "execution_count": 72,
   "id": "1acc7332",
   "metadata": {},
   "outputs": [
    {
     "name": "stdout",
     "output_type": "stream",
     "text": [
      "First number:12\n",
      "Second number:7\n",
      "Add 19\n",
      "Sub 5\n",
      "Square 144\n",
      "Cube 343\n"
     ]
    }
   ],
   "source": [
    "num1 = int(input(\"First number:\"))\n",
    "num2 = int(input(\"Second number:\"))\n",
    "\n",
    "print(\"Add\", module.add(num1, num2))\n",
    "print(\"Sub\", module.sub(num1, num2))\n",
    "print(\"Square\", module.square(num1))\n",
    "print(\"Cube\", module.cube(num2))"
   ]
  },
  {
   "cell_type": "markdown",
   "id": "e2623551",
   "metadata": {},
   "source": [
    "### Using an alias:\n",
    "alias can also use while importing module. So that, we do not need to write the whole name of the module while calling it. "
   ]
  },
  {
   "cell_type": "code",
   "execution_count": null,
   "id": "230c9fe8",
   "metadata": {},
   "outputs": [],
   "source": [
    "import module as m\n",
    "\n",
    "num1 = int(input(\"First number:\"))\n",
    "num2 = int(input(\"Second number:\"))\n",
    "\n",
    "print(\"Add\", m.add(num1, num2))\n",
    "print(\"Sub\", m.sub(num1, num2))\n",
    "print(\"Square\", m.square(num1))\n",
    "print(\"Cube\", m.cube(num2))"
   ]
  },
  {
   "cell_type": "markdown",
   "id": "2ddd56fe",
   "metadata": {},
   "source": [
    "### Use an asterisk(*) while importing.\n",
    "\n",
    "import everything from a module but we do not need to prefix module name again and again"
   ]
  },
  {
   "cell_type": "code",
   "execution_count": 3,
   "id": "a981da1f",
   "metadata": {},
   "outputs": [
    {
     "name": "stdout",
     "output_type": "stream",
     "text": [
      "First number:1\n",
      "Second number:1\n"
     ]
    },
    {
     "ename": "NameError",
     "evalue": "name 'module' is not defined",
     "output_type": "error",
     "traceback": [
      "\u001b[1;31m---------------------------------------------------------------------------\u001b[0m",
      "\u001b[1;31mNameError\u001b[0m                                 Traceback (most recent call last)",
      "Input \u001b[1;32mIn [3]\u001b[0m, in \u001b[0;36m<cell line: 6>\u001b[1;34m()\u001b[0m\n\u001b[0;32m      3\u001b[0m num1 \u001b[38;5;241m=\u001b[39m \u001b[38;5;28mint\u001b[39m(\u001b[38;5;28minput\u001b[39m(\u001b[38;5;124m\"\u001b[39m\u001b[38;5;124mFirst number:\u001b[39m\u001b[38;5;124m\"\u001b[39m))\n\u001b[0;32m      4\u001b[0m num2 \u001b[38;5;241m=\u001b[39m \u001b[38;5;28mint\u001b[39m(\u001b[38;5;28minput\u001b[39m(\u001b[38;5;124m\"\u001b[39m\u001b[38;5;124mSecond number:\u001b[39m\u001b[38;5;124m\"\u001b[39m))\n\u001b[1;32m----> 6\u001b[0m \u001b[38;5;28mprint\u001b[39m(\u001b[38;5;124m\"\u001b[39m\u001b[38;5;124mAdd\u001b[39m\u001b[38;5;124m\"\u001b[39m, \u001b[43mmodule\u001b[49m\u001b[38;5;241m.\u001b[39madd(num1, num2))\n\u001b[0;32m      7\u001b[0m \u001b[38;5;28mprint\u001b[39m(\u001b[38;5;124m\"\u001b[39m\u001b[38;5;124mSub\u001b[39m\u001b[38;5;124m\"\u001b[39m, module\u001b[38;5;241m.\u001b[39msub(num1, num2))\n\u001b[0;32m      8\u001b[0m \u001b[38;5;28mprint\u001b[39m(\u001b[38;5;124m\"\u001b[39m\u001b[38;5;124mSquare\u001b[39m\u001b[38;5;124m\"\u001b[39m, module\u001b[38;5;241m.\u001b[39msquare(num1))\n",
      "\u001b[1;31mNameError\u001b[0m: name 'module' is not defined"
     ]
    }
   ],
   "source": [
    "from module import add, sub\n",
    "\n",
    "num1 = int(input(\"First number:\"))\n",
    "num2 = int(input(\"Second number:\"))\n",
    "\n",
    "print(\"Add\", module.add(num1, num2))\n",
    "print(\"Sub\", module.sub(num1, num2))\n",
    "print(\"Square\", module.square(num1))\n",
    "print(\"Cube\", module.cube(num2))"
   ]
  },
  {
   "cell_type": "code",
   "execution_count": null,
   "id": "1a31f36e",
   "metadata": {},
   "outputs": [],
   "source": []
  }
 ],
 "metadata": {
  "kernelspec": {
   "display_name": "Python 3 (ipykernel)",
   "language": "python",
   "name": "python3"
  },
  "language_info": {
   "codemirror_mode": {
    "name": "ipython",
    "version": 3
   },
   "file_extension": ".py",
   "mimetype": "text/x-python",
   "name": "python",
   "nbconvert_exporter": "python",
   "pygments_lexer": "ipython3",
   "version": "3.9.12"
  }
 },
 "nbformat": 4,
 "nbformat_minor": 5
}
