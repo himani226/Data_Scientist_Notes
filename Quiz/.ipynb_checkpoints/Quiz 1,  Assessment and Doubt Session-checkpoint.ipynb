{
 "cells": [
  {
   "cell_type": "markdown",
   "id": "4151e6c2",
   "metadata": {},
   "source": [
    "1. What is the result of print(type([])) is list"
   ]
  },
  {
   "cell_type": "code",
   "execution_count": null,
   "id": "c489e6b7",
   "metadata": {},
   "outputs": [],
   "source": [
    "print(type([]))"
   ]
  },
  {
   "cell_type": "markdown",
   "id": "a6883e3d",
   "metadata": {},
   "source": [
    "2. What is the data type of the following"
   ]
  },
  {
   "cell_type": "code",
   "execution_count": null,
   "id": "47ff2eac",
   "metadata": {},
   "outputs": [],
   "source": [
    "aTuple = (1, 'Jhon', 1+3j)\n",
    "print(type(aTuple[2:3]))"
   ]
  },
  {
   "cell_type": "markdown",
   "id": "d0a937c2",
   "metadata": {},
   "source": [
    "3. What is the output of print(type({})) is set"
   ]
  },
  {
   "cell_type": "code",
   "execution_count": null,
   "id": "c832fa12",
   "metadata": {},
   "outputs": [],
   "source": [
    "print(type({}))"
   ]
  },
  {
   "cell_type": "markdown",
   "id": "4631ba6a",
   "metadata": {},
   "source": [
    "4. Output of the following code."
   ]
  },
  {
   "cell_type": "code",
   "execution_count": null,
   "id": "2038c789",
   "metadata": {},
   "outputs": [],
   "source": [
    "if any([True, False, False, False]) == True:\n",
    "    print('Yes, there is True')"
   ]
  },
  {
   "cell_type": "markdown",
   "id": "ebbf8c16",
   "metadata": {},
   "source": [
    "<b>5. What built-in list method would you use to remove items from a list?</b>\n",
    "\n",
    "a) .delete() method\n",
    "\n",
    "b) pop(my_list)\n",
    "\n",
    "c) del(my_list)\n",
    "\n",
    "d) .pop() method"
   ]
  },
  {
   "cell_type": "markdown",
   "id": "bd0832e2",
   "metadata": {},
   "source": [
    "6. What would this expression return?\n"
   ]
  },
  {
   "cell_type": "code",
   "execution_count": null,
   "id": "5a8a5b36",
   "metadata": {},
   "outputs": [],
   "source": [
    "college_years = ['Freshman', 'Sophomore', 'Junior', 'Senior']\n",
    "\n",
    "list(enumerate(college_years, 2019))"
   ]
  },
  {
   "cell_type": "markdown",
   "id": "d6320f9a",
   "metadata": {},
   "source": [
    "a) [('Freshman', 2019), ('Sophomore', 2020), ('Junior', 2021), ('Senior', 2022)]\n",
    "\n",
    "b) [(2019, 2020, 2021, 2022), ('Freshman', 'Sophomore', 'Junior', 'Senior')]\n",
    "\n",
    "c) [('Freshman', 'Sophomore', 'Junior', 'Senior'), (2019, 2020, 2021, 2022)]\n",
    "\n",
    "d) [(2019, 'Freshman'), (2020, 'Sophomore'), (2021, 'Junior'), (2022, 'Senior')]"
   ]
  },
  {
   "cell_type": "markdown",
   "id": "448ddc2f",
   "metadata": {},
   "source": [
    "<b>7. What is the purpose of the pass statement in Python?</b>\n",
    "\n",
    "a) It is used to skip the yield statement of a generator and return a value of None.\n",
    "\n",
    "b) It is a null operation used mainly as a placeholder in functions, classes, etc.\n",
    "\n",
    "c) It is used to pass control from one statement block to another.\n",
    "\n",
    "d) It is used to skip the rest of a while or for loop and return to the start of the loop."
   ]
  },
  {
   "cell_type": "markdown",
   "id": "7d99da4c",
   "metadata": {},
   "source": [
    "<b>8. When does a for loop stop iterating?</b>\n",
    "\n",
    "a) when it encounters an infinite loop\n",
    "\n",
    "b) when it encounters an if/else statement that contains a break keyword\n",
    "\n",
    "c) when it has assessed each item in the iterable it is working on or a break keyword is encountered\n",
    "\n",
    "d) when the runtime for the loop exceeds O(n^2)"
   ]
  },
  {
   "cell_type": "markdown",
   "id": "3bffaac9",
   "metadata": {},
   "source": [
    "<b>9. What is key difference between a set and a list?</b>\n",
    "\n",
    "a) A set is an ordered collection unique items. A list is an unordered collection of non-unique items.\n",
    "\n",
    "b) Elements can be retrieved from a list but they cannot be retrieved from a set.\n",
    "\n",
    "c) A set is an ordered collection of non-unique items. A list is an unordered collection of unique items.\n",
    "\n",
    "d) A set is an unordered collection unique items. A list is an ordered collection of non-unique items.\n",
    "\n"
   ]
  },
  {
   "cell_type": "markdown",
   "id": "dcd62ad5",
   "metadata": {},
   "source": [
    "<b>10. Given the following three list, create a new list that matches the desired output printed below?</b>\n",
    "\n",
    "fruits = ['Apples', 'Oranges', 'Bananas']\n",
    "\n",
    "quantities = [5, 3, 4]\n",
    "\n",
    "prices = [1.50, 2.25, 0.89]\n",
    "\n",
    "<b>#Desired output</b>\n",
    "\n",
    "[('Apples', 5, 1.50),\n",
    " \n",
    "('Oranges', 3, 2.25),\n",
    " \n",
    "('Bananas', 4, 0.89)]"
   ]
  },
  {
   "cell_type": "code",
   "execution_count": null,
   "id": "acc1d6d3",
   "metadata": {},
   "outputs": [],
   "source": []
  }
 ],
 "metadata": {
  "kernelspec": {
   "display_name": "Python 3 (ipykernel)",
   "language": "python",
   "name": "python3"
  },
  "language_info": {
   "codemirror_mode": {
    "name": "ipython",
    "version": 3
   },
   "file_extension": ".py",
   "mimetype": "text/x-python",
   "name": "python",
   "nbconvert_exporter": "python",
   "pygments_lexer": "ipython3",
   "version": "3.9.12"
  }
 },
 "nbformat": 4,
 "nbformat_minor": 5
}
