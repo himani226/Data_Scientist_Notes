{
 "cells": [
  {
   "cell_type": "markdown",
   "id": "4151e6c2",
   "metadata": {},
   "source": [
    "1. What is the result of print(type([])) is list"
   ]
  },
  {
   "cell_type": "code",
   "execution_count": 1,
   "id": "c489e6b7",
   "metadata": {},
   "outputs": [
    {
     "name": "stdout",
     "output_type": "stream",
     "text": [
      "<class 'list'>\n"
     ]
    }
   ],
   "source": [
    "print(type([]))"
   ]
  },
  {
   "cell_type": "markdown",
   "id": "a6883e3d",
   "metadata": {},
   "source": [
    "2. What is the data type of the following"
   ]
  },
  {
   "cell_type": "code",
   "execution_count": 2,
   "id": "47ff2eac",
   "metadata": {},
   "outputs": [
    {
     "name": "stdout",
     "output_type": "stream",
     "text": [
      "<class 'tuple'>\n"
     ]
    }
   ],
   "source": [
    "aTuple = (1, 'Jhon', 1+3j)\n",
    "print(type(aTuple[2:3]))"
   ]
  },
  {
   "cell_type": "markdown",
   "id": "d0a937c2",
   "metadata": {},
   "source": [
    "3. What is the output of print(type({})) is set"
   ]
  },
  {
   "cell_type": "code",
   "execution_count": 3,
   "id": "c832fa12",
   "metadata": {},
   "outputs": [
    {
     "name": "stdout",
     "output_type": "stream",
     "text": [
      "<class 'dict'>\n"
     ]
    }
   ],
   "source": [
    "print(type({}))"
   ]
  },
  {
   "cell_type": "markdown",
   "id": "4631ba6a",
   "metadata": {},
   "source": [
    "4. Output of the following code."
   ]
  },
  {
   "cell_type": "code",
   "execution_count": 4,
   "id": "2038c789",
   "metadata": {},
   "outputs": [
    {
     "name": "stdout",
     "output_type": "stream",
     "text": [
      "Yes, there is True\n"
     ]
    }
   ],
   "source": [
    "if any([True, False, False, False]) == True:\n",
    "    print('Yes, there is True')"
   ]
  },
  {
   "cell_type": "markdown",
   "id": "ebbf8c16",
   "metadata": {},
   "source": [
    "<b>5. What built-in list method would you use to remove items from a list?</b>\n",
    "\n",
    "a) .delete() method\n",
    "\n",
    "b) pop(my_list)\n",
    "\n",
    "c) del(my_list)\n",
    "\n",
    "d) .pop() method"
   ]
  },
  {
   "cell_type": "markdown",
   "id": "bd0832e2",
   "metadata": {},
   "source": [
    "6. What would this expression return?\n"
   ]
  },
  {
   "cell_type": "code",
   "execution_count": 5,
   "id": "5a8a5b36",
   "metadata": {},
   "outputs": [
    {
     "data": {
      "text/plain": [
       "[(2019, 'Freshman'), (2020, 'Sophomore'), (2021, 'Junior'), (2022, 'Senior')]"
      ]
     },
     "execution_count": 5,
     "metadata": {},
     "output_type": "execute_result"
    }
   ],
   "source": [
    "college_years = ['Freshman', 'Sophomore', 'Junior', 'Senior']\n",
    "\n",
    "list(enumerate(college_years, 2019))"
   ]
  },
  {
   "cell_type": "markdown",
   "id": "d6320f9a",
   "metadata": {},
   "source": [
    "a) [('Freshman', 2019), ('Sophomore', 2020), ('Junior', 2021), ('Senior', 2022)]\n",
    "\n",
    "b) [(2019, 2020, 2021, 2022), ('Freshman', 'Sophomore', 'Junior', 'Senior')]\n",
    "\n",
    "c) [('Freshman', 'Sophomore', 'Junior', 'Senior'), (2019, 2020, 2021, 2022)]\n",
    "\n",
    "d) [(2019, 'Freshman'), (2020, 'Sophomore'), (2021, 'Junior'), (2022, 'Senior')]"
   ]
  },
  {
   "cell_type": "markdown",
   "id": "448ddc2f",
   "metadata": {},
   "source": [
    "<b>7. What is the purpose of the if-else statement in Python?</b>\n",
    "\n",
    "a) It is used to define a loop in Python.\n",
    "\n",
    "b) It is used to perform arithmetic calculations in Python.\n",
    "\n",
    "c) It is used to make decisions and execute different blocks of code based on a condition.\n",
    "\n",
    "d) It is used to declare variables in Python."
   ]
  },
  {
   "cell_type": "markdown",
   "id": "7d99da4c",
   "metadata": {},
   "source": [
    "<b>8. When does a for loop stop iterating?</b>\n",
    "\n",
    "a) when it encounters an infinite loop\n",
    "\n",
    "b) when it encounters an if/else statement that contains a break keyword\n",
    "\n",
    "c) when it has assessed each item in the iterable it is working on or a break keyword is encountered\n",
    "\n",
    "d) when the runtime for the loop exceeds O(n^2)"
   ]
  },
  {
   "cell_type": "markdown",
   "id": "3bffaac9",
   "metadata": {},
   "source": [
    "<b>9. What is key difference between a set and a list?</b>\n",
    "\n",
    "a) A set is an ordered collection unique items. A list is an unordered collection of non-unique items.\n",
    "\n",
    "b) Elements can be retrieved from a list but they cannot be retrieved from a set.\n",
    "\n",
    "c) A set is an ordered collection of non-unique items. A list is an unordered collection of unique items.\n",
    "\n",
    "d) A set is an unordered collection unique items. A list is an ordered collection of non-unique items.\n",
    "\n"
   ]
  },
  {
   "cell_type": "markdown",
   "id": "dcd62ad5",
   "metadata": {},
   "source": [
    "<b>10. Given the following three list, create a new list that matches the desired output printed below?</b>\n",
    "\n",
    "fruits = ['Apples', 'Oranges', 'Bananas']\n",
    "\n",
    "quantities = [5, 3, 4]\n",
    "\n",
    "prices = [1.50, 2.25, 0.89]\n",
    "\n",
    "<b>#Desired output</b>\n",
    "\n",
    "[('Apples', 5, 1.50),\n",
    " \n",
    "('Oranges', 3, 2.25),\n",
    " \n",
    "('Bananas', 4, 0.89)]"
   ]
  },
  {
   "cell_type": "code",
   "execution_count": 6,
   "id": "acc1d6d3",
   "metadata": {},
   "outputs": [
    {
     "data": {
      "text/plain": [
       "[('Apples', 5, 1.5), ('Oranges', 3, 2.25), ('Bananas', 4, 0.89)]"
      ]
     },
     "execution_count": 6,
     "metadata": {},
     "output_type": "execute_result"
    }
   ],
   "source": [
    "fruits = ['Apples', 'Oranges', 'Bananas']\n",
    "\n",
    "quantities = [5, 3, 4]\n",
    "\n",
    "prices = [1.50, 2.25, 0.89]\n",
    "\n",
    "m = list(zip(fruits,quantities,prices))\n",
    "m"
   ]
  },
  {
   "cell_type": "markdown",
   "id": "9c3fcfb4",
   "metadata": {},
   "source": [
    "**11. Which operator is used for string concatenation in Python?**\n",
    "\n",
    "a) +\n",
    "\n",
    "b) -\n",
    "\n",
    "c) *\n",
    "\n",
    "d) /"
   ]
  },
  {
   "cell_type": "markdown",
   "id": "39e10f0f",
   "metadata": {},
   "source": [
    "**12. a) Which operator is used for modulus in Python?**\n",
    "\n",
    "a) **\n",
    "\n",
    "b) *\n",
    "\n",
    "c) //\n",
    "\n",
    "d) %"
   ]
  },
  {
   "cell_type": "markdown",
   "id": "60b069be",
   "metadata": {},
   "source": [
    "**13. How many times will the following for loop iterate in Python: for i in range(5):?**\n",
    "\n",
    "a) 4 times\n",
    "\n",
    "b) 5 times\n",
    "\n",
    "c) 6 times\n",
    "\n",
    "d) Infinite times"
   ]
  },
  {
   "cell_type": "markdown",
   "id": "b0f95f29",
   "metadata": {},
   "source": [
    "**14. How do you access the third element of a list named my_list in Python?**\n",
    "\n",
    "a) my_list[3]\n",
    "\n",
    "b) my_list[2]\n",
    "\n",
    "c) my_list[4]\n",
    "\n",
    "d) my_list[1]"
   ]
  },
  {
   "cell_type": "markdown",
   "id": "44bcbc06",
   "metadata": {},
   "source": [
    "**15. Which of the following options is NOT a valid rule for naming variables in Python?**\n",
    "\n",
    "a) Variable names can contain letters, numbers, and underscores.\n",
    "\n",
    "b) Variable names cannot start with a number.\n",
    "\n",
    "c) Variable names are case-sensitive.\n",
    "\n",
    "d) Variable names can contain spaces."
   ]
  },
  {
   "cell_type": "markdown",
   "id": "6a6d94ef",
   "metadata": {},
   "source": [
    "### Assessment Questions"
   ]
  },
  {
   "cell_type": "markdown",
   "id": "93e4826f",
   "metadata": {},
   "source": [
    "**1. Use for, .split(), and if to create a Statement that will print out words that start with 's':**\n",
    "\n",
    "st = 'Print only the words that start with s in this sentence'"
   ]
  },
  {
   "cell_type": "markdown",
   "id": "a3b6ef53",
   "metadata": {},
   "source": [
    "**2. Use range() to print all the even numbers from 0 to 10.**"
   ]
  },
  {
   "cell_type": "markdown",
   "id": "a9546117",
   "metadata": {},
   "source": [
    "**3. Go through the string below and if the length of a word is even print \"even!\"**\n",
    "\n",
    "st = 'Print every word in this sentence that has an even number of letters'\n"
   ]
  },
  {
   "cell_type": "markdown",
   "id": "a7eed87b",
   "metadata": {},
   "source": [
    "**4. Write a program that prints the integers from 1 to 100. But for multiples of three print \"Hi, I'm 3\" instead of the number, and for the multiples of five print \"Hi, I'm 5\". For numbers which are multiples of both three and five print \"Hi, I'm both 3 and 5\".**"
   ]
  },
  {
   "cell_type": "markdown",
   "id": "f587ea10",
   "metadata": {},
   "source": [
    "**5. Write a program that takes a string as input and converts all lowercase letters to uppercase and vice versa. For example, if the input is \"Hello, Class\", the output should be \"hELLO, cLASS\".**"
   ]
  },
  {
   "cell_type": "code",
   "execution_count": 14,
   "id": "9959bf15",
   "metadata": {},
   "outputs": [
    {
     "name": "stdout",
     "output_type": "stream",
     "text": [
      "Enter String:- HImani\n",
      "hiMANI\n"
     ]
    }
   ],
   "source": [
    "s = input(\"Enter String:- \")\n",
    "g=''\n",
    "for x in s:\n",
    "    if x.islower():\n",
    "        g += x.upper()\n",
    "    elif x.isupper():\n",
    "        g += x.lower()\n",
    "    else:\n",
    "        g += x\n",
    "print(g)"
   ]
  },
  {
   "cell_type": "markdown",
   "id": "68c18c44",
   "metadata": {},
   "source": [
    "**6. Check given number is prime or not**"
   ]
  },
  {
   "cell_type": "code",
   "execution_count": 31,
   "id": "3a9e2649",
   "metadata": {},
   "outputs": [
    {
     "name": "stdout",
     "output_type": "stream",
     "text": [
      "Enter a number: 13\n",
      "13 is a prime number.\n",
      "13 is a prime number.\n"
     ]
    }
   ],
   "source": [
    "num = int(input(\"Enter a number: \"))\n",
    "\n",
    "if num <= 1:\n",
    "    print(num, \"is not a prime number.\")\n",
    "else:\n",
    "    for i in range(2, int(num**0.5) + 1):\n",
    "        if num % i == 0:\n",
    "            print(num, \"is not a prime number.\")\n",
    "        else:\n",
    "            print(num, \"is a prime number.\")\n",
    "\n",
    "    "
   ]
  },
  {
   "cell_type": "markdown",
   "id": "abbd4c71",
   "metadata": {},
   "source": [
    "**7. Print star pattern for your name.**"
   ]
  },
  {
   "cell_type": "code",
   "execution_count": 44,
   "id": "7c1bf1a0",
   "metadata": {},
   "outputs": [
    {
     "name": "stdout",
     "output_type": "stream",
     "text": [
      "*   *\n",
      "*   *\n",
      "*****\n",
      "*   *\n",
      "*   *\n"
     ]
    }
   ],
   "source": [
    "rows = 5\n",
    "columns = 5\n",
    "\n",
    "for i in range(rows):\n",
    "    for j in range(columns):\n",
    "        if j == 0 or j == 4 or i == rows // 2:\n",
    "            print(\"*\", end=\"\")\n",
    "        else:\n",
    "            print(\" \", end=\"\")\n",
    "    print()\n"
   ]
  },
  {
   "cell_type": "code",
   "execution_count": 43,
   "id": "0060dee9",
   "metadata": {},
   "outputs": [
    {
     "name": "stdout",
     "output_type": "stream",
     "text": [
      "***** \n",
      "*    *\n",
      "*    *\n",
      "***** \n",
      "*    *\n",
      "*    *\n",
      "*    *\n"
     ]
    }
   ],
   "source": [
    "rows = 7\n",
    "columns = 6\n",
    "\n",
    "for i in range(rows):\n",
    "    for j in range(columns):\n",
    "        if j == 0 or (j == columns - 1 and (i != 0 and i != rows // 2)) or\\\n",
    "        ((i == 0 or i == rows // 2) and j < columns - 1):\n",
    "            print(\"*\", end=\"\")\n",
    "        else:\n",
    "            print(\" \", end=\"\")\n",
    "    print()\n"
   ]
  },
  {
   "cell_type": "markdown",
   "id": "a3f27934",
   "metadata": {},
   "source": [
    "**8. Accept 10 numbers from user and display average**"
   ]
  },
  {
   "cell_type": "code",
   "execution_count": 35,
   "id": "5a09471d",
   "metadata": {},
   "outputs": [
    {
     "name": "stdout",
     "output_type": "stream",
     "text": [
      "Enter number 1: 1\n",
      "Enter number 2: 3\n",
      "Enter number 3: 3.4\n",
      "Enter number 4: 10\n",
      "Enter number 5: 1\n",
      "Enter number 6: 12\n",
      "Enter number 7: 10\n",
      "Enter number 8: 4\n",
      "Enter number 9: 3.6\n",
      "Enter number 10: 2\n",
      "Average: 5.0\n"
     ]
    }
   ],
   "source": [
    "numbers = []\n",
    "s = 0\n",
    "\n",
    "for i in range(10):\n",
    "    num = float(input(\"Enter number {}: \".format(i + 1)))\n",
    "    numbers.append(num)\n",
    "    s += num\n",
    "\n",
    "average = s / 10\n",
    "print(\"Average:\", average)\n"
   ]
  },
  {
   "cell_type": "markdown",
   "id": "3c18f131",
   "metadata": {},
   "source": [
    "**9. WAP to display only numbers which are divisble by 11 but not 2 between 100 to 500**"
   ]
  },
  {
   "cell_type": "code",
   "execution_count": 36,
   "id": "e53047de",
   "metadata": {},
   "outputs": [
    {
     "name": "stdout",
     "output_type": "stream",
     "text": [
      "121\n",
      "143\n",
      "165\n",
      "187\n",
      "209\n",
      "231\n",
      "253\n",
      "275\n",
      "297\n",
      "319\n",
      "341\n",
      "363\n",
      "385\n",
      "407\n",
      "429\n",
      "451\n",
      "473\n",
      "495\n"
     ]
    }
   ],
   "source": [
    "for num in range(100, 501):\n",
    "    if num % 11 == 0 and num % 2 != 0:\n",
    "        print(num)"
   ]
  },
  {
   "cell_type": "markdown",
   "id": "bebdb4bc",
   "metadata": {},
   "source": [
    "**10. Print 1 to 20 numbers except multiples of 2 and 3**"
   ]
  },
  {
   "cell_type": "code",
   "execution_count": 37,
   "id": "500132f2",
   "metadata": {},
   "outputs": [
    {
     "name": "stdout",
     "output_type": "stream",
     "text": [
      "1\n",
      "5\n",
      "7\n",
      "11\n",
      "13\n",
      "17\n",
      "19\n"
     ]
    }
   ],
   "source": [
    "for num in range(1, 21):\n",
    "    if num % 2 != 0 and num % 3 != 0:\n",
    "        print(num)"
   ]
  },
  {
   "cell_type": "code",
   "execution_count": 45,
   "id": "1c3c911c",
   "metadata": {},
   "outputs": [
    {
     "name": "stdout",
     "output_type": "stream",
     "text": [
      "*    \n",
      "*  * \n",
      "*   *\n",
      "*****\n",
      "* *  \n",
      "*  * \n",
      "* ***\n"
     ]
    }
   ],
   "source": [
    "rows = 7\n",
    "columns = 5\n",
    "\n",
    "for i in range(rows):\n",
    "    for j in range(columns):\n",
    "        if j == 0 or (i == j + 2 and j > 0) or (i == j - 2 and j > 2) or (i == rows // 2 and j > 0) or (i == rows - 1 and j > 1):\n",
    "            print(\"*\", end=\"\")\n",
    "        else:\n",
    "            print(\" \", end=\"\")\n",
    "    print()\n"
   ]
  },
  {
   "cell_type": "code",
   "execution_count": null,
   "id": "4cff137e",
   "metadata": {},
   "outputs": [],
   "source": []
  }
 ],
 "metadata": {
  "kernelspec": {
   "display_name": "Python 3 (ipykernel)",
   "language": "python",
   "name": "python3"
  },
  "language_info": {
   "codemirror_mode": {
    "name": "ipython",
    "version": 3
   },
   "file_extension": ".py",
   "mimetype": "text/x-python",
   "name": "python",
   "nbconvert_exporter": "python",
   "pygments_lexer": "ipython3",
   "version": "3.9.12"
  }
 },
 "nbformat": 4,
 "nbformat_minor": 5
}
