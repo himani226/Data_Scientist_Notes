{
 "cells": [
  {
   "cell_type": "markdown",
   "id": "2f30c33c",
   "metadata": {},
   "source": [
    "**1. Which statement is used to conditionally execute a block of code in Python?**\n",
    "\n",
    "A. for loop\n",
    "\n",
    "B. if statement\n",
    "\n",
    "C. while loop\n",
    "\n",
    "D. switch statement"
   ]
  },
  {
   "cell_type": "markdown",
   "id": "5b40fdc2",
   "metadata": {},
   "source": [
    "**2. In Python, how do you denote the end of a block of code that follows an if statement?**\n",
    "\n",
    "A. Indentation\n",
    "\n",
    "B. Semicolon (;)\n",
    "\n",
    "C. Curly braces ({})\n",
    "\n",
    "D. Square brackets ([])"
   ]
  },
  {
   "cell_type": "markdown",
   "id": "0be7f71e",
   "metadata": {},
   "source": [
    "**3. Which of the following is an example of a control statement in Python?**\n",
    "\n",
    "A. if statement\n",
    "\n",
    "B. for loop\n",
    "\n",
    "C. while loop\n",
    "\n",
    "D. All of the above"
   ]
  },
  {
   "cell_type": "markdown",
   "id": "128e7f9e",
   "metadata": {},
   "source": [
    "**4. What is the purpose of a loop in programming?**\n",
    "\n",
    "A. To repeat a block of code\n",
    "\n",
    "B. To terminate the program\n",
    "\n",
    "C. To print output\n",
    "\n",
    "D. To define functions"
   ]
  },
  {
   "cell_type": "markdown",
   "id": "dd09e070",
   "metadata": {},
   "source": [
    "**5. Which statement is used to exit a loop prematurely in Python?**\n",
    "\n",
    "A. return\n",
    "\n",
    "B. break\n",
    "\n",
    "C. continue\n",
    "\n",
    "D. pass"
   ]
  },
  {
   "cell_type": "markdown",
   "id": "559e9f60",
   "metadata": {},
   "source": [
    "**6. In Python, how do you define a function?**\n",
    "\n",
    "A. func()\n",
    "\n",
    "B. def func()\n",
    "\n",
    "C. define func()\n",
    "\n",
    "D. function func()"
   ]
  },
  {
   "cell_type": "markdown",
   "id": "dbfb89f4",
   "metadata": {},
   "source": [
    "**7. Which keyword is used to pass a function as an argument to another function in Python?**\n",
    "\n",
    "A. pass\n",
    "\n",
    "B. def\n",
    "\n",
    "C. lambda\n",
    "\n",
    "D. None of the above"
   ]
  },
  {
   "cell_type": "markdown",
   "id": "4b65eeac",
   "metadata": {},
   "source": [
    "**8. What does the zip function in Python do?**\n",
    "\n",
    "A. Combines two or more lists into a dictionary\n",
    "\n",
    "B. Merges two or more tuples into a single tuple\n",
    "\n",
    "C. Aggregates elements from two or more iterables into tuples\n",
    "\n",
    "D. Filters elements based on a given condition"
   ]
  },
  {
   "cell_type": "markdown",
   "id": "350c4a07",
   "metadata": {},
   "source": [
    "**9. Which statement is used to create a class in Python?**\n",
    "\n",
    "A. create MyClass:\n",
    "    \n",
    "B. class MyClass:\n",
    "    \n",
    "C. define MyClass:\n",
    "    \n",
    "D. class = MyClass:"
   ]
  },
  {
   "cell_type": "markdown",
   "id": "06531072",
   "metadata": {},
   "source": [
    "**10.What is the purpose of lambda expressions in Python?**\n",
    "\n",
    "A. To define anonymous functions\n",
    "\n",
    "B. To create class objects\n",
    "\n",
    "C. To perform file I/O operations\n",
    "\n",
    "D. To handle exceptions"
   ]
  },
  {
   "cell_type": "markdown",
   "id": "f0bf1bc2",
   "metadata": {},
   "source": [
    "**11. Which OOP concept allows a class to inherit attributes and methods from another class?**\n",
    "\n",
    "A. Encapsulation\n",
    "\n",
    "B. Polymorphism\n",
    "\n",
    "C. Inheritance\n",
    "\n",
    "D. Abstraction"
   ]
  },
  {
   "cell_type": "markdown",
   "id": "8b6cdac1",
   "metadata": {},
   "source": [
    "**12. What does the \"pass\" keyword do in Python?**\n",
    "\n",
    "A. Terminates the program\n",
    "\n",
    "B. Skips the current iteration of a loop\n",
    "\n",
    "C. Defines an empty class or function\n",
    "\n",
    "D. Raises an exception"
   ]
  },
  {
   "cell_type": "markdown",
   "id": "099b1ab2",
   "metadata": {},
   "source": [
    "**13. Which access modifier in Python provides the highest level of protection for class members?**\n",
    "\n",
    "A. Public\n",
    "\n",
    "B. Private\n",
    "\n",
    "C. Protected\n",
    "\n",
    "D. None of the above"
   ]
  },
  {
   "cell_type": "markdown",
   "id": "4a92e879",
   "metadata": {},
   "source": [
    "**14. Which built-in function in Python is used to apply a function to every item in an iterable object?**\n",
    "\n",
    "A. lambda\n",
    "\n",
    "B. map\n",
    "\n",
    "C. zip\n",
    "\n",
    "D. filter"
   ]
  },
  {
   "cell_type": "markdown",
   "id": "2b2b7e66",
   "metadata": {},
   "source": [
    "**15. What is the process of creating an object from a class called?**\n",
    "\n",
    "A. Inheritance\n",
    "\n",
    "B. Encapsulation\n",
    "\n",
    "C. Instantiation\n",
    "\n",
    "D. Polymorphism"
   ]
  },
  {
   "cell_type": "markdown",
   "id": "6d3a7ab3",
   "metadata": {},
   "source": [
    "**16. What is the purpose of the \"init\" method in a class?**\n",
    "\n",
    "A. To initialize class variables\n",
    "\n",
    "B. To define private variables\n",
    "\n",
    "C. To create a new instance of the class\n",
    "\n",
    "D. To define static methods"
   ]
  },
  {
   "cell_type": "markdown",
   "id": "3c90c5dd",
   "metadata": {},
   "source": [
    "**17. The filter function in Python is used to:**\n",
    "\n",
    "A. Remove duplicates from a list\n",
    "\n",
    "B. Sort elements in a list\n",
    "\n",
    "C. Filter elements based on a given condition\n",
    "\n",
    "D. Generate random numbers"
   ]
  },
  {
   "cell_type": "markdown",
   "id": "d5118395",
   "metadata": {},
   "source": [
    "**18. List comprehension provides a concise way to create:**\n",
    "    \n",
    "A. Tuples\n",
    "\n",
    "B. Sets\n",
    "\n",
    "C. Lists\n",
    "\n",
    "D. Dictionaries"
   ]
  },
  {
   "cell_type": "markdown",
   "id": "d1bc7994",
   "metadata": {},
   "source": [
    "**19. Which of the following examples demonstrates the correct usage of list comprehension to create a list of squares of numbers from 1 to 5?**\n",
    "\n",
    "A. [x for x in range(1, 5) if x2]\n",
    "\n",
    "B. [x2 for x in range(1, 5)]\n",
    "\n",
    "C. [x for x in range(1, 5) if x]\n",
    "\n",
    "D. [x**2 for x in range(1, 6)]"
   ]
  },
  {
   "cell_type": "markdown",
   "id": "3df7f294",
   "metadata": {},
   "source": [
    "**20. Which statement is used to import specific functions or variables from a module in Python?**\n",
    "\n",
    "A. require\n",
    "\n",
    "B. include\n",
    "\n",
    "C. import\n",
    "\n",
    "D. from-import"
   ]
  },
  {
   "cell_type": "markdown",
   "id": "7c01afd7",
   "metadata": {},
   "source": [
    "**21. What does the \"random\" module in Python provide?**\n",
    "\n",
    "A. Functions for generating random numbers\n",
    "\n",
    "B. Functions for shuffling lists\n",
    "\n",
    "C. Functions for selecting random elements\n",
    "\n",
    "D. All of the above"
   ]
  },
  {
   "cell_type": "markdown",
   "id": "bdfee595",
   "metadata": {},
   "source": [
    "**22. List comprehension can include:**\n",
    "    \n",
    "A. Conditional statements\n",
    "\n",
    "B. Loop statements\n",
    "\n",
    "C. Arithmetic operations\n",
    "\n",
    "D. All of the above"
   ]
  },
  {
   "cell_type": "markdown",
   "id": "39532fe7",
   "metadata": {},
   "source": [
    "### Assessment Questions"
   ]
  },
  {
   "cell_type": "markdown",
   "id": "a3ba9fd1",
   "metadata": {},
   "source": [
    "1. Write a function to check number is multiple of 5 or not."
   ]
  },
  {
   "cell_type": "code",
   "execution_count": 8,
   "id": "fb311972",
   "metadata": {},
   "outputs": [
    {
     "name": "stdout",
     "output_type": "stream",
     "text": [
      "entera number4\n",
      "number is not multiple of 5\n"
     ]
    }
   ],
   "source": [
    "def check_number(num):\n",
    "    if num%5==0:\n",
    "        print('number is multiple of 5')\n",
    "    else:\n",
    "        print('number is not multiple of 5')\n",
    "num=int(input('entera number'))\n",
    "check_number(num)"
   ]
  },
  {
   "cell_type": "markdown",
   "id": "c7ff6c6e",
   "metadata": {},
   "source": [
    "2. Implement a Python class called Pentagon with attributes side and apothem length. Add a method to calculate the area of the pentagon (\n",
    "\n",
    "formula: \n",
    "\n",
    "**A = (5 ⁄ 2) × s × a**, where s is side and a is apothem length )."
   ]
  },
  {
   "cell_type": "code",
   "execution_count": 9,
   "id": "d2b35971",
   "metadata": {},
   "outputs": [],
   "source": [
    "class pentagon:\n",
    "    def __init__(self, side, apothem_length):\n",
    "        self.side = side\n",
    "        self.apothem_length = apothem_length\n",
    "        \n",
    "    def cal_area_pent(self):\n",
    "        a = (5/2) * self.side * self.apothem_length\n",
    "        return a\n",
    "    "
   ]
  },
  {
   "cell_type": "code",
   "execution_count": 10,
   "id": "4130e315",
   "metadata": {},
   "outputs": [
    {
     "name": "stdout",
     "output_type": "stream",
     "text": [
      "87.5\n"
     ]
    }
   ],
   "source": [
    "a1 = pentagon(5, 7)\n",
    "print(a1.cal_area_pent())"
   ]
  },
  {
   "cell_type": "markdown",
   "id": "929329d1",
   "metadata": {},
   "source": [
    "3. Write a Python function to find the maximum number among three given numbers."
   ]
  },
  {
   "cell_type": "code",
   "execution_count": 14,
   "id": "4fdb1dde",
   "metadata": {},
   "outputs": [
    {
     "data": {
      "text/plain": [
       "6"
      ]
     },
     "execution_count": 14,
     "metadata": {},
     "output_type": "execute_result"
    }
   ],
   "source": [
    "def maximum():\n",
    "    a=[1,4,6]\n",
    "    return max(a)\n",
    "maximum()"
   ]
  },
  {
   "cell_type": "markdown",
   "id": "3f62469d",
   "metadata": {},
   "source": [
    "4. Create a list comprehension to generate a list of multiple of 11 of numbers from 1 to 50."
   ]
  },
  {
   "cell_type": "code",
   "execution_count": 15,
   "id": "ab4eb3fb",
   "metadata": {},
   "outputs": [
    {
     "name": "stdout",
     "output_type": "stream",
     "text": [
      "[11, 22, 33, 44]\n"
     ]
    }
   ],
   "source": [
    "n=[x for x in range(1,50) if x%11==0]\n",
    "print(n)"
   ]
  },
  {
   "cell_type": "markdown",
   "id": "e63ec86b",
   "metadata": {},
   "source": [
    "5. Use the map and lambda function to double each element in a given list."
   ]
  },
  {
   "cell_type": "code",
   "execution_count": 16,
   "id": "76173cc9",
   "metadata": {},
   "outputs": [
    {
     "data": {
      "text/plain": [
       "[2, 4, 6, 8, 12]"
      ]
     },
     "execution_count": 16,
     "metadata": {},
     "output_type": "execute_result"
    }
   ],
   "source": [
    "mini=[1,2,3,4,6]\n",
    "list(map(lambda var:var*2 ,mini))"
   ]
  },
  {
   "cell_type": "markdown",
   "id": "436e26a1",
   "metadata": {},
   "source": [
    "6. Filter out the numbers from a given list using the filter function. \n",
    "\n",
    "input_list = [1, 2, 'a', 'b', 3.14, 'c', 4, 5.5]"
   ]
  },
  {
   "cell_type": "code",
   "execution_count": 20,
   "id": "abbf6aa8",
   "metadata": {},
   "outputs": [
    {
     "data": {
      "text/plain": [
       "[1, 2, 3.14, 4, 5.5]"
      ]
     },
     "execution_count": 20,
     "metadata": {},
     "output_type": "execute_result"
    }
   ],
   "source": [
    "def check_digit(n):\n",
    "    return isinstance(n,(int,float))\n",
    "\n",
    "input_list = [1, 2, 'a', 'b', 3.14, 'c', 4, 5.5]\n",
    "a = list(filter(check_digit,input_list))\n",
    "a"
   ]
  },
  {
   "cell_type": "code",
   "execution_count": 21,
   "id": "fbb51b66",
   "metadata": {},
   "outputs": [
    {
     "data": {
      "text/plain": [
       "[1, 2, 3.14, 4, 5.5]"
      ]
     },
     "execution_count": 21,
     "metadata": {},
     "output_type": "execute_result"
    }
   ],
   "source": [
    "list(filter(lambda x: isinstance(x,(int,float)),input_list))"
   ]
  },
  {
   "cell_type": "markdown",
   "id": "911a9a2f",
   "metadata": {},
   "source": [
    "7. Use the zip function to combine two lists into a dictionary.\n",
    "\n",
    "    keys = ['a', 'b', 'c']\n",
    "    \n",
    "    values = [1, 2, 3]"
   ]
  },
  {
   "cell_type": "code",
   "execution_count": 22,
   "id": "b7131c25",
   "metadata": {},
   "outputs": [
    {
     "data": {
      "text/plain": [
       "{'a': 1, 'b': 2, 'c': 3}"
      ]
     },
     "execution_count": 22,
     "metadata": {},
     "output_type": "execute_result"
    }
   ],
   "source": [
    "keys = ['a', 'b', 'c']\n",
    "\n",
    "values = [1, 2, 3]\n",
    "\n",
    "a = dict(zip(keys,values))\n",
    "a"
   ]
  },
  {
   "cell_type": "markdown",
   "id": "6b0cdab5",
   "metadata": {},
   "source": [
    "8. Write a Python function to count the number of vowels in a given string."
   ]
  },
  {
   "cell_type": "code",
   "execution_count": 24,
   "id": "75f54d22",
   "metadata": {},
   "outputs": [
    {
     "name": "stdout",
     "output_type": "stream",
     "text": [
      "Enter String: qwerty\n",
      "1\n"
     ]
    }
   ],
   "source": [
    "def check_vowels(n):\n",
    "    s=0\n",
    "    for x in n:\n",
    "        if x in ['a','e','i','o','u']:\n",
    "            s+=1\n",
    "    print(s)\n",
    "    \n",
    "a = input(\"Enter String: \")\n",
    "check_vowels(a)\n",
    "        \n",
    "        "
   ]
  },
  {
   "cell_type": "markdown",
   "id": "379cffa9",
   "metadata": {},
   "source": [
    "9. Write a function to generate Fibonacci sequence using recursion"
   ]
  },
  {
   "cell_type": "code",
   "execution_count": null,
   "id": "9c5a2b78",
   "metadata": {},
   "outputs": [],
   "source": [
    "def fibonacci(n):\n",
    "    if n <= 1:\n",
    "        return n\n",
    "    else:\n",
    "        return fibonacci(n - 1) + fibonacci(n - 2)"
   ]
  },
  {
   "cell_type": "markdown",
   "id": "6cd5d9b7",
   "metadata": {},
   "source": [
    "10. Create a class called Shape with a method to calculate the area. Implement subclasses Rectangle, Circle, and Triangle that inherit from the Shape class and override the calculate_area method to provide the specific area calculation for each shape."
   ]
  },
  {
   "cell_type": "code",
   "execution_count": 25,
   "id": "55ff5e3c",
   "metadata": {},
   "outputs": [],
   "source": [
    "import math\n",
    "\n",
    "class Shape:\n",
    "    def calculate_area(self):\n",
    "        pass\n",
    "\n",
    "class Rectangle(Shape):\n",
    "    def __init__(self, length, width):\n",
    "        self.length = length\n",
    "        self.width = width\n",
    "    \n",
    "    def calculate_area(self):\n",
    "        return self.length * self.width\n",
    "\n",
    "class Circle(Shape):\n",
    "    def __init__(self, radius):\n",
    "        self.radius = radius\n",
    "    \n",
    "    def calculate_area(self):\n",
    "        return math.pi * self.radius**2\n",
    "\n",
    "class Triangle(Shape):\n",
    "    def __init__(self, base, height):\n",
    "        self.base = base\n",
    "        self.height = height\n",
    "    \n",
    "    def calculate_area(self):\n",
    "        return 0.5 * self.base * self.height"
   ]
  },
  {
   "cell_type": "code",
   "execution_count": 28,
   "id": "40fe12ed",
   "metadata": {},
   "outputs": [
    {
     "data": {
      "text/plain": [
       "200"
      ]
     },
     "execution_count": 28,
     "metadata": {},
     "output_type": "execute_result"
    }
   ],
   "source": [
    "r = Rectangle(10,20)\n",
    "r.calculate_area()\n"
   ]
  },
  {
   "cell_type": "code",
   "execution_count": null,
   "id": "eed10f55",
   "metadata": {},
   "outputs": [],
   "source": []
  }
 ],
 "metadata": {
  "kernelspec": {
   "display_name": "Python 3 (ipykernel)",
   "language": "python",
   "name": "python3"
  },
  "language_info": {
   "codemirror_mode": {
    "name": "ipython",
    "version": 3
   },
   "file_extension": ".py",
   "mimetype": "text/x-python",
   "name": "python",
   "nbconvert_exporter": "python",
   "pygments_lexer": "ipython3",
   "version": "3.9.12"
  }
 },
 "nbformat": 4,
 "nbformat_minor": 5
}
