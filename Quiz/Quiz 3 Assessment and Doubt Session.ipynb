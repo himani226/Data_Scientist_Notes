{
 "cells": [
  {
   "cell_type": "markdown",
   "id": "40822f4c",
   "metadata": {},
   "source": [
    "#### 1. NumPY Stands For?\n",
    "\n",
    "A. Numbering Python\n",
    "\n",
    "B. Number In Python\n",
    "\n",
    "C. Numerical Python\n",
    "\n",
    "D. None Of the above"
   ]
  },
  {
   "cell_type": "markdown",
   "id": "c6bf2f2d",
   "metadata": {},
   "source": [
    "#### 2. What Will Be Output For The Following Code?\n",
    "\n",
    "import numpy as np\n",
    "\n",
    "a = np.array([1,2,3])\n",
    "\n",
    "print a\n",
    "\n",
    "A. [[1, 2, 3]]\n",
    "\n",
    "B. [1]\n",
    "\n",
    "C. [1, 2, 3]\n",
    "\n",
    "D. Error"
   ]
  },
  {
   "cell_type": "markdown",
   "id": "0016565e",
   "metadata": {},
   "source": [
    "#### 3. It Is Possible To Convert The Numpy Array To List In Python?\n",
    "\n",
    "A. Yes\n",
    "\n",
    "B. No\n",
    "\n",
    "C. Sometimes\n",
    "\n",
    "D. None of the above\n"
   ]
  },
  {
   "cell_type": "markdown",
   "id": "a56730b5",
   "metadata": {},
   "source": [
    "#### 4. Numpy.Array(List), What It Does ?\n",
    "\n",
    "A. It convert array to list\n",
    "\n",
    "B. It convert list to array\n",
    "\n",
    "C. It convert array to array\n",
    "\n",
    "D. Error"
   ]
  },
  {
   "cell_type": "markdown",
   "id": "315af132",
   "metadata": {},
   "source": [
    "#### 5. Which Of The Following Argument We Need To Pass In Reshape() Function?\n",
    "\n",
    "A. Array\n",
    "\n",
    "B. Shape\n",
    "\n",
    "C. only array\n",
    "\n",
    "D. Both array and shape"
   ]
  },
  {
   "cell_type": "markdown",
   "id": "3b259f9c",
   "metadata": {},
   "source": [
    "#### 6. Which Of The Following Is Not Valid To Import The Numpy Module ?\n",
    "\n",
    "A. import numpy as np\n",
    "\n",
    "B. import numpy as n\n",
    "\n",
    "C. import numpy as p\n",
    "\n",
    "D. None of the above"
   ]
  },
  {
   "cell_type": "markdown",
   "id": "cb990dbe",
   "metadata": {},
   "source": [
    "#### 7. What is the output of the below code?\n",
    "np.arange(2,8)\n",
    "\n",
    "A. array([2, 3, 4, 5, 6, 7])\n",
    "\n",
    "B.array([3, 4, 5, 6, 7])\n",
    "\n",
    "C.array([2, 3, 4, 5, 6, 7, 8])\n",
    "\n",
    "D.array([3, 4, 5, 6, 7, 8])"
   ]
  },
  {
   "cell_type": "markdown",
   "id": "2792b1a7",
   "metadata": {},
   "source": [
    "#### 8. Find the output of the below code.\n",
    "\n",
    "a = np.array([[1,2,3],[4,5,6]])\n",
    "\n",
    "a[1,2]\n",
    "\n",
    "A. 6\n",
    "\n",
    "B. 5\n",
    "\n",
    "C. 2\n",
    "\n",
    "D. TypeError"
   ]
  },
  {
   "cell_type": "markdown",
   "id": "2a5e0c07",
   "metadata": {},
   "source": [
    "#### 9. Which of the following is not true about the identity matrix?\n",
    " \n",
    "A. It is a square matrix\n",
    "\n",
    "B. It contains 1s in all the diagonals\n",
    "\n",
    "C. We can create an identity matrix using the identity() function\n",
    "\n",
    "D.None of the above"
   ]
  },
  {
   "cell_type": "markdown",
   "id": "3baefecc",
   "metadata": {},
   "source": [
    "#### 10. What Will Be The Output Of The Following Python Code?\n",
    "\n",
    "    from numpy import random\n",
    "    x = random.randint(100)\n",
    "    print(x)\n",
    "\n",
    "A. 56\n",
    "\n",
    "B. 26\n",
    "\n",
    "C. 40\n",
    "\n",
    "D. All of these"
   ]
  },
  {
   "cell_type": "markdown",
   "id": "e2f740b3",
   "metadata": {},
   "source": [
    "**11. Which of the following is not a valid NumPy data type?**\n",
    "\n",
    "a) int32\n",
    "\n",
    "b) float64\n",
    "\n",
    "c) complex128\n",
    "\n",
    "d) string"
   ]
  },
  {
   "cell_type": "markdown",
   "id": "cc881604",
   "metadata": {},
   "source": [
    "**12. Which NumPy function is used to create an array of evenly spaced values?**\n",
    "\n",
    "a) linspace()\n",
    "\n",
    "b) arange()\n",
    "\n",
    "c) logspace()\n",
    "\n",
    "d) ones()"
   ]
  },
  {
   "cell_type": "markdown",
   "id": "0f640910",
   "metadata": {},
   "source": [
    "**13. What is the result of the following NumPy expression: np.array([1, 2, 3]) + np.array([4, 5, 6])?**\n",
    "    \n",
    "a) [5, 7, 9]\n",
    "\n",
    "b) [1, 2, 3, 4, 5, 6]\n",
    "\n",
    "c) [4, 5, 6, 1, 2, 3]\n",
    "\n",
    "d) Error"
   ]
  },
  {
   "cell_type": "markdown",
   "id": "57197502",
   "metadata": {},
   "source": [
    "**14. How do you access the element at row 2, column 3 in a 2D NumPy array?**\n",
    "\n",
    "a) array[2, 3]\n",
    "\n",
    "b) array[3, 2]\n",
    "\n",
    "c) array[1, 2]\n",
    "\n",
    "d) None"
   ]
  },
  {
   "cell_type": "markdown",
   "id": "d098c073",
   "metadata": {},
   "source": [
    "**15. What is the result of the following NumPy expression: np.arange(5) * 2?**\n",
    "\n",
    "a) [0, 2, 4, 6, 8]\n",
    "\n",
    "b) [0, 1, 2, 3, 4]\n",
    "\n",
    "c) [2, 4, 6, 8, 10]\n",
    "\n",
    "d) [0, 0, 0, 0, 0]"
   ]
  },
  {
   "cell_type": "markdown",
   "id": "66b64330",
   "metadata": {},
   "source": [
    "**16. How do you check the shape of a NumPy array?**\n",
    "\n",
    "a) array.shape()\n",
    "\n",
    "b) array.size()\n",
    "\n",
    "c) array.ndim()\n",
    "\n",
    "d) array.shape"
   ]
  },
  {
   "cell_type": "markdown",
   "id": "b600ca78",
   "metadata": {},
   "source": [
    "**17. How do you perform element-wise multiplication of two NumPy arrays?**\n",
    "\n",
    "a) np.multiply()\n",
    "\n",
    "b) np.dot()\n",
    "\n",
    "c) np.add()\n",
    "\n",
    "d) np.divide()"
   ]
  },
  {
   "cell_type": "markdown",
   "id": "cb9a67b2",
   "metadata": {},
   "source": [
    "**18. Which NumPy function is used to calculate the element-wise square root of an array?**\n",
    "\n",
    "a) np.sqrt()\n",
    "\n",
    "b) np.power()\n",
    "\n",
    "c) np.exp()\n",
    "\n",
    "d) np.log()"
   ]
  },
  {
   "cell_type": "markdown",
   "id": "9b279d82",
   "metadata": {},
   "source": [
    "#### In which country can we find most of the panda population?\n",
    "\n",
    "A. Japan\n",
    "\n",
    "B. Russia\n",
    "\n",
    "C. China"
   ]
  },
  {
   "cell_type": "markdown",
   "id": "5a77a44c",
   "metadata": {},
   "source": [
    "**19. Which of the following feature is not provided by the Pandas module?**\n",
    "\n",
    "A. Merge and join the data sets\n",
    "\n",
    "B. Filter data using the condition\n",
    "\n",
    "C. Plot and visualize the data\n",
    "\n",
    "D. None of the above"
   ]
  },
  {
   "cell_type": "markdown",
   "id": "77d2aa9b",
   "metadata": {},
   "source": [
    "#### 20. From which of the following files, pandas can read data?\n",
    " \n",
    "A. JSON\n",
    "\n",
    "B. Excel\n",
    "\n",
    "C. HTML\n",
    "\n",
    "D. All the above"
   ]
  },
  {
   "cell_type": "markdown",
   "id": "2be996e3",
   "metadata": {},
   "source": [
    "#### 21. Which of the following commands return the data type of the values in each column in the data frame df?\n",
    "\n",
    "A. print(df.dtype)\n",
    "\n",
    "B. print(dtypes(df))\n",
    "\n",
    "C. print(df.dtypes)\n",
    "\n",
    "D. None of the above"
   ]
  },
  {
   "cell_type": "markdown",
   "id": "654552b2",
   "metadata": {},
   "source": [
    "#### 22. By default, number of rows are returned by the head() and tail() function?\n",
    "\n",
    "A. 10,5\n",
    "\n",
    "B. 5,5\n",
    "\n",
    "C. 1,5\n",
    "\n",
    "D. 1,1"
   ]
  },
  {
   "cell_type": "markdown",
   "id": "6f4bcc2a",
   "metadata": {},
   "source": [
    "#### 23. Which of the following is the correct way to create a data frame?\n",
    "\n",
    "A. pandas.DataFrame( data, index, columns, dtype, copy)\n",
    "\n",
    "B. pandas.Dataframe( data, index, columns, dtype, copy)\n",
    "\n",
    "C. pandas.dataFrame( data, index, columns, dtype,)\n",
    "\n",
    "D. pandas.dataframe( data, index, columns, dtype)"
   ]
  },
  {
   "cell_type": "markdown",
   "id": "6a3e0776",
   "metadata": {},
   "source": [
    "#### 24. What does the below code do?\n",
    "\n",
    "   <code>df.clmn.value_counts()</code>\n",
    "\n",
    "A. Return the number of values in the column\n",
    "\n",
    "B. Return the frequency of occurrences of each unique value\n",
    "\n",
    "C. Return the number of rows\n",
    "\n",
    "D. None of the above"
   ]
  },
  {
   "cell_type": "markdown",
   "id": "62b26f00",
   "metadata": {},
   "source": [
    "#### 26. Which of the returns he statistical data about the numerical columns in the data frame df?\n",
    "\n",
    "A. print(df.describe())\n",
    "\n",
    "B. print(df.stats())\n",
    "\n",
    "C. print(describe(df))\n",
    "\n",
    "D. print(stats(df))"
   ]
  },
  {
   "cell_type": "markdown",
   "id": "3f58093c",
   "metadata": {},
   "source": [
    "**27. Which method is used to apply a function to each element of a DataFrame in pandas?**\n",
    "\n",
    "a) apply()\n",
    "\n",
    "b) map()\n",
    "\n",
    "c) transform()\n",
    "\n",
    "d) execute()"
   ]
  },
  {
   "cell_type": "markdown",
   "id": "83597dfe",
   "metadata": {},
   "source": [
    "**28. How can you save a DataFrame to a CSV file in pandas?**\n",
    "\n",
    "a) df.to_csv('filename.csv')\n",
    "\n",
    "b) df.save_csv('filename.csv')\n",
    "\n",
    "c) df.export_csv('filename.csv')\n",
    "\n",
    "d) df.write_csv('filename.csv')"
   ]
  },
  {
   "cell_type": "markdown",
   "id": "a593d9bd",
   "metadata": {},
   "source": [
    "**29. How can you sort a DataFrame by a specific column in pandas?**\n",
    "\n",
    "a) df.sort()\n",
    "\n",
    "b) df.sort_values()\n",
    "\n",
    "c) df.order()\n",
    "\n",
    "d) df.sort_column()"
   ]
  },
  {
   "cell_type": "markdown",
   "id": "84cae60b",
   "metadata": {},
   "source": [
    "**30. Which method is used to check for missing values in a DataFrame in pandas?**\n",
    "\n",
    "a) isnull()\n",
    "\n",
    "b) missing_values()\n",
    "\n",
    "c) check_missing()\n",
    "\n",
    "d) nan_values()"
   ]
  }
 ],
 "metadata": {
  "kernelspec": {
   "display_name": "Python 3 (ipykernel)",
   "language": "python",
   "name": "python3"
  },
  "language_info": {
   "codemirror_mode": {
    "name": "ipython",
    "version": 3
   },
   "file_extension": ".py",
   "mimetype": "text/x-python",
   "name": "python",
   "nbconvert_exporter": "python",
   "pygments_lexer": "ipython3",
   "version": "3.9.12"
  }
 },
 "nbformat": 4,
 "nbformat_minor": 5
}
