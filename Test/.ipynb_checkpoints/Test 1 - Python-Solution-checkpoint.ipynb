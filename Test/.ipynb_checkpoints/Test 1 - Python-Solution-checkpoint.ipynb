{
 "cells": [
  {
   "cell_type": "markdown",
   "metadata": {},
   "source": [
    "Q1. Print the following statement using print function \n",
    "\n",
    "\"This is my first Python Test\""
   ]
  },
  {
   "cell_type": "code",
   "execution_count": null,
   "metadata": {},
   "outputs": [],
   "source": []
  },
  {
   "cell_type": "markdown",
   "metadata": {},
   "source": [
    "Q2. What is 8 to the power of 6 using inbuilt function?"
   ]
  },
  {
   "cell_type": "code",
   "execution_count": null,
   "metadata": {},
   "outputs": [],
   "source": []
  },
  {
   "cell_type": "markdown",
   "metadata": {},
   "source": [
    "Q3. Split this string:\n",
    "\n",
    "    s = \"All#the#best#for#test\"\n",
    "    \n",
    "into a list."
   ]
  },
  {
   "cell_type": "code",
   "execution_count": null,
   "metadata": {},
   "outputs": [],
   "source": []
  },
  {
   "cell_type": "markdown",
   "metadata": {},
   "source": [
    "Q4. Given the variables:\n",
    "\n",
    "       Flower = roses\n",
    "       Count = 20\n",
    "\n",
    "Use .format() method to print the following statement:\n",
    "\n",
    "    I have 20 yellow color roses."
   ]
  },
  {
   "cell_type": "code",
   "execution_count": null,
   "metadata": {},
   "outputs": [],
   "source": []
  },
  {
   "cell_type": "markdown",
   "metadata": {},
   "source": [
    "Q5. The nested list is given, use the indexing method to find the word \"Am here\".\n",
    "\n",
    "lst = [1,5,[3,9],[2,3,[5,[100,200,['Am here']]],29,11],[1,7]]"
   ]
  },
  {
   "cell_type": "code",
   "execution_count": null,
   "metadata": {},
   "outputs": [],
   "source": []
  },
  {
   "cell_type": "markdown",
   "metadata": {},
   "source": [
    "Q6. From nested dictionary find the word \"hi\".\n",
    "\n",
    "d = {'k1':[1,2,3,{'nice':['oh','man','insane',{'achieve':[1,2,3,'hi']}]}]}"
   ]
  },
  {
   "cell_type": "code",
   "execution_count": null,
   "metadata": {},
   "outputs": [],
   "source": []
  },
  {
   "cell_type": "markdown",
   "metadata": {},
   "source": [
    "Q7. What is the main difference between a tuple and a list? Write down in points"
   ]
  },
  {
   "cell_type": "code",
   "execution_count": null,
   "metadata": {},
   "outputs": [],
   "source": []
  },
  {
   "cell_type": "markdown",
   "metadata": {},
   "source": [
    "Q8. Create a function GetDomain that finds the email website domain from a string in the form:\n",
    "\n",
    "    python@datascience.in\n",
    "    \n",
    "**So for example, passing \"python@datascience.in\" would return: datascience.in**"
   ]
  },
  {
   "cell_type": "code",
   "execution_count": null,
   "metadata": {},
   "outputs": [],
   "source": []
  },
  {
   "cell_type": "markdown",
   "metadata": {},
   "source": [
    "Q9. Write function that returns True if the word 'python' is contained in the input string by user"
   ]
  },
  {
   "cell_type": "code",
   "execution_count": null,
   "metadata": {},
   "outputs": [],
   "source": []
  },
  {
   "cell_type": "markdown",
   "metadata": {},
   "source": [
    "Q10. Use lambda expressions and the filter() function to filter out words from a list that ends with the letter 't'. \n",
    "\n",
    "For example:\n",
    "\n",
    "    seq = ['mat','dog','pet','run','cat','pizza','great']\n",
    "\n",
    "Output:\n",
    "\n",
    "    ['mat','pet','cat','great']"
   ]
  },
  {
   "cell_type": "code",
   "execution_count": null,
   "metadata": {},
   "outputs": [],
   "source": []
  },
  {
   "cell_type": "markdown",
   "metadata": {},
   "source": [
    "Q11.You are driving a little too fast, and a police officer stops you. \n",
    "\n",
    "Write a function name CheckSpeed to return one of 3 possible results: \"No Sorry\", \"Small Sorry\", or \"Big Sorry\". \n",
    "\n",
    "* Check the speed of the car, if your speed is 60 or less, the result is \"No Sorry\". \n",
    "\n",
    "* If speed is between 61 and 80 inclusive, the result is \"Small Sorry\". \n",
    "\n",
    "* If speed is 81 or more, the result is \"Big Sorry\". \n",
    "\n",
    "Note:- Unless it is your birthday (take it as a boolean value in the parameters of the function) -- on your birthday, your speed can be 5 higher in all cases."
   ]
  },
  {
   "cell_type": "code",
   "execution_count": null,
   "metadata": {},
   "outputs": [],
   "source": [
    "def CheckSpeed(speed, is_birthday):\n",
    "    pass"
   ]
  },
  {
   "cell_type": "markdown",
   "metadata": {},
   "source": [
    "Q12. Program to find the largest length element from a list.\n",
    "\n",
    "    colors=[\"brown\", \"cherry\", \"pink\", \"red\"]"
   ]
  },
  {
   "cell_type": "code",
   "execution_count": null,
   "metadata": {},
   "outputs": [],
   "source": []
  },
  {
   "cell_type": "markdown",
   "metadata": {},
   "source": [
    "Q13. Write a function to give the following output from input.\n",
    "\n",
    "**Input:** aabbbcccdeeff\n",
    "\n",
    "**Output:** a2b3c3d1e2f2"
   ]
  },
  {
   "cell_type": "code",
   "execution_count": null,
   "metadata": {},
   "outputs": [],
   "source": []
  },
  {
   "cell_type": "markdown",
   "metadata": {},
   "source": [
    "Q 14. What is unique about a set?"
   ]
  },
  {
   "cell_type": "code",
   "execution_count": null,
   "metadata": {},
   "outputs": [],
   "source": []
  },
  {
   "cell_type": "markdown",
   "metadata": {},
   "source": [
    "Q 15. Write a function that asks for an integer and prints the square root of it. Use a <code>while</code> loop with a <code>try</code>, <code>except</code>, <code>else</code> block to account for incorrect inputs."
   ]
  },
  {
   "cell_type": "code",
   "execution_count": null,
   "metadata": {},
   "outputs": [],
   "source": []
  },
  {
   "cell_type": "markdown",
   "metadata": {},
   "source": [
    "Q 16. Write a Python program that accepts a sequence of comma-separated numbers and generates a list and a tuple containing the numbers."
   ]
  },
  {
   "cell_type": "code",
   "execution_count": null,
   "metadata": {},
   "outputs": [],
   "source": []
  },
  {
   "cell_type": "markdown",
   "metadata": {},
   "source": [
    "Q17. What is the correct way to call a function?\n",
    "\n",
    "a) get_max_num([57, 99, 31, 18])\n",
    "\n",
    "b) call.(get_max_num)\n",
    "\n",
    "c) def get_max_num([57, 99, 31, 18])\n",
    "\n",
    "d) call.get_max_num([57, 99, 31, 18])"
   ]
  },
  {
   "cell_type": "code",
   "execution_count": null,
   "metadata": {},
   "outputs": [],
   "source": []
  },
  {
   "cell_type": "markdown",
   "metadata": {},
   "source": [
    "Q18. Write a program using list comprehension to print a set of not the multiples of 3 and 6 and less then 100."
   ]
  },
  {
   "cell_type": "code",
   "execution_count": null,
   "metadata": {},
   "outputs": [],
   "source": []
  },
  {
   "cell_type": "markdown",
   "metadata": {},
   "source": [
    "Q19. Implement a function that checks whether a given numbers is a palindrome or not."
   ]
  },
  {
   "cell_type": "code",
   "execution_count": null,
   "metadata": {},
   "outputs": [],
   "source": []
  },
  {
   "cell_type": "markdown",
   "metadata": {},
   "source": [
    "Q20. Create a list of tuples matching these lists of name and age?\n",
    "\n",
    "Name = [\"Priya\", \"Maddy\", \"David\"]\n",
    "\n",
    "Age = [19, 25 , 22]\n",
    "\n",
    "\n",
    "**Output : [(\"Priya\", 19), (\"Maddy\", 25), (\"David\", 22)]**"
   ]
  },
  {
   "cell_type": "code",
   "execution_count": null,
   "metadata": {},
   "outputs": [],
   "source": []
  },
  {
   "cell_type": "markdown",
   "metadata": {},
   "source": [
    "Q21. Define Name Error with example"
   ]
  },
  {
   "cell_type": "code",
   "execution_count": null,
   "metadata": {},
   "outputs": [],
   "source": []
  },
  {
   "cell_type": "markdown",
   "metadata": {},
   "source": [
    "Q22. Implement a class called Car with attributes make, model, and year. Include methods to start the car, stop the car, and display the car's details."
   ]
  },
  {
   "cell_type": "code",
   "execution_count": null,
   "metadata": {},
   "outputs": [],
   "source": []
  },
  {
   "cell_type": "markdown",
   "metadata": {},
   "source": [
    "Q23. Make a function called count_vowels that takes a string as input and counts the number of vowels in that string. Take 3 different cases perfom unit testing. (4 Marks)"
   ]
  },
  {
   "cell_type": "code",
   "execution_count": null,
   "metadata": {},
   "outputs": [],
   "source": []
  }
 ],
 "metadata": {
  "kernelspec": {
   "display_name": "Python 3 (ipykernel)",
   "language": "python",
   "name": "python3"
  },
  "language_info": {
   "codemirror_mode": {
    "name": "ipython",
    "version": 3
   },
   "file_extension": ".py",
   "mimetype": "text/x-python",
   "name": "python",
   "nbconvert_exporter": "python",
   "pygments_lexer": "ipython3",
   "version": "3.9.12"
  }
 },
 "nbformat": 4,
 "nbformat_minor": 1
}
