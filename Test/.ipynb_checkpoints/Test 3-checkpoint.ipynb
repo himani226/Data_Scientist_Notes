{
 "cells": [
  {
   "cell_type": "markdown",
   "id": "8ca27459",
   "metadata": {},
   "source": [
    "1. How do you read a CSV file in pandas?\n",
    "2. What are the advantages of using Matplotlib?\n",
    "3. How do you create a histogram using Seaborn?\n",
    "4. What is data preprocessing and its steps?\n",
    "5. How do you handle missing values in data preprocessing?\n",
    "6. What are the different types of machine learning algorithms?\n",
    "7. What is overfitting in machine learning and how we prevent it?\n",
    "8. Define TP,TN,FP,FN and what is accuracy\n",
    "9. What is a confusion matrix in machine learning and which library is used for it?\n",
    "10. Any real world example to explain decision tree\n",
    "11. What is gradient descent in machine learning?\n",
    "12. What are the main data structures in pandas?\n",
    "13. How do you group data by a specific column in pandas explain with example?\n",
    "14. How do you evaluate the performance of a machine learning model?\n",
    "15. What are the different data types in Python?\n",
    "16. What is a lambda function in Python? How is it different from a regular function?\n",
    "17. How do you perform arithmetic operations on NumPy arrays with example?\n",
    "18. Explain slicing in numpy with example.\n",
    "19.\tHow can you apply a custom function to each row or column of a DataFrame explain with example?\n",
    "20. How can you handle categorical data in a data preprocessing?\n",
    "21. How can you interpret the results of a machine learning model and explain its predictions to stakeholders?\n",
    "22. Can you give an example of a real-world application of ensemble learning?\n",
    "23. How does logistic regression differ from linear regression?\n",
    "24. What is the difference between List and Tuple?\n",
    "25. What is boosting in ensemble learning?\n",
    "26. What is underfitting in machine learning and how do you prevent?\n",
    "27. What are precision and recall in machine learning?\n",
    "28. How do you evaluate the performance of a linear regression model?\n",
    "29. What is multiclass logistic regression, and how does it differ from binary logistic regression?\n",
    "30. What is the differnce between for loop and while loop?\n",
    "31. What is recursion, and how can it be used in Python functions?\n",
    "32. How do you split the data into training and testing sets in Scikit-Learn?\n",
    "33. What is the difference between a model selection and a feature selection in Scikit-Learn?\n",
    "34. What is one hot encoding and methods to do that?\n",
    "35. What are the statistical properties of the datase?\n",
    "36. Where did the dataset come from, and how was it collected?\n",
    "37. What is the difference between continous data and categorical data\n",
    "38. How matplotlib is different from seaborn?\n",
    "39. How can you create a new column in a DataFrame based on the values of existing columns?\n",
    "40. How can you sort a DataFrame by one or more columns?\n",
    "41. What is Linear Regression and its cost function?\n",
    "42. What is the support vector machine (SVM) algorithm, and how does it work in supervised learning?\n",
    "43. What is broadcasting in NumPy, and how does it work?\n",
    "44. What is rule based systems and give one example?\n",
    "45. What are the different types of errors seen python?\n",
    "46. What is differnce between continue and break?\n",
    "47. What are some common types of data visualization, and when should you use them?\n",
    "48. What is vector, scalar , matrix and tensor?\n",
    "49. What is conditional proabaility expalin with example?\n",
    "50. Explain Naive bayes algo and its steps of working\n",
    "51. Explain ELbow Method and the names of algorithm in which we are using it\n",
    "52. What is differnece between gini index and information gain\n"
   ]
  }
 ],
 "metadata": {
  "kernelspec": {
   "display_name": "Python 3 (ipykernel)",
   "language": "python",
   "name": "python3"
  },
  "language_info": {
   "codemirror_mode": {
    "name": "ipython",
    "version": 3
   },
   "file_extension": ".py",
   "mimetype": "text/x-python",
   "name": "python",
   "nbconvert_exporter": "python",
   "pygments_lexer": "ipython3",
   "version": "3.9.12"
  }
 },
 "nbformat": 4,
 "nbformat_minor": 5
}
