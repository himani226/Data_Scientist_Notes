{
 "cells": [
  {
   "cell_type": "code",
   "execution_count": 2,
   "id": "dba4ab63",
   "metadata": {},
   "outputs": [],
   "source": [
    "import random\n",
    "\n",
    "def choose_name(names):\n",
    "    return random.choice(names)\n"
   ]
  },
  {
   "cell_type": "code",
   "execution_count": 3,
   "id": "91ad8557",
   "metadata": {},
   "outputs": [],
   "source": [
    "names=[\"AANCHAL SHARMA\",\n",
    "\"AASHITA ACHARYA\",\n",
    "\"ABHIJEET KAHLON\",\n",
    "\"ABHISH SHARMA\",\n",
    "\"ABHISHEK KOUNDAL\",\n",
    "\"AJAY CHANDEL\",\n",
    "\"AMISHA LARZOO\",\n",
    "\"ANCHAL\",\n",
    "\"ANJALI SHARMA\",\n",
    "\"ANKIT THAKUR\",\n",
    "\"ANKITA JAMWAL\",\n",
    "\"ANMOL SINGH\",\n",
    "\"ANUJ SHARMA\",\n",
    "\"ARCHANA\",\n",
    "\"ARSH PATIYAL\",\n",
    "\"ARTI \",\n",
    "\"ASHISH CHANGRA\",\n",
    "\"ASHISH KUMAR\",\n",
    "\"DEVANSH\",\n",
    "\"GARISH SEHGAL\",\n",
    "\"JYOTI CHAMBYAL\",\n",
    "\"KARAN SINGH\",\n",
    "\"KARTIK GULERIA\",\n",
    "\"KARTIK THAKUR\",\n",
    "\"KEERTI CHAUHAN\",\n",
    "\"KISHOR\",\n",
    "\"LAKSHAY SOOD\",\n",
    "\"MANIK MASAND\",\n",
    "\"MONIKA THAKUR\",\n",
    "\"NISHANT THAKUR\",\n",
    "\"PIYUSH THAKUR 1\",\n",
    "\"PIYUSH THAKUR 2\",\n",
    "\"PRAGATI\",\n",
    "\"PRIYANKA CHAUHAN\",\n",
    "\"PRIYANSHU\",\n",
    "\"RAGHAV CHANORIA\",\n",
    "\"RAHUL \",\n",
    "\"RAJ KUMAR\",\n",
    "\"RESHAV SAROA\",\n",
    "\"RISHAV SHARMA\",\n",
    "\"RITIKA\",\n",
    "\"SAHIL \",\n",
    "\"SAHIL KUMAR BHAMAN\",\n",
    "\"SHUBHAM SHARMA\",\n",
    "\"SIMRAN\",\n",
    "\"SOURAV VERMA\",\n",
    "\"SUJATA RANI\",\n",
    "\"TAARUN SHARMA\",\n",
    "\"VISHAL\",\n",
    "\"VISHAL DHIMAN\",\n",
    "\"VISHAL NEGI\",\n",
    "\"VIVEK SHARMA\"]"
   ]
  },
  {
   "cell_type": "code",
   "execution_count": 174,
   "id": "2ae54cc5",
   "metadata": {},
   "outputs": [
    {
     "data": {
      "text/plain": [
       "'ANJALI SHARMA'"
      ]
     },
     "execution_count": 174,
     "metadata": {},
     "output_type": "execute_result"
    }
   ],
   "source": [
    "choose_name(names)\n"
   ]
  },
  {
   "cell_type": "code",
   "execution_count": null,
   "id": "5372f84f",
   "metadata": {},
   "outputs": [],
   "source": []
  },
  {
   "cell_type": "code",
   "execution_count": null,
   "id": "22da27b5",
   "metadata": {},
   "outputs": [],
   "source": []
  }
 ],
 "metadata": {
  "kernelspec": {
   "display_name": "Python 3 (ipykernel)",
   "language": "python",
   "name": "python3"
  },
  "language_info": {
   "codemirror_mode": {
    "name": "ipython",
    "version": 3
   },
   "file_extension": ".py",
   "mimetype": "text/x-python",
   "name": "python",
   "nbconvert_exporter": "python",
   "pygments_lexer": "ipython3",
   "version": "3.9.12"
  }
 },
 "nbformat": 4,
 "nbformat_minor": 5
}
