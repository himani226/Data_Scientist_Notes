{
 "cells": [
  {
   "cell_type": "markdown",
   "metadata": {},
   "source": [
    "Q1. Print the following statement using print function \n",
    "\n",
    "\"This is my first Python Test\""
   ]
  },
  {
   "cell_type": "code",
   "execution_count": 1,
   "metadata": {},
   "outputs": [
    {
     "name": "stdout",
     "output_type": "stream",
     "text": [
      "This is my first Python Test\n"
     ]
    }
   ],
   "source": [
    "print(\"This is my first Python Test\")"
   ]
  },
  {
   "cell_type": "markdown",
   "metadata": {},
   "source": [
    "Q2. What is 8 to the power of 6 using inbuilt function?"
   ]
  },
  {
   "cell_type": "code",
   "execution_count": 2,
   "metadata": {},
   "outputs": [
    {
     "data": {
      "text/plain": [
       "262144"
      ]
     },
     "execution_count": 2,
     "metadata": {},
     "output_type": "execute_result"
    }
   ],
   "source": [
    "pow(8,6)"
   ]
  },
  {
   "cell_type": "markdown",
   "metadata": {},
   "source": [
    "Q3. Split this string:\n",
    "\n",
    "    s = \"All#the#best#for#test\"\n",
    "    \n",
    "into a list."
   ]
  },
  {
   "cell_type": "code",
   "execution_count": 3,
   "metadata": {},
   "outputs": [
    {
     "data": {
      "text/plain": [
       "['All', 'the', 'best', 'for', 'test']"
      ]
     },
     "execution_count": 3,
     "metadata": {},
     "output_type": "execute_result"
    }
   ],
   "source": [
    "s = \"All#the#best#for#test\"\n",
    "\n",
    "s.split(\"#\")"
   ]
  },
  {
   "cell_type": "markdown",
   "metadata": {},
   "source": [
    "Q4. Given the variables:\n",
    "\n",
    "       Flower = roses\n",
    "       Count = 20\n",
    "\n",
    "Use .format() method to print the following statement:\n",
    "\n",
    "    I have 20 yellow color roses."
   ]
  },
  {
   "cell_type": "code",
   "execution_count": 4,
   "metadata": {},
   "outputs": [
    {
     "name": "stdout",
     "output_type": "stream",
     "text": [
      "I have 20 yellow color roses\n"
     ]
    }
   ],
   "source": [
    "Flower = \"roses\"\n",
    "Count = 20\n",
    "\n",
    "print(\"I have {} yellow color {}\".format(Count,Flower))"
   ]
  },
  {
   "cell_type": "markdown",
   "metadata": {},
   "source": [
    "Q5. The nested list is given, use the indexing method to find the word \"Am here\".\n",
    "\n",
    "lst = [1,5,[3,9],[2,3,[5,[100,200,['Am here']]],29,11],[1,7]]"
   ]
  },
  {
   "cell_type": "code",
   "execution_count": 12,
   "metadata": {},
   "outputs": [
    {
     "data": {
      "text/plain": [
       "'Am here'"
      ]
     },
     "execution_count": 12,
     "metadata": {},
     "output_type": "execute_result"
    }
   ],
   "source": [
    "lst = [1,5,[3,9],[2,3,[5,[100,200,['Am here']]],29,11],[1,7]]\n",
    "\n",
    "lst[3][2][1][2][0]"
   ]
  },
  {
   "cell_type": "markdown",
   "metadata": {},
   "source": [
    "Q6. From nested dictionary find the word \"hi\".\n",
    "\n",
    "d = {'k1':[1,2,3,{'nice':['oh','man','insane',{'achieve':[1,2,3,'hi']}]}]}"
   ]
  },
  {
   "cell_type": "code",
   "execution_count": 14,
   "metadata": {},
   "outputs": [
    {
     "data": {
      "text/plain": [
       "'hi'"
      ]
     },
     "execution_count": 14,
     "metadata": {},
     "output_type": "execute_result"
    }
   ],
   "source": [
    "d = {'k1':[1,2,3,{'nice':['oh','man','insane',{'achieve':[1,2,3,'hi']}]}]}\n",
    "\n",
    "d['k1'][3]['nice'][3]['achieve'][3]"
   ]
  },
  {
   "cell_type": "markdown",
   "metadata": {},
   "source": [
    "Q7. What is the main difference between a tuple and a list? Write down in points"
   ]
  },
  {
   "cell_type": "code",
   "execution_count": 15,
   "metadata": {},
   "outputs": [],
   "source": [
    "# Tuple is immutable and list mutable\n",
    "# Tuple is faster than list\n",
    "# Tuple uses paranthesis() and list uses square brackets []"
   ]
  },
  {
   "cell_type": "markdown",
   "metadata": {},
   "source": [
    "Q8. Create a function GetDomain that finds the email website domain from a string in the form:\n",
    "\n",
    "    python@datascience.in\n",
    "    \n",
    "**So for example, passing \"python@datascience.in\" would return: datascience.in**"
   ]
  },
  {
   "cell_type": "code",
   "execution_count": 16,
   "metadata": {},
   "outputs": [
    {
     "data": {
      "text/plain": [
       "'datascience.in'"
      ]
     },
     "execution_count": 16,
     "metadata": {},
     "output_type": "execute_result"
    }
   ],
   "source": [
    "def GetDomain(email):\n",
    "    return email.split('@')[-1]\n",
    "\n",
    "GetDomain(\"python@datascience.in\")"
   ]
  },
  {
   "cell_type": "markdown",
   "metadata": {},
   "source": [
    "Q9. Write function that returns True if the word 'python' is contained in the input string by user"
   ]
  },
  {
   "cell_type": "code",
   "execution_count": 19,
   "metadata": {},
   "outputs": [
    {
     "data": {
      "text/plain": [
       "True"
      ]
     },
     "execution_count": 19,
     "metadata": {},
     "output_type": "execute_result"
    }
   ],
   "source": [
    "def SearchPython(st):\n",
    "    return 'python' in st.lower().split()\n",
    "\n",
    "\n",
    "SearchPython(\"I like subject Python\")"
   ]
  },
  {
   "cell_type": "markdown",
   "metadata": {},
   "source": [
    "Q10. Use lambda expressions and the filter() function to filter out words from a list that ends with the letter 't'. \n",
    "\n",
    "For example:\n",
    "\n",
    "    seq = ['mat','dog','pet','run','cat','pizza','great']\n",
    "\n",
    "Output:\n",
    "\n",
    "    ['mat','pet','cat','great']"
   ]
  },
  {
   "cell_type": "code",
   "execution_count": 18,
   "metadata": {},
   "outputs": [
    {
     "data": {
      "text/plain": [
       "['mat', 'pet', 'cat', 'great']"
      ]
     },
     "execution_count": 18,
     "metadata": {},
     "output_type": "execute_result"
    }
   ],
   "source": [
    "seq = ['mat','dog','pet','run','cat','pizza','great']\n",
    "\n",
    "list(filter(lambda w: w[-1]=='t',seq))"
   ]
  },
  {
   "cell_type": "markdown",
   "metadata": {},
   "source": [
    "Q11.You are driving a little too fast, and a police officer stops you. \n",
    "\n",
    "Write a function name CheckSpeed to return one of 3 possible results: \"No Sorry\", \"Small Sorry\", or \"Big Sorry\". \n",
    "\n",
    "* Check the speed of the car, if your speed is 60 or less, the result is \"No Sorry\". \n",
    "\n",
    "* If speed is between 61 and 80 inclusive, the result is \"Small Sorry\". \n",
    "\n",
    "* If speed is 81 or more, the result is \"Big Sorry\". \n",
    "\n",
    "Note:- Unless it is your birthday (take it as a boolean value in the parameters of the function) -- on your birthday, your speed can be 5 higher in all cases."
   ]
  },
  {
   "cell_type": "code",
   "execution_count": 20,
   "metadata": {},
   "outputs": [
    {
     "data": {
      "text/plain": [
       "'Small Sorry'"
      ]
     },
     "execution_count": 20,
     "metadata": {},
     "output_type": "execute_result"
    }
   ],
   "source": [
    "def CheckSpeed(speed, is_birthday):\n",
    "    # check value of birthday is true or false and decrease speed with constant 5\n",
    "    if is_birthday:\n",
    "        s= speed - 5\n",
    "    else:\n",
    "        s = speed\n",
    "    # Check the conditions\n",
    "    if s > 80:\n",
    "        return 'Big Sorry'\n",
    "    elif s > 60:\n",
    "        return 'Small Sorry'\n",
    "    else:\n",
    "        return 'No Sorry'\n",
    "    \n",
    "CheckSpeed(70,False)"
   ]
  },
  {
   "cell_type": "markdown",
   "metadata": {},
   "source": [
    "Q12. Program to find the largest length element from a list.\n",
    "\n",
    "    colors=[\"brown\", \"cherry\", \"pink\", \"red\"]"
   ]
  },
  {
   "cell_type": "code",
   "execution_count": 22,
   "metadata": {},
   "outputs": [
    {
     "name": "stdout",
     "output_type": "stream",
     "text": [
      "Largest length element: cherry\n"
     ]
    }
   ],
   "source": [
    "colors = [\"brown\", \"cherry\", \"pink\", \"red\"]\n",
    "\n",
    "largest_element = max(colors, key=lambda x: len(x))\n",
    "\n",
    "print(\"Largest length element:\", largest_element)"
   ]
  },
  {
   "cell_type": "code",
   "execution_count": 25,
   "metadata": {},
   "outputs": [
    {
     "name": "stdout",
     "output_type": "stream",
     "text": [
      "Largest length element: cherry\n"
     ]
    }
   ],
   "source": [
    "#Another way\n",
    "\n",
    "colors = [\"brown\", \"cherry\", \"pink\", \"red\"]\n",
    "\n",
    "length = 0\n",
    "largest_element = \"\"\n",
    "\n",
    "for x in colors:\n",
    "    if len(x) > length:\n",
    "        length = len(x)\n",
    "        largest_element = x\n",
    "\n",
    "print(\"Largest length element:\", largest_element)\n",
    "    "
   ]
  },
  {
   "cell_type": "markdown",
   "metadata": {},
   "source": [
    "Q13. Write a function to give the following output from input.\n",
    "\n",
    "**Input:** aabbbcccdeeff\n",
    "\n",
    "**Output:** a2b3c3d1e2f2"
   ]
  },
  {
   "cell_type": "code",
   "execution_count": 26,
   "metadata": {},
   "outputs": [
    {
     "name": "stdout",
     "output_type": "stream",
     "text": [
      "a2b3c3d1e2f2\n"
     ]
    }
   ],
   "source": [
    "def charcterCount(s): \n",
    "    # Take empty string and length of string\n",
    "    r = \"\"\n",
    "    l = len(s)\n",
    "    \n",
    "    # Check for length 0\n",
    "    if l == 0:\n",
    "        return \"\"\n",
    "    \n",
    "    # Check for length 1\n",
    "    if l == 1:\n",
    "        return s + \"1\"\n",
    "    \n",
    "    # Intialize Values\n",
    "    cnt = 1\n",
    "    i = 1\n",
    "    \n",
    "    while i < l:\n",
    "        \n",
    "        # Check to see if it is the same letter\n",
    "        if s[i] == s[i - 1]: \n",
    "            # Increment the cnt variable if same as previous\n",
    "            cnt += 1\n",
    "        else:\n",
    "            # Otherwise store the previous data\n",
    "            r = r + s[i - 1] + str(cnt)\n",
    "            cnt = 1\n",
    "            \n",
    "        # Add count to i for termination of while loop\n",
    "        i += 1\n",
    "    \n",
    "    # Put everything back into r\n",
    "    r = r + s[i - 1] + str(cnt)\n",
    "    \n",
    "    return r\n",
    "\n",
    "s = \"aabbbcccdeeff\" \n",
    "\n",
    "print(charcterCount(s)) \n"
   ]
  },
  {
   "cell_type": "markdown",
   "metadata": {},
   "source": [
    "Q 14. What is unique about a set?"
   ]
  },
  {
   "cell_type": "code",
   "execution_count": 27,
   "metadata": {},
   "outputs": [],
   "source": [
    "#A set is a collection which is unordered, unchangeable, and unindexed."
   ]
  },
  {
   "cell_type": "markdown",
   "metadata": {},
   "source": [
    "Q 15. Write a function that asks for an integer and prints the square root of it. Use a <code>while</code> loop with a <code>try</code>, <code>except</code>, <code>else</code> block to account for incorrect inputs."
   ]
  },
  {
   "cell_type": "code",
   "execution_count": 28,
   "metadata": {},
   "outputs": [
    {
     "name": "stdout",
     "output_type": "stream",
     "text": [
      "Enter an integer: 12\n",
      "Square root: 3.4641016151377544\n"
     ]
    }
   ],
   "source": [
    "import math\n",
    "\n",
    "def get_square_root():\n",
    "    while True:\n",
    "        try:\n",
    "            num = int(input(\"Enter an integer: \"))\n",
    "            square_root = math.sqrt(num)\n",
    "        except ValueError:\n",
    "            print(\"Invalid input. Please enter an integer.\")\n",
    "        else:\n",
    "            print(\"Square root:\", square_root)\n",
    "            break\n",
    "\n",
    "get_square_root()\n"
   ]
  },
  {
   "cell_type": "markdown",
   "metadata": {},
   "source": [
    "Q 16. Write a function GenerateListTuple that accepts a sequence of comma-separated numbers and generates a list and a tuple containing the numbers.\n",
    "\n",
    "Example: User enter 1,2,3,4,5,6\n",
    "\n",
    "**Output**: [1,2,3,4,5,6]\n",
    "\n",
    "and (1,2,3,4,5,6)"
   ]
  },
  {
   "cell_type": "code",
   "execution_count": 30,
   "metadata": {},
   "outputs": [
    {
     "name": "stdout",
     "output_type": "stream",
     "text": [
      "Enter a comma-separated numbers: 1,2,3,4,5,6\n",
      "List: ['1', '2', '3', '4', '5', '6']\n",
      "Tuple: ('1', '2', '3', '4', '5', '6')\n"
     ]
    }
   ],
   "source": [
    "def GenerateListTuple(numbers):\n",
    "    nlist = numbers.split(\",\")\n",
    "    ntuple = tuple(nlist)\n",
    "    return nlist, ntuple\n",
    "\n",
    "\n",
    "numbers = input(\"Enter a comma-separated numbers: \")\n",
    "rlist, rtuple = GenerateListTuple(numbers)\n",
    "print(\"List:\", rlist)\n",
    "print(\"Tuple:\", rtuple)\n"
   ]
  },
  {
   "cell_type": "markdown",
   "metadata": {},
   "source": [
    "Q17. What is the correct way to call a function?\n",
    "\n",
    "a) get_max_num([57, 99, 31, 18])\n",
    "\n",
    "b) call.(get_max_num)\n",
    "\n",
    "c) def get_max_num([57, 99, 31, 18])\n",
    "\n",
    "d) call.get_max_num([57, 99, 31, 18])"
   ]
  },
  {
   "cell_type": "code",
   "execution_count": null,
   "metadata": {},
   "outputs": [],
   "source": [
    "a)"
   ]
  },
  {
   "cell_type": "markdown",
   "metadata": {},
   "source": [
    "Q18. Write a program using list comprehension to print a list of not the multiples of 3 and 6 and less then 100."
   ]
  },
  {
   "cell_type": "code",
   "execution_count": 31,
   "metadata": {},
   "outputs": [
    {
     "name": "stdout",
     "output_type": "stream",
     "text": [
      "[1, 2, 4, 5, 7, 8, 10, 11, 13, 14, 16, 17, 19, 20, 22, 23, 25, 26, 28, 29, 31, 32, 34, 35, 37, 38, 40, 41, 43, 44, 46, 47, 49, 50, 52, 53, 55, 56, 58, 59, 61, 62, 64, 65, 67, 68, 70, 71, 73, 74, 76, 77, 79, 80, 82, 83, 85, 86, 88, 89, 91, 92, 94, 95, 97, 98]\n"
     ]
    }
   ],
   "source": [
    "multiples = [num for num in range(100) if num % 3 != 0 and num % 6 != 0]\n",
    "\n",
    "print(multiples)\n"
   ]
  },
  {
   "cell_type": "markdown",
   "metadata": {},
   "source": [
    "Q19. Implement a function that checks whether a given numbers is a palindrome or not."
   ]
  },
  {
   "cell_type": "code",
   "execution_count": 34,
   "metadata": {},
   "outputs": [
    {
     "name": "stdout",
     "output_type": "stream",
     "text": [
      "Enter the number12345\n",
      "12321 is not a palindrome.\n"
     ]
    }
   ],
   "source": [
    "def palindrome(num):\n",
    "    num_str = str(num)\n",
    "    rev_str = num_str[::-1]\n",
    "    return num_str == rev_str\n",
    "\n",
    "\n",
    "n = int(input(\"Enter the number: \"))\n",
    "\n",
    "if palindrome(n):\n",
    "    print(number, \"is a palindrome.\")\n",
    "else:\n",
    "    print(number, \"is not a palindrome.\")\n"
   ]
  },
  {
   "cell_type": "markdown",
   "metadata": {},
   "source": [
    "Q20. Create a list of tuples matching these lists of name and age?\n",
    "\n",
    "Name = [\"Priya\", \"Maddy\", \"David\"]\n",
    "\n",
    "Age = [19, 25 , 22]\n",
    "\n",
    "\n",
    "**Output : [(\"Priya\", 19), (\"Maddy\", 25), (\"David\", 22)]**"
   ]
  },
  {
   "cell_type": "code",
   "execution_count": null,
   "metadata": {},
   "outputs": [],
   "source": [
    "Name = [\"Priya\", \"Maddy\", \"David\"]\n",
    "\n",
    "Age = [19, 25 , 22]\n",
    "\n",
    "#zip() function is used to zip the data\n",
    "\n",
    "list(zip(Name,Age))"
   ]
  },
  {
   "cell_type": "markdown",
   "metadata": {},
   "source": [
    "Q21. Define Name Error with example"
   ]
  },
  {
   "cell_type": "code",
   "execution_count": 36,
   "metadata": {},
   "outputs": [
    {
     "ename": "NameError",
     "evalue": "name 'p' is not defined",
     "output_type": "error",
     "traceback": [
      "\u001b[1;31m---------------------------------------------------------------------------\u001b[0m",
      "\u001b[1;31mNameError\u001b[0m                                 Traceback (most recent call last)",
      "Input \u001b[1;32mIn [36]\u001b[0m, in \u001b[0;36m<cell line: 3>\u001b[1;34m()\u001b[0m\n\u001b[0;32m      1\u001b[0m \u001b[38;5;66;03m#A NameError is a type of exception in Python that occurs when a local or global name is not found.\u001b[39;00m\n\u001b[1;32m----> 3\u001b[0m \u001b[38;5;28mprint\u001b[39m(\u001b[43mp\u001b[49m)\n",
      "\u001b[1;31mNameError\u001b[0m: name 'p' is not defined"
     ]
    }
   ],
   "source": [
    "#A NameError is a type of exception that occurs when a local or global name is not found.\n",
    "\n",
    "print(p)"
   ]
  },
  {
   "cell_type": "markdown",
   "metadata": {},
   "source": [
    "Q22. Implement a class called Car with attributes make, model, and year. Include methods to start the car, stop the car, and display the car's details."
   ]
  },
  {
   "cell_type": "code",
   "execution_count": 48,
   "metadata": {},
   "outputs": [
    {
     "name": "stdout",
     "output_type": "stream",
     "text": [
      "The car has started.\n",
      "Car Details:\n",
      "Make: Volkswagon\n",
      "Model: Ameo\n",
      "Year: 2020\n",
      "The car has stopped.\n"
     ]
    }
   ],
   "source": [
    "class Car:\n",
    "    def __init__(self, make, model, year):\n",
    "        self.make = make\n",
    "        self.model = model\n",
    "        self.year = year\n",
    "    \n",
    "    def start_car(self):\n",
    "        print(\"The car has started.\")\n",
    "    \n",
    "    def stop_car(self):\n",
    "        print(\"The car has stopped.\")\n",
    "    \n",
    "    def display_details(self):\n",
    "        print(\"Car Details:\")\n",
    "        print(\"Make:\", self.make)\n",
    "        print(\"Model:\", self.model)\n",
    "        print(\"Year:\", self.year)\n",
    "\n",
    "\n",
    "my_car = Car(\"Volkswagon\", \"Ameo\", 2020)\n",
    "my_car.start_car()\n",
    "my_car.display_details()\n",
    "my_car.stop_car()\n"
   ]
  },
  {
   "cell_type": "markdown",
   "metadata": {},
   "source": [
    "Q23. Make a function called CountVowels that takes a string as input and counts the number of vowels in that string. Take 3 different cases perfom unit testing. (4 Marks)"
   ]
  },
  {
   "cell_type": "code",
   "execution_count": 43,
   "metadata": {},
   "outputs": [
    {
     "name": "stdout",
     "output_type": "stream",
     "text": [
      "Overwriting countvowels.py\n"
     ]
    }
   ],
   "source": [
    "%%writefile countvowels.py\n",
    "\n",
    "def CountVowels(text):\n",
    "    vowels = 'aeiouAEIOU'\n",
    "    vowel_count = 0\n",
    "    if not text:\n",
    "        raise ValueError(\"Input string cannot be empty.\")\n",
    "    else:\n",
    "        for char in text:\n",
    "            if char in vowels:\n",
    "                vowel_count += 1\n",
    "    return vowel_count"
   ]
  },
  {
   "cell_type": "code",
   "execution_count": 46,
   "metadata": {},
   "outputs": [
    {
     "name": "stdout",
     "output_type": "stream",
     "text": [
      "Overwriting test_countvowels.py\n"
     ]
    }
   ],
   "source": [
    "%%writefile test_countvowels.py\n",
    "\n",
    "import unittest\n",
    "import countvowels\n",
    "\n",
    "class PalindromeTest(unittest.TestCase):\n",
    "    def test_empty_string(self):\n",
    "        with self.assertRaises(ValueError):\n",
    "            countvowels.CountVowels(\"\")\n",
    "\n",
    "    def test_one_word_string(self):\n",
    "        self.assertEqual(countvowels.CountVowels(\"rhythm\"),0)\n",
    "        self.assertEqual(countvowels.CountVowels(\"m\"),0)\n",
    "        self.assertEqual(countvowels.CountVowels(\"python\"),1)\n",
    "        self.assertEqual(countvowels.CountVowels(\"data\"),2)\n",
    "\n",
    "    def test_multi_word_strings(self):\n",
    "        self.assertEqual(countvowels.CountVowels(\"hello himani\"),5)\n",
    "        self.assertEqual(countvowels.CountVowels(\"python good\"),3)\n",
    "    \n",
    "\n",
    "if __name__ == '__main__':\n",
    "    unittest.main()\n"
   ]
  },
  {
   "cell_type": "code",
   "execution_count": 47,
   "metadata": {},
   "outputs": [
    {
     "name": "stderr",
     "output_type": "stream",
     "text": [
      "...\n",
      "----------------------------------------------------------------------\n",
      "Ran 3 tests in 0.000s\n",
      "\n",
      "OK\n"
     ]
    }
   ],
   "source": [
    "! python test_countvowels.py"
   ]
  },
  {
   "cell_type": "code",
   "execution_count": null,
   "metadata": {},
   "outputs": [],
   "source": []
  }
 ],
 "metadata": {
  "kernelspec": {
   "display_name": "Python 3 (ipykernel)",
   "language": "python",
   "name": "python3"
  },
  "language_info": {
   "codemirror_mode": {
    "name": "ipython",
    "version": 3
   },
   "file_extension": ".py",
   "mimetype": "text/x-python",
   "name": "python",
   "nbconvert_exporter": "python",
   "pygments_lexer": "ipython3",
   "version": "3.9.12"
  }
 },
 "nbformat": 4,
 "nbformat_minor": 1
}
